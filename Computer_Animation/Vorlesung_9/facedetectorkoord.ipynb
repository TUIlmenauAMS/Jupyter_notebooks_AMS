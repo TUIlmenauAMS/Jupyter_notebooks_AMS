{
 "cells": [
  {
   "cell_type": "markdown",
   "metadata": {},
   "source": [
    "# Facedetectorkoord\n",
    "Face and eye detection,\n",
    "also see: http://docs.opencv.org/trunk/doc/py_tutorials/py_objdetect/py_face_detection/py_face_detection.html<br/>\n",
    "Training:\n",
    "http://docs.opencv.org/doc/user_guide/ug_traincascade.html\n",
    "\n",
    "    - Gerald Schuller, Dec 2014"
   ]
  },
  {
   "cell_type": "code",
   "execution_count": null,
   "metadata": {
    "collapsed": true
   },
   "outputs": [],
   "source": [
    "import numpy as np\n",
    "import cv2"
   ]
  },
  {
   "cell_type": "code",
   "execution_count": null,
   "metadata": {
    "collapsed": true
   },
   "outputs": [],
   "source": [
    "face_cascade = cv2.CascadeClassifier('haarcascade_frontalface_default.xml')\n",
    "eye_cascade = cv2.CascadeClassifier('haarcascade_eye.xml')"
   ]
  },
  {
   "cell_type": "code",
   "execution_count": null,
   "metadata": {
    "collapsed": true
   },
   "outputs": [],
   "source": [
    "cap = cv2.VideoCapture(0)"
   ]
  },
  {
   "cell_type": "markdown",
   "metadata": {},
   "source": [
    "* **Start capturing and detect the face in each of the frames and display it in a rectangular box:**"
   ]
  },
  {
   "cell_type": "code",
   "execution_count": null,
   "metadata": {
    "collapsed": true
   },
   "outputs": [],
   "source": [
    "while(True):\n",
    "    [retval, frame] = cap.read()\n",
    "    gray = cv2.cvtColor(frame, cv2.COLOR_BGR2GRAY)\n",
    "\n",
    "    faces = face_cascade.detectMultiScale(gray, 1.3, 5)\n",
    "\n",
    "    #Width of face at 1m distance (x-coordinates) with my example camera: ca. 150 pixels\n",
    "    #with face rectangle width about 16cm, ear to ear\n",
    "    #Display coordinates:\n",
    "    #Hence 150/16 =9.375 pixel/cm\n",
    "    #z-coordinate 1m is 100cm*9.375 pixel/cm=937.5 pixel.\n",
    "    #hence for face width of w pixels: z-coordinate z= 150/w*937.5 pixels\n",
    "    #Conversion of display coordinates into virtual world coordinates, where 1m in the real world coresponds to 1 in virtual world:\n",
    "    #display coordinates: x,y; virtual world coordinates: xv,yv,zv\n",
    "    #width of head in virtual coordinates: 150/937.5=0.16\n",
    "    #measured width of head in display coordinates: w\n",
    "    #zv=150.0/w\n",
    "    #using prespective projection matrix, which converts the virtual world into display coordinates (here the reverse is necessary):\n",
    "    #xv=x/937.5*zv, yv=y/937.5*zv\n",
    "    #Display size: 480x640 pixel\n",
    "\n",
    "\n",
    "    print(faces)\n",
    "    for (x, y, w, h) in faces:\n",
    "        #face width in display coordinates:\n",
    "\n",
    "        #center of head in virtual world coordinates, where 1m corresponds to 1,\n",
    "        #with x=0 and y=0 in the center, positve values go to the right and up\n",
    "        zv= 150.0/w\n",
    "        xv=(x-320+w/2)/937.5*zv\n",
    "        yv=(240-y-h/2)/937.5*zv\n",
    "        #z-coordinates are negative:\n",
    "        print(\"Virtual World Coordinates of center of faces: \", xv,yv,-zv)\n",
    "\n",
    "    for (x,y,w,h) in faces:\n",
    "        cv2.rectangle(gray,(x,y),(x+w,y+h),255,2)\n",
    "        roi_gray = gray[y:y+h, x:x+w]\n",
    "\n",
    "        eyes = eye_cascade.detectMultiScale(roi_gray)\n",
    "\n",
    "        for (ex,ey,ew,eh) in eyes:\n",
    "            cv2.rectangle(gray,(x+ex,y+ey),(x+ex+ew,y+ey+eh),255,2)\n",
    "\n",
    "    cv2.imshow('Face and Eye Detection',gray)\n",
    "    #Keep window open until key 'q' is pressed:\n",
    "    if cv2.waitKey(1) & 0xFF == ord('q'):\n",
    "        break"
   ]
  },
  {
   "cell_type": "markdown",
   "metadata": {},
   "source": [
    "* **When everything done, release the capture:**"
   ]
  },
  {
   "cell_type": "code",
   "execution_count": null,
   "metadata": {
    "collapsed": true
   },
   "outputs": [],
   "source": [
    "cap.release()\n",
    "cv2.destroyAllWindows()"
   ]
  }
 ],
 "metadata": {
  "kernelspec": {
   "display_name": "Python 2",
   "language": "python",
   "name": "python2"
  },
  "language_info": {
   "codemirror_mode": {
    "name": "ipython",
    "version": 2
   },
   "file_extension": ".py",
   "mimetype": "text/x-python",
   "name": "python",
   "nbconvert_exporter": "python",
   "pygments_lexer": "ipython2",
   "version": "2.7.12"
  }
 },
 "nbformat": 4,
 "nbformat_minor": 2
}
