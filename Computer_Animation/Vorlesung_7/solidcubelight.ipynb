{
 "cells": [
  {
   "cell_type": "markdown",
   "metadata": {},
   "source": [
    "# Solidcubelight\n",
    "Program to render a solid cube with light on its sides.\n",
    "\n",
    "    - Gerald Schuler, Nov 2014"
   ]
  },
  {
   "cell_type": "code",
   "execution_count": null,
   "metadata": {
    "collapsed": true
   },
   "outputs": [],
   "source": [
    "from OpenGL.GL import *\n",
    "from OpenGL.GLUT import *\n",
    "from OpenGL.GLU import *"
   ]
  },
  {
   "cell_type": "markdown",
   "metadata": {},
   "source": [
    "* **Display function:**"
   ]
  },
  {
   "cell_type": "code",
   "execution_count": null,
   "metadata": {
    "collapsed": true
   },
   "outputs": [],
   "source": [
    "def displayFun():\n",
    "    glMatrixMode(GL_PROJECTION)\n",
    "    glLoadIdentity()\n",
    "    #glOrtho(-2.0*64/48.0,2.0*64/48.0,-1.5, 1.5, -0.1, 100)\n",
    "    gluPerspective(50,64/48.0,0.1, 6)\n",
    "\n",
    "    glMatrixMode(GL_MODELVIEW)\n",
    "    glLoadIdentity()\n",
    "    gluLookAt(2.0, 2.0, 2.0, 0.0, 0.0, 0.0, 0.0, 1.0, 0.0)\n",
    "\n",
    "    glClear(GL_COLOR_BUFFER_BIT | GL_DEPTH_BUFFER_BIT)\n",
    "\n",
    "    #glColor3f(0.5,0.5,0.5)\n",
    "    glutSolidCube(1.0)\n",
    "    #glutSolidSphere (1.0, 20, 16);\n",
    "    #glutSolidTeapot(1.0)\n",
    "\n",
    "    glFlush()"
   ]
  },
  {
   "cell_type": "markdown",
   "metadata": {},
   "source": [
    "* **Test displayfun() that generates a cube and input light intensities on the sides of the cube:**\n",
    "* ** Test displayfun (), der einen Würfel erzeugt und Eingangslichtintensitäten an den Seiten des Würfels erzeugt: **"
   ]
  },
  {
   "cell_type": "code",
   "execution_count": null,
   "metadata": {
    "collapsed": true
   },
   "outputs": [],
   "source": [
    "if __name__ == '__main__':\n",
    "    glutInit()\n",
    "    glutInitWindowSize(640,480)\n",
    "    glutCreateWindow(\"Solid Cube\")\n",
    "    glutInitDisplayMode(GLUT_SINGLE | GLUT_RGB)\n",
    "    glClearColor(0.1,0.1,0.1,0.1)\n",
    "    \n",
    "    #Hier wird der Shader definiert, entweder GL_FLAT (stueckweise konstant) oder GL_SMOOTH (ueberblenden):\n",
    "    #The shader is defined here, either GL_FLAT (constant) or GL_SMOOTH (overlap):\n",
    "    glShadeModel (GL_SMOOTH);\n",
    "    \n",
    "    #Die Farbe des spiegelnd reflektieren Lichts:\n",
    "    #The color of the reflecting light:\n",
    "    glMaterialfv(GL_FRONT, GL_SPECULAR,GLfloat_4(1.0,1.0,1.0,1.0))\n",
    "    \n",
    "    #Wie stark spiegelnd die Oberflaeche ist:\n",
    "    #Reflective strength of the surface:\n",
    "    glMaterialfv(GL_FRONT, GL_SHININESS, 50.0);\n",
    "    \n",
    "    #http://glprogramming.com/red/chapter05.html\n",
    "    #http://pydoc.net/Python/PyOpenGL-Demo/3.0.1b1/PyOpenGL-Demo.GLE.maintest/:\n",
    "    #glLightfv (GL_LIGHT0, GL_POSITION, lightOnePosition)\n",
    "    #glLightfv (GL_LIGHT0, GL_DIFFUSE, lightOneColor)\n",
    "    #Licht Nr.0:\n",
    "    glLightfv(GL_LIGHT0, GL_POSITION, GLfloat_4(-0.0, 5.0, -5.0, 1.0))\n",
    "    \n",
    "    #Diffuse: Licht von einem Punkt (GL_POSITION) in alle Richtungen, mit Intensitaet und\n",
    "    #Farbe als RGB im Argument:\n",
    "    #Diffuse: Light from one point (GL_POSITION) in all directions, with intensity and\n",
    "    #Color as RGB in the argument:\n",
    "    glLightfv (GL_LIGHT0, GL_DIFFUSE, GLfloat_3(.8,.1,.1))\n",
    "    \n",
    "    #Umgebungslicht-Anteil der Quelle, mit Umgebungslicht-Intensitaet und Farbe als RGB:\n",
    "    #Ambient light content of the source, with ambient light intensity and color as RGB:\n",
    "    glLightfv( GL_LIGHT0, GL_AMBIENT, GLfloat_4(0.5,0.2,0.2, 1.0) );\n",
    "    \n",
    "    #Licht Nr. 1:\n",
    "    #Light #1:\n",
    "    glLightfv(GL_LIGHT1, GL_POSITION, GLfloat_4(5.0, 5.0, 5.0, 1.0) )\n",
    "    \n",
    "    #glLightfv(GL_LIGHT1, GL_POSITION, GLfloat_4(-0.0, 5.0, -5.0, 1.0))\n",
    "    glLightfv(GL_LIGHT1, GL_DIFFUSE, GLfloat_3(.8,.99,.8));\n",
    "    \n",
    "    #Umgebungslicht-Anteil der Quelle:\n",
    "    glLightfv( GL_LIGHT1, GL_AMBIENT, GLfloat_4(0.5, .7, .5, 1.0) );\n",
    "\n",
    "    #Lichter Einschalten:\n",
    "    #Put the light on:\n",
    "    glEnable(GL_LIGHTING);\n",
    "    glEnable(GL_LIGHT0);\n",
    "    glEnable(GL_LIGHT1);\n",
    "    glEnable(GL_DEPTH_TEST)\n",
    "\n",
    "    glutDisplayFunc(displayFun)\n",
    "    glutMainLoop()"
   ]
  }
 ],
 "metadata": {
  "kernelspec": {
   "display_name": "Python 2",
   "language": "python",
   "name": "python2"
  },
  "language_info": {
   "codemirror_mode": {
    "name": "ipython",
    "version": 2
   },
   "file_extension": ".py",
   "mimetype": "text/x-python",
   "name": "python",
   "nbconvert_exporter": "python",
   "pygments_lexer": "ipython2",
   "version": "2.7.12"
  }
 },
 "nbformat": 4,
 "nbformat_minor": 2
}
