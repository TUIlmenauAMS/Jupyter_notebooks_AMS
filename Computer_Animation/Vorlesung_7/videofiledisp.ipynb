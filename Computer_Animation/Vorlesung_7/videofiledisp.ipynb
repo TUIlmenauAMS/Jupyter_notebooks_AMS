{
 "cells": [
  {
   "cell_type": "markdown",
   "metadata": {},
   "source": [
    "# Videofiledisp\n",
    "Program to open a video input file in argument and display it on the screen.\n",
    "Programm zum Öffnen einer Videoeingabe-Datei in Argument und zeigt es auf dem Bildschirm.\n",
    "command line example: *python videofiledisp.py video.mts*\n",
    "\n",
    "    - Gerald Schuller, March 2015"
   ]
  },
  {
   "cell_type": "markdown",
   "metadata": {},
   "source": [
    "* **Import relevant modules:**"
   ]
  },
  {
   "cell_type": "code",
   "execution_count": null,
   "metadata": {
    "collapsed": true
   },
   "outputs": [],
   "source": [
    "import numpy as np\n",
    "import cv2\n",
    "import sys"
   ]
  },
  {
   "cell_type": "markdown",
   "metadata": {},
   "source": [
    "* **Initialise capture object:**"
   ]
  },
  {
   "cell_type": "code",
   "execution_count": null,
   "metadata": {
    "collapsed": true
   },
   "outputs": [],
   "source": [
    "cap = cv2.VideoCapture(str(sys.argv[1]))"
   ]
  },
  {
   "cell_type": "markdown",
   "metadata": {},
   "source": [
    "* **Reads in the video file specified in the command line until 50ms and key 'q' is pressed:**\n",
    "* ** Liest in der Videodatei, die in der Befehlszeile angegeben ist, bis 50ms und die Taste 'q' gedrückt wird: **"
   ]
  },
  {
   "cell_type": "code",
   "execution_count": null,
   "metadata": {
    "collapsed": true
   },
   "outputs": [],
   "source": [
    "while(cap.isOpened()):\n",
    "    ret, frame = cap.read()\n",
    "\n",
    "\n",
    "    cv2.imshow('Video',frame)\n",
    "    #Wait for key for 50ms, to get about 20 frames per second playback \n",
    "    #(depends also on speed of the machine, and recording frame rate, try out):\n",
    "    if cv2.waitKey(50) & 0xFF == ord('q'):\n",
    "        break\n",
    "\n",
    "cap.release()\n",
    "cv2.destroyAllWindows()"
   ]
  }
 ],
 "metadata": {
  "kernelspec": {
   "display_name": "Python 2",
   "language": "python",
   "name": "python2"
  },
  "language_info": {
   "codemirror_mode": {
    "name": "ipython",
    "version": 2
   },
   "file_extension": ".py",
   "mimetype": "text/x-python",
   "name": "python",
   "nbconvert_exporter": "python",
   "pygments_lexer": "ipython2",
   "version": "2.7.12"
  }
 },
 "nbformat": 4,
 "nbformat_minor": 2
}
