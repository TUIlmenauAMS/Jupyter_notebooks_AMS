{
 "cells": [
  {
   "cell_type": "markdown",
   "metadata": {},
   "source": [
    "# Polygonnormallighttexture\n",
    "Script for demonstrating lights.\n",
    "\n",
    "    - Gerald Schuler, November 2014."
   ]
  },
  {
   "cell_type": "code",
   "execution_count": null,
   "metadata": {
    "collapsed": true
   },
   "outputs": [],
   "source": [
    "from OpenGL.GL import *\n",
    "from OpenGL.GLUT import *\n",
    "from OpenGL.GLU import *\n",
    "import cv2"
   ]
  },
  {
   "cell_type": "markdown",
   "metadata": {},
   "source": [
    "* **Display function:**"
   ]
  },
  {
   "cell_type": "code",
   "execution_count": null,
   "metadata": {
    "collapsed": true
   },
   "outputs": [],
   "source": [
    "def displayFun():\n",
    "    glMatrixMode(GL_PROJECTION)\n",
    "    glLoadIdentity()\n",
    "    #glOrtho(-2.0*64/48.0,2.0*64/48.0,-1.5, 1.5, -2, 6)\n",
    "    gluPerspective(50,64.0/48.0, 1, -10)\n",
    "\n",
    "    glMatrixMode(GL_MODELVIEW)\n",
    "    glLoadIdentity()\n",
    "    gluLookAt(2.0, 2.0, 2.0, 0.0, 0.0, 0.0, 0.0, 1.0, 0.0)\n",
    "\n",
    "    glClear(GL_COLOR_BUFFER_BIT | GL_DEPTH_BUFFER_BIT)\n",
    "\n",
    "    #glColor3f(0.5,0.5,0.5)\n",
    "    #glutSolidCube(1.0)\n",
    "    #glutSolidSphere (1.0, 20, 16);\n",
    "\n",
    "    glColor3f(0.7,0.7,0.7)\n",
    "    \n",
    "    #Polygon und Texturecoordinaten:\n",
    "    #Polygon and Texturecoordinates:\n",
    "    glBegin(GL_POLYGON)\n",
    "    #glBegin(GL_QUADS)\n",
    "    #Flaechen-Normale:\n",
    "    glNormal3f(0.0, 0.0, -1.0);\n",
    "\n",
    "    glTexCoord2f(0.0, 0.0);\n",
    "    glVertex3f(-1.0,-1.0, -0.5)\n",
    "    glTexCoord2f(1.0, 0.0);\n",
    "    glVertex3f( 1.0,-1.0, -0.5)\n",
    "    glTexCoord2f(1.0, 1.0);\n",
    "    glVertex3f( 1.0, 1.0, -0.5)\n",
    "    glTexCoord2f(0.0, 1.0);\n",
    "    glVertex3f(-1.0, 1.0, -0.5)\n",
    "\n",
    "    glEnd()\n",
    "\n",
    "    glFlush()"
   ]
  },
  {
   "cell_type": "markdown",
   "metadata": {},
   "source": [
    "* **Test displayfun() on an image:**"
   ]
  },
  {
   "cell_type": "code",
   "execution_count": null,
   "metadata": {
    "collapsed": true
   },
   "outputs": [],
   "source": [
    "if __name__ == '__main__':\n",
    "    glutInit()\n",
    "    glutInitWindowSize(640,480)\n",
    "    glutCreateWindow(\"Solid Cube\")\n",
    "    glutInitDisplayMode(GLUT_SINGLE | GLUT_RGB)\n",
    "    glEnable(GL_TEXTURE_2D)\n",
    "    glClearColor(0.1,0.1,0.1,0.1)\n",
    "\n",
    "    image=cv2.imread('grass.png')\n",
    "    #Convert to RGB format:\n",
    "    #image = cv2.cvtColor(image, cv2.COLOR_BGR2RGB)\n",
    "    #Vertically flip the texture image:\n",
    "    image=cv2.flip(image,0)\n",
    "    [ix,iy,c]=image.shape\n",
    "\n",
    "    glShadeModel (GL_SMOOTH);\n",
    "    glMaterialfv(GL_FRONT, GL_SPECULAR,GLfloat_4(1.0,1.0,1.0,1.0) )\n",
    "    glMaterialfv(GL_FRONT, GL_SHININESS, 50.0);\n",
    "    #color = GLfloat_4(0.8, .8, .8, 1.0);\n",
    "    #glMaterialfv(GL_FRONT, GL_DIFFUSE, color);\n",
    "    glLightfv( GL_LIGHT1, GL_AMBIENT, GLfloat_4(0.2, .2, .2, 1.0) );\n",
    "    glLightfv(GL_LIGHT1, GL_DIFFUSE, GLfloat_3(.8,.8,.8));\n",
    "    glLightfv(GL_LIGHT0, GL_POSITION, GLfloat_4(5.0, 5.0, 5.0, 0.0) )\n",
    "    glLightfv(GL_LIGHT1, GL_POSITION, GLfloat_4(5.0, 5.0, -5.0, 0.0) )\n",
    "\n",
    "    glEnable(GL_LIGHTING);\n",
    "    glEnable(GL_LIGHT1);\n",
    "    glEnable(GL_LIGHT0);\n",
    "    glEnable(GL_DEPTH_TEST)\n",
    "\n",
    "    glTexImage2D(GL_TEXTURE_2D, 0, 3, ix, iy, 0, GL_BGR, GL_UNSIGNED_BYTE, image)\n",
    "    glTexParameterf(GL_TEXTURE_2D, GL_TEXTURE_MIN_FILTER, GL_NEAREST)\n",
    "\n",
    "\n",
    "    glutDisplayFunc(displayFun)\n",
    "    glutMainLoop()"
   ]
  }
 ],
 "metadata": {
  "kernelspec": {
   "display_name": "Python 2",
   "language": "python",
   "name": "python2"
  },
  "language_info": {
   "codemirror_mode": {
    "name": "ipython",
    "version": 2
   },
   "file_extension": ".py",
   "mimetype": "text/x-python",
   "name": "python",
   "nbconvert_exporter": "python",
   "pygments_lexer": "ipython2",
   "version": "2.7.12"
  }
 },
 "nbformat": 4,
 "nbformat_minor": 2
}
