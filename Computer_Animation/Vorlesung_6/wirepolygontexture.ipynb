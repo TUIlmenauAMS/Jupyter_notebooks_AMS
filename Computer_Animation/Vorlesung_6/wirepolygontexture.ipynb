{
 "cells": [
  {
   "cell_type": "markdown",
   "metadata": {
    "deletable": true,
    "editable": true
   },
   "source": [
    "# Wirepolygontexture\n",
    "Script to load an image and display the texture.\n",
    "\n",
    "    - Gerald Schuler, Nov, 2014"
   ]
  },
  {
   "cell_type": "markdown",
   "metadata": {
    "deletable": true,
    "editable": true
   },
   "source": [
    "* **Import relevant modules:**"
   ]
  },
  {
   "cell_type": "code",
   "execution_count": 1,
   "metadata": {
    "collapsed": true,
    "deletable": true,
    "editable": true
   },
   "outputs": [],
   "source": [
    "from OpenGL.GL import *\n",
    "from OpenGL.GLUT import *\n",
    "from OpenGL.GLU import *\n",
    "import cv2"
   ]
  },
  {
   "cell_type": "markdown",
   "metadata": {
    "deletable": true,
    "editable": true
   },
   "source": [
    "* **Display function:**"
   ]
  },
  {
   "cell_type": "code",
   "execution_count": null,
   "metadata": {
    "collapsed": true,
    "deletable": true,
    "editable": true
   },
   "outputs": [],
   "source": [
    "def displayFun():\n",
    "    glClear(GL_COLOR_BUFFER_BIT)\n",
    "    glMatrixMode(GL_PROJECTION)\n",
    "    glLoadIdentity()\n",
    "    glOrtho(-2.0*64/48.0,2.0*64/48.0,-1.5, 1.5, 0.1, 100)\n",
    "\n",
    "    glMatrixMode(GL_MODELVIEW)\n",
    "    glLoadIdentity()\n",
    "    gluLookAt(2.0, 2.0, 2.0, 0.0, 0.0, 0.0, 0.0, 1.0, 0.0)\n",
    "\n",
    "    glColor3f(0.7,0.7,0.7)\n",
    "    \n",
    "    #Polygon und Texturecoordinaten:\n",
    "    #Polygon and texture coordinates:\n",
    "    glBegin(GL_POLYGON)\n",
    "    glTexCoord2f(0.0, 0.0);\n",
    "    glVertex3f(-1.0,-1.0, 0.0)\n",
    "    glTexCoord2f(1.0, 0.0);\n",
    "    glVertex3f( 1.0,-1.0, 0.0)\n",
    "    glTexCoord2f(1.0, 1.0);\n",
    "    glVertex3f( 1.0, 1.0, 0.0)\n",
    "    glTexCoord2f(0.0, 1.0);\n",
    "    glVertex3f(-1.0, 1.0, 0.0)\n",
    "\n",
    "    glEnd()\n",
    "    glFlush()"
   ]
  },
  {
   "cell_type": "markdown",
   "metadata": {
    "deletable": true,
    "editable": true
   },
   "source": [
    "* **Load an image and call displayfun() on it:**"
   ]
  },
  {
   "cell_type": "code",
   "execution_count": null,
   "metadata": {
    "collapsed": false,
    "deletable": true,
    "editable": true
   },
   "outputs": [
    {
     "name": "stdout",
     "output_type": "stream",
     "text": [
      "2\n"
     ]
    }
   ],
   "source": [
    "if __name__ == '__main__':\n",
    "    glutInit()\n",
    "    glutInitWindowSize(640,480)\n",
    "    glutCreateWindow(\"Textured Polygon\")\n",
    "    glutInitDisplayMode(GLUT_SINGLE | GLUT_RGB)\n",
    "    glEnable(GL_TEXTURE_2D)\n",
    "    #glEnable(GL_CULL_FACE)\n",
    "    glClearColor(1.0,1.0,1.0,0.0)\n",
    "\n",
    "    image=cv2.imread('grass.png')\n",
    "    #Convert to RGB format:\n",
    "    #image = cv2.cvtColor(image, cv2.COLOR_BGR2RGB)\n",
    "    \n",
    "    #Vertically flip the texture image:\n",
    "    #Vertikel das Texturbild umdrehen:\n",
    "    image = cv2.flip(image,0)\n",
    "    [ix,iy,c] = image.shape\n",
    "    print(image[0][0][0])\n",
    "\n",
    "    glTexImage2D(GL_TEXTURE_2D, 0, 3, ix, iy, 0, GL_BGR, GL_UNSIGNED_BYTE, image)\n",
    "    glTexParameterf(GL_TEXTURE_2D, GL_TEXTURE_MIN_FILTER, GL_NEAREST)\n",
    "\n",
    "    glutDisplayFunc(displayFun)\n",
    "    glutMainLoop()"
   ]
  }
 ],
 "metadata": {
  "kernelspec": {
   "display_name": "Python 2",
   "language": "python",
   "name": "python2"
  },
  "language_info": {
   "codemirror_mode": {
    "name": "ipython",
    "version": 2
   },
   "file_extension": ".py",
   "mimetype": "text/x-python",
   "name": "python",
   "nbconvert_exporter": "python",
   "pygments_lexer": "ipython2",
   "version": "2.7.12"
  }
 },
 "nbformat": 4,
 "nbformat_minor": 2
}
