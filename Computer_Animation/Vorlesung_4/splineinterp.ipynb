{
 "cells": [
  {
   "cell_type": "markdown",
   "metadata": {},
   "source": [
    "# Splineinterp\n",
    "script for Spline interpolation of a few points in 3D space\n",
    "\n",
    "    - Gerald Schuller, Nov. 2014"
   ]
  },
  {
   "cell_type": "markdown",
   "metadata": {},
   "source": [
    "* **Import relevant modules:**\n",
    "* **Import relevante Module:**"
   ]
  },
  {
   "cell_type": "code",
   "execution_count": null,
   "metadata": {
    "collapsed": true
   },
   "outputs": [],
   "source": [
    "from OpenGL.GL import *\n",
    "from OpenGL.GLUT import *\n",
    "from OpenGL.GLU import *\n",
    "import numpy as np\n",
    "import scipy.interpolate as interp"
   ]
  },
  {
   "cell_type": "markdown",
   "metadata": {},
   "source": [
    "* **Display function:**"
   ]
  },
  {
   "cell_type": "code",
   "execution_count": null,
   "metadata": {
    "collapsed": true
   },
   "outputs": [],
   "source": [
    "def displayFun():\n",
    "    glMatrixMode(GL_PROJECTION)\n",
    "    glLoadIdentity()\n",
    "    #Orthogonale Projektionsmatrix,\n",
    "    #Orthogonal Projection Matrix,\n",
    "    #glOrtho(left, right, bottom, top, znear, zfar)\n",
    "    glOrtho(-3.0,3.0,-1.5, 1.5, 0.1, 100)\n",
    "   \n",
    "    glMatrixMode(GL_MODELVIEW)\n",
    "    glLoadIdentity()\n",
    "\n",
    "    #Position der virtuellen Kamera:\n",
    "    #Position of the virtual camera:\n",
    "    #gluLookAt( eyeX , eyeY , eyeZ , centerX , centerY , centerZ , upX , upY , upZ ) \n",
    "    gluLookAt(0.0, 0.0, 2.0, 0.0, 0.0, 0.0, 0.0, 1.0, 0.0)\n",
    "   \n",
    "    glClear(GL_COLOR_BUFFER_BIT)\n",
    "   \n",
    "    glColor3f(1.0,0.0,0.0)\n",
    "    \n",
    "    #Kreis aus Punkten, Vertices berechnet innerhalb von glBegin und glEnd:\n",
    "    #Circle of points, vertices calculated within glBegin and glEnd:\n",
    "    glPointSize(5)\n",
    "    glBegin(GL_POINTS)\n",
    "    \n",
    "    #5 Punkte die ein Polygon aufspannen:\n",
    "    #5 points that span a polygon:    \n",
    "    P0=np.array([-1.0,-1.0,0.0])\n",
    "    \n",
    "    #glVertex3fv takes an Array or Matrix as input!:\n",
    "    #glVertex3fv nimmt ein Array oder eine Matrix als Eingabe!:\n",
    "    glVertex3fv(P0)\n",
    "    P1=np.array([1.0,-1.0,0.0])\n",
    "    glVertex3fv(P1)\n",
    "    P2=np.array([0.0,0.5,0.0])\n",
    "    glVertex3fv(P2)\n",
    "    P3=np.array([-1.0,0.5,0.0])\n",
    "    glVertex3fv(P3)\n",
    "    P4=np.array([-1.5,0.35,0.0])\n",
    "    glVertex3fv(P4)\n",
    "    \n",
    "    glColor3f(0.0,0.0,0.0)\n",
    "    \n",
    "    #Spline interpolation: \n",
    "    u=np.arange(0,5)\n",
    "    x=np.array([P0[0],P1[0],P2[0],P3[0],P4[0]])\n",
    "    y=np.array([P0[1],P1[1],P2[1],P3[1],P4[1]])\n",
    "    #Cubic Spline:\n",
    "    fx = interp.interp1d(u, x,kind='cubic')\n",
    "    fy = interp.interp1d(u, y,kind='cubic')\n",
    "    #fx = interp.interp1d(u, x,kind='quadratic')\n",
    "    #fy = interp.interp1d(u, y,kind='quadratic')\n",
    "    #fx = interp.interp1d(u, x,kind='linear')\n",
    "    #fy = interp.interp1d(u, y,kind='linear')\n",
    "    #B-Spline:\n",
    "    #tckx = interp.splrep(u, x, k=3)\n",
    "    #tcky = interp.splrep(u, y, k=3)\n",
    "    for u in np.linspace(0.1,3.9,30): \n",
    "        #spline interpolation of the 5 points, not inside the convex hull:\n",
    "        glVertex3f(fx(u),fy(u),0.0);\n",
    "        #B-spline interpolation of the 3 points, inside the convex hull:\n",
    "        #glVertex3f(interp.splev(u,tckx),interp.splev(u,tcky),0.0);\n",
    "        \n",
    "    glEnd()\n",
    "   \n",
    "    glFlush()\n"
   ]
  },
  {
   "cell_type": "markdown",
   "metadata": {},
   "source": [
    "* **Test displayfun():**"
   ]
  },
  {
   "cell_type": "code",
   "execution_count": null,
   "metadata": {
    "collapsed": true
   },
   "outputs": [],
   "source": [
    "if __name__ == '__main__':\n",
    "    glutInit()\n",
    "    glutInitWindowSize(640,480)\n",
    "    glutCreateWindow(\"3D\")\n",
    "    glutInitDisplayMode(GLUT_SINGLE | GLUT_RGB)\n",
    "    glClearColor(1.0,1.0,1.0,0.0)\n",
    "    glutDisplayFunc(displayFun)\n",
    "    glutMainLoop()"
   ]
  }
 ],
 "metadata": {
  "kernelspec": {
   "display_name": "Python 2",
   "language": "python",
   "name": "python2"
  },
  "language_info": {
   "codemirror_mode": {
    "name": "ipython",
    "version": 2
   },
   "file_extension": ".py",
   "mimetype": "text/x-python",
   "name": "python",
   "nbconvert_exporter": "python",
   "pygments_lexer": "ipython2",
   "version": "2.7.12"
  }
 },
 "nbformat": 4,
 "nbformat_minor": 2
}
