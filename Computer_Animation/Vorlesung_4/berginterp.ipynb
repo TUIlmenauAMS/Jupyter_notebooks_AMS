{
 "cells": [
  {
   "cell_type": "markdown",
   "metadata": {},
   "source": [
    "# Berginterp\n",
    "Script for random interpolation of 2 points in 3D space to generate a \"mountain\" landscape.\n",
    "Skript für zufällige Interpolation von 2 Punkten in 3D Raum, um eine \"Berg\" Landschaft zu erzeugen.\n",
    "\n",
    "    - Gerald Schuller, Nov. 2014"
   ]
  },
  {
   "cell_type": "markdown",
   "metadata": {},
   "source": [
    "* **Importiere die OpenGL und andere benötigte Module:**\n",
    "* **Import the OpenGL and other required modules:**"
   ]
  },
  {
   "cell_type": "code",
   "execution_count": null,
   "metadata": {
    "collapsed": true
   },
   "outputs": [],
   "source": [
    "from OpenGL.GL import *\n",
    "from OpenGL.GLUT import *\n",
    "from OpenGL.GLU import *\n",
    "import numpy as np\n",
    "import random"
   ]
  },
  {
   "cell_type": "markdown",
   "metadata": {},
   "source": [
    "* **Plots the two points ptleft and ptright, randomly shifts the middle point, and calls itself on the new point pairs:**\n",
    "* **Plottet die beiden Punkte ptleft und ptright, verschiebt zufällig den Mittelpunkt und ruft sich auf die neuen Punktpaare:**"
   ]
  },
  {
   "cell_type": "code",
   "execution_count": null,
   "metadata": {
    "collapsed": true
   },
   "outputs": [],
   "source": [
    "def randshift(ptleft,ptright):\n",
    "    \n",
    "    smallestdst = 0.02\n",
    "    roughness = 0.7\n",
    "    glVertex3fv(ptleft)\n",
    "    glVertex3fv(ptright)\n",
    "    \n",
    "    #distance:\n",
    "    distance=np.linalg.norm(ptright-ptleft)\n",
    "    \n",
    "    if (distance > smallestdst):\n",
    "        midpoint = 0.5 * (ptleft + ptright)\n",
    "        midpoint[1] = midpoint[1] + distance * roughness * (random.random() - 0.5)\n",
    "        randshift(ptleft,midpoint)\n",
    "        randshift(midpoint,ptright)"
   ]
  },
  {
   "cell_type": "markdown",
   "metadata": {},
   "source": [
    "* **Display the points based on randshift function:**\n",
    "* **Zeigen Sie die Punkte auf der Grundlage der randshift-Funktion an:**"
   ]
  },
  {
   "cell_type": "code",
   "execution_count": null,
   "metadata": {
    "collapsed": true
   },
   "outputs": [],
   "source": [
    "def displayFun():\n",
    "    glMatrixMode(GL_PROJECTION)\n",
    "    glLoadIdentity()\n",
    "    \n",
    "    #Orthogonale Projektionsmatrix,\n",
    "    #Orthogonal Projection Matrix,\n",
    "    #glOrtho(left, right, bottom, top, znear, zfar);\n",
    "    glOrtho(-3.0,3.0,-1.5, 1.5, 0.1, 100)\n",
    "\n",
    "    glMatrixMode(GL_MODELVIEW)\n",
    "    glLoadIdentity()\n",
    "\n",
    "    #Position der virtuellen Kamera:\n",
    "    #Poistion of the virtual camera:\n",
    "    #gluLookAt( eyeX , eyeY , eyeZ , centerX , centerY , centerZ , upX , upY , upZ )\n",
    "    gluLookAt(0.0, 0.0, 2.0, 0.0, 0.0, 0.0, 0.0, 1.0, 0.0)\n",
    "\n",
    "    glClear(GL_COLOR_BUFFER_BIT)\n",
    "\n",
    "    glColor3f(1.0,0.0,0.0)\n",
    "    #Kreis aus Punkten, Vertices berechnet innerhalb von glBegin und glEnd:\n",
    "    #Circle of points, vertices calculated within glBegin and glEnd:\n",
    "    glPointSize(2)\n",
    "    glBegin(GL_POINTS)\n",
    "\n",
    "    #2 Punkte die eine Line aufspannen:\n",
    "    #2 points that span a line:\n",
    "    P0=np.array([-2.0,0.0,0.0])\n",
    "    \n",
    "    #glVertex3fv takes an Array or Matrix as input!:\n",
    "    #glVertex3fv takes an array or matrix as input!:\n",
    "    #glVertex3fv(P0)\n",
    "    P1=np.array([2.0,0.0,0.0])\n",
    "    #glVertex3fv(P1)\n",
    "\n",
    "\n",
    "    glColor3f(0.0,0.0,0.0)\n",
    "    randshift(P0,P1)\n",
    "\n",
    "    glEnd();\n",
    "\n",
    "    glFlush()"
   ]
  },
  {
   "cell_type": "markdown",
   "metadata": {},
   "source": [
    "* **Test displayfun():**"
   ]
  },
  {
   "cell_type": "code",
   "execution_count": null,
   "metadata": {
    "collapsed": true
   },
   "outputs": [],
   "source": [
    "if __name__ == '__main__':\n",
    "    glutInit()\n",
    "    glutInitWindowSize(640,480)\n",
    "    glutCreateWindow(\"3D\")\n",
    "    glutInitDisplayMode(GLUT_SINGLE | GLUT_RGB)\n",
    "    glClearColor(1.0,1.0,1.0,0.0)\n",
    "    glutDisplayFunc(displayFun)\n",
    "    glutMainLoop()"
   ]
  }
 ],
 "metadata": {
  "kernelspec": {
   "display_name": "Python 2",
   "language": "python",
   "name": "python2"
  },
  "language_info": {
   "codemirror_mode": {
    "name": "ipython",
    "version": 2
   },
   "file_extension": ".py",
   "mimetype": "text/x-python",
   "name": "python",
   "nbconvert_exporter": "python",
   "pygments_lexer": "ipython2",
   "version": "2.7.12"
  }
 },
 "nbformat": 4,
 "nbformat_minor": 2
}
