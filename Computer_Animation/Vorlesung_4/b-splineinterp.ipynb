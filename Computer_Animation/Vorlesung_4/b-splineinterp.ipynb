{
 "cells": [
  {
   "cell_type": "markdown",
   "metadata": {
    "deletable": true,
    "editable": true
   },
   "source": [
    "# B - Splineinterp \n",
    "Script for B-Spline interpolation of a few points in 3D space.\n",
    "Skript für die B-Spline-Interpolation einiger Punkte im 3D-Raum.\n",
    "\n",
    "    - Gerald Schuller, Nov. 2014"
   ]
  },
  {
   "cell_type": "markdown",
   "metadata": {
    "deletable": true,
    "editable": true
   },
   "source": [
    "* **Import the relevant modules:** "
   ]
  },
  {
   "cell_type": "code",
   "execution_count": null,
   "metadata": {
    "collapsed": true
   },
   "outputs": [],
   "source": [
    "from OpenGL.GL import *\n",
    "from OpenGL.GLUT import *\n",
    "from OpenGL.GLU import *\n",
    "import numpy as np"
   ]
  },
  {
   "cell_type": "markdown",
   "metadata": {},
   "source": [
    "* **Display function:**"
   ]
  },
  {
   "cell_type": "code",
   "execution_count": null,
   "metadata": {
    "collapsed": true,
    "deletable": true,
    "editable": true
   },
   "outputs": [],
   "source": [
    "def displayFun():\n",
    "    glMatrixMode(GL_PROJECTION)\n",
    "    glLoadIdentity()\n",
    "   \n",
    "    #Orthogonale Projektionsmatrix,\n",
    "    #Orthogona;projection Matrix,\n",
    "    #glOrtho(left, right, bottom, top, znear, zfar);\n",
    "    glOrtho(-3.0,3.0,-1.5, 1.5, 0.1, 100)\n",
    "   \n",
    "    glMatrixMode(GL_MODELVIEW)\n",
    "    glLoadIdentity()\n",
    "\n",
    "    #Position der virtuellen Kamera:\n",
    "    #Postition of the virtual camera:\n",
    "    #gluLookAt( eyeX , eyeY , eyeZ , centerX , centerY , centerZ , upX , upY , upZ ) \n",
    "    gluLookAt(0.0, 0.0, 2.0, 0.0, 0.0, 0.0, 0.0, 1.0, 0.0)\n",
    "   \n",
    "    glClear(GL_COLOR_BUFFER_BIT)\n",
    "   \n",
    "    glColor3f(1.0,0.0,0.0)\n",
    "    \n",
    "    #Kurve aus Punkten, Vertices berechnet innerhalb von glBegin und glEnd:\n",
    "    #Curve of points, vertices calculated within glBegin and glEnd:\n",
    "    glPointSize(5)\n",
    "    glBegin(GL_POINTS)\n",
    "    \n",
    "    #4 Punkte die ein Polygon aufspannen:\n",
    "    #4 Points that span a polygon:\n",
    "    P0=np.array([-1.0,-1.0,0.0])\n",
    "    \n",
    "    #glVertex3fv takes an Array or Matrix as input!:\n",
    "    #glVertex3fv takes an array or matrix as input!:\n",
    "    glVertex3fv(P0)\n",
    "    P1=np.array([1.0,-1.0,0.0])\n",
    "    glVertex3fv(P1)\n",
    "    P2=np.array([0.0,0.5,0.0])\n",
    "    glVertex3fv(P2)\n",
    "    P3=np.array([-1.0,0.5,0.0])\n",
    "    glVertex3fv(P3)\n",
    "\n",
    "    glColor3f(0.0,0.0,0.0)\n",
    "    f = 0.0;\n",
    "    for u in np.linspace(0.1,0.9,10): \n",
    "        b0=1.0/6*u**3\n",
    "        b1=1.0/6*(-3*u**3 + 3*u**2 + 3*u + 1)\n",
    "        b2=1.0/6*(3*u**3 - 6*u**2 + 4)\n",
    "        b3=1.0/6*(-u**3 + 3*u**2 - 3*u + 1)\n",
    "        print(b0,b1,b2,b3)\n",
    "        print(b0+b1+b2+b3)\n",
    "        \n",
    "        #linear interpolation of the 3 points inside the convex hull:\n",
    "        #Linear interpolation of the 3 points inside the convex hull:\n",
    "        glVertex3fv(b0*P0+b1*P1+b2*P2+b3*P3)\n",
    "      \n",
    "    glEnd()\n",
    "   \n",
    "    glFlush()"
   ]
  },
  {
   "cell_type": "markdown",
   "metadata": {
    "deletable": true,
    "editable": true
   },
   "source": [
    "* **Test diplayfun():**"
   ]
  },
  {
   "cell_type": "code",
   "execution_count": null,
   "metadata": {
    "collapsed": true,
    "deletable": true,
    "editable": true
   },
   "outputs": [],
   "source": [
    "if __name__ == '__main__':\n",
    "    glutInit()\n",
    "    glutInitWindowSize(640,480)\n",
    "    glutCreateWindow(\"3D\")\n",
    "    glutInitDisplayMode(GLUT_SINGLE | GLUT_RGB)\n",
    "    glClearColor(1.0,1.0,1.0,0.0)\n",
    "    glutDisplayFunc(displayFun)\n",
    "    glutMainLoop()"
   ]
  }
 ],
 "metadata": {
  "kernelspec": {
   "display_name": "Python 2",
   "language": "python",
   "name": "python2"
  },
  "language_info": {
   "codemirror_mode": {
    "name": "ipython",
    "version": 2
   },
   "file_extension": ".py",
   "mimetype": "text/x-python",
   "name": "python",
   "nbconvert_exporter": "python",
   "pygments_lexer": "ipython2",
   "version": "2.7.12"
  }
 },
 "nbformat": 4,
 "nbformat_minor": 2
}
