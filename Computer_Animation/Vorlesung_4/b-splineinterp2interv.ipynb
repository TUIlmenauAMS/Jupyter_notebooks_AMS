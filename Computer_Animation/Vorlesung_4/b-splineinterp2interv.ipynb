{
 "cells": [
  {
   "cell_type": "markdown",
   "metadata": {},
   "source": [
    "# B-Splineinterp2interv\n",
    "Script for B-Spline interpolation of a few points in 3D space, for 2 intervals.\n",
    "\n",
    "    - Gerald Schuller, Nov. 2014"
   ]
  },
  {
   "cell_type": "markdown",
   "metadata": {},
   "source": [
    "* **Import relevant modules:**\n",
    "* **Import relevante Module:**"
   ]
  },
  {
   "cell_type": "code",
   "execution_count": null,
   "metadata": {
    "collapsed": true
   },
   "outputs": [],
   "source": [
    "from OpenGL.GL import *\n",
    "from OpenGL.GLUT import *\n",
    "from OpenGL.GLU import *\n",
    "import numpy as np"
   ]
  },
  {
   "cell_type": "markdown",
   "metadata": {},
   "source": [
    "* **Display Function:**"
   ]
  },
  {
   "cell_type": "code",
   "execution_count": null,
   "metadata": {
    "collapsed": true
   },
   "outputs": [],
   "source": [
    "def displayFun():\n",
    "    glMatrixMode(GL_PROJECTION)\n",
    "    glLoadIdentity()\n",
    "    #Orthogonale Projektionsmatrix,\n",
    "    #Orthogonal Projection Matrix,\n",
    "    #glOrtho(left, right, bottom, top, znear, zfar);\n",
    "    glOrtho(-3.0,3.0,-1.5, 1.5, 0.1, 100)\n",
    "\n",
    "    glMatrixMode(GL_MODELVIEW)\n",
    "    glLoadIdentity()\n",
    "\n",
    "    #Position der virtuellen Kamera:\n",
    "    #Position of the virtual camera:\n",
    "    #gluLookAt( eyeX , eyeY , eyeZ , centerX , centerY , centerZ , upX , upY , upZ )\n",
    "    gluLookAt(0.0, 0.0, 2.0, 0.0, 0.0, 0.0, 0.0, 1.0, 0.0)\n",
    "\n",
    "    glClear(GL_COLOR_BUFFER_BIT)\n",
    "\n",
    "    glColor3f(1.0,0.0,0.0)\n",
    "    \n",
    "    #Kreis aus Punkten, Vertices berechnet innerhalb von glBegin und glEnd:\n",
    "    #Circle of points, vertices calculated within glBegin and glEnd:\n",
    "    glPointSize(5)\n",
    "    glBegin(GL_POINTS)\n",
    "\n",
    "    #5 Punkte die ein Polygon aufspannen, und 2 B-Spline Intervalle umfassen:\n",
    "    #5 points that span a polygon and 2 B-spline intervals:\n",
    "    P0=np.array([-1.0,-1.0,0.0])\n",
    "    \n",
    "    #glVertex3fv takes an Array or Matrix as input!:\n",
    "    #glVertex3fv nimmt ein Array oder Matrix als Eingabe!:\n",
    "    glVertex3fv(P0)\n",
    "    P1=np.array([1.0,-1.0,0.0])\n",
    "    glVertex3fv(P1)\n",
    "    P2=np.array([0.0,0.5,0.0])\n",
    "    glVertex3fv(P2)\n",
    "    P3=np.array([-1.0,0.5,0.0])\n",
    "    glVertex3fv(P3)\n",
    "    P4=np.array([-1.5,0.35,0.0])\n",
    "    glVertex3fv(P4)\n",
    "\n",
    "    glColor3f(0.0,0.0,0.0)\n",
    "    f = 0.0\n",
    "    for u in np.linspace(0.1,0.9,10):\n",
    "        b0=1.0/6*u**3\n",
    "        b1=1.0/6*(-3*u**3 + 3*u**2 + 3*u + 1)\n",
    "        b2=1.0/6*(3*u**3 - 6*u**2 + 4)\n",
    "        b3=1.0/6*(-u**3 + 3*u**2 - 3*u + 1)\n",
    "        print(b0,b1,b2,b3)\n",
    "        print(b0+b1+b2+b3)\n",
    "        \n",
    "        #linear interpolation of the 4 points inside the convex hull:\n",
    "        #lineare Interpolation der 4 Punkte innerhalb des konvexen Rumpfes:\n",
    "        #first interval:\n",
    "        #Erste Intervall:\n",
    "        glVertex3fv(b0*P0+b1*P1+b2*P2+b3*P3)\n",
    "        #second interval:\n",
    "        #Zweite Intervall:\n",
    "        glVertex3fv(b0*P1+b1*P2+b2*P3+b3*P4)\n",
    "\n",
    "    glEnd()\n",
    "\n",
    "    glFlush()"
   ]
  },
  {
   "cell_type": "markdown",
   "metadata": {},
   "source": [
    "* **Test displayfun():**"
   ]
  },
  {
   "cell_type": "code",
   "execution_count": null,
   "metadata": {
    "collapsed": true
   },
   "outputs": [],
   "source": [
    "if __name__ == '__main__':\n",
    "    glutInit()\n",
    "    glutInitWindowSize(640,480)\n",
    "    glutCreateWindow(\"3D\")\n",
    "    glutInitDisplayMode(GLUT_SINGLE | GLUT_RGB)\n",
    "    glClearColor(1.0,1.0,1.0,0.0)\n",
    "    glutDisplayFunc(displayFun)\n",
    "    glutMainLoop()"
   ]
  }
 ],
 "metadata": {
  "kernelspec": {
   "display_name": "Python 2",
   "language": "python",
   "name": "python2"
  },
  "language_info": {
   "codemirror_mode": {
    "name": "ipython",
    "version": 2
   },
   "file_extension": ".py",
   "mimetype": "text/x-python",
   "name": "python",
   "nbconvert_exporter": "python",
   "pygments_lexer": "ipython2",
   "version": "2.7.12"
  }
 },
 "nbformat": 4,
 "nbformat_minor": 2
}
