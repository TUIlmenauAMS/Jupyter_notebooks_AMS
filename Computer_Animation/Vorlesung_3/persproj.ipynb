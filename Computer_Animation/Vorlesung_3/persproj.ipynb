{
 "cells": [
  {
   "cell_type": "markdown",
   "metadata": {},
   "source": [
    "# Persproj\n",
    "Skript für perspektivische Projektionsmatrix\n",
    "\n",
    "    - Gerald Schuler, Nov. 2014"
   ]
  },
  {
   "cell_type": "code",
   "execution_count": null,
   "metadata": {
    "collapsed": true
   },
   "outputs": [],
   "source": [
    "from numpy import *\n",
    "\n",
    "#r=symbols('r')\n",
    "#l=symbols('l')\n",
    "#t=symbols('t')\n",
    "#b=symbols('b')\n",
    "#n=symbols('n')\n",
    "#f=symbols('f')\n",
    "\n",
    "f = 1.0\n",
    "aspect = 2.0\n",
    "znear = 5.0\n",
    "zfar = 15.0\n",
    "\n",
    "#Perspektivische Projektions-Matrix:\n",
    "#Perspective Projection Matrix:\n",
    "P = matrix([[f/aspect, 0, 0, 0],\n",
    "[0, f, 0, 0],\n",
    "[0, 0, (zfar+znear)/(znear-zfar), (2*zfar*znear)/(znear-zfar)],\n",
    "[0, 0, -1.0, 0]])\n",
    "\n",
    "#Vertex in der rechten oberen nahen Ecke:\n",
    "#Vertex in the upper right corner:\n",
    "V = matrix([[aspect/f*znear],[1/f*znear],[-znear],[1.0]])\n",
    "print(P)\n",
    "print(V)\n",
    "\n",
    "#Projektion:\n",
    "Pr = P*V\n",
    "\n",
    "#Normierung auf homogene Koordinate w=Pr[3]=1:\n",
    "#Normalization to homogeneous coordinate w = Pr [3] = 1:\n",
    "print(Pr/Pr[3])"
   ]
  }
 ],
 "metadata": {
  "kernelspec": {
   "display_name": "Python 2",
   "language": "python",
   "name": "python2"
  },
  "language_info": {
   "codemirror_mode": {
    "name": "ipython",
    "version": 2
   },
   "file_extension": ".py",
   "mimetype": "text/x-python",
   "name": "python",
   "nbconvert_exporter": "python",
   "pygments_lexer": "ipython2",
   "version": "2.7.12"
  }
 },
 "nbformat": 4,
 "nbformat_minor": 2
}
