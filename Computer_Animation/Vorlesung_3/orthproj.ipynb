{
 "cells": [
  {
   "cell_type": "markdown",
   "metadata": {},
   "source": [
    "# Orthproj\n",
    "Skript für orthogonale Projektionsmatrix\n",
    "\n",
    "    - Gerald Schuler, Nov. 2014"
   ]
  },
  {
   "cell_type": "code",
   "execution_count": 1,
   "metadata": {
    "collapsed": false
   },
   "outputs": [
    {
     "name": "stdout",
     "output_type": "stream",
     "text": [
      "[[ 0.1  0.   0.  -0. ]\n",
      " [ 0.   0.2  0.  -0. ]\n",
      " [ 0.   0.  -0.2 -2. ]\n",
      " [ 0.   0.   0.   1. ]]\n",
      "[[-10.]\n",
      " [ -5.]\n",
      " [ -5.]\n",
      " [  1.]]\n",
      "[[-1.]\n",
      " [-1.]\n",
      " [-1.]\n",
      " [ 1.]]\n"
     ]
    }
   ],
   "source": [
    "from numpy import *\n",
    "\n",
    "#r=symbols('r')\n",
    "#l=symbols('l')\n",
    "#t=symbols('t')\n",
    "#b=symbols('b')\n",
    "#n=symbols('n')\n",
    "#f=symbols('f')\n",
    "\n",
    "r = 10.0\n",
    "l = -10.0\n",
    "t = 5.0\n",
    "b = -5.0\n",
    "n = 5.0\n",
    "f = 15.0\n",
    "\n",
    "P = matrix([[2.0/(r-l), 0 ,0, -(r+l)/(r-l)],\n",
    "[0, 2.0/(t-b), 0, -(t+b)/(t-b)],\n",
    "[0, 0, (-2.0)/(f-n), -(f+n)/(f-n)],\n",
    "[0, 0, 0, 1.0]])\n",
    "\n",
    "V = matrix([[l], [b], [-n], [1.0]])\n",
    "print(P)\n",
    "print(V)\n",
    "\n",
    "print(P*V)\n"
   ]
  }
 ],
 "metadata": {
  "kernelspec": {
   "display_name": "Python 2",
   "language": "python",
   "name": "python2"
  },
  "language_info": {
   "codemirror_mode": {
    "name": "ipython",
    "version": 2
   },
   "file_extension": ".py",
   "mimetype": "text/x-python",
   "name": "python",
   "nbconvert_exporter": "python",
   "pygments_lexer": "ipython2",
   "version": "2.7.12"
  }
 },
 "nbformat": 4,
 "nbformat_minor": 2
}
