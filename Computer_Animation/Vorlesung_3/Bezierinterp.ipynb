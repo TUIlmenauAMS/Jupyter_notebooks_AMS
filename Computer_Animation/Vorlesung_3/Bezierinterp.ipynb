{
 "cells": [
  {
   "cell_type": "markdown",
   "metadata": {},
   "source": [
    "# Bezierinterp\n",
    "Script for Bezier interpolation of a few points in 3D space\n",
    "\n",
    "    - Gerald Schuller, Nov. 2014"
   ]
  },
  {
   "cell_type": "markdown",
   "metadata": {},
   "source": [
    "* **Import the relevant modules:**"
   ]
  },
  {
   "cell_type": "code",
   "execution_count": null,
   "metadata": {
    "collapsed": true
   },
   "outputs": [],
   "source": [
    "from OpenGL.GL import *\n",
    "from OpenGL.GLUT import *\n",
    "from OpenGL.GLU import *\n",
    "import numpy as np"
   ]
  },
  {
   "cell_type": "code",
   "execution_count": null,
   "metadata": {
    "collapsed": true
   },
   "outputs": [],
   "source": [
    "def displayFun():\n",
    "    glMatrixMode(GL_PROJECTION)\n",
    "    glLoadIdentity()\n",
    "    #Orthogonale Projektionsmatrix,\n",
    "    #Orthogonal Projection Matrix\n",
    "    #glOrtho(left, right, bottom, top, znear, zfar);\n",
    "    glOrtho(-3.0, 3.0, -1.5, 1.5, 0.1, 100)\n",
    "   \n",
    "    glMatrixMode(GL_MODELVIEW)\n",
    "    glLoadIdentity()\n",
    "\n",
    "    #Position der virtuellen Kamera:\n",
    "    #Position of the virtual camera:\n",
    "    #gluLookAt( eyeX , eyeY , eyeZ , centerX , centerY , centerZ , upX , upY , upZ ) \n",
    "    gluLookAt(0.0, 0.0, 2.0, 0.0, 0.0, 0.0, 0.0, 1.0, 0.0)\n",
    "   \n",
    "    glClear(GL_COLOR_BUFFER_BIT)\n",
    "   \n",
    "    glColor3f(1.0, 0.0, 0.0)\n",
    "    \n",
    "    #Kreis aus Punkten, Vertices berechnet innerhalb von glBegin und glEnd:\n",
    "    #Circle of points, vertices calculated within glBegin and glEnd:\n",
    "    glPointSize(5)\n",
    "    glBegin(GL_POINTS)\n",
    "    \n",
    "    #3 Punkte die ein Dreieck aufspannen:\n",
    "    #3 Points that span a triangle:\n",
    "    P0=np.array([-1.0, -1.0, 0.0])\n",
    "    \n",
    "    #glVertex3fv takes an Array or Matrix as input!:\n",
    "    #glVertex3fv takes an array or matrix as input!:\n",
    "    glVertex3fv(P0)\n",
    "    P1 = np.array([1.0, -1.0, 0.0])\n",
    "    glVertex3fv(P1)\n",
    "    P2 = np.array([0.0, 0.5, 0.0])\n",
    "    glVertex3fv(P2)\n",
    "    P3 = np.array([-1.0, 0.5, 0.0])\n",
    "    glVertex3fv(P3)\n",
    "\n",
    "    glColor3f(0.0, 0.0, 0.0)\n",
    "    f = 0.0\n",
    "    for u in np.linspace(0.1, 0.9, 10): \n",
    "        b0 = (1-u)**3\n",
    "        b1 = 3*u*(1-u)**2\n",
    "        b2 = 3*u**2*(1-u)\n",
    "        b3 = u**3\n",
    "        print(b0, b1, b2, b3)\n",
    "        print(b0 + b1 + b2 + b3)\n",
    "        #linear interpolation of the 4 points inside the convex hull:\n",
    "        glVertex3fv(b0*P0 + b1*P1 + b2*P2 + b3*P3)\n",
    "      \n",
    "    glEnd()\n",
    "   \n",
    "    glFlush()"
   ]
  },
  {
   "cell_type": "markdown",
   "metadata": {},
   "source": [
    "* **Test displayfun():**"
   ]
  },
  {
   "cell_type": "code",
   "execution_count": null,
   "metadata": {
    "collapsed": true
   },
   "outputs": [],
   "source": [
    "if __name__ == '__main__':\n",
    "    glutInit()\n",
    "    glutInitWindowSize(640,480)\n",
    "    glutCreateWindow(\"3D\")\n",
    "    glutInitDisplayMode(GLUT_SINGLE | GLUT_RGB)\n",
    "    glClearColor(1.0,1.0,1.0,0.0)\n",
    "    glutDisplayFunc(displayFun)\n",
    "    glutMainLoop()"
   ]
  }
 ],
 "metadata": {
  "kernelspec": {
   "display_name": "Python 2",
   "language": "python",
   "name": "python2"
  },
  "language_info": {
   "codemirror_mode": {
    "name": "ipython",
    "version": 2
   },
   "file_extension": ".py",
   "mimetype": "text/x-python",
   "name": "python",
   "nbconvert_exporter": "python",
   "pygments_lexer": "ipython2",
   "version": "2.7.12"
  }
 },
 "nbformat": 4,
 "nbformat_minor": 2
}
