{
 "cells": [
  {
   "cell_type": "markdown",
   "metadata": {
    "deletable": true,
    "editable": true
   },
   "source": [
    "# Example for the extraction of the Fa Matrix from the MDCT polyphase matrix."
   ]
  },
  {
   "cell_type": "markdown",
   "metadata": {
    "deletable": true,
    "editable": true
   },
   "source": [
    "## Import Scipy and Sympy:"
   ]
  },
  {
   "cell_type": "code",
   "execution_count": 1,
   "metadata": {
    "collapsed": true,
    "deletable": true,
    "editable": true
   },
   "outputs": [],
   "source": [
    "from sympy import *\n",
    "from scipy import *"
   ]
  },
  {
   "cell_type": "code",
   "execution_count": 2,
   "metadata": {
    "collapsed": true,
    "deletable": true,
    "editable": true
   },
   "outputs": [],
   "source": [
    "z=symbols('z') \n",
    "N=4 "
   ]
  },
  {
   "cell_type": "markdown",
   "metadata": {
    "deletable": true,
    "editable": true
   },
   "source": [
    "## Baseband prototype filter h(n):"
   ]
  },
  {
   "cell_type": "code",
   "execution_count": 3,
   "metadata": {
    "collapsed": false,
    "deletable": true,
    "editable": true
   },
   "outputs": [
    {
     "name": "stdout",
     "output_type": "stream",
     "text": [
      "('h:', (h0, h1, h2, h3, h4, h5, h6, h7))\n"
     ]
    }
   ],
   "source": [
    "h = symbols('h:8')\n",
    "print( 'h:', h) "
   ]
  },
  {
   "cell_type": "markdown",
   "metadata": {
    "deletable": true,
    "editable": true
   },
   "source": [
    "> **MDCT Polyphase matrix H. Since each column contains the time-reversed impulse response, we need the \"N-1-n\" instead of the \"n\":  **\n",
    "\n",
    "## Start with a NxN matrix of zeros: "
   ]
  },
  {
   "cell_type": "code",
   "execution_count": 4,
   "metadata": {
    "collapsed": true,
    "deletable": true,
    "editable": true
   },
   "outputs": [],
   "source": [
    "H = Matrix(zeros((N,N)))"
   ]
  },
  {
   "cell_type": "markdown",
   "metadata": {
    "deletable": true,
    "editable": true
   },
   "source": [
    "> **range(0,N) produces indices from 0 to N-1. **\n",
    "\n",
    "## We compute H using eq. (1) and (2):"
   ]
  },
  {
   "cell_type": "code",
   "execution_count": 5,
   "metadata": {
    "collapsed": false,
    "deletable": true,
    "editable": true
   },
   "outputs": [],
   "source": [
    "for n in range(0,N): \n",
    "    for k in range(0,N): \n",
    "        H[n,k] = h[N-1-n]*cos(pi/N*(N-1-n + N/2 + 0.5)*(k+0.5)) + z**(-1)*h[2*N-1-n]*cos(pi/N*(2*N-1-n+N/2+0.5)*(k+0.5)) "
   ]
  },
  {
   "cell_type": "markdown",
   "metadata": {
    "deletable": true,
    "editable": true
   },
   "source": [
    "## Transform matrix T for the DCT4: "
   ]
  },
  {
   "cell_type": "code",
   "execution_count": 6,
   "metadata": {
    "collapsed": false,
    "deletable": true,
    "editable": true
   },
   "outputs": [],
   "source": [
    "T=Matrix(zeros((N,N)))\n",
    "for n in range(0,N): \n",
    "    for k in range(0,N): \n",
    "        T[n,k]=cos(pi/N*(n+0.5)*(k+0.5))"
   ]
  },
  {
   "cell_type": "markdown",
   "metadata": {
    "deletable": true,
    "editable": true
   },
   "source": [
    "## Compute the sparse Fa matrix: "
   ]
  },
  {
   "cell_type": "code",
   "execution_count": 7,
   "metadata": {
    "collapsed": true,
    "deletable": true,
    "editable": true
   },
   "outputs": [],
   "source": [
    "Fa = H * (T ** (-1)) "
   ]
  },
  {
   "cell_type": "markdown",
   "metadata": {
    "deletable": true,
    "editable": true
   },
   "source": [
    "## Print the H matrix with 1 digit after the decimal point and replacement of very small number by 0: "
   ]
  },
  {
   "cell_type": "code",
   "execution_count": 8,
   "metadata": {
    "collapsed": false,
    "deletable": true,
    "editable": true
   },
   "outputs": [
    {
     "name": "stdout",
     "output_type": "stream",
     "text": [
      "H=\n",
      "Matrix([[-0.6*h3 - 0.8*h7/z, 1.0*h3 + 0.2*h7/z, -0.2*h3 + 1.0*h7/z, -0.8*h3 + 0.6*h7/z], [-0.2*h2 - 1.0*h6/z, 0.6*h2 - 0.8*h6/z, -0.8*h2 - 0.6*h6/z, 1.0*h2 - 0.2*h6/z], [0.2*h1 - 1.0*h5/z, -0.6*h1 - 0.8*h5/z, 0.8*h1 - 0.6*h5/z, -1.0*h1 - 0.2*h5/z], [0.6*h0 - 0.8*h4/z, -1.0*h0 + 0.2*h4/z, 0.2*h0 + 1.0*h4/z, 0.8*h0 + 0.6*h4/z]])\n"
     ]
    }
   ],
   "source": [
    "print( \"H=\") \n",
    "print( H.evalf(1,chop=True))"
   ]
  },
  {
   "cell_type": "markdown",
   "metadata": {
    "deletable": true,
    "editable": true
   },
   "source": [
    "## Print the Fa matrix with 1 digit after the decimal point and replacement of very small number by 0: "
   ]
  },
  {
   "cell_type": "code",
   "execution_count": 9,
   "metadata": {
    "collapsed": false,
    "deletable": true,
    "editable": true
   },
   "outputs": [
    {
     "name": "stdout",
     "output_type": "stream",
     "text": [
      "Fa=\n",
      "Matrix([[1.2490009027033e-16*h3 - 2.42861286636753e-16*h7/z, 5.0e-16*h3 - 1.0*h7/z, -1.0*h3 + 2.0e-15*h7/z, -1.27675647831893e-15*h3 - 1.49880108324396e-15*h7/z], [1.0e-17*h2 - 1.0*h6/z, -1.11022302462516e-16*h2 - 2.4980018054066e-16*h6/z, 2.22044604925031e-16*h2 + 2.4980018054066e-16*h6/z, -1.0*h2 - 1.0e-15*h6/z], [-1.0e-17*h1 - 1.0*h5/z, 1.66533453693773e-16*h1 - 1.27675647831893e-15*h5/z, -1.66533453693773e-16*h1 + 9.0205620750794e-16*h5/z, 1.0*h1 - 1.0e-15*h5/z], [-1.11022302462516e-16*h0 - 4.85722573273506e-17*h4/z, 3.0e-17*h0 - 1.0*h4/z, 1.0*h0 + 9.71445146547012e-16*h4/z, -1.66533453693773e-16*h0 - 9.99200722162641e-16*h4/z]])\n"
     ]
    }
   ],
   "source": [
    "print( \"Fa=\") \n",
    "print( Fa.evalf(1,chop=True))"
   ]
  }
 ],
 "metadata": {
  "kernelspec": {
   "display_name": "Python 2",
   "language": "python",
   "name": "python2"
  },
  "language_info": {
   "codemirror_mode": {
    "name": "ipython",
    "version": 2
   },
   "file_extension": ".py",
   "mimetype": "text/x-python",
   "name": "python",
   "nbconvert_exporter": "python",
   "pygments_lexer": "ipython2",
   "version": "2.7.12"
  }
 },
 "nbformat": 4,
 "nbformat_minor": 2
}
