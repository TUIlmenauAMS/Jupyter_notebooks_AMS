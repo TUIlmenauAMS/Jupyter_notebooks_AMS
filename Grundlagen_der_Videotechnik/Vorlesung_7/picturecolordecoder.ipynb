{
 "cells": [
  {
   "cell_type": "markdown",
   "metadata": {
    "deletable": true,
    "editable": true
   },
   "source": [
    "# Program - picturecolordecoder\n",
    "Program to decode a color video from files framedimc.txt, y00encc.bin, y01encc.bin, and y10encc.bin, u00enc.bin, v00enc.bin using 2-bit DCT coefficient values\n",
    "    - Gerald Schuller, Dec. 2015\n",
    "* Import relevant modules:"
   ]
  },
  {
   "cell_type": "code",
   "execution_count": null,
   "metadata": {
    "collapsed": false,
    "deletable": true,
    "editable": true
   },
   "outputs": [],
   "source": [
    "import cv2\n",
    "import numpy as np\n",
    "import scipy.fftpack as sft\n",
    "#import our file functions:\n",
    "from writereadbits import *\n",
    "import blockdct\n",
    "\n",
    "N=8"
   ]
  },
  {
   "cell_type": "markdown",
   "metadata": {
    "deletable": true,
    "editable": true
   },
   "source": [
    "* Read DC values of the DCT's from file:"
   ]
  },
  {
   "cell_type": "code",
   "execution_count": null,
   "metadata": {
    "collapsed": false,
    "deletable": true,
    "editable": true
   },
   "outputs": [],
   "source": [
    "#indices00=readbitsfile('y00enc.bin')\n",
    "codestring00=readbinaryfile('y00encc.bin')\n",
    "indices00=codestring2data(codestring00)\n",
    "indices00=indices00+2"
   ]
  },
  {
   "cell_type": "markdown",
   "metadata": {
    "deletable": true,
    "editable": true
   },
   "source": [
    "* Read AC values from file:"
   ]
  },
  {
   "cell_type": "code",
   "execution_count": null,
   "metadata": {
    "collapsed": false,
    "deletable": true,
    "editable": true
   },
   "outputs": [],
   "source": [
    "#indices01=readbitsfile('y01enc.bin')\n",
    "codestring01=readbinaryfile('y01encc.bin')\n",
    "indices01=codestring2data(codestring01)\n",
    "\n",
    "#indices10=readbitsfile('y10enc.bin')\n",
    "codestring10=readbinaryfile('y10encc.bin')\n",
    "indices10=codestring2data(codestring10)"
   ]
  },
  {
   "cell_type": "markdown",
   "metadata": {
    "deletable": true,
    "editable": true
   },
   "source": [
    "* Read in DC color components:"
   ]
  },
  {
   "cell_type": "code",
   "execution_count": null,
   "metadata": {
    "collapsed": false,
    "deletable": true,
    "editable": true
   },
   "outputs": [],
   "source": [
    "#indices00=readbitsfile('y00enc.bin')\n",
    "codestringu00=readbinaryfile('u00enc.bin')\n",
    "indicesu00=codestring2data(codestringu00)"
   ]
  },
  {
   "cell_type": "markdown",
   "metadata": {
    "deletable": true,
    "editable": true
   },
   "source": [
    "* Subtract smallest index value to obtain original value range:"
   ]
  },
  {
   "cell_type": "code",
   "execution_count": null,
   "metadata": {
    "collapsed": true,
    "deletable": true,
    "editable": true
   },
   "outputs": [],
   "source": [
    "indicesu00=indicesu00;\n",
    "\n",
    "#indices00=readbitsfile('y00enc.bin')\n",
    "codestringv00=readbinaryfile('v00enc.bin')\n",
    "indicesv00=codestring2data(codestringv00)"
   ]
  },
  {
   "cell_type": "markdown",
   "metadata": {
    "deletable": true,
    "editable": true
   },
   "source": [
    "* Subtract smallest index value to obtain original value range:"
   ]
  },
  {
   "cell_type": "code",
   "execution_count": null,
   "metadata": {
    "collapsed": true,
    "deletable": true,
    "editable": true
   },
   "outputs": [],
   "source": [
    "indicesv00=indicesv00;"
   ]
  },
  {
   "cell_type": "markdown",
   "metadata": {
    "deletable": true,
    "editable": true
   },
   "source": [
    "* Reshape back into 2-D frame with rindex rows and cindex solumns:"
   ]
  },
  {
   "cell_type": "code",
   "execution_count": null,
   "metadata": {
    "collapsed": true,
    "deletable": true,
    "editable": true
   },
   "outputs": [],
   "source": [
    "#load dimensions from info file:\n",
    "[r,c]=np.loadtxt('framedimc.txt')\n",
    "rindex=r/8;\n",
    "cindex=c/8;\n",
    "indices00=np.reshape(indices00,(-1,cindex))\n",
    "indices01=np.reshape(indices01,(-1,cindex))\n",
    "indices10=np.reshape(indices10,(-1,cindex))\n",
    "\n",
    "#color components:\n",
    "indicesu00=np.reshape(indicesu00,(-1,cindex))\n",
    "indicesv00=np.reshape(indicesv00,(-1,cindex))\n",
    "\n",
    "#print('De-Quantisieren')"
   ]
  },
  {
   "cell_type": "markdown",
   "metadata": {
    "deletable": true,
    "editable": true
   },
   "source": [
    "* de-quantization in the decoder:"
   ]
  },
  {
   "cell_type": "code",
   "execution_count": null,
   "metadata": {
    "collapsed": true
   },
   "outputs": [],
   "source": [
    "Ydct = np.zeros((r,c));\n",
    "Udct = np.zeros((r,c));\n",
    "Vdct = np.zeros((r,c));"
   ]
  },
  {
   "cell_type": "markdown",
   "metadata": {},
   "source": [
    "* Number of bits per pixel:"
   ]
  },
  {
   "cell_type": "code",
   "execution_count": null,
   "metadata": {
    "collapsed": true
   },
   "outputs": [],
   "source": [
    "bits = 2\n",
    "# resulting quantization step size for 2^bits steps:"
   ]
  },
  {
   "cell_type": "markdown",
   "metadata": {},
   "source": [
    "* Stufen fuer unterschiedliche Ortsfrequenzen:<br/>  DC Indices mit range 0...5:"
   ]
  },
  {
   "cell_type": "code",
   "execution_count": null,
   "metadata": {
    "collapsed": true
   },
   "outputs": [],
   "source": [
    "quantstufeDC = 5.0/(2**bits-1)"
   ]
  },
  {
   "cell_type": "markdown",
   "metadata": {},
   "source": [
    "* Zwei AC Koeffizienten, mit range 0.5-(-0.5)"
   ]
  },
  {
   "cell_type": "code",
   "execution_count": null,
   "metadata": {
    "collapsed": true
   },
   "outputs": [],
   "source": [
    "quantstufeAC = 1.0/(2**bits-1)"
   ]
  },
  {
   "cell_type": "markdown",
   "metadata": {},
   "source": [
    "* DC values de-quantization:"
   ]
  },
  {
   "cell_type": "code",
   "execution_count": null,
   "metadata": {
    "collapsed": true
   },
   "outputs": [],
   "source": [
    "Ydct[0::N,0::N] = indices00*quantstufeDC"
   ]
  },
  {
   "cell_type": "markdown",
   "metadata": {},
   "source": [
    "* 2 AC values de-quantization:"
   ]
  },
  {
   "cell_type": "code",
   "execution_count": null,
   "metadata": {
    "collapsed": true
   },
   "outputs": [],
   "source": [
    "Ydct[0::N,1::N] = indices01*quantstufeAC\n",
    "Ydct[1::N,0::N] = indices10*quantstufeAC\n",
    "#The rest of the DCT coefficients is not transmitted and set to zero."
   ]
  },
  {
   "cell_type": "markdown",
   "metadata": {},
   "source": [
    "* color components de-quatization:\n",
    "    DC Indices mit range 0...1:"
   ]
  },
  {
   "cell_type": "code",
   "execution_count": null,
   "metadata": {
    "collapsed": true
   },
   "outputs": [],
   "source": [
    "quantstufeDC = 5.0/(2**bits-1)"
   ]
  },
  {
   "cell_type": "markdown",
   "metadata": {},
   "source": [
    "* DC values de-quantization:"
   ]
  },
  {
   "cell_type": "code",
   "execution_count": null,
   "metadata": {
    "collapsed": true
   },
   "outputs": [],
   "source": [
    "Udct[0::N,0::N] = indicesu00*quantstufeDC\n",
    "Vdct[0::N,0::N] = indicesv00*quantstufeDC"
   ]
  },
  {
   "cell_type": "markdown",
   "metadata": {},
   "source": [
    "* Inverse 2D DCT:"
   ]
  },
  {
   "cell_type": "code",
   "execution_count": null,
   "metadata": {
    "collapsed": true
   },
   "outputs": [],
   "source": [
    "Y = blockdct.invdct8x8(Ydct)\n",
    "U = blockdct.invdct8x8(Udct)\n",
    "V = blockdct.invdct8x8(Vdct)\n",
    "\n",
    "B = U + Y\n",
    "R = V + Y\n",
    "G = (Y-0.114*B-0.299*R)/0.587"
   ]
  },
  {
   "cell_type": "markdown",
   "metadata": {},
   "source": [
    "* Schreibe die RGB Komponenten in den rekonstruierten Frame: "
   ]
  },
  {
   "cell_type": "code",
   "execution_count": null,
   "metadata": {
    "collapsed": true
   },
   "outputs": [],
   "source": [
    "framerec=np.zeros((r,c,3))\n",
    "framerec[:,:,0] = B\n",
    "framerec[:,:,1] = G\n",
    "framerec[:,:,2] = R"
   ]
  },
  {
   "cell_type": "markdown",
   "metadata": {},
   "source": [
    "* Store decoded picture in file \"decodedpic.jpg\":"
   ]
  },
  {
   "cell_type": "code",
   "execution_count": null,
   "metadata": {
    "collapsed": true,
    "deletable": true,
    "editable": true
   },
   "outputs": [],
   "source": [
    "cv2.imwrite('decodedpic.jpg', framerec*255)"
   ]
  }
 ],
 "metadata": {
  "kernelspec": {
   "display_name": "Python 2",
   "language": "python",
   "name": "python2"
  },
  "language_info": {
   "codemirror_mode": {
    "name": "ipython",
    "version": 2
   },
   "file_extension": ".py",
   "mimetype": "text/x-python",
   "name": "python",
   "nbconvert_exporter": "python",
   "pygments_lexer": "ipython2",
   "version": "2.7.12"
  }
 },
 "nbformat": 4,
 "nbformat_minor": 2
}
