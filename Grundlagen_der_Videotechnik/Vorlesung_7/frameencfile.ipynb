{
 "cells": [
  {
   "cell_type": "markdown",
   "metadata": {},
   "source": [
    "# Program - Frameencfile\n",
    "Program to capture a video from the default camera (0), compute the 2D DCT \n",
    "on the Y component, quantize the lowest 3 coefficients of each DCT block and save them as 2 bit values in files framedim.txt, y00enc.bin, y01enc.bin, and y10enc.bin\n",
    "    - Gerald Schuller, Dec. 2015\n",
    "    \n",
    "* Import relevant modules:"
   ]
  },
  {
   "cell_type": "code",
   "execution_count": 1,
   "metadata": {
    "collapsed": false
   },
   "outputs": [
    {
     "name": "stdout",
     "output_type": "stream",
     "text": [
      "writereadbits.py\n"
     ]
    }
   ],
   "source": [
    "import cv2\n",
    "import numpy as np\n",
    "import scipy.fftpack as sft\n",
    "#import our file functions:\n",
    "from writereadbits import *\n",
    "import blockdct"
   ]
  },
  {
   "cell_type": "markdown",
   "metadata": {},
   "source": [
    "* Defining the variables:"
   ]
  },
  {
   "cell_type": "code",
   "execution_count": 2,
   "metadata": {
    "collapsed": false
   },
   "outputs": [
    {
     "name": "stdout",
     "output_type": "stream",
     "text": [
      "(480, 640)\n",
      "Record to compressed files with key 'q', show until key 'q' is pressed \n"
     ]
    }
   ],
   "source": [
    "cap = cv2.VideoCapture(0)\n",
    "#Get size of frame:\n",
    "[retval, frame] = cap.read()\n",
    "[r,c,d]=frame.shape\n",
    "print(r,c)\n",
    "#Store dimensions in info file:\n",
    "np.savetxt('framedim.txt', [r,c])\n",
    "print \"Record to compressed files with key 'q', show until key 'q' is pressed \""
   ]
  },
  {
   "cell_type": "markdown",
   "metadata": {},
   "source": [
    "* only kep the 3 lowest frequencies coefficients of the 8x8 DCT,"
   ]
  },
  {
   "cell_type": "code",
   "execution_count": 3,
   "metadata": {
    "collapsed": false
   },
   "outputs": [
    {
     "name": "stdout",
     "output_type": "stream",
     "text": [
      "store frame encoded in files framedim.txt, y00enc.bin, y01enc.bin, and y10enc.bin\n"
     ]
    }
   ],
   "source": [
    "N=8\n",
    "\n",
    "while(True):\n",
    "    # Capture frame-by-frame\n",
    "    [retval, frame] = cap.read()    \n",
    "    Y=(0.114*frame[:,:,0]+0.587*frame[:,:,1]+0.299*frame[:,:,2])/255;  \n",
    "  \n",
    "    key=cv2.waitKey(1) & 0xFF\n",
    "    if key== ord('c'):\n",
    "        print \"store frame encoded in files framedim.txt, y00enc.bin, y01enc.bin, and y10enc.bin\" \n",
    "\n",
    "        #compute magnitude of 2D DCT of blocks of 8x8 pixels of the Y component \n",
    "        X=blockdct.dct8x8(Y)\n",
    "        \n",
    "        #print X[0,0]\n",
    "        #Quantize:\n",
    "        #print('Quantisieren')\n",
    "        #Ausprobieren vom Bereich:\n",
    "        #DC: 0..5\n",
    "        #AC: -0.5..+0.5\n",
    "        \n",
    "        #Number of bits per pixel\n",
    "        bits=2\n",
    "\n",
    "        #resulting quantization step size for 2^bits steps:\n",
    "        #Stufen fuer unterschiedliche Ortsfrequenzen:\n",
    "        #DC Indices mit range 0...5:\n",
    "        quantstufeDC=5.0/(2**bits-1)\n",
    "\n",
    "        #Alle DC indices (anfangen mit Position 0 und dann jeder N'te Koeffizient:\n",
    "        #Kleinsten Indexwert addieren um den ganzen range des coders zu nutzen:\n",
    "        indices00=np.round(X[0::N,0::N]/quantstufeDC)-2\n",
    "        \n",
    "        #reshape into 1-D array:\n",
    "        indices00=np.reshape(indices00,(1,-1))\n",
    "        #print indices00.shape\n",
    "        \n",
    "        #convert to code string:\n",
    "        codestring00=data2codestring(indices00[0,:])\n",
    "        \n",
    "        #write  to binary file\n",
    "        writebinaryfile('y00enc.bin', codestring00)\n",
    "\n",
    "        #Zwei AC Koeffizienten, mit range 0.5-(-0.5) \n",
    "        #DCT Koeffizienten der Position (0,1):\n",
    "        quantstufeAC=1.0/(2**bits-1)\n",
    "        indices01=np.round(X[0::N,1::N]/quantstufeAC)\n",
    "        \n",
    "        #Reshape:\n",
    "        indices01=np.reshape(indices01,(1,-1))\n",
    "        \n",
    "        #Store with 2 bits each value:\n",
    "        #convert to code string:\n",
    "        codestring01=data2codestring(indices01[0,:])\n",
    "        \n",
    "        #write to binary file\n",
    "        writebinaryfile('y01enc.bin', codestring01)\n",
    "\n",
    "        #DCT Koeffizienten der Position (1,0):\n",
    "        indices10=np.round(X[1::N,0::N]/quantstufeAC)\n",
    "        indices10=np.reshape(indices10,(1,-1))\n",
    "        \n",
    "        #convert to code string:\n",
    "        codestring10=data2codestring(indices10[0,:])\n",
    "        \n",
    "        #write to binary file\n",
    "        writebinaryfile('y10enc.bin', codestring10)\n",
    "\n",
    "\n",
    "    cv2.putText(Y,\"Frame Compression Demo,\", (20,50), cv2.FONT_HERSHEY_SIMPLEX, 0.8, (255,128,128))\n",
    "    cv2.putText(Y,\"Press 'c' to take picture, 'q' to quit,\", (20,80), cv2.FONT_HERSHEY_SIMPLEX, 0.8, (255,128,128))\n",
    "    cv2.imshow('Original Video, Y Komponente, 8bits/Pixel',Y)\n",
    "    #Keep window open until key 'q' is pressed:\n",
    "    if  key == ord('q'):\n",
    "        break"
   ]
  },
  {
   "cell_type": "markdown",
   "metadata": {},
   "source": [
    "* When everything done, release the capture"
   ]
  },
  {
   "cell_type": "code",
   "execution_count": 4,
   "metadata": {
    "collapsed": true
   },
   "outputs": [],
   "source": [
    "cap.release()\n",
    "cv2.destroyAllWindows()"
   ]
  }
 ],
 "metadata": {
  "kernelspec": {
   "display_name": "Python 2",
   "language": "python",
   "name": "python2"
  },
  "language_info": {
   "codemirror_mode": {
    "name": "ipython",
    "version": 2
   },
   "file_extension": ".py",
   "mimetype": "text/x-python",
   "name": "python",
   "nbconvert_exporter": "python",
   "pygments_lexer": "ipython2",
   "version": "2.7.12"
  }
 },
 "nbformat": 4,
 "nbformat_minor": 2
}
