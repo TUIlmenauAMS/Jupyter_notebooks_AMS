{
 "cells": [
  {
   "cell_type": "markdown",
   "metadata": {
    "deletable": true,
    "editable": true
   },
   "source": [
    "# Program - picturecolorencoder\n",
    "Program to capture a video from the default camera (0), compute the 2D DCT on the Y, Cr, CB component, quantize the lowest 3 coefficients of each DCT block and save them as 2 bit values in files framedimc.txt, y00encc.bin, u00enc.bin, v00enc.bin y01encc.bin, and y10encc.bin\n",
    "    - Gerald Schuller, Dec. 2015\n",
    "* Import relevant modules."
   ]
  },
  {
   "cell_type": "code",
   "execution_count": null,
   "metadata": {
    "collapsed": false,
    "deletable": true,
    "editable": true
   },
   "outputs": [],
   "source": [
    "import cv2\n",
    "import numpy as np\n",
    "import scipy.fftpack as sft\n",
    "#import our file functions:\n",
    "from writereadbits import *\n",
    "import blockdct"
   ]
  },
  {
   "cell_type": "code",
   "execution_count": null,
   "metadata": {
    "collapsed": true
   },
   "outputs": [],
   "source": [
    "cap = cv2.VideoCapture(0)"
   ]
  },
  {
   "cell_type": "markdown",
   "metadata": {},
   "source": [
    "* Get size of frame:"
   ]
  },
  {
   "cell_type": "code",
   "execution_count": null,
   "metadata": {
    "collapsed": true
   },
   "outputs": [],
   "source": [
    "[retval, frame] = cap.read()\n",
    "[r,c,d]=frame.shape\n",
    "print(r,c)"
   ]
  },
  {
   "cell_type": "markdown",
   "metadata": {},
   "source": [
    "* Store dimensions in info file:"
   ]
  },
  {
   "cell_type": "code",
   "execution_count": null,
   "metadata": {
    "collapsed": true
   },
   "outputs": [],
   "source": [
    "np.savetxt('framedimc.txt', [r,c])\n",
    "\n",
    "print \"Record to compressed files with key 'q', show until key 'q' is pressed \""
   ]
  },
  {
   "cell_type": "markdown",
   "metadata": {},
   "source": [
    "* only kep the 3 lowest frequencies coefficients of the 8x8 DCT,"
   ]
  },
  {
   "cell_type": "code",
   "execution_count": null,
   "metadata": {
    "collapsed": false,
    "deletable": true,
    "editable": true,
    "scrolled": true
   },
   "outputs": [],
   "source": [
    "N=8\n",
    "\n",
    "while(True):\n",
    "    # Capture frame-by-frame\n",
    "    [retval, frame] = cap.read()\n",
    "    \"\"\"\n",
    "    YUV=cv2.cvtColor(frame, cv2.COLOR_BGR2YUV)\n",
    "    #frame=cv2.cvtColor(YUV, cv2.COLOR_YUV2BGR)\n",
    "    print \"YUV.shape : \", YUV.shape\n",
    "    Y=YUV[:,:,0]/255.0;\n",
    "    U=YUV[:,:,1]/255.0;\n",
    "    V=YUV[:,:,2]/255.0;\n",
    "    #print \"Y= \", Y[0,0]\n",
    "    #print \"U= \", U[0,0]\n",
    "    #print \"V= \", V[0,0]\n",
    "    \"\"\"\n",
    "\n",
    "    # /256 because the result is float values which imshow expects in range 0...1:\n",
    "    Y=(0.114*frame[:,:,0]+0.587*frame[:,:,1]+0.299*frame[:,:,2])/255;\n",
    "    \n",
    "    #U=B-Y:\n",
    "    U=frame[:,:,0]/255.0-Y;\n",
    "    \n",
    "    #V=R-Y:\n",
    "    V=frame[:,:,2]/255.0-Y;\n",
    "\n",
    "\n",
    "    key=cv2.waitKey(1) & 0xFF\n",
    "    if key== ord('c'):\n",
    "        print \"store frame encoded in files framedimc.txt, y00encc.bin, y01encc.bin, and y10encc.bin, u00enc.bin, v00enc.bin\" \n",
    "\n",
    "        #compute magnitude of 2D DCT of blocks of 8x8 pixels of theY component\n",
    "        Ydct=blockdct.dct8x8(Y)\n",
    "        Udct=blockdct.dct8x8(U)\n",
    "        Vdct=blockdct.dct8x8(V)\n",
    "        print np.min(np.min(Udct))\n",
    "        \n",
    "        #Quantize:\n",
    "        #print('Quantisieren')\n",
    "        #Ausprobieren vom Bereich:\n",
    "        #DC: 0..5\n",
    "        #AC: -0.5..+0.5\n",
    "        #Number of bits per pixel\n",
    "        bits=2\n",
    "\n",
    "        #resulting quantization step size for 2^bits steps:\n",
    "        #Stufen fuer unterschiedliche Ortsfrequenzen:\n",
    "        #DC Indices mit range 0...5:\n",
    "        quantstufeDC=5.0/(2**bits-1)\n",
    "\n",
    "        #Alle DC indices (anfangen mit Position 0 und dann jeder N'te Koeffizient:\n",
    "        #Kleinsten Indexwert addieren um den ganzen range des coders zu nutzen:\n",
    "        indices00=np.round(Ydct[0::N,0::N]/quantstufeDC)-2\n",
    "        \n",
    "        #reshape into 1-D array:\n",
    "        indices00=np.reshape(indices00,(1,-1))\n",
    "        #print indices00.shape\n",
    "        \n",
    "        #convert to code string:\n",
    "        codestring00=data2codestring(indices00[0,:])\n",
    "        \n",
    "        #write  to binary file\n",
    "        writebinaryfile('y00encc.bin', codestring00)\n",
    "\n",
    "\n",
    "        #Zwei AC Koeffizienten, mit range 0.5-(-0.5) \n",
    "        #DCT Koeffizienten der Position (0,1):\n",
    "        quantstufeAC=1.0/(2**bits-1)\n",
    "        indices01=np.round(Ydct[0::N,1::N]/quantstufeAC)\n",
    "        \n",
    "        #Reshape:\n",
    "        indices01=np.reshape(indices01,(1,-1))\n",
    "        #Store with 2 bits each value:\n",
    "        \n",
    "        #convert to code string:\n",
    "        codestring01=data2codestring(indices01[0,:])\n",
    "        \n",
    "        #write to binary file\n",
    "        writebinaryfile('y01encc.bin', codestring01)\n",
    "\n",
    "        #DCT Koeffizienten der Position (1,0):\n",
    "        indices10=np.round(Ydct[1::N,0::N]/quantstufeAC)\n",
    "        indices10=np.reshape(indices10,(1,-1))\n",
    "        \n",
    "        #convert to code string:\n",
    "        codestring10=data2codestring(indices10[0,:])\n",
    "        \n",
    "        #write to binary file\n",
    "        writebinaryfile('y10encc.bin', codestring10)\n",
    "\n",
    "        #store color components DC Value:\n",
    "        #DC Indices mit range 0...5:\n",
    "        quantstufeDC=5.0/(2**bits-1)\n",
    "        \n",
    "        #kleinsten Wert addieren...\n",
    "        indicesU00=np.round(Udct[0::N,0::N]/quantstufeDC)\n",
    "        \n",
    "        #reshape into 1-D array:\n",
    "        indicesU00=np.reshape(indicesU00,(1,-1))\n",
    "        #print indices00.shape\n",
    "        \n",
    "        #convert to code string:\n",
    "        codestringU00=data2codestring(indicesU00[0,:])\n",
    "        \n",
    "        #write  to binary file\n",
    "        writebinaryfile('u00enc.bin', codestringU00)\n",
    "\n",
    "        #Kleinsten Indexwert addieren um den ganzen range des coders zu nutzen:\n",
    "        indicesV00=np.round(Vdct[0::N,0::N]/quantstufeDC)\n",
    "        \n",
    "        #reshape into 1-D array:\n",
    "        indicesV00=np.reshape(indicesV00,(1,-1))\n",
    "        #print indices00.shape\n",
    "        \n",
    "        #convert to code string:\n",
    "        codestringV00=data2codestring(indicesV00[0,:])\n",
    "        \n",
    "        #write  to binary file\n",
    "        writebinaryfile('v00enc.bin', codestringV00)\n",
    "\n",
    "    cv2.putText(frame,\"Frame Compression Demo,\", (20,50), cv2.FONT_HERSHEY_SIMPLEX, 0.8, (255,128,128))\n",
    "    cv2.putText(frame,\"Press 'c' to take picture, 'q' to quit,\", (20,80), cv2.FONT_HERSHEY_SIMPLEX, 0.8, (255,128,128))\n",
    "    cv2.imshow('Original Video, Y Komponente, 8bits/Pixel',frame)\n",
    "    \n",
    "    #Keep window open until key 'q' is pressed:\n",
    "    if  key == ord('q'):\n",
    "        break"
   ]
  },
  {
   "cell_type": "markdown",
   "metadata": {
    "deletable": true,
    "editable": true
   },
   "source": [
    "*  When everything done, release the capture:"
   ]
  },
  {
   "cell_type": "code",
   "execution_count": null,
   "metadata": {
    "collapsed": true,
    "deletable": true,
    "editable": true
   },
   "outputs": [],
   "source": [
    "cap.release()\n",
    "cv2.destroyAllWindows()"
   ]
  }
 ],
 "metadata": {
  "kernelspec": {
   "display_name": "Python 2",
   "language": "python",
   "name": "python2"
  },
  "language_info": {
   "codemirror_mode": {
    "name": "ipython",
    "version": 2
   },
   "file_extension": ".py",
   "mimetype": "text/x-python",
   "name": "python",
   "nbconvert_exporter": "python",
   "pygments_lexer": "ipython2",
   "version": "2.7.12"
  }
 },
 "nbformat": 4,
 "nbformat_minor": 2
}
