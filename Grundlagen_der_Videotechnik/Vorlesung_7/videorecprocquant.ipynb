{
 "cells": [
  {
   "cell_type": "markdown",
   "metadata": {},
   "source": [
    "# Program videoprocquant\n",
    "Program to capture a video from a camera, compute the Y component, quantize and de-quantize itm and display it live on the screen\n",
    "    - Gerald Schuller, October 2014\n",
    "* Import relevant modules:"
   ]
  },
  {
   "cell_type": "code",
   "execution_count": 1,
   "metadata": {
    "collapsed": true
   },
   "outputs": [],
   "source": [
    "import numpy as np\n",
    "import cv2"
   ]
  },
  {
   "cell_type": "markdown",
   "metadata": {},
   "source": [
    "* Number of bits per Y pixel:"
   ]
  },
  {
   "cell_type": "code",
   "execution_count": 2,
   "metadata": {
    "collapsed": true
   },
   "outputs": [],
   "source": [
    "bits = 2"
   ]
  },
  {
   "cell_type": "markdown",
   "metadata": {},
   "source": [
    "* Resulting quantization step size for 2^bits steps, with min=0 and max=1:"
   ]
  },
  {
   "cell_type": "code",
   "execution_count": 3,
   "metadata": {
    "collapsed": true
   },
   "outputs": [],
   "source": [
    "quantstufe=1.0/(2**bits-1)\n",
    "cap = cv2.VideoCapture(0)"
   ]
  },
  {
   "cell_type": "markdown",
   "metadata": {},
   "source": [
    "* Start capturing and process each frame:"
   ]
  },
  {
   "cell_type": "code",
   "execution_count": 4,
   "metadata": {
    "collapsed": true
   },
   "outputs": [],
   "source": [
    "while(True):\n",
    "    # Capture frame-by-frame\n",
    "    [ret, frame] = cap.read()\n",
    "\n",
    "    # Our operations on the frames come here\n",
    "    #Berechnung der Luminanz-Komponente Y:\n",
    "    # Y= 0.114*B+0.587*G+0.299*R :\n",
    "    # /256 because the result is float values which imshow expects in range 0...1:\n",
    "    Y=(0.114*frame[:,:,0]+0.587*frame[:,:,1]+0.299*frame[:,:,2])/255;        \n",
    "   \n",
    "    #Quantization indices for transmission:\n",
    "    indices=np.round(Y/quantstufe)\n",
    "    #de-quantization in the decoder:\n",
    "    Yrek=indices*quantstufe\n",
    "\n",
    "    # Display the resulting frame\n",
    "    cv2.imshow('Original Y, 8 bits/Pixel',Y)\n",
    "    cv2.imshow('De-Quantisierte Luminanz Y, 2 bits/Pixel',Yrek)\n",
    "\n",
    "    #Ende durch Taste \"q\":\n",
    "    if cv2.waitKey(1) & 0xFF == ord('q'):\n",
    "        break\n"
   ]
  },
  {
   "cell_type": "markdown",
   "metadata": {},
   "source": [
    "* When everything done, release the capture:"
   ]
  },
  {
   "cell_type": "code",
   "execution_count": 5,
   "metadata": {
    "collapsed": false
   },
   "outputs": [],
   "source": [
    "cap.release()\n",
    "cv2.destroyAllWindows()"
   ]
  }
 ],
 "metadata": {
  "kernelspec": {
   "display_name": "Python 2",
   "language": "python",
   "name": "python2"
  },
  "language_info": {
   "codemirror_mode": {
    "name": "ipython",
    "version": 2
   },
   "file_extension": ".py",
   "mimetype": "text/x-python",
   "name": "python",
   "nbconvert_exporter": "python",
   "pygments_lexer": "ipython2",
   "version": "2.7.12"
  }
 },
 "nbformat": 4,
 "nbformat_minor": 2
}
