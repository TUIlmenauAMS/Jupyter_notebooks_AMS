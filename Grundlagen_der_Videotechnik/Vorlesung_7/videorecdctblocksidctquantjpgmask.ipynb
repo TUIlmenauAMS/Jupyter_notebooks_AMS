{
 "cells": [
  {
   "cell_type": "markdown",
   "metadata": {},
   "source": [
    "# Program - videorecdctblocksidctquantjpgmask\n",
    "Program to capture a video from the default camera (0), compute the 2D DCT on the Green component, take the magnitude (phase) and display it live on the screen, divide the picture into blocks of 8x8 pixels and apply a 2D DCT to each, low pass filter, and iverse transform.\n",
    "    - Gerald Schuller, Nov. 2014, modified Dec. 2015\n",
    "* Import relevant modules."
   ]
  },
  {
   "cell_type": "code",
   "execution_count": 1,
   "metadata": {
    "collapsed": true
   },
   "outputs": [],
   "source": [
    "import cv2\n",
    "import numpy as np\n",
    "import scipy.fftpack as sft\n",
    "import blockdct"
   ]
  },
  {
   "cell_type": "markdown",
   "metadata": {},
   "source": [
    "* Number of bits per Y pixel\n",
    " <br/>resulting quantization step size for 2^bits steps:\n",
    " <br/>Stufen fuer unterschiedliche Ortsfrequenzen:"
   ]
  },
  {
   "cell_type": "code",
   "execution_count": 2,
   "metadata": {
    "collapsed": true
   },
   "outputs": [],
   "source": [
    "bits=4\n",
    "quantstufe1=5.0/(2**bits-1)\n",
    "bits=3\n",
    "quantstufe2=1.0/(2**bits-1)\n",
    "bits=2\n",
    "quantstufe3=0.6/(2**bits-1)\n",
    "bits=1\n",
    "quantstufe4=0.4/(2**bits-1)\n",
    "bits=0\n",
    "quantstufe5=8.0/(2**bits-0.99)"
   ]
  },
  {
   "cell_type": "markdown",
   "metadata": {},
   "source": [
    "* vermeide div. durch 0!\n",
    " <br/>Zus.: 1*4 bits + 2* 3 bits + 3*2bits + 4*1 bits fuer 64 pixel, also 0.3125 bit pro pixel!"
   ]
  },
  {
   "cell_type": "markdown",
   "metadata": {},
   "source": [
    "* Quantisierungsstufen in \"Maske\", anti-diagonalen haben gleiche quantstufen:"
   ]
  },
  {
   "cell_type": "code",
   "execution_count": 3,
   "metadata": {
    "collapsed": true
   },
   "outputs": [],
   "source": [
    "M = np.zeros((8, 8))\n",
    "M[0,0] = quantstufe1\n",
    "M = M + np.fliplr(np.diag([1, 1], 6)) * quantstufe2\n",
    "M = M + np.fliplr(np.diag([1, 1, 1], 5)) * quantstufe3\n",
    "M = M + np.fliplr(np.diag([1, 1, 1, 1], 4)) * quantstufe4\n",
    "M = M + np.fliplr(np.tril(np.ones((8, 8)), 3)) * quantstufe5"
   ]
  },
  {
   "cell_type": "markdown",
   "metadata": {},
   "source": [
    "* Statt unserer selbst gemachten Quantisierungs-maske nehmen wir die JPEG Mask, fuer nirmalisierte Pixel Werte:"
   ]
  },
  {
   "cell_type": "code",
   "execution_count": 4,
   "metadata": {
    "collapsed": false
   },
   "outputs": [
    {
     "name": "stdout",
     "output_type": "stream",
     "text": [
      "Quantization Mask: \n",
      "[[ 0.25      0.171875  0.15625   0.25      0.375     0.625     0.796875\n",
      "   0.953125]\n",
      " [ 0.1875    0.1875    0.21875   0.296875  0.40625   0.90625   0.9375\n",
      "   0.859375]\n",
      " [ 0.21875   0.203125  0.25      0.375     0.625     0.890625  1.078125\n",
      "   0.875   ]\n",
      " [ 0.21875   0.265625  0.34375   0.453125  0.796875  1.359375  1.25\n",
      "   0.96875 ]\n",
      " [ 0.28125   0.34375   0.578125  0.875     1.0625    1.703125  1.609375\n",
      "   1.203125]\n",
      " [ 0.375     0.546875  0.859375  1.        1.265625  1.625     1.765625\n",
      "   1.4375  ]\n",
      " [ 0.765625  1.        1.21875   1.359375  1.609375  1.890625  1.875\n",
      "   1.578125]\n",
      " [ 1.125     1.4375    1.484375  1.53125   1.75      1.5625    1.609375\n",
      "   1.546875]]\n"
     ]
    }
   ],
   "source": [
    "M=np.array([[16,11,10,16,24,40,51,61],\n",
    "[12,12,14,19,26,58,60,55],\n",
    "[14,13,16,24,40,57,69,56],\n",
    "[14,17,22,29,51,87,80,62],\n",
    "[18,22,37,56,68,109,103,77],\n",
    "[24,35,55,64,81,104,113,92],\n",
    "[49,64,78,87,103,121,120,101],\n",
    "[72,92,95,98,112,100,103,99]])/64.0\n",
    "\n",
    "\n",
    "print \"Quantization Mask: \\n\", M"
   ]
  },
  {
   "cell_type": "code",
   "execution_count": 5,
   "metadata": {
    "collapsed": false
   },
   "outputs": [
    {
     "name": "stdout",
     "output_type": "stream",
     "text": [
      "(480, 640)\n"
     ]
    }
   ],
   "source": [
    "cap = cv2.VideoCapture(0)\n",
    "#Get size of frame:\n",
    "[retval, frame] = cap.read()\n",
    "[r,c,d]=frame.shape\n",
    "print(r,c)"
   ]
  },
  {
   "cell_type": "markdown",
   "metadata": {},
   "source": [
    "* Create quantization mask of the size of the image, using kronecker product:"
   ]
  },
  {
   "cell_type": "code",
   "execution_count": 6,
   "metadata": {
    "collapsed": true
   },
   "outputs": [],
   "source": [
    "r8 = r/8\n",
    "c8 = c/8\n",
    "Mframe = np.kron(np.ones((r8, c8)), M)"
   ]
  },
  {
   "cell_type": "markdown",
   "metadata": {},
   "source": [
    "* Mask to set to zero the 3/4 highest frequencies, only kep the 1/4 lowest frequencies in each direction for the 8x8 DCT, because of the DCT no longer symmetric about the center:"
   ]
  },
  {
   "cell_type": "markdown",
   "metadata": {},
   "source": [
    "* Grid of 8x8 blocks:"
   ]
  },
  {
   "cell_type": "code",
   "execution_count": 7,
   "metadata": {
    "collapsed": false
   },
   "outputs": [],
   "source": [
    "gc = np.zeros((1, c))\n",
    "gc[0, 0:c:8] = np.ones(c/8)\n",
    "gr = np.zeros((r, 1))\n",
    "gr[0:r:8,0] = np.ones(r/8)\n",
    "grid = np.ones((r, 1)) * gc + gr * np.ones((1, c))"
   ]
  },
  {
   "cell_type": "markdown",
   "metadata": {},
   "source": [
    "* Start capturing and process each frame."
   ]
  },
  {
   "cell_type": "code",
   "execution_count": 8,
   "metadata": {
    "collapsed": true
   },
   "outputs": [],
   "source": [
    "while(True):\n",
    "    # Capture frame-by-frame\n",
    "    [retval, frame] = cap.read()\n",
    "    Y=(0.114*frame[:,:,0]+0.587*frame[:,:,1]+0.299*frame[:,:,2])/255;\n",
    "    cv2.imshow('Original Video, Y Komponente, 8 bit/Pixel',Y)\n",
    "\n",
    "    #compute the 2D DCT of blocks of 8x8 pixels of the green component, of normalized frame:\n",
    "    X=blockdct.dct8x8(frame[:,:,1]/255.0)\n",
    "    \n",
    "    #Quantize:\n",
    "    #print('Quantisieren mit Quantisierungsmaske:')\n",
    "    indices=np.round(X/Mframe)\n",
    "    #print indices\n",
    "    #print('De-Quantisieren')\n",
    "    \n",
    "    #de-quantization in the decoder:\n",
    "    Xrek=indices*Mframe\n",
    "\n",
    "    x=blockdct.invdct8x8(Xrek);\n",
    "\n",
    "    cv2.imshow('De-Quantizer mit Quant.-Maske und Inverse 2D DCT (0.315 bit/Pixel)', x)\n",
    "\n",
    "    #Keep window open until key 'q' is pressed:\n",
    "    if cv2.waitKey(1) & 0xFF == ord('q'):\n",
    "        break"
   ]
  },
  {
   "cell_type": "markdown",
   "metadata": {},
   "source": [
    "* When everything done, release the capture."
   ]
  },
  {
   "cell_type": "code",
   "execution_count": 9,
   "metadata": {
    "collapsed": true
   },
   "outputs": [],
   "source": [
    "cap.release()\n",
    "cv2.destroyAllWindows()"
   ]
  }
 ],
 "metadata": {
  "kernelspec": {
   "display_name": "Python 2",
   "language": "python",
   "name": "python2"
  },
  "language_info": {
   "codemirror_mode": {
    "name": "ipython",
    "version": 2
   },
   "file_extension": ".py",
   "mimetype": "text/x-python",
   "name": "python",
   "nbconvert_exporter": "python",
   "pygments_lexer": "ipython2",
   "version": "2.7.12"
  }
 },
 "nbformat": 4,
 "nbformat_minor": 2
}
