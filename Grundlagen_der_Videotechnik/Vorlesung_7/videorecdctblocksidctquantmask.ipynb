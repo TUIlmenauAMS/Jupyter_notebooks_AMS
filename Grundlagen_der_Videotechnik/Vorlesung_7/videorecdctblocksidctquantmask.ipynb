{
 "cells": [
  {
   "cell_type": "markdown",
   "metadata": {},
   "source": [
    "# Program\n",
    "Program to capture a video from the default camera (0), compute the 2D DCT on the Green component, take the magnitude (phase) and display it live on the screen, divide the picture into blocks of 8x8 pixels and apply a 2D DCT to each, low pass filter, and iverse transform.\n",
    "    - Gerald Schuller, Nov. 2014\n",
    "* Import relevant modules."
   ]
  },
  {
   "cell_type": "code",
   "execution_count": 1,
   "metadata": {
    "collapsed": true
   },
   "outputs": [],
   "source": [
    "import cv2\n",
    "import numpy as np\n",
    "import scipy.fftpack as sft"
   ]
  },
  {
   "cell_type": "markdown",
   "metadata": {},
   "source": [
    "* Number of bits per Y pixel, resulting quantization step size for $2^{bits}$ steps:<br/>\n",
    " Stufen fuer unterschiedliche Ortsfrequenzen:"
   ]
  },
  {
   "cell_type": "code",
   "execution_count": 2,
   "metadata": {
    "collapsed": true
   },
   "outputs": [],
   "source": [
    "bits=4\n",
    "quantstufe1=5.0/(2**bits-1)\n",
    "bits=3\n",
    "quantstufe2=1.0/(2**bits-1)\n",
    "bits=2\n",
    "quantstufe3=0.6/(2**bits-1)\n",
    "bits=1\n",
    "quantstufe4=0.4/(2**bits-1)\n",
    "bits=0\n",
    "quantstufe5=8.0/(2**bits-0.99) "
   ]
  },
  {
   "cell_type": "markdown",
   "metadata": {},
   "source": [
    "* vermeide div. durch 0!<br/>\n",
    "Zus.: 1$\\times$4 bits + 2 $\\times$ 3 bits + 3$\\times$2bits + 4$\\times$1 bits fuer 64 pixel, also 0.3125 bit pro pixel!"
   ]
  },
  {
   "cell_type": "markdown",
   "metadata": {},
   "source": [
    "* Quantisierungsstufen in \"Maske\", anti-diagonalen haben gleiche quantstufen:"
   ]
  },
  {
   "cell_type": "code",
   "execution_count": 3,
   "metadata": {
    "collapsed": false
   },
   "outputs": [
    {
     "name": "stdout",
     "output_type": "stream",
     "text": [
      "[[  3.33333333e-01   1.42857143e-01   2.00000000e-01   4.00000000e-01\n",
      "    8.00000000e+02   8.00000000e+02   8.00000000e+02   8.00000000e+02]\n",
      " [  1.42857143e-01   2.00000000e-01   4.00000000e-01   8.00000000e+02\n",
      "    8.00000000e+02   8.00000000e+02   8.00000000e+02   8.00000000e+02]\n",
      " [  2.00000000e-01   4.00000000e-01   8.00000000e+02   8.00000000e+02\n",
      "    8.00000000e+02   8.00000000e+02   8.00000000e+02   8.00000000e+02]\n",
      " [  4.00000000e-01   8.00000000e+02   8.00000000e+02   8.00000000e+02\n",
      "    8.00000000e+02   8.00000000e+02   8.00000000e+02   8.00000000e+02]\n",
      " [  8.00000000e+02   8.00000000e+02   8.00000000e+02   8.00000000e+02\n",
      "    8.00000000e+02   8.00000000e+02   8.00000000e+02   8.00000000e+02]\n",
      " [  8.00000000e+02   8.00000000e+02   8.00000000e+02   8.00000000e+02\n",
      "    8.00000000e+02   8.00000000e+02   8.00000000e+02   8.00000000e+02]\n",
      " [  8.00000000e+02   8.00000000e+02   8.00000000e+02   8.00000000e+02\n",
      "    8.00000000e+02   8.00000000e+02   8.00000000e+02   8.00000000e+02]\n",
      " [  8.00000000e+02   8.00000000e+02   8.00000000e+02   8.00000000e+02\n",
      "    8.00000000e+02   8.00000000e+02   8.00000000e+02   8.00000000e+02]]\n"
     ]
    }
   ],
   "source": [
    "M = np.zeros((8,8))\n",
    "M[0,0] = quantstufe1\n",
    "M = M + np.fliplr(np.diag([1, 1], 6)) * quantstufe2\n",
    "M = M + np.fliplr(np.diag([1, 1, 1], 5)) * quantstufe3\n",
    "M = M + np.fliplr(np.diag([1, 1, 1, 1], 4)) * quantstufe4\n",
    "M = M + np.fliplr(np.tril(np.ones((8, 8)), 3)) * quantstufe5\n",
    "\n",
    "print(M)"
   ]
  },
  {
   "cell_type": "code",
   "execution_count": 4,
   "metadata": {
    "collapsed": false
   },
   "outputs": [
    {
     "name": "stdout",
     "output_type": "stream",
     "text": [
      "(480, 640)\n"
     ]
    }
   ],
   "source": [
    "cap = cv2.VideoCapture(0)\n",
    "#Get size of frame:\n",
    "[retval, frame] = cap.read()\n",
    "[r,c,d]=frame.shape\n",
    "print(r,c)"
   ]
  },
  {
   "cell_type": "markdown",
   "metadata": {},
   "source": [
    "* Create quantization mask of the size of the image, using kronecker product:"
   ]
  },
  {
   "cell_type": "code",
   "execution_count": 5,
   "metadata": {
    "collapsed": false
   },
   "outputs": [
    {
     "name": "stdout",
     "output_type": "stream",
     "text": [
      "[[  3.33333333e-01   1.42857143e-01   2.00000000e-01 ...,   8.00000000e+02\n",
      "    8.00000000e+02   8.00000000e+02]\n",
      " [  1.42857143e-01   2.00000000e-01   4.00000000e-01 ...,   8.00000000e+02\n",
      "    8.00000000e+02   8.00000000e+02]\n",
      " [  2.00000000e-01   4.00000000e-01   8.00000000e+02 ...,   8.00000000e+02\n",
      "    8.00000000e+02   8.00000000e+02]\n",
      " ..., \n",
      " [  8.00000000e+02   8.00000000e+02   8.00000000e+02 ...,   8.00000000e+02\n",
      "    8.00000000e+02   8.00000000e+02]\n",
      " [  8.00000000e+02   8.00000000e+02   8.00000000e+02 ...,   8.00000000e+02\n",
      "    8.00000000e+02   8.00000000e+02]\n",
      " [  8.00000000e+02   8.00000000e+02   8.00000000e+02 ...,   8.00000000e+02\n",
      "    8.00000000e+02   8.00000000e+02]]\n"
     ]
    }
   ],
   "source": [
    "r8 = r/8\n",
    "c8 = c/8\n",
    "Mframe = np.kron(np.ones((r8, c8)), M)\n",
    "print(Mframe)"
   ]
  },
  {
   "cell_type": "markdown",
   "metadata": {},
   "source": [
    "* Mask to set to zero the 3/4 highest frequencies, only kep the 1/4 lowest frequencies in each direction for the 8x8 DCT, because of the DCT no longer symmetric about the center:"
   ]
  },
  {
   "cell_type": "markdown",
   "metadata": {},
   "source": [
    "* Grid of 8x8 blocks:"
   ]
  },
  {
   "cell_type": "code",
   "execution_count": 6,
   "metadata": {
    "collapsed": true
   },
   "outputs": [],
   "source": [
    "gc=np.zeros((1,c))\n",
    "gc[0,0:c:8]=np.ones(c/8)\n",
    "gr=np.zeros((r,1))\n",
    "gr[0:r:8,0]=np.ones(r/8)\n",
    "grid=np.ones((r,1))*gc+gr*np.ones((1,c))\n",
    "#print(grid[0:9,0:9])"
   ]
  },
  {
   "cell_type": "markdown",
   "metadata": {},
   "source": [
    "* Start capturing and process it blockwise:"
   ]
  },
  {
   "cell_type": "code",
   "execution_count": 7,
   "metadata": {
    "collapsed": true
   },
   "outputs": [],
   "source": [
    "while(True):\n",
    "    # Capture frame-by-frame\n",
    "    [retval, frame] = cap.read()    \n",
    "    Y=(0.114*frame[:,:,0]+0.587*frame[:,:,1]+0.299*frame[:,:,2])/255;  \n",
    "    cv2.imshow('Original Video, Y Komponente, 8 bit/Pixel',Y)\n",
    "  \n",
    "\n",
    "    #compute magnitude of 2D DCT of blocks of 8x8 pixels of the green component \n",
    "    #by first reshaping the image to width 8 and applying the 1D DCT all rows, then reshape it back,\n",
    "    #then transpose it, and again reshape it to width 8 and apply the 1D DCT to each row, reshape it back,\n",
    "    #and transpose it back.\n",
    "    #with norm='ortho' for \"energy conservation\" in the subbands and for \n",
    "    #invertibiltity without factor.\n",
    "\n",
    "    #First reshape green frame as frame with rows of width 8, (rows: order= 'C' ), \n",
    "    #and apply DCT to each row of length 8 of all blocks:\n",
    "    frame=np.reshape(frame[:,:,1],(-1,8), order='C')\n",
    "    X=sft.dct(frame/255.0,axis=1,norm='ortho')\n",
    "    \n",
    "    #shape it back to original shape:\n",
    "    X=np.reshape(X,(-1,c), order='C')\n",
    "    #Shape frame with columns of hight 8 by using transposition .T:\n",
    "    X=np.reshape(X.T,(-1,8), order='C')\n",
    "    X=sft.dct(X,axis=1,norm='ortho')\n",
    "   \n",
    "    #shape it back to original shape:\n",
    "    X=(np.reshape(X,(-1,r), order='C')).T\n",
    "    #Quantize:\n",
    "    #print('Quantisieren mit Quantisierungsmaske:')\n",
    "    indices=np.round(X/Mframe)\n",
    "    #print('De-Quantisieren')\n",
    "    #de-quantization in the decoder:\n",
    "    Xrek=indices*Mframe\n",
    "    \n",
    " \n",
    "    #Inverse 2D DCT,\n",
    "    #Rows:\n",
    "    X=np.reshape(Xrek,(-1,8), order='C')\n",
    "    X=sft.idct(X,axis=1,norm='ortho')\n",
    "    #shape it back to original shape:\n",
    "    X=np.reshape(X,(-1,c), order='C')\n",
    "    #Shape frame with columns of hight 8 (columns: order='F' convention):\n",
    "    X=np.reshape(X.T,(-1,8), order='C')\n",
    "    x=sft.idct(X,axis=1,norm='ortho')\n",
    "    #shape it back to original shape:\n",
    "    x=(np.reshape(x,(-1,r), order='C')).T \n",
    " \n",
    "    cv2.imshow('De-Quantizer mit Quant.-Maske und Inverse 2D DCT (0.3125 bit/Pixel)', x)\n",
    "    \n",
    "    #Keep window open until key 'q' is pressed:\n",
    "    if cv2.waitKey(1) & 0xFF == ord('q'):\n",
    "        break"
   ]
  },
  {
   "cell_type": "markdown",
   "metadata": {},
   "source": [
    "* When everything done, release the capture:"
   ]
  },
  {
   "cell_type": "code",
   "execution_count": 8,
   "metadata": {
    "collapsed": true
   },
   "outputs": [],
   "source": [
    "cap.release()\n",
    "cv2.destroyAllWindows()"
   ]
  }
 ],
 "metadata": {
  "kernelspec": {
   "display_name": "Python 2",
   "language": "python",
   "name": "python2"
  },
  "language_info": {
   "codemirror_mode": {
    "name": "ipython",
    "version": 2
   },
   "file_extension": ".py",
   "mimetype": "text/x-python",
   "name": "python",
   "nbconvert_exporter": "python",
   "pygments_lexer": "ipython2",
   "version": "2.7.12"
  }
 },
 "nbformat": 4,
 "nbformat_minor": 2
}
