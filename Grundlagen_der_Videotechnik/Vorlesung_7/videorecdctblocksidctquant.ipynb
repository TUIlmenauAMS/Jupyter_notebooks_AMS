{
 "cells": [
  {
   "cell_type": "markdown",
   "metadata": {},
   "source": [
    "# Program - videorecdctblocksidctquant\n",
    "Program to capture a video from the default camera (0), compute the 2D DCT \n",
    "on the Green component, take the magnitude (phase) and display it live on the screen, divide the picture into blocks \n",
    "of 8x8 pixels and apply a 2D DCT to each, low pass filter, and inverse transform.\n",
    "    - Gerald Schuller, Nov. 2014, modified Dec. 2015\n",
    "* Import relevant modules:"
   ]
  },
  {
   "cell_type": "code",
   "execution_count": 1,
   "metadata": {
    "collapsed": true
   },
   "outputs": [],
   "source": [
    "import cv2\n",
    "import numpy as np\n",
    "import scipy.fftpack as sft"
   ]
  },
  {
   "cell_type": "markdown",
   "metadata": {},
   "source": [
    "* Define the variables:"
   ]
  },
  {
   "cell_type": "code",
   "execution_count": 2,
   "metadata": {
    "collapsed": false
   },
   "outputs": [],
   "source": [
    "#Number of bits per Y pixel\n",
    "#bits=2\n",
    "#resulting quantization step size for 2^bits steps:\n",
    "#Stufen fuer unterschiedliche Ortsfrequenzen:\n",
    "#Bereich ist nun groesser da sich die Signalenergie auf wenige Koeffizienten verteilen kann:\n",
    "#quantstufe=8.0/(2**bits-1)\n",
    "\n",
    "cap = cv2.VideoCapture(0)"
   ]
  },
  {
   "cell_type": "markdown",
   "metadata": {},
   "source": [
    "* Get size of frame:"
   ]
  },
  {
   "cell_type": "code",
   "execution_count": 3,
   "metadata": {
    "collapsed": false
   },
   "outputs": [
    {
     "name": "stdout",
     "output_type": "stream",
     "text": [
      "(480, 640)\n"
     ]
    }
   ],
   "source": [
    "[retval, frame] = cap.read()\n",
    "[r,c,d] = frame.shape\n",
    "print(r,c)"
   ]
  },
  {
   "cell_type": "markdown",
   "metadata": {},
   "source": [
    "* Mask to set to zero the 3/4 highest frequencies, only kep the 1/4 lowest frequencies in each direction for the 8x8 DCT, because of the DCT no longer symmetric about the center:"
   ]
  },
  {
   "cell_type": "markdown",
   "metadata": {},
   "source": [
    "* Grid of 8x8 blocks:"
   ]
  },
  {
   "cell_type": "code",
   "execution_count": 4,
   "metadata": {
    "collapsed": true
   },
   "outputs": [],
   "source": [
    "gc = np.zeros((1,c))\n",
    "gc[0,0:c:8] = np.ones(c/8)\n",
    "gr = np.zeros((r,1))\n",
    "gr[0:r:8,0] = np.ones(r/8)\n",
    "grid = np.ones((r,1)) * gc + gr * np.ones((1, c))\n",
    "#print(grid[0:9,0:9])\n",
    "N = 8"
   ]
  },
  {
   "cell_type": "markdown",
   "metadata": {},
   "source": [
    "* Start capturing and apply the blockwise DCT on to the captured frames:"
   ]
  },
  {
   "cell_type": "code",
   "execution_count": 5,
   "metadata": {
    "collapsed": true
   },
   "outputs": [],
   "source": [
    "while(True):\n",
    "    # Capture frame-by-frame\n",
    "    [retval, frame] = cap.read()    \n",
    "    Y=(0.114*frame[:,:,0]+0.587*frame[:,:,1]+0.299*frame[:,:,2])/255;  \n",
    "    cv2.imshow('Original Video, Y Komponente, 8bits/Pixel',Y)#+grid)\n",
    "  \n",
    "\n",
    "    #compute magnitude of 2D DCT of blocks of 8x8 pixels of the green component \n",
    "    #by first reshaping the image to width 8 and applying the 1D DCT all rows, then reshape it back,\n",
    "    #then transpose it, and again reshape it to width 8 and apply the 1D DCT to each row, reshape it back,\n",
    "    #and transpose it back.\n",
    "    #with norm='ortho' for \"energy conservation\" in the subbands and for \n",
    "    #invertibiltity without factor.\n",
    "\n",
    "    #First reshape green frame as frame with rows of width 8, (rows: order= 'C' ), \n",
    "    #and apply DCT to each row of length 8 of all blocks:\n",
    "    frame=np.reshape(frame[:,:,1],(-1,8), order='C')\n",
    "    X=sft.dct(frame/255.0,axis=1,norm='ortho')\n",
    "    \n",
    "    #shape it back to original shape:\n",
    "    X=np.reshape(X,(-1,c), order='C')\n",
    "    \n",
    "    #Shape frame with columns of hight 8 by using transposition .T:\n",
    "    X=np.reshape(X.T,(-1,8), order='C')\n",
    "    X=sft.dct(X,axis=1,norm='ortho')\n",
    "   \n",
    "    #shape it back to original shape:\n",
    "    X=(np.reshape(X,(-1,r), order='C')).T\n",
    "\n",
    "    #Quantize:\n",
    "    #print('Quantisieren')\n",
    "    #Ausprobieren vom Bereich:\n",
    "    #print X[0::N,0::N]\n",
    "    #DC: ca. 0..5\n",
    "    #print X[0::N,1::N]\n",
    "    #AC: ca. -0.5..+0.5\n",
    "\n",
    "    #Number of bits per pixel\n",
    "    bits=2\n",
    "    #resulting quantization step size for 2^bits steps:\n",
    "    \n",
    "    #Stufen fuer unterschiedliche Ortsfrequenzen:\n",
    "    #DC Indices mit Beeich 0...5:\n",
    "    quantstufeDC=5.0/(2**bits-1)\n",
    "    \n",
    "    #Alle DC indices (anfangen mit Position 0 und dann jeder N'te Koeffizient:\n",
    "    indices00=np.round(X[0::N,0::N]/quantstufeDC)\n",
    "    #print indices00\n",
    "    \n",
    "    #Zwei AC Koeffizienten, mit range 0.5-(-0.5) \n",
    "    quantstufeAC=1.0/(2**bits-1)\n",
    "    indices01=np.round(X[0::N,1::N]/quantstufeAC)\n",
    "    indices10=np.round(X[1::N,0::N]/quantstufeAC)\n",
    "\n",
    "    \n",
    "    #print('De-Quantisieren')\n",
    "    \n",
    "    #de-quantization in the decoder:\n",
    "    Xrek=np.zeros((r,c));\n",
    "    \n",
    "    #DC values de-quantization:\n",
    "    Xrek[0::N,0::N]=indices00*quantstufeDC\n",
    "    \n",
    "    #2 AC values de-quantization:\n",
    "    Xrek[0::N,1::N]=indices01*quantstufeAC\n",
    "    Xrek[1::N,0::N]=indices10*quantstufeAC\n",
    "    #The rest of the DCT coefficients is not transmitted and set to zero.\n",
    " \n",
    "    #Inverse 2D DCT,\n",
    "    #Rows:\n",
    "    X=np.reshape(Xrek,(-1,8), order='C')\n",
    "    X=sft.idct(X,axis=1,norm='ortho')\n",
    "    \n",
    "    #shape it back to original shape:\n",
    "    X=np.reshape(X,(-1,c), order='C')\n",
    "    \n",
    "    #Shape frame with columns of hight 8 (columns: order='F' convention):\n",
    "    X=np.reshape(X.T,(-1,8), order='C')\n",
    "    x=sft.idct(X,axis=1,norm='ortho')\n",
    "    \n",
    "    #shape it back to original shape:\n",
    "    x=(np.reshape(x,(-1,r), order='C')).T \n",
    " \n",
    "    cv2.imshow('De-Quantizer und Inverse 2D DCT, 2 bits/uebertr. Koeff ', x)\n",
    "    \n",
    "    #Keep window open until key 'q' is pressed:\n",
    "    if cv2.waitKey(1) & 0xFF == ord('q'):\n",
    "        break"
   ]
  },
  {
   "cell_type": "markdown",
   "metadata": {},
   "source": [
    "* When everything done, release the capture:"
   ]
  },
  {
   "cell_type": "code",
   "execution_count": 6,
   "metadata": {
    "collapsed": true
   },
   "outputs": [],
   "source": [
    "cap.release()\n",
    "cv2.destroyAllWindows()"
   ]
  }
 ],
 "metadata": {
  "kernelspec": {
   "display_name": "Python 2",
   "language": "python",
   "name": "python2"
  },
  "language_info": {
   "codemirror_mode": {
    "name": "ipython",
    "version": 2
   },
   "file_extension": ".py",
   "mimetype": "text/x-python",
   "name": "python",
   "nbconvert_exporter": "python",
   "pygments_lexer": "ipython2",
   "version": "2.7.12"
  }
 },
 "nbformat": 4,
 "nbformat_minor": 2
}
