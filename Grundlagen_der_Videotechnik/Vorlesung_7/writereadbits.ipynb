{
 "cells": [
  {
   "cell_type": "markdown",
   "metadata": {},
   "source": [
    "# Program - writereadbits\n",
    "Module for writing to and reading binary file respectively. User Writes the the variable using appropriate function for writing and then can read it using the function for reading it. Below are the function definitions."
   ]
  },
  {
   "cell_type": "code",
   "execution_count": 1,
   "metadata": {
    "collapsed": false
   },
   "outputs": [
    {
     "name": "stdout",
     "output_type": "stream",
     "text": [
      "writereadbits.py\n"
     ]
    }
   ],
   "source": [
    "print \"writereadbits.py\""
   ]
  },
  {
   "cell_type": "markdown",
   "metadata": {},
   "source": [
    "* \tFunction for writing the bits to a file<br/>Usage: \n",
    "            \n",
    "            writebitsfile('filename.bin', bitstring)\n",
    "\twrites bitstring into binary file 'filename.bin'"
   ]
  },
  {
   "cell_type": "code",
   "execution_count": 2,
   "metadata": {
    "collapsed": true
   },
   "outputs": [],
   "source": [
    "def writebinaryfile(filename, bitstring):\n",
    "    import numpy as np\n",
    "    import struct\n",
    "\n",
    "    #use unsigned Bytes ('B'),\n",
    "    #converts stream of bits into stream of Bytes (groups of 8) represented as decimal integers:\n",
    "    numbytes=len(bitstring)/8;\n",
    "    Bytes=np.zeros(numbytes,dtype=int)\n",
    "    for m in range(numbytes):\n",
    "       Bytes[m]=eval('0b'+bitstring[m*8:(m*8+8)])\n",
    "    #packs the Bytes into a stream:\n",
    "    s=struct.pack('B'*len(Bytes), *Bytes)\n",
    "    #Write the stream \"s\" to file:\n",
    "    file=open(filename, \"w\")\n",
    "    #'w' deletes exisiting file, 'a' appends\n",
    "    file.write(s)\n",
    "    file.close()"
   ]
  },
  {
   "cell_type": "markdown",
   "metadata": {},
   "source": [
    "* Function for reading from a binary file\n",
    " <br/>usage: \n",
    "         \n",
    "         bitstring=readbinaryfile('filename.bin')\n",
    "\treads binary data from file 'filename.bin' and converts it into a string of bits."
   ]
  },
  {
   "cell_type": "code",
   "execution_count": 3,
   "metadata": {
    "collapsed": false
   },
   "outputs": [],
   "source": [
    "def readbinaryfile(filename):\n",
    "\n",
    "    import struct\n",
    "    import numpy as np\n",
    "\n",
    "    file=open(filename, \"r\")\n",
    "    #read the stream from file:\n",
    "    readdata=file.read()\n",
    "    \n",
    "    #unpacks the stream into an array of Bytes (8 bits):\n",
    "    Bytesread=struct.unpack('B'*len(readdata),readdata)\n",
    "    \n",
    "    #Convert bytes into binary string:\n",
    "    bitstring='';\n",
    "    for byte in Bytesread:\n",
    "        #create bit strin from byte:\n",
    "        bits=bin(byte)\n",
    "\n",
    "        #remove leading '0b' and fill up to 8 bits with leading zeros:\n",
    "        bits=bits[2:].zfill(8)\n",
    "        \n",
    "        #append to bits to bitstring:\n",
    "        bitstring=bitstring+bits\n",
    "\n",
    "    return bitstring"
   ]
  },
  {
   "cell_type": "markdown",
   "metadata": {},
   "source": [
    "* Encoder function: data to codestring\n",
    " usage: \n",
    "     \n",
    "         codestring = data2codestring(data)\n",
    "    takes 2 bit values in array \"data\" and returns the string of codewords"
   ]
  },
  {
   "cell_type": "code",
   "execution_count": 4,
   "metadata": {
    "collapsed": true
   },
   "outputs": [],
   "source": [
    "def data2codestring(data):\n",
    "    #usage: codestring=data2codestring( data)\n",
    "    #takes 2 bit values in array \"data\" and returns the string of codewords\n",
    "\n",
    "    import struct\n",
    "    import numpy as np\n",
    "\n",
    "    #sequence of integers (indices):\n",
    "    #limit data to range of codebook (-2 to 1):\n",
    "    data=np.clip(data,-2,1)\n",
    "    \n",
    "    #binary codebook, turns indices into binary codewords:\n",
    "    #also works for negative numbers\n",
    "    #(sog. Zweierkomplement):\n",
    "    #https://de.wikipedia.org/wiki/Zweierkomplement\n",
    "    #fuer negative Zahlen invertiere alle bits und addiere 1:\n",
    "    codeword={0:'00',1:'01',-2:'10',-1:'11'}\n",
    "    \n",
    "    #start with empty string:\n",
    "    codestring='';\n",
    "    for value in data:\n",
    "       #append new codewords:\n",
    "       codestring=codestring+codeword[value]\n",
    "    #print bits\n",
    "\n",
    "    return codestring"
   ]
  },
  {
   "cell_type": "markdown",
   "metadata": {},
   "source": [
    "* \tDecoder function\n",
    "\tusage: \n",
    "    \n",
    "            data=codestring2data(codestring)\n",
    "\treads binary data from codestring and converts it into a stream of 2 bit\n",
    "\tvalues returned in data."
   ]
  },
  {
   "cell_type": "code",
   "execution_count": 5,
   "metadata": {
    "collapsed": true
   },
   "outputs": [],
   "source": [
    "def codestring2data(codestring):\n",
    "\n",
    "    import struct\n",
    "    import numpy as np\n",
    "\n",
    "    #Bits decoder, decodes the indices from the binary codewords:\n",
    "    decodeword = {'00':0,'01':1,'10':-2,'11':-1}\n",
    "    \n",
    "    #convert sequence of Bytes into sequence of bits:\n",
    "    numdata = len(codestring)/2;\n",
    "    \n",
    "    #converts groups of 2 bits into data:\n",
    "    data = np.zeros(numdata,dtype=int)\n",
    "    n=0\n",
    "    for i in range(numdata):\n",
    "        #print \"i= \", i\n",
    "        data[n]=decodeword[codestring[(i*2):(2+i*2)]]\n",
    "        #print \"data[n]= \", data[n]\n",
    "        n+=1\n",
    "    return data"
   ]
  },
  {
   "cell_type": "markdown",
   "metadata": {},
   "source": [
    "* Testing the module for storing an array, then reading it, then coverting it to codestring and finally decoding it back.  "
   ]
  },
  {
   "cell_type": "code",
   "execution_count": 6,
   "metadata": {
    "collapsed": false
   },
   "outputs": [
    {
     "name": "stdout",
     "output_type": "stream",
     "text": [
      "data:  [-2 -1  0  1 -2 -1  0  1]\n",
      "codestring:  1011000110110001\n",
      "dataread:  [-2 -1  0  1 -2 -1  0  1]\n"
     ]
    }
   ],
   "source": [
    "if __name__ == '__main__':\n",
    "    import numpy as np\n",
    "\n",
    "    #emulation of an encoder, example data:\n",
    "    data=np.array([-2,-1,0,1,-2,-1,0,1])\n",
    "    \n",
    "    print \"data: \", data\n",
    "    \n",
    "    filename='savebin.bin'\n",
    "    \n",
    "    codestring=data2codestring(data)\n",
    "    \n",
    "    print \"codestring: \", codestring\n",
    "    \n",
    "    #write to binary file\n",
    "    writebinaryfile(filename, codestring)\n",
    "\n",
    "    #Emulation of a decoder:\n",
    "    codestring=readbinaryfile(filename)\n",
    "    dataread=codestring2data(codestring)\n",
    "    \n",
    "    print \"dataread: \", dataread"
   ]
  }
 ],
 "metadata": {
  "kernelspec": {
   "display_name": "Python 2",
   "language": "python",
   "name": "python2"
  },
  "language_info": {
   "codemirror_mode": {
    "name": "ipython",
    "version": 2
   },
   "file_extension": ".py",
   "mimetype": "text/x-python",
   "name": "python",
   "nbconvert_exporter": "python",
   "pygments_lexer": "ipython2",
   "version": "2.7.12"
  }
 },
 "nbformat": 4,
 "nbformat_minor": 2
}
