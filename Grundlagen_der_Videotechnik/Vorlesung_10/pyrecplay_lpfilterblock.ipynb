{
 "cells": [
  {
   "cell_type": "markdown",
   "metadata": {},
   "source": [
    "# Program - Pyrecplay_lpfilterblock\n",
    "PyAudio Example: Low pass filter between input and output (i.e., record a\n",
    "few samples, filter them, and play them back immediately).\n",
    "\n",
    "    - Gerald Schuller, January 2015\n",
    "* **Import relevant modules**"
   ]
  },
  {
   "cell_type": "code",
   "execution_count": 1,
   "metadata": {
    "collapsed": true
   },
   "outputs": [],
   "source": [
    "%matplotlib inline\n",
    "import pyaudio\n",
    "import struct\n",
    "import math\n",
    "#import array\n",
    "import numpy as np\n",
    "import scipy.signal\n",
    "import matplotlib.pyplot as plt\n",
    "import warnings\n",
    "\n",
    "warnings.filterwarnings('ignore')\n",
    "\n",
    "\n",
    "CHUNK = 1024 #Blocksize\n",
    "WIDTH = 2 #2 bytes per sample\n",
    "CHANNELS = 1 #2\n",
    "RATE = 32000  #Sampling Rate in Hz\n",
    "RECORD_SECONDS = 8"
   ]
  },
  {
   "cell_type": "code",
   "execution_count": null,
   "metadata": {
    "collapsed": true
   },
   "outputs": [],
   "source": []
  },
  {
   "cell_type": "markdown",
   "metadata": {},
   "source": [
    "* **Design Low-pass Filter:**"
   ]
  },
  {
   "cell_type": "code",
   "execution_count": 2,
   "metadata": {
    "collapsed": false
   },
   "outputs": [],
   "source": [
    "[b,a]=scipy.signal.iirfilter(2, 500.0/16000,rp=60,btype='lowpass')"
   ]
  },
  {
   "cell_type": "markdown",
   "metadata": {},
   "source": [
    "* **Plot the freqeuncy response for the filter:**"
   ]
  },
  {
   "cell_type": "code",
   "execution_count": 3,
   "metadata": {
    "collapsed": false,
    "scrolled": true
   },
   "outputs": [
    {
     "data": {
      "image/png": "[encoded data removed]",
      "text/plain": [
       "<matplotlib.figure.Figure at 0x7f7e351f3a90>"
      ]
     },
     "metadata": {},
     "output_type": "display_data"
    }
   ],
   "source": [
    "fig = plt.figure()\n",
    "[freq, response] = scipy.signal.freqz(b,a)\n",
    "plt.plot(freq, np.abs(response))\n",
    "plt.xlabel('Normalized Frequency (pi is Nyquist Frequency)')\n",
    "plt.ylabel(\"Magnitude of Frequency Response\")\n",
    "plt.title(\"Magnitude of Frequency Response for our Bandbass Filter\")\n",
    "fig.show()"
   ]
  },
  {
   "cell_type": "markdown",
   "metadata": {},
   "source": [
    "* **Initialise audio port and start recording**"
   ]
  },
  {
   "cell_type": "code",
   "execution_count": 4,
   "metadata": {
    "collapsed": false
   },
   "outputs": [
    {
     "name": "stdout",
     "output_type": "stream",
     "text": [
      "* recording\n"
     ]
    }
   ],
   "source": [
    "p = pyaudio.PyAudio()\n",
    "\n",
    "stream = p.open(format=p.get_format_from_width(WIDTH),\n",
    "                channels=CHANNELS,\n",
    "                rate=RATE,\n",
    "                input=True,\n",
    "                output=True,\n",
    "                #input_device_index=10,\n",
    "                frames_per_buffer=CHUNK)\n",
    "\n",
    "\n",
    "print(\"* recording\")"
   ]
  },
  {
   "cell_type": "markdown",
   "metadata": {},
   "source": [
    "* **Initialize memory for filter:**"
   ]
  },
  {
   "cell_type": "code",
   "execution_count": 5,
   "metadata": {
    "collapsed": true
   },
   "outputs": [],
   "source": [
    "z=np.zeros(3-1)"
   ]
  },
  {
   "cell_type": "markdown",
   "metadata": {},
   "source": [
    "* **Loop for the blocks:**"
   ]
  },
  {
   "cell_type": "code",
   "execution_count": 6,
   "metadata": {
    "collapsed": false
   },
   "outputs": [
    {
     "name": "stdout",
     "output_type": "stream",
     "text": [
      "* done\n"
     ]
    }
   ],
   "source": [
    "for i in range(0, int(RATE / CHUNK * RECORD_SECONDS)):\n",
    "    #Reading from audio input stream into data with block length \"CHUNK\":\n",
    "    data = stream.read(CHUNK)\n",
    "    #Convert from stream of bytes to a list of short integers (2 bytes here) in \"samples\":\n",
    "    #shorts = (struct.unpack( \"128h\", data ))\n",
    "    shorts = (struct.unpack( 'h' * CHUNK, data ));\n",
    "    #samples=list(shorts);\n",
    "    samples=np.array(list(shorts),dtype=float);\n",
    "    #filter function:\n",
    "    [filtered,z]=scipy.signal.lfilter(b, a, samples, zi=z)\n",
    "    #Bypass filter:\n",
    "    #filtered=samples\n",
    "    filtered=np.clip(filtered, -32000,32000)\n",
    "    #converting from short integers to a stream of bytes in data:\n",
    "    data=struct.pack('h' * len(filtered), *filtered);\n",
    "    #Writing data back to audio output stream:\n",
    "    stream.write(data, CHUNK)\n",
    "\n",
    "print(\"* done\")\n",
    "\n",
    "stream.stop_stream()\n",
    "stream.close()\n",
    "\n",
    "p.terminate()"
   ]
  }
 ],
 "metadata": {
  "kernelspec": {
   "display_name": "Python 2",
   "language": "python",
   "name": "python2"
  },
  "language_info": {
   "codemirror_mode": {
    "name": "ipython",
    "version": 2
   },
   "file_extension": ".py",
   "mimetype": "text/x-python",
   "name": "python",
   "nbconvert_exporter": "python",
   "pygments_lexer": "ipython2",
   "version": "2.7.12"
  }
 },
 "nbformat": 4,
 "nbformat_minor": 2
}
