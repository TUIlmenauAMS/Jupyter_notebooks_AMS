{
 "cells": [
  {
   "cell_type": "markdown",
   "metadata": {},
   "source": [
    "# Program - pyrecdctanimation\n",
    "Using Pyaudio, record sound from the audio device and plot the dct magnitude spectrum life, for 8 seconds.<br/>\n",
    "Usage example: python pyrecdctanimation.py<br/>\n",
    "Gerald Schuller, November 2014\n",
    "\n",
    "* Import the relevant modules."
   ]
  },
  {
   "cell_type": "code",
   "execution_count": 1,
   "metadata": {
    "collapsed": true
   },
   "outputs": [],
   "source": [
    "import pyaudio\n",
    "import struct\n",
    "import numpy as np\n",
    "import scipy.fftpack\n",
    "import matplotlib.pyplot as plt\n",
    "import matplotlib.animation as animation"
   ]
  },
  {
   "cell_type": "markdown",
   "metadata": {},
   "source": [
    "* Define the variables."
   ]
  },
  {
   "cell_type": "code",
   "execution_count": 2,
   "metadata": {
    "collapsed": true
   },
   "outputs": [],
   "source": [
    "CHUNK = 2048 #Blocksize\n",
    "WIDTH = 2 #2 bytes per sample\n",
    "CHANNELS = 1 #2\n",
    "RATE = 32000  #Sampling Rate in Hz\n",
    "RECORD_SECONDS = 70\n",
    "\n",
    "dctlen=CHUNK/2"
   ]
  },
  {
   "cell_type": "markdown",
   "metadata": {},
   "source": [
    "* Plot animation setup."
   ]
  },
  {
   "cell_type": "code",
   "execution_count": 3,
   "metadata": {
    "collapsed": false
   },
   "outputs": [
    {
     "data": {
      "text/plain": [
       "<matplotlib.text.Text at 0x7fd1ade63ad0>"
      ]
     },
     "execution_count": 3,
     "metadata": {},
     "output_type": "execute_result"
    }
   ],
   "source": [
    "[fig, ax] = plt.subplots()\n",
    "plt.ylabel('dB')\n",
    "plt.xlabel('DCT Type 2 bins/Subbands')\n",
    "plt.title('Live DCT Type 2 Magnitude Spectrum of Microphone Signal')"
   ]
  },
  {
   "cell_type": "code",
   "execution_count": 4,
   "metadata": {
    "collapsed": true
   },
   "outputs": [],
   "source": [
    "x = np.arange(0, dctlen)        # x-array"
   ]
  },
  {
   "cell_type": "markdown",
   "metadata": {},
   "source": [
    "* Set scale on y-axis and generate line object with it:"
   ]
  },
  {
   "cell_type": "code",
   "execution_count": 5,
   "metadata": {
    "collapsed": true
   },
   "outputs": [],
   "source": [
    "[line, ]= ax.plot(x, 100.0**np.sin(x))"
   ]
  },
  {
   "cell_type": "markdown",
   "metadata": {},
   "source": [
    "* FUnction to produce the animation."
   ]
  },
  {
   "cell_type": "code",
   "execution_count": 6,
   "metadata": {
    "collapsed": true
   },
   "outputs": [],
   "source": [
    "def animate(i):\n",
    "    # update the data\n",
    "    #Reading from audio input stream into data with block length \"CHUNK\":\n",
    "    data = stream.read(CHUNK)\n",
    "    #Convert from stream of bytes to a list of short integers (2 bytes here) in \"samples\":\n",
    "    #shorts = (struct.unpack( \"128h\", data ))\n",
    "    shorts = (struct.unpack( 'h' * CHUNK, data ));\n",
    "    samples=np.array(list(shorts),dtype=float);\n",
    "\n",
    "    #plt.plot(samples)  #<-- here goes the signal processing.\n",
    "    line.set_ydata(20.0*np.log10((np.abs(scipy.fftpack.dct(samples[0:dctlen])/np.sqrt(dctlen))+1)))\n",
    "    #line.set_ydata(samples)\n",
    "    return line,"
   ]
  },
  {
   "cell_type": "markdown",
   "metadata": {},
   "source": [
    "* Initialization function."
   ]
  },
  {
   "cell_type": "code",
   "execution_count": 7,
   "metadata": {
    "collapsed": true
   },
   "outputs": [],
   "source": [
    "def init():\n",
    "    line.set_ydata(np.ma.array(x, mask=True))\n",
    "    return line,"
   ]
  },
  {
   "cell_type": "markdown",
   "metadata": {},
   "source": [
    "* Initialise audio port and print out its information."
   ]
  },
  {
   "cell_type": "code",
   "execution_count": 8,
   "metadata": {
    "collapsed": false
   },
   "outputs": [
    {
     "name": "stdout",
     "output_type": "stream",
     "text": [
      "('device count=', 10L)\n",
      "('i = ', 0)\n",
      "2\n",
      "44100.0\n",
      "('i = ', 1)\n",
      "0\n",
      "44100.0\n",
      "('i = ', 2)\n",
      "128\n",
      "48000.0\n",
      "('i = ', 3)\n",
      "0\n",
      "44100.0\n",
      "('i = ', 4)\n",
      "0\n",
      "44100.0\n",
      "('i = ', 5)\n",
      "0\n",
      "44100.0\n",
      "('i = ', 6)\n",
      "0\n",
      "44100.0\n",
      "('i = ', 7)\n",
      "32\n",
      "44100.0\n",
      "('i = ', 8)\n",
      "0\n",
      "48000.0\n",
      "('i = ', 9)\n",
      "32\n",
      "44100.0\n"
     ]
    }
   ],
   "source": [
    "p = pyaudio.PyAudio()\n",
    "\n",
    "a = p.get_device_count()\n",
    "print(\"device count=\",a)\n",
    "\n",
    "for i in range(0, a):\n",
    "    print(\"i = \",i)\n",
    "    b = p.get_device_info_by_index(i)['maxInputChannels']\n",
    "    print(b)\n",
    "    b = p.get_device_info_by_index(i)['defaultSampleRate']\n",
    "    print(b)"
   ]
  },
  {
   "cell_type": "markdown",
   "metadata": {},
   "source": [
    "* Initialise a stream to work with the audio port and set its parameters."
   ]
  },
  {
   "cell_type": "code",
   "execution_count": 9,
   "metadata": {
    "collapsed": false
   },
   "outputs": [
    {
     "name": "stdout",
     "output_type": "stream",
     "text": [
      "* recording\n"
     ]
    },
    {
     "data": {
      "image/png": "[encoded data removed]",
      "text/plain": [
       "<matplotlib.figure.Figure at 0x7fd1cc699310>"
      ]
     },
     "metadata": {},
     "output_type": "display_data"
    }
   ],
   "source": [
    "stream = p.open(format=p.get_format_from_width(WIDTH),\n",
    "                channels=CHANNELS,\n",
    "                rate=RATE,\n",
    "                input=True,\n",
    "                output=True,\n",
    "                #input_device_index=3,\n",
    "                frames_per_buffer=CHUNK)\n",
    "\n",
    "print(\"* recording\")\n",
    "\n",
    "ani = animation.FuncAnimation(fig, animate,  init_func=init, interval=25, blit=True)\n",
    "plt.show()"
   ]
  },
  {
   "cell_type": "markdown",
   "metadata": {},
   "source": [
    "* When everything done, release the capture."
   ]
  },
  {
   "cell_type": "code",
   "execution_count": 10,
   "metadata": {
    "collapsed": false
   },
   "outputs": [
    {
     "name": "stdout",
     "output_type": "stream",
     "text": [
      "* done\n"
     ]
    }
   ],
   "source": [
    "print(\"* done\")\n",
    "\n",
    "#f.close()\n",
    "stream.stop_stream()\n",
    "stream.close()"
   ]
  },
  {
   "cell_type": "markdown",
   "metadata": {},
   "source": [
    "**Note**: To see the live plot run the program by following command:\n",
    "        \n",
    "        python pyrecdctanimation"
   ]
  },
  {
   "cell_type": "markdown",
   "metadata": {},
   "source": [
    "---"
   ]
  },
  {
   "cell_type": "markdown",
   "metadata": {},
   "source": [
    "# Program - videorecdct0idctdisp\n",
    "Program to capture a video from the default camera (0), compute the 2D FFT on the Green component, take the magnitude (phase) and display it live on the screen apply a 2D DCT , low pass filter, and iverse transform.<br/>\n",
    "Gerald Schuller, Nov. 2014"
   ]
  },
  {
   "cell_type": "code",
   "execution_count": null,
   "metadata": {
    "collapsed": true
   },
   "outputs": [],
   "source": [
    "import cv2\n",
    "import numpy as np\n",
    "import scipy.fftpack as sft\n",
    "\n",
    "cap = cv2.VideoCapture(0)"
   ]
  },
  {
   "cell_type": "markdown",
   "metadata": {},
   "source": [
    "* Get size of frame:"
   ]
  },
  {
   "cell_type": "code",
   "execution_count": null,
   "metadata": {
    "collapsed": false
   },
   "outputs": [],
   "source": [
    "[retval, frame] = cap.read()\n",
    "[r,c,d]=frame.shape\n",
    "print(r,c)"
   ]
  },
  {
   "cell_type": "markdown",
   "metadata": {},
   "source": [
    "* Mask to set to zero the 3/4 highest frequencies, only kep the 1/4 lowest frequencies in each direction for the DCT, because of the DCT no longer symmetric about the center:"
   ]
  },
  {
   "cell_type": "code",
   "execution_count": null,
   "metadata": {
    "collapsed": true
   },
   "outputs": [],
   "source": [
    "#For rows:\n",
    "Mr = np.ones((r,1))\n",
    "Mr[(r/4.0):r,0] = np.zeros((3.0/4.0*r))\n",
    "#For columns:\n",
    "Mc = np.ones((1,c))\n",
    "Mc[0,(c/4.0):c] = np.zeros((3.0/4.0*c));\n",
    "#Together:\n",
    "M = np.dot(Mr,Mc)"
   ]
  },
  {
   "cell_type": "code",
   "execution_count": null,
   "metadata": {
    "collapsed": true
   },
   "outputs": [],
   "source": [
    "while(True):\n",
    "    # Capture frame-by-frame\n",
    "    [retval, frame] = cap.read()\n",
    "    cv2.imshow('Original Video, Gruen Komponente',frame[:,:,1])\n",
    "\n",
    "    #compute magnitude of 2D DCT of green component\n",
    "    #with suitable normalization for the display,\n",
    "    #with norm='ortho' for \"energy conservation\" in the subbands and for\n",
    "    #invertibiltity without factor:\n",
    "    X=sft.dct(frame[:,:,1]/255.0,axis=1,norm='ortho')\n",
    "    X=sft.dct(X,axis=0,norm='ortho')\n",
    "    #Set to zero the 7/8 highest spacial frequencies in each direction:\n",
    "    X=X*M\n",
    "    frame=np.abs(X)\n",
    "\n",
    "    # Display the resulting frame\n",
    "    cv2.imshow('2D-DCT mit Null Setzen der hoechsten Ortsfrequenzen',frame)\n",
    "    #Inverse 2D DCT:\n",
    "    X=sft.idct(X,axis=1,norm='ortho')\n",
    "    x=sft.idct(X,axis=0,norm='ortho')\n",
    "    cv2.imshow('Inverse 2D DCT ohne die hoechsten Ortsfrequenzen', x)\n",
    "\n",
    "    #Keep window open until key 'q' is pressed:\n",
    "    if cv2.waitKey(1) & 0xFF == ord('q'):\n",
    "        break"
   ]
  },
  {
   "cell_type": "markdown",
   "metadata": {},
   "source": [
    "* When everything done, release the capture"
   ]
  },
  {
   "cell_type": "code",
   "execution_count": null,
   "metadata": {
    "collapsed": true
   },
   "outputs": [],
   "source": [
    "cap.release()\n",
    "cv2.destroyAllWindows()"
   ]
  },
  {
   "cell_type": "markdown",
   "metadata": {},
   "source": [
    "---"
   ]
  },
  {
   "cell_type": "markdown",
   "metadata": {},
   "source": [
    "# Program - videorecdctblocks0idctdisp\n",
    "Program to capture a video from the default camera (0), compute the 2D DCT on the Green component, take the magnitude (phase) and display it live on the screen, divide the picture into blocks of 8x8 pixels and apply a 2D DCT to each, low pass filter, and inverse transform.<br/>\n",
    "Gerald Schuller, Nov. 2014"
   ]
  },
  {
   "cell_type": "code",
   "execution_count": null,
   "metadata": {
    "collapsed": true
   },
   "outputs": [],
   "source": [
    "import cv2\n",
    "import numpy as np\n",
    "import scipy.fftpack as sft\n",
    "\n",
    "cap = cv2.VideoCapture(0)"
   ]
  },
  {
   "cell_type": "markdown",
   "metadata": {},
   "source": [
    "* Get size of frame:"
   ]
  },
  {
   "cell_type": "code",
   "execution_count": null,
   "metadata": {
    "collapsed": true
   },
   "outputs": [],
   "source": [
    "[retval, frame] = cap.read()\n",
    "[r,c,d]=frame.shape\n",
    "print(r,c)"
   ]
  },
  {
   "cell_type": "markdown",
   "metadata": {},
   "source": [
    "* Mask to set to zero the 3/4 highest frequencies, only kep the 1/4 lowest frequencies in each direction for the 8x8 DCT, because of the DCT no longer symmetric about the center:"
   ]
  },
  {
   "cell_type": "code",
   "execution_count": null,
   "metadata": {
    "collapsed": true
   },
   "outputs": [],
   "source": [
    "#For rows:\n",
    "Mr=np.ones(8) \n",
    "Mr[(8/4.0):r]=np.zeros((3.0/4.0*8))\n",
    "#For columns:\n",
    "Mc=Mr;\n",
    "\n",
    "#Grid of 8x8 blocks:\n",
    "gc=np.zeros((1,c))\n",
    "gc[0,0:c:8]=np.ones(c/8)\n",
    "gr=np.zeros((r,1))\n",
    "gr[0:r:8,0]=np.ones(r/8)\n",
    "grid=np.ones((r,1))*gc+gr*np.ones((1,c))\n",
    "#print(grid[0:9,0:9])"
   ]
  },
  {
   "cell_type": "code",
   "execution_count": null,
   "metadata": {
    "collapsed": true
   },
   "outputs": [],
   "source": [
    "while(True):\n",
    "    # Capture frame-by-frame\n",
    "    [retval, frame] = cap.read()    \n",
    "\n",
    "    cv2.imshow('Original Video, Gruen Komponente',frame[:,:,1]/255.0+grid)\n",
    "    #cv2.imshow('Original Video, Gruen Komponente',frame[:,:,1])\n",
    "\n",
    "    #compute magnitude of 2D DCT of blocks of 8x8 pixels of the green component \n",
    "    #by first reshaping the image to width 8 and applying the 1D DCT all rows, then reshape it back,\n",
    "    #then transpose it, and again reshape it to width 8 and apply the 1D DCT to each row, reshape it back,\n",
    "    #and transpose it back.\n",
    "    #with norm='ortho' for \"energy conservation\" in the subbands and for \n",
    "    #invertibiltity without factor.\n",
    "\n",
    "    #First reshape green frame as frame with rows of width 8, (rows: order= 'C' ), \n",
    "    #and apply DCT to each row of length 8 of all blocks:\n",
    "    frame=np.reshape(frame[:,:,1],(-1,8), order='C')\n",
    "    X=sft.dct(frame/255.0,axis=1,norm='ortho')\n",
    "    #apply row filter to each row by matrix multiplication with Mr as a diagonal matrix from the right:\n",
    "    X=np.dot(X,np.diag(Mr))\n",
    "    #shape it back to original shape:\n",
    "    X=np.reshape(X,(-1,c), order='C')\n",
    "    #Shape frame with columns of hight 8 by using transposition .T:\n",
    "    X=np.reshape(X.T,(-1,8), order='C')\n",
    "    X=sft.dct(X,axis=1,norm='ortho')\n",
    "    #apply column filter to each row by matrix multiplication with Mc as a diagonal matrix from the right:\n",
    "    X=np.dot(X,np.diag(Mc))\n",
    "    #shape it back to original shape:\n",
    "    X=(np.reshape(X,(-1,r), order='C')).T\n",
    "    #Set to zero the 7/8 highest spacial frequencies in each direction:\n",
    "    #X=X*M\n",
    "    frame=np.abs(X)\n",
    "    \n",
    "    # Display the resulting frame\n",
    "    cv2.imshow('2D-DCT mit Null Setzen der hoechsten Ortsfrequenzen je 8x8 Block',frame)\n",
    "    #Inverse 2D DCT,\n",
    "    #Rows:\n",
    "    X=np.reshape(X,(-1,8), order='C')\n",
    "    X=sft.idct(X,axis=1,norm='ortho')\n",
    "    #shape it back to original shape:\n",
    "    X=np.reshape(X,(-1,c), order='C')\n",
    "    #Shape frame with columns of hight 8 (columns: order='F' convention):\n",
    "    X=np.reshape(X.T,(-1,8), order='C')\n",
    "    x=sft.idct(X,axis=1,norm='ortho')\n",
    "    #shape it back to original shape:\n",
    "    x=(np.reshape(x,(-1,r), order='C')).T \n",
    " \n",
    "    cv2.imshow('Inverse 2D DCT ohne die hoechsten Ortsfrequenzen', x)\n",
    "    \n",
    "    #Keep window open until key 'q' is pressed:\n",
    "    if cv2.waitKey(1) & 0xFF == ord('q'):\n",
    "        break"
   ]
  },
  {
   "cell_type": "markdown",
   "metadata": {},
   "source": [
    "* When everything done, release the capture"
   ]
  },
  {
   "cell_type": "code",
   "execution_count": null,
   "metadata": {
    "collapsed": true
   },
   "outputs": [],
   "source": [
    "cap.release()\n",
    "cv2.destroyAllWindows()"
   ]
  },
  {
   "cell_type": "markdown",
   "metadata": {},
   "source": [
    "---"
   ]
  },
  {
   "cell_type": "markdown",
   "metadata": {},
   "source": [
    "# Program - videorecdctdisp\n",
    "Program to capture a video from the default camera (0), compute the 2D DCT Type 2 on the Green component, take the magnitude (phase) and display it live on the screen.<br/>\n",
    "Gerald Schuller, Nov. 2014"
   ]
  },
  {
   "cell_type": "code",
   "execution_count": null,
   "metadata": {
    "collapsed": true
   },
   "outputs": [],
   "source": [
    "import cv2\n",
    "import numpy as np\n",
    "import scipy.fftpack as sft\n",
    "\n",
    "cap = cv2.VideoCapture(0)\n",
    "\n",
    "while(True):\n",
    "    # Capture frame-by-frame\n",
    "    [retval, frame] = cap.read()    \n",
    "    #compute magnitude of 2D DCT of green component \n",
    "    #by applying the DCT first along the rows and the along the columns,\n",
    "    #with suitable normalization for the display:\n",
    "    frame=sft.dct(frame[:,:,1]/255.0,axis=1,norm='ortho')\n",
    "    frame=np.abs(sft.dct(frame,axis=0,norm='ortho'))\n",
    "    #angle/phase:\n",
    "    #frame=(3.14+np.angle(np.fft.fft2(frame[:,:,1]/255.0)))/6.28\n",
    "    # Display the resulting frame\n",
    "    cv2.imshow('Betrag der 2D - DCT Typ 2 des Videos',frame)\n",
    "    #Keep window open until key 'q' is pressed:\n",
    "    if cv2.waitKey(1) & 0xFF == ord('q'):\n",
    "        break"
   ]
  },
  {
   "cell_type": "markdown",
   "metadata": {},
   "source": [
    "* When everything done, release the capture"
   ]
  },
  {
   "cell_type": "code",
   "execution_count": null,
   "metadata": {
    "collapsed": true
   },
   "outputs": [],
   "source": [
    "cap.release()\n",
    "cv2.destroyAllWindows()"
   ]
  }
 ],
 "metadata": {
  "kernelspec": {
   "display_name": "Python 2",
   "language": "python",
   "name": "python2"
  },
  "language_info": {
   "codemirror_mode": {
    "name": "ipython",
    "version": 2
   },
   "file_extension": ".py",
   "mimetype": "text/x-python",
   "name": "python",
   "nbconvert_exporter": "python",
   "pygments_lexer": "ipython2",
   "version": "2.7.12"
  }
 },
 "nbformat": 4,
 "nbformat_minor": 2
}
