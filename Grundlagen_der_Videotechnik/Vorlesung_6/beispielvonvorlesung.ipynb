{
 "cells": [
  {
   "cell_type": "markdown",
   "metadata": {},
   "source": [
    "## Example DCT low-pass filter:\n",
    "In analogy to the FFT, we can implement a low-pass filter in the DCT domain using a suitable mask. Let's make the mask design even easier. We now use vectors consisting of zeros at the beginning, in the passband, and then, in the bounding range, from zeros.\n",
    "In Python"
   ]
  },
  {
   "cell_type": "code",
   "execution_count": 1,
   "metadata": {
    "collapsed": false
   },
   "outputs": [
    {
     "data": {
      "image/png": "[encoded data removed]",
      "text/plain": [
       "<matplotlib.figure.Figure at 0x7ff69cd90910>"
      ]
     },
     "metadata": {},
     "output_type": "display_data"
    }
   ],
   "source": [
    "import numpy as np\n",
    "import matplotlib.pyplot as plt\n",
    "\n",
    "r = 480\n",
    "c = 640\n",
    "\n",
    "# For rows\n",
    "Mr = np.ones((r,1))\n",
    "Mr[(r/4.0):r,0] = np.zeros((3.0/4.0*r))\n",
    "\n",
    "#For columns\n",
    "Mc = np.ones((1,c))\n",
    "Mc[0, (c/4.0):c] = np.zeros((3.0/4.0*c))\n",
    "\n",
    "#Together\n",
    "M = np.dot(Mr, Mc)\n",
    "\n",
    "plt.imshow(M)\n",
    "plt.title(\"Tiefpass Masske fuer die 2D-DCT\")\n",
    "plt.show()"
   ]
  }
 ],
 "metadata": {
  "kernelspec": {
   "display_name": "Python 2",
   "language": "python",
   "name": "python2"
  },
  "language_info": {
   "codemirror_mode": {
    "name": "ipython",
    "version": 2
   },
   "file_extension": ".py",
   "mimetype": "text/x-python",
   "name": "python",
   "nbconvert_exporter": "python",
   "pygments_lexer": "ipython2",
   "version": "2.7.12"
  }
 },
 "nbformat": 4,
 "nbformat_minor": 2
}
