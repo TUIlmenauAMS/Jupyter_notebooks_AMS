{
 "cells": [
  {
   "cell_type": "markdown",
   "metadata": {
    "deletable": true,
    "editable": true
   },
   "source": [
    "# Program - AMdecoderbitstring\n",
    "Decodes an AM modulated signal from a sound file, with name in the argument\n",
    "E.g.,: python AMdecoderbitstring.py amfile.wav\n",
    "\n",
    "    - Gerald Schuller, Januar 2015"
   ]
  },
  {
   "cell_type": "markdown",
   "metadata": {
    "deletable": true,
    "editable": true
   },
   "source": [
    "* **Import the relevant modules:**"
   ]
  },
  {
   "cell_type": "code",
   "execution_count": 1,
   "metadata": {
    "collapsed": true,
    "deletable": true,
    "editable": true
   },
   "outputs": [],
   "source": [
    "import sound\n",
    "import scipy\n",
    "import scipy.signal\n",
    "import numpy as np\n",
    "import matplotlib.pyplot as plt\n",
    "import sys\n",
    "import cv2"
   ]
  },
  {
   "cell_type": "code",
   "execution_count": 2,
   "metadata": {
    "collapsed": false,
    "deletable": true,
    "editable": true
   },
   "outputs": [
    {
     "name": "stdout",
     "output_type": "stream",
     "text": [
      "('filename=', '-f')\n"
     ]
    }
   ],
   "source": [
    "CHUNK = 1024\n",
    "\n",
    "print(\"filename=\", sys.argv[1])\n",
    "sndfile = sys.argv[1]"
   ]
  },
  {
   "cell_type": "markdown",
   "metadata": {
    "deletable": true,
    "editable": true
   },
   "source": [
    "* **Read in sound file:**"
   ]
  },
  {
   "cell_type": "code",
   "execution_count": 3,
   "metadata": {
    "collapsed": false,
    "deletable": true,
    "editable": true
   },
   "outputs": [
    {
     "name": "stdout",
     "output_type": "stream",
     "text": [
      "('Number of channels: ', 1)\n",
      "('Number of bytes per sample:', 2)\n",
      "('Sampling rate: ', 16000)\n",
      "('Number of samples:', 156800)\n"
     ]
    }
   ],
   "source": [
    "[AM, FS] = sound.wavread(sndfile)"
   ]
  },
  {
   "cell_type": "markdown",
   "metadata": {
    "deletable": true,
    "editable": true
   },
   "source": [
    "* **Length of the sound:**"
   ]
  },
  {
   "cell_type": "code",
   "execution_count": 4,
   "metadata": {
    "collapsed": false,
    "deletable": true,
    "editable": true
   },
   "outputs": [],
   "source": [
    "lenAM = scipy.size(AM)"
   ]
  },
  {
   "cell_type": "markdown",
   "metadata": {
    "deletable": true,
    "editable": true
   },
   "source": [
    "* **Compute the low pass filter coefficients, with 10 Hz cutoff frequency:**"
   ]
  },
  {
   "cell_type": "code",
   "execution_count": 5,
   "metadata": {
    "collapsed": true,
    "deletable": true,
    "editable": true
   },
   "outputs": [],
   "source": [
    "[b,a]=scipy.signal.iirfilter(2, 20.0/(FS/2),rp=60,btype='lowpass')\n",
    "[w,H]=scipy.signal.freqz(b,a)\n",
    "Ha=scipy.absolute(H)"
   ]
  },
  {
   "cell_type": "markdown",
   "metadata": {
    "deletable": true,
    "editable": true
   },
   "source": [
    "* **Plot in dB on normalized frequency axis w:**"
   ]
  },
  {
   "cell_type": "code",
   "execution_count": 6,
   "metadata": {
    "collapsed": false,
    "deletable": true,
    "editable": true
   },
   "outputs": [
    {
     "data": {
      "image/png": "[encoded data removed]",
      "text/plain": [
       "<matplotlib.figure.Figure at 0x7f9867b78710>"
      ]
     },
     "metadata": {},
     "output_type": "display_data"
    },
    {
     "data": {
      "image/png": "[encoded data removed]",
      "text/plain": [
       "<matplotlib.figure.Figure at 0x7f98675dd550>"
      ]
     },
     "metadata": {},
     "output_type": "display_data"
    }
   ],
   "source": [
    "fig=plt.figure()\n",
    "#plt.plot(w,Ha)\n",
    "plt.plot(w,20*np.log10(Ha))\n",
    "plt.title('The frequence response of the low pass filter')\n",
    "plt.xlabel('Normalized frequency (pi=Nyquist freq.)') \n",
    "plt.ylabel('Magnitude response (dB)')\n",
    "plt.axis([0,3.15,-80, 5])\n",
    "\n",
    "fig=plt.figure()\n",
    "fig.canvas.set_window_title('Das AM Signal mit Clock- und Bit-Signal')\n",
    "plt.plot(AM)\n",
    "plt.xlabel('Sample')\n",
    "plt.ylabel('Value')\n",
    "plt.show()"
   ]
  },
  {
   "cell_type": "markdown",
   "metadata": {
    "deletable": true,
    "editable": true
   },
   "source": [
    "* **Compute average power to remove silence:**"
   ]
  },
  {
   "cell_type": "code",
   "execution_count": 7,
   "metadata": {
    "collapsed": false,
    "deletable": true,
    "editable": true
   },
   "outputs": [
    {
     "name": "stdout",
     "output_type": "stream",
     "text": [
      "Filter the bit component:\n"
     ]
    }
   ],
   "source": [
    "p=scipy.signal.lfilter(b, a, scipy.power(AM,2))\n",
    "print(\"Filter the bit component:\")"
   ]
  },
  {
   "cell_type": "markdown",
   "metadata": {
    "deletable": true,
    "editable": true
   },
   "source": [
    "* **Get the bit frequency component at 1 kHz by down mixing:sinus Traeger:**"
   ]
  },
  {
   "cell_type": "code",
   "execution_count": 8,
   "metadata": {
    "collapsed": true,
    "deletable": true,
    "editable": true
   },
   "outputs": [],
   "source": [
    "traegersin = scipy.sin(2*scipy.pi/FS*1000*scipy.arange(0,lenAM))\n",
    "downmixAMbits_sin=(traegersin*AM)"
   ]
  },
  {
   "cell_type": "markdown",
   "metadata": {
    "deletable": true,
    "editable": true
   },
   "source": [
    "* **De-modulate by low pass filtering and taking abs value (bit and clock are always positive)**"
   ]
  },
  {
   "cell_type": "code",
   "execution_count": 9,
   "metadata": {
    "collapsed": true,
    "deletable": true,
    "editable": true
   },
   "outputs": [],
   "source": [
    "decAMbits_sin = scipy.signal.lfilter(b, a, downmixAMbits_sin)"
   ]
  },
  {
   "cell_type": "markdown",
   "metadata": {
    "deletable": true,
    "editable": true
   },
   "source": [
    "* **Cosinus Traeger:**"
   ]
  },
  {
   "cell_type": "code",
   "execution_count": 10,
   "metadata": {
    "collapsed": true,
    "deletable": true,
    "editable": true
   },
   "outputs": [],
   "source": [
    "traegercos = scipy.cos(2 * scipy.pi / FS * 1000 * scipy.arange(0, lenAM))\n",
    "downmixAMbits_cos = (traegercos * AM)"
   ]
  },
  {
   "cell_type": "markdown",
   "metadata": {
    "deletable": true,
    "editable": true
   },
   "source": [
    "* **De-modulate by low pass filtering and taking abs value (bit and clock are always positive):**"
   ]
  },
  {
   "cell_type": "code",
   "execution_count": 11,
   "metadata": {
    "collapsed": true,
    "deletable": true,
    "editable": true
   },
   "outputs": [],
   "source": [
    "decAMbits_cos=scipy.signal.lfilter(b, a, downmixAMbits_cos)"
   ]
  },
  {
   "cell_type": "markdown",
   "metadata": {
    "deletable": true,
    "editable": true
   },
   "source": [
    "* **Berechne betrag der komplexen Demodulation:**"
   ]
  },
  {
   "cell_type": "code",
   "execution_count": 12,
   "metadata": {
    "collapsed": true,
    "deletable": true,
    "editable": true
   },
   "outputs": [],
   "source": [
    "decAMbits = np.sqrt(decAMbits_sin ** 2 + decAMbits_cos ** 2)"
   ]
  },
  {
   "cell_type": "code",
   "execution_count": 13,
   "metadata": {
    "collapsed": false,
    "deletable": true,
    "editable": true
   },
   "outputs": [
    {
     "data": {
      "text/plain": [
       "<matplotlib.text.Text at 0x7f98672e2590>"
      ]
     },
     "execution_count": 13,
     "metadata": {},
     "output_type": "execute_result"
    }
   ],
   "source": [
    "fig=plt.figure()\n",
    "fig.canvas.set_window_title('Das demodulierte Bit Signal')\n",
    "plt.plot(decAMbits)\n",
    "plt.xlabel('Sample')\n",
    "plt.ylabel('Value')"
   ]
  },
  {
   "cell_type": "markdown",
   "metadata": {
    "deletable": true,
    "editable": true
   },
   "source": [
    "* **Get the clock frequency component at 2 kHz:**"
   ]
  },
  {
   "cell_type": "code",
   "execution_count": 14,
   "metadata": {
    "collapsed": true,
    "deletable": true,
    "editable": true
   },
   "outputs": [],
   "source": [
    "traegersin = scipy.sin(2 * scipy.pi / FS * 2000 * scipy.arange(0,lenAM))"
   ]
  },
  {
   "cell_type": "markdown",
   "metadata": {
    "deletable": true,
    "editable": true
   },
   "source": [
    "* **Down mix, magnitude:(for sin)**"
   ]
  },
  {
   "cell_type": "code",
   "execution_count": 15,
   "metadata": {
    "collapsed": false,
    "deletable": true,
    "editable": true
   },
   "outputs": [
    {
     "name": "stdout",
     "output_type": "stream",
     "text": [
      "filter the clock component\n"
     ]
    }
   ],
   "source": [
    "downmixAMclock_sin = (traegersin * AM)\n",
    "print(\"filter the clock component\")"
   ]
  },
  {
   "cell_type": "markdown",
   "metadata": {
    "deletable": true,
    "editable": true
   },
   "source": [
    "* **De-modulate by low pass filtering:(for sin)**"
   ]
  },
  {
   "cell_type": "code",
   "execution_count": 16,
   "metadata": {
    "collapsed": true,
    "deletable": true,
    "editable": true
   },
   "outputs": [],
   "source": [
    "decAMclock_sin = scipy.signal.lfilter(b, a, downmixAMclock_sin)\n",
    "traegercos = scipy.cos(2 * scipy.pi / FS * 2000 * scipy.arange(0,lenAM))"
   ]
  },
  {
   "cell_type": "markdown",
   "metadata": {
    "deletable": true,
    "editable": true
   },
   "source": [
    "* **Down mix, magnitude:(for cos)**"
   ]
  },
  {
   "cell_type": "code",
   "execution_count": 17,
   "metadata": {
    "collapsed": true,
    "deletable": true,
    "editable": true
   },
   "outputs": [],
   "source": [
    "downmixAMclock_cos = (traegercos * AM)"
   ]
  },
  {
   "cell_type": "markdown",
   "metadata": {
    "deletable": true,
    "editable": true
   },
   "source": [
    "* **De-modulate by low pass filtering:(for cos)**"
   ]
  },
  {
   "cell_type": "code",
   "execution_count": 18,
   "metadata": {
    "collapsed": true,
    "deletable": true,
    "editable": true
   },
   "outputs": [],
   "source": [
    "decAMclock_cos=scipy.signal.lfilter(b, a, downmixAMclock_cos);"
   ]
  },
  {
   "cell_type": "markdown",
   "metadata": {
    "deletable": true,
    "editable": true
   },
   "source": [
    "* **Taking complec magnitude:**"
   ]
  },
  {
   "cell_type": "code",
   "execution_count": 19,
   "metadata": {
    "collapsed": true,
    "deletable": true,
    "editable": true
   },
   "outputs": [],
   "source": [
    "decAMclock=np.sqrt(decAMclock_sin**2+decAMclock_cos**2)"
   ]
  },
  {
   "cell_type": "code",
   "execution_count": 20,
   "metadata": {
    "collapsed": false,
    "deletable": true,
    "editable": true
   },
   "outputs": [
    {
     "data": {
      "image/png": "[encoded data removed]",
      "text/plain": [
       "<matplotlib.figure.Figure at 0x7f9867b70e10>"
      ]
     },
     "metadata": {},
     "output_type": "display_data"
    },
    {
     "data": {
      "image/png": "[encoded data removed]",
      "text/plain": [
       "<matplotlib.figure.Figure at 0x7f9867216950>"
      ]
     },
     "metadata": {},
     "output_type": "display_data"
    }
   ],
   "source": [
    "fig=plt.figure()\n",
    "fig.canvas.set_window_title('Das demodulierte Clock Signal')\n",
    "plt.plot(decAMclock)\n",
    "plt.xlabel('Sample')\n",
    "plt.ylabel('Value')\n",
    "plt.show()"
   ]
  },
  {
   "cell_type": "markdown",
   "metadata": {
    "deletable": true,
    "editable": true
   },
   "source": [
    "* **Schwelle zwischen 0 und 1 fuer die clock:**"
   ]
  },
  {
   "cell_type": "code",
   "execution_count": 21,
   "metadata": {
    "collapsed": true,
    "deletable": true,
    "editable": true
   },
   "outputs": [],
   "source": [
    "schwellec = max(decAMclock)/2.0"
   ]
  },
  {
   "cell_type": "markdown",
   "metadata": {
    "deletable": true,
    "editable": true
   },
   "source": [
    "* **Shwelle zwische 0 und 1 fuer die bits:**"
   ]
  },
  {
   "cell_type": "code",
   "execution_count": 22,
   "metadata": {
    "collapsed": false,
    "deletable": true,
    "editable": true
   },
   "outputs": [
    {
     "name": "stdout",
     "output_type": "stream",
     "text": [
      "('schwelle=', 2609.0060085009095)\n"
     ]
    }
   ],
   "source": [
    "schwelle = max(decAMbits)/2.0;\n",
    "print(\"schwelle=\", schwelle)"
   ]
  },
  {
   "cell_type": "markdown",
   "metadata": {
    "deletable": true,
    "editable": true
   },
   "source": [
    "* **Laenge des empfangenen geglaetteten Signals:**"
   ]
  },
  {
   "cell_type": "code",
   "execution_count": 23,
   "metadata": {
    "collapsed": true,
    "deletable": true,
    "editable": true
   },
   "outputs": [],
   "source": [
    "laenge=max(decAMbits.shape)"
   ]
  },
  {
   "cell_type": "code",
   "execution_count": 24,
   "metadata": {
    "collapsed": false,
    "deletable": true,
    "editable": true
   },
   "outputs": [
    {
     "data": {
      "image/png": "[encoded data removed]",
      "text/plain": [
       "<matplotlib.figure.Figure at 0x7f9864913f10>"
      ]
     },
     "metadata": {},
     "output_type": "display_data"
    }
   ],
   "source": [
    "fig=plt.figure()\n",
    "plt.plot((decAMbits>schwelle)*1.1-0.01,'r')\n",
    "#fig=plt.figure()\n",
    "plt.plot((decAMclock> schwellec),'b')\n",
    "#plt.axis([0,10000 , -0.1, 1.1])\n",
    "plt.title('Bits und Clock nach Schwellen-Operator')\n",
    "plt.legend(('Bit-Signal nach Schwelle', 'Clock-Signal nach Schwelle'))\n",
    "plt.xlabel('Sample')\n",
    "plt.ylabel('Value')\n",
    "plt.show()"
   ]
  },
  {
   "cell_type": "markdown",
   "metadata": {
    "deletable": true,
    "editable": true
   },
   "source": [
    "* **Decodieren der Bits:**"
   ]
  },
  {
   "cell_type": "code",
   "execution_count": 25,
   "metadata": {
    "collapsed": false,
    "deletable": true,
    "editable": true
   },
   "outputs": [
    {
     "name": "stdout",
     "output_type": "stream",
     "text": [
      "Decodieren der Bits:\n"
     ]
    }
   ],
   "source": [
    "print(\"Decodieren der Bits:\")"
   ]
  },
  {
   "cell_type": "markdown",
   "metadata": {
    "deletable": true,
    "editable": true
   },
   "source": [
    "* **Abtast-Intervall fuer geglaetetes Signal:**"
   ]
  },
  {
   "cell_type": "code",
   "execution_count": 26,
   "metadata": {
    "collapsed": true,
    "deletable": true,
    "editable": true
   },
   "outputs": [],
   "source": [
    "interv = 40"
   ]
  },
  {
   "cell_type": "markdown",
   "metadata": {
    "deletable": true,
    "editable": true
   },
   "source": [
    "* **Bitcounter:**"
   ]
  },
  {
   "cell_type": "code",
   "execution_count": 27,
   "metadata": {
    "collapsed": true,
    "deletable": true,
    "editable": true
   },
   "outputs": [],
   "source": [
    "m = 0 "
   ]
  },
  {
   "cell_type": "markdown",
   "metadata": {
    "deletable": true,
    "editable": true
   },
   "source": [
    "* **Bit-array:**"
   ]
  },
  {
   "cell_type": "code",
   "execution_count": 28,
   "metadata": {
    "collapsed": false,
    "deletable": true,
    "editable": true
   },
   "outputs": [
    {
     "name": "stdout",
     "output_type": "stream",
     "text": [
      "('clock detected at sample:', 17000)\n",
      "Bit detected: 0\n",
      "('clock detected at sample:', 18600)\n",
      "Bit detected: 1\n",
      "('clock detected at sample:', 20200)\n",
      "Bit detected: 0\n",
      "('clock detected at sample:', 21800)\n",
      "Bit detected: 1\n",
      "('clock detected at sample:', 23400)\n",
      "Bit detected: 0\n",
      "('clock detected at sample:', 25000)\n",
      "Bit detected: 1\n",
      "('clock detected at sample:', 26600)\n",
      "Bit detected: 0\n",
      "('clock detected at sample:', 28200)\n",
      "Bit detected: 0\n",
      "('clock detected at sample:', 29800)\n",
      "Bit detected: 0\n",
      "('clock detected at sample:', 31400)\n",
      "Bit detected: 1\n",
      "('clock detected at sample:', 33000)\n",
      "Bit detected: 0\n",
      "('clock detected at sample:', 34600)\n",
      "Bit detected: 1\n",
      "('clock detected at sample:', 36200)\n",
      "Bit detected: 0\n",
      "('clock detected at sample:', 37800)\n",
      "Bit detected: 1\n",
      "('clock detected at sample:', 39400)\n",
      "Bit detected: 0\n",
      "('clock detected at sample:', 41000)\n",
      "Bit detected: 1\n",
      "('clock detected at sample:', 42600)\n",
      "Bit detected: 0\n",
      "('clock detected at sample:', 44200)\n",
      "Bit detected: 0\n",
      "('clock detected at sample:', 45800)\n",
      "Bit detected: 1\n",
      "('clock detected at sample:', 47400)\n",
      "Bit detected: 0\n",
      "('clock detected at sample:', 49000)\n",
      "Bit detected: 1\n",
      "('clock detected at sample:', 50600)\n",
      "Bit detected: 1\n",
      "('clock detected at sample:', 52200)\n",
      "Bit detected: 0\n",
      "('clock detected at sample:', 53800)\n",
      "Bit detected: 1\n",
      "('clock detected at sample:', 55400)\n",
      "Bit detected: 0\n",
      "('clock detected at sample:', 57000)\n",
      "Bit detected: 1\n",
      "('clock detected at sample:', 58600)\n",
      "Bit detected: 0\n",
      "('clock detected at sample:', 60200)\n",
      "Bit detected: 0\n",
      "('clock detected at sample:', 61800)\n",
      "Bit detected: 1\n",
      "('clock detected at sample:', 63400)\n",
      "Bit detected: 0\n",
      "('clock detected at sample:', 65000)\n",
      "Bit detected: 0\n",
      "('clock detected at sample:', 66600)\n",
      "Bit detected: 1\n",
      "('clock detected at sample:', 68200)\n",
      "Bit detected: 0\n",
      "('clock detected at sample:', 69800)\n",
      "Bit detected: 1\n",
      "('clock detected at sample:', 71400)\n",
      "Bit detected: 1\n",
      "('clock detected at sample:', 73000)\n",
      "Bit detected: 0\n",
      "('clock detected at sample:', 74600)\n",
      "Bit detected: 1\n",
      "('clock detected at sample:', 76200)\n",
      "Bit detected: 1\n",
      "('clock detected at sample:', 77800)\n",
      "Bit detected: 0\n",
      "('clock detected at sample:', 79400)\n",
      "Bit detected: 0\n",
      "('clock detected at sample:', 81000)\n",
      "Bit detected: 0\n",
      "('clock detected at sample:', 82600)\n",
      "Bit detected: 1\n",
      "('clock detected at sample:', 84200)\n",
      "Bit detected: 1\n",
      "('clock detected at sample:', 85800)\n",
      "Bit detected: 0\n",
      "('clock detected at sample:', 87400)\n",
      "Bit detected: 1\n",
      "('clock detected at sample:', 89000)\n",
      "Bit detected: 1\n",
      "('clock detected at sample:', 90600)\n",
      "Bit detected: 0\n",
      "('clock detected at sample:', 92200)\n",
      "Bit detected: 1\n",
      "('clock detected at sample:', 93800)\n",
      "Bit detected: 0\n",
      "('clock detected at sample:', 95400)\n",
      "Bit detected: 1\n",
      "('clock detected at sample:', 97000)\n",
      "Bit detected: 1\n",
      "('clock detected at sample:', 98600)\n",
      "Bit detected: 0\n",
      "('clock detected at sample:', 100200)\n",
      "Bit detected: 0\n",
      "('clock detected at sample:', 101800)\n",
      "Bit detected: 1\n",
      "('clock detected at sample:', 103400)\n",
      "Bit detected: 0\n",
      "('clock detected at sample:', 105000)\n",
      "Bit detected: 1\n",
      "('clock detected at sample:', 106600)\n",
      "Bit detected: 0\n",
      "('clock detected at sample:', 108200)\n",
      "Bit detected: 1\n",
      "('clock detected at sample:', 109800)\n",
      "Bit detected: 1\n",
      "('clock detected at sample:', 111400)\n",
      "Bit detected: 0\n",
      "('clock detected at sample:', 113000)\n",
      "Bit detected: 1\n",
      "('clock detected at sample:', 114600)\n",
      "Bit detected: 1\n",
      "('clock detected at sample:', 116200)\n",
      "Bit detected: 1\n",
      "('clock detected at sample:', 117800)\n",
      "Bit detected: 0\n",
      "('clock detected at sample:', 119400)\n",
      "Bit detected: 0\n",
      "('clock detected at sample:', 121000)\n",
      "Bit detected: 1\n",
      "('clock detected at sample:', 122600)\n",
      "Bit detected: 1\n",
      "('clock detected at sample:', 124200)\n",
      "Bit detected: 0\n",
      "('clock detected at sample:', 125800)\n",
      "Bit detected: 0\n",
      "('clock detected at sample:', 127400)\n",
      "Bit detected: 0\n",
      "('clock detected at sample:', 129000)\n",
      "Bit detected: 0\n",
      "('clock detected at sample:', 130600)\n",
      "Bit detected: 1\n",
      "('clock detected at sample:', 132200)\n",
      "Bit detected: 0\n",
      "('clock detected at sample:', 133800)\n",
      "Bit detected: 1\n",
      "('clock detected at sample:', 135400)\n",
      "Bit detected: 1\n",
      "('clock detected at sample:', 137000)\n",
      "Bit detected: 1\n",
      "('clock detected at sample:', 138600)\n",
      "Bit detected: 0\n",
      "('clock detected at sample:', 140200)\n",
      "Bit detected: 1\n",
      "('clock detected at sample:', 141800)\n",
      "Bit detected: 0\n",
      "('clock detected at sample:', 143400)\n",
      "Bit detected: 1\n",
      "('clock detected at sample:', 145000)\n",
      "Bit detected: 0\n",
      "('clock detected at sample:', 146600)\n",
      "Bit detected: 0\n",
      "('clock detected at sample:', 148200)\n",
      "Bit detected: 0\n",
      "('clock detected at sample:', 149800)\n",
      "Bit detected: 0\n",
      "('clock detected at sample:', 151400)\n",
      "Bit detected: 1\n",
      "('clock detected at sample:', 153000)\n",
      "Bit detected: 0\n",
      "('clock detected at sample:', 154600)\n",
      "Bit detected: 1\n",
      "('clock detected at sample:', 156200)\n",
      "Bit detected: 0\n",
      "writereadbits.py\n",
      "decoded bitstring=  0101010001010101001011010100100101101100011011010110010101101110011000010111010100001010\n",
      "write to binary file\n"
     ]
    }
   ],
   "source": [
    "bitstring=''\n",
    "for n in range(interv,laenge,interv):\n",
    "    #bei ueberschreiten der Schwelle des clock signales lese Bt aus:\n",
    "    if ((decAMclock[n-interv] > schwellec) and  (decAMclock[n]< schwellec) ):\n",
    "        #Auslesen des bits:\n",
    "        print(\"clock detected at sample:\",n)\n",
    "        if (decAMbits[n] > schwelle):\n",
    "            print(\"Bit detected: 1\")\n",
    "            bitstring=bitstring+ '1'\n",
    "        else:\n",
    "            print(\"Bit detected: 0\")\n",
    "            bitstring=bitstring+ '0'\n",
    "        m = m+1\n",
    "\n",
    "from writereadbits import writebinaryfile\n",
    "\n",
    "print \"decoded bitstring= \", bitstring\n",
    "print \"write to binary file\"\n",
    "writebinaryfile('AMdecoded.bin', bitstring)"
   ]
  }
 ],
 "metadata": {
  "kernelspec": {
   "display_name": "Python 2",
   "language": "python",
   "name": "python2"
  },
  "language_info": {
   "codemirror_mode": {
    "name": "ipython",
    "version": 2
   },
   "file_extension": ".py",
   "mimetype": "text/x-python",
   "name": "python",
   "nbconvert_exporter": "python",
   "pygments_lexer": "ipython2",
   "version": "2.7.12"
  }
 },
 "nbformat": 4,
 "nbformat_minor": 2
}
