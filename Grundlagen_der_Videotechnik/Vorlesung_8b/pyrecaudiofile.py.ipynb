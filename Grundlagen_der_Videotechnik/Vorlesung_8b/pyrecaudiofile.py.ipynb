{
 "cells": [
  {
   "cell_type": "markdown",
   "metadata": {},
   "source": [
    "# Program - Pyrecaudiofile\n",
    "Using Pyaudio, record sound from the audio device and store it into a file with the name in the argument, for a few seconds.\n",
    "Usage example: python pyrecaudiofile.py test.wav\n",
    "see also: https://people.csail.mit.edu/hubert/pyaudio/docs/\n",
    "\n",
    "    - Gerald Schuller, Dec. 2015\n",
    "* **Import relevant modules and define the variables**"
   ]
  },
  {
   "cell_type": "code",
   "execution_count": 1,
   "metadata": {
    "collapsed": true
   },
   "outputs": [],
   "source": [
    "import pyaudio\n",
    "import struct\n",
    "import math\n",
    "#import array\n",
    "import numpy\n",
    "import scipy\n",
    "import sys\n",
    "import wave\n",
    "\n",
    "CHUNK = 1024 #Blocksize\n",
    "WIDTH = 2 #2 bytes per sample\n",
    "CHANNELS = 1 #2\n",
    "RATE = 16000  #Sampling Rate in Hz\n",
    "RECORD_SECONDS = 12"
   ]
  },
  {
   "cell_type": "markdown",
   "metadata": {},
   "source": [
    "* **Initialise audio port with its parameters and print out their channel and sampling rate information:**"
   ]
  },
  {
   "cell_type": "code",
   "execution_count": null,
   "metadata": {
    "collapsed": true
   },
   "outputs": [],
   "source": [
    "for i in range(0, a):\n",
    "    print(\"i = \",i)\n",
    "    b = p.get_device_info_by_index(i)['maxInputChannels']\n",
    "    print(b)\n",
    "    b = p.get_device_info_by_index(i)['defaultSampleRate']\n",
    "    print(b)\n",
    "\n",
    "stream = p.open(format=p.get_format_from_width(WIDTH),\n",
    "                channels=CHANNELS,\n",
    "                rate=RATE,\n",
    "                input=True,\n",
    "                output=True,\n",
    "                #input_device_index=3,\n",
    "                frames_per_buffer=CHUNK)"
   ]
  },
  {
   "cell_type": "markdown",
   "metadata": {},
   "source": [
    "* **Provide filename for file to be recorded, through command line argument:**"
   ]
  },
  {
   "cell_type": "code",
   "execution_count": null,
   "metadata": {
    "collapsed": true
   },
   "outputs": [],
   "source": [
    "print(\"filename=\", sys.argv[1])\n",
    "sndfile=sys.argv[1]\n",
    "wf = wave.open(sndfile, 'wb')                \n",
    "wf.setnchannels(CHANNELS)\n",
    "wf.setsampwidth(WIDTH)\n",
    "wf.setframerate(RATE)"
   ]
  },
  {
   "cell_type": "markdown",
   "metadata": {},
   "source": [
    "* **Start recording by looping through blocks(CHUNKS) and write the data to the given file:**"
   ]
  },
  {
   "cell_type": "code",
   "execution_count": null,
   "metadata": {
    "collapsed": true
   },
   "outputs": [],
   "source": [
    "for i in range(0, int(RATE / CHUNK * RECORD_SECONDS)):\n",
    "    #Reading from audio input stream into data with block length \"CHUNK\":\n",
    "    data = stream.read(CHUNK)\n",
    "\n",
    "    #Writing data to audio output file: \n",
    "    wf.writeframes(data)\n",
    "\n",
    "print(\"* done\")\n",
    "\n",
    "wf.close()\n",
    "stream.stop_stream()\n",
    "stream.close()\n",
    "\n",
    "p.terminate()"
   ]
  }
 ],
 "metadata": {
  "kernelspec": {
   "display_name": "Python 2",
   "language": "python",
   "name": "python2"
  },
  "language_info": {
   "codemirror_mode": {
    "name": "ipython",
    "version": 2
   },
   "file_extension": ".py",
   "mimetype": "text/x-python",
   "name": "python",
   "nbconvert_exporter": "python",
   "pygments_lexer": "ipython2",
   "version": "2.7.12"
  }
 },
 "nbformat": 4,
 "nbformat_minor": 2
}
