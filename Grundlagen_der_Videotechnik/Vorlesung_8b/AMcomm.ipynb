{
 "cells": [
  {
   "cell_type": "markdown",
   "metadata": {},
   "source": [
    "# Program - AMcomm\n",
    "Module for AM data communications with one frequenency channel for clock call with: python AMcomm.py\n",
    "    \n",
    "    -Gerald Schuller, August 2014"
   ]
  },
  {
   "cell_type": "markdown",
   "metadata": {},
   "source": [
    "* **Import relevant modules.**"
   ]
  },
  {
   "cell_type": "code",
   "execution_count": 1,
   "metadata": {
    "collapsed": false
   },
   "outputs": [
    {
     "name": "stdout",
     "output_type": "stream",
     "text": [
      "writereadbits.py\n"
     ]
    }
   ],
   "source": [
    "from numpy import *\n",
    "import pyaudio\n",
    "#Importiere meine Sound Library:\n",
    "import sound\n",
    "import matplotlib.pyplot as plt\n",
    "from writereadbits import *"
   ]
  },
  {
   "cell_type": "markdown",
   "metadata": {},
   "source": [
    "* **Define the variables:**"
   ]
  },
  {
   "cell_type": "code",
   "execution_count": 2,
   "metadata": {
    "collapsed": true
   },
   "outputs": [],
   "source": [
    "bitduration=0.1\n",
    "FS = 16000.0\n",
    "soundoutput = []"
   ]
  },
  {
   "cell_type": "markdown",
   "metadata": {},
   "source": [
    "* **Function that modulates a 1 bit:**"
   ]
  },
  {
   "cell_type": "code",
   "execution_count": 3,
   "metadata": {
    "collapsed": true
   },
   "outputs": [],
   "source": [
    "def one():\n",
    "    global soundoutput\n",
    "    #x (Zeit-Achse) Wert mit 32000 Werten pro Sekunde, also fuer 0.1 \n",
    "    #Sekunde Ton:\n",
    "    x=arange(0,bitduration,1.0/FS)\n",
    "\n",
    "    #frequenz: 1000 Hertz (Schwingungen pro Sekunde): Berechnung einer Sinus-Funktion\n",
    "    # mit 1000 Perioden ueber 32000 x-Werten, als\n",
    "    #Amplitudenwerte fuer den Lautsprecher fuer diese Frequenz und fuer\n",
    "    #eine Abtastrate von 32000 Amplitudenwerten pro Sekunde. Fuer eine andere Frequenz muss dieser Wert \n",
    "    #veraendert werden, z.B. auf 10000 fuer 10000 Hertz:\n",
    "    si=sin(pi*2*x*1000);\n",
    "\n",
    "    #Clock frequenz 2000 Hz mit halber Laenge:\n",
    "    x=arange(0,bitduration/2,1.0/FS);\n",
    "\n",
    "    sic=sin(pi*2*x*2000);\n",
    "    \n",
    "    #append zeros of half bit duration:\n",
    "    clocksig=append(sic,zeros(bitduration*0.5*FS));\n",
    "    \n",
    "    #combine the \"1\" and the clocksignal:\n",
    "    #print(si.shape)\n",
    "    #print(clocksig.shape)\n",
    "    combined=(si+clocksig);\n",
    "    #plt.plot(combined)\n",
    "    #plt.show()\n",
    "    #Die 20000 ist die Amplitude (Lautstaerke). Maximum ist 32000. Die 32000 ist die\n",
    "    # Abtastrate, wievele\n",
    "    #Amplitudenwerte pro sekunde and den Lautspecher gegeben werden:\n",
    "    #sound.sound(combined*10000,32000)\n",
    "    \n",
    "    soundoutput=concatenate((soundoutput,combined*10000))"
   ]
  },
  {
   "cell_type": "markdown",
   "metadata": {},
   "source": [
    "* **Function that modulates a 0 bit:**"
   ]
  },
  {
   "cell_type": "code",
   "execution_count": 4,
   "metadata": {
    "collapsed": true
   },
   "outputs": [],
   "source": [
    "def zero():\n",
    "    \"This function modulates a 0 bit\"\n",
    "    global soundoutput\n",
    "    \n",
    "    #Amplitude zero at 1000 Hz\n",
    "    #Clock frequenz 2000 Hz mit halber Laenge:\n",
    "    x = arange(0, bitduration / 2, 1.0/FS)\n",
    "\n",
    "    sic = sin(pi * 2 * x * 2000);\n",
    "    \n",
    "    #append zeros of half bit duration:\n",
    "    clocksig=append(sic,zeros(bitduration * 0.5 * FS))\n",
    "    \n",
    "    #sound.sound(clocksig*10000,32000)\n",
    "    soundoutput = concatenate((soundoutput, clocksig * 10000))\n"
   ]
  },
  {
   "cell_type": "code",
   "execution_count": 5,
   "metadata": {
    "collapsed": false
   },
   "outputs": [
    {
     "name": "stdout",
     "output_type": "stream",
     "text": [
      "sende 0\n",
      "sende 1\n",
      "sende 0\n",
      "sende 1\n",
      "sende 0\n",
      "sende 1\n",
      "sende 0\n",
      "sende 0\n",
      "sende 0\n",
      "sende 1\n",
      "sende 0\n",
      "sende 1\n",
      "sende 0\n",
      "sende 1\n",
      "sende 0\n",
      "sende 1\n",
      "sende 0\n",
      "sende 0\n",
      "sende 1\n",
      "sende 0\n",
      "sende 1\n",
      "sende 1\n",
      "sende 0\n",
      "sende 1\n",
      "sende 0\n",
      "sende 1\n",
      "sende 0\n",
      "sende 0\n",
      "sende 1\n",
      "sende 0\n",
      "sende 0\n",
      "sende 1\n",
      "sende 0\n",
      "sende 1\n",
      "sende 1\n",
      "sende 0\n",
      "sende 1\n",
      "sende 1\n",
      "sende 0\n",
      "sende 0\n",
      "sende 0\n",
      "sende 1\n",
      "sende 1\n",
      "sende 0\n",
      "sende 1\n",
      "sende 1\n",
      "sende 0\n",
      "sende 1\n",
      "sende 0\n",
      "sende 1\n",
      "sende 1\n",
      "sende 0\n",
      "sende 0\n",
      "sende 1\n",
      "sende 0\n",
      "sende 1\n",
      "sende 0\n",
      "sende 1\n",
      "sende 1\n",
      "sende 0\n",
      "sende 1\n",
      "sende 1\n",
      "sende 1\n",
      "sende 0\n",
      "sende 0\n",
      "sende 1\n",
      "sende 1\n",
      "sende 0\n",
      "sende 0\n",
      "sende 0\n",
      "sende 0\n",
      "sende 1\n",
      "sende 0\n",
      "sende 1\n",
      "sende 1\n",
      "sende 1\n",
      "sende 0\n",
      "sende 1\n",
      "sende 0\n",
      "sende 1\n",
      "sende 0\n",
      "sende 0\n",
      "sende 0\n",
      "sende 0\n",
      "sende 1\n",
      "sende 0\n",
      "sende 1\n",
      "sende 0\n",
      "('geschriebene bits: ', 88)\n"
     ]
    },
    {
     "data": {
      "image/png": "[encoded data removed]",
      "text/plain": [
       "<matplotlib.figure.Figure at 0x7f7f7ffd67d0>"
      ]
     },
     "metadata": {},
     "output_type": "display_data"
    }
   ],
   "source": [
    "if __name__ == '__main__':\n",
    " \n",
    "    #Write example bit string into file (for instance from an encoder):\n",
    "    writebinaryfile('test.bin', '1010101011111111')\n",
    "\n",
    "    #read bits from file, AM modulate them, and write modulated sound to sound file:\n",
    "    #produce AM modulation:\n",
    "    #1 Sekunde Vor-Ton 1000 Hz ohne clock SIgnal, zum Einpendeln der Verstaerkungsregelung bei der Aufnahme:\n",
    "    x=arange(0,1,1.0/FS)\n",
    "    soundoutput=sin(pi*2*x*1000)*10000;\n",
    "    \n",
    "    #Read to be transmitted bits from binary file:\n",
    "    #bitstring=readbinaryfile('y00enc.bin')\n",
    "    #bitstring=readbinaryfile('test.bin')\n",
    "    #Try text file:\n",
    "    bitstring=readbinaryfile('test.txt')\n",
    "    \n",
    "    #AM modulation for the bits:\n",
    "    for bit in bitstring:\n",
    "        if bit == '1':\n",
    "            one();\n",
    "            print(\"sende 1\")\n",
    "        else:\n",
    "            zero();\n",
    "            print(\"sende 0\")\n",
    "\n",
    "    #write AM modulated sound to file:\n",
    "    sound.wavwrite(soundoutput,FS,\"amfile.wav\")\n",
    "    print(\"geschriebene bits: \", len(bitstring))\n",
    "\n",
    "    fig=plt.figure()\n",
    "    fig.canvas.set_window_title('Erzeugtes AM Signal')\n",
    "    plt.plot(soundoutput)\n",
    "    plt.xlabel('Sample')\n",
    "    plt.ylabel('Value')\n",
    "    plt.show()"
   ]
  }
 ],
 "metadata": {
  "kernelspec": {
   "display_name": "Python 2",
   "language": "python",
   "name": "python2"
  },
  "language_info": {
   "codemirror_mode": {
    "name": "ipython",
    "version": 2
   },
   "file_extension": ".py",
   "mimetype": "text/x-python",
   "name": "python",
   "nbconvert_exporter": "python",
   "pygments_lexer": "ipython2",
   "version": "2.7.12"
  }
 },
 "nbformat": 4,
 "nbformat_minor": 1
}
