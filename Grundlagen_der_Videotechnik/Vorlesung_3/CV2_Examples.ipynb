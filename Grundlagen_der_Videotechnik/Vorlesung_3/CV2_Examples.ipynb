{
 "cells": [
  {
   "cell_type": "markdown",
   "metadata": {},
   "source": [
    "## Program 1 - 'colormix'\n",
    "Program to display the variable mix of the 3 primary colors.\n",
    "Outputs a window with color components(Red, Green, Blue) and with default color factors and a mix of it as well.\n",
    "* Import numpy and cv2."
   ]
  },
  {
   "cell_type": "code",
   "execution_count": null,
   "metadata": {
    "collapsed": true
   },
   "outputs": [],
   "source": [
    "import numpy as np\n",
    "import cv2"
   ]
  },
  {
   "cell_type": "markdown",
   "metadata": {},
   "source": [
    "* Initialize the variables for the dimension of color to be displayed."
   ]
  },
  {
   "cell_type": "code",
   "execution_count": null,
   "metadata": {
    "collapsed": true
   },
   "outputs": [],
   "source": [
    "#Rows and columns of image:\n",
    "rows=200\n",
    "cols=250\n",
    "print(rows,cols)\n",
    "image=np.zeros((rows,cols,3))"
   ]
  },
  {
   "cell_type": "markdown",
   "metadata": {},
   "source": [
    "* Default color factors."
   ]
  },
  {
   "cell_type": "code",
   "execution_count": null,
   "metadata": {
    "collapsed": true
   },
   "outputs": [],
   "source": [
    "b=0.5\n",
    "g=0.5\n",
    "r=0.5"
   ]
  },
  {
   "cell_type": "markdown",
   "metadata": {},
   "source": [
    "* Set the position of the color blocks to be displayed."
   ]
  },
  {
   "cell_type": "code",
   "execution_count": null,
   "metadata": {
    "collapsed": true
   },
   "outputs": [],
   "source": [
    "bim=np.zeros((rows,cols,3))\n",
    "bim[50:150,30:130,0]=np.ones((100,100))\n",
    "gim=np.zeros((rows,cols,3))\n",
    "gim[50:150,100:200,1]=np.ones((100,100))\n",
    "rim=np.zeros((rows,cols,3))\n",
    "rim[100:200,60:160,2]=np.ones((100,100))"
   ]
  },
  {
   "cell_type": "markdown",
   "metadata": {},
   "source": [
    "* Start capturing and display the window."
   ]
  },
  {
   "cell_type": "code",
   "execution_count": null,
   "metadata": {
    "collapsed": true
   },
   "outputs": [],
   "source": [
    "while(True):\n",
    "\n",
    "    image=b*bim+g*gim+r*rim;\n",
    "    cv2.putText(image,\"Red +-: a/y, Green: s/x, Blue: d,c\", (10,20), cv2.FONT_HERSHEY_SIMPLEX, 0.4, (255,128,128))\n",
    "    v2.putText(image,\"Red:\"+str(r)+\" Green:\"+str(g)+\" Blue:\"+str(b)+\", quit:q\", (10,40), cv2.FONT_HERSHEY_SIMPLEX, 0.4, (255,128,128))\n",
    "    \n",
    "    cv2.imshow('Color Mixture',image)"
   ]
  },
  {
   "cell_type": "markdown",
   "metadata": {},
   "source": [
    "* The window provides controls to alter the color factors with following keyboard inputs\n",
    "    * For color 'Red', 'a' & 'y' to increase and decrease the color factor respectively \n",
    "    * For color 'Green', 's' & 'x' to increase and decrease the color factor respectively \n",
    "    * For color 'Blue', 'd' & 'c' to increase and decrease the color factor respectively "
   ]
  },
  {
   "cell_type": "code",
   "execution_count": null,
   "metadata": {
    "collapsed": true
   },
   "outputs": [],
   "source": [
    "    key=cv2.waitKey(1) & 0xFF;\n",
    "    if key == ord('a'):\n",
    "        r= r+0.1;\n",
    "        r=np.clip(r,0,1)\n",
    "    if key == ord('y'):\n",
    "        r= r-0.1;\n",
    "        r=np.clip(r,0,1)\n",
    "    if key == ord('s'):\n",
    "        g= g+0.1;\n",
    "        g=np.clip(g,0,1)\n",
    "    if key == ord('x'):\n",
    "        g= g-0.1;\n",
    "        g=np.clip(g,0,1)\n",
    "    if key == ord('d'):\n",
    "        b= b+0.1;\n",
    "        b=np.clip(b,0,1)\n",
    "    if key == ord('c'):\n",
    "        b= b-0.1;\n",
    "        b=np.clip(b,0,1)\n",
    "    if key == ord('q'):\n",
    "        break"
   ]
  },
  {
   "cell_type": "markdown",
   "metadata": {},
   "source": [
    "* When everything done, release the capture"
   ]
  },
  {
   "cell_type": "code",
   "execution_count": null,
   "metadata": {
    "collapsed": true
   },
   "outputs": [],
   "source": [
    "cv2.destroyAllWindows()"
   ]
  },
  {
   "cell_type": "markdown",
   "metadata": {},
   "source": [
    "---\n",
    "\n",
    "## Program 2 - imagecolordisp\n",
    "Program to display all possible display colors on the screen in a color triangle.\n",
    "* Import numpy and cv2."
   ]
  },
  {
   "cell_type": "code",
   "execution_count": null,
   "metadata": {
    "collapsed": true
   },
   "outputs": [],
   "source": [
    "import numpy as np\n",
    "import cv2"
   ]
  },
  {
   "cell_type": "markdown",
   "metadata": {},
   "source": [
    "* Make frames of 300x300 pixels with 3 equal color components."
   ]
  },
  {
   "cell_type": "code",
   "execution_count": null,
   "metadata": {
    "collapsed": true
   },
   "outputs": [],
   "source": [
    "frame=np.zeros((300,300,3))\n",
    "frame[:,:,0]=np.ones((300,300))*0.8\n",
    "frame[:,:,1]=np.ones((300,300))*0.6\n",
    "frame[:,:,2]=np.ones((300,300))*0.2"
   ]
  },
  {
   "cell_type": "code",
   "execution_count": null,
   "metadata": {
    "collapsed": true
   },
   "outputs": [],
   "source": [
    "frame=frame*1.0"
   ]
  },
  {
   "cell_type": "markdown",
   "metadata": {},
   "source": [
    "* Display the resulting frame."
   ]
  },
  {
   "cell_type": "code",
   "execution_count": null,
   "metadata": {
    "collapsed": true
   },
   "outputs": [],
   "source": [
    "cv2.imshow('frame',frame)\n",
    "while(True):\n",
    "    if cv2.waitKey(1) & 0xFF == ord('q'):\n",
    "        break"
   ]
  },
  {
   "cell_type": "markdown",
   "metadata": {},
   "source": [
    "* When everything done, close windows."
   ]
  },
  {
   "cell_type": "code",
   "execution_count": null,
   "metadata": {
    "collapsed": true
   },
   "outputs": [],
   "source": [
    "cv2.destroyAllWindows()"
   ]
  },
  {
   "cell_type": "markdown",
   "metadata": {},
   "source": [
    "---\n",
    "\n",
    "## Program 3 - imagecolormixdisp\n",
    "Program to display colors and color mix on the screen.\n",
    "* Import numpy and cv2."
   ]
  },
  {
   "cell_type": "code",
   "execution_count": null,
   "metadata": {
    "collapsed": true
   },
   "outputs": [],
   "source": [
    "import numpy as np\n",
    "import cv2"
   ]
  },
  {
   "cell_type": "markdown",
   "metadata": {},
   "source": [
    "* Make 2 color frames of 300x300 pixels with 3 equal color components."
   ]
  },
  {
   "cell_type": "code",
   "execution_count": null,
   "metadata": {
    "collapsed": true
   },
   "outputs": [],
   "source": [
    "Farbe1=np.ones((300,300,3))\n",
    "Farbe1[:,:,0]=np.ones((300,300))*0.6\n",
    "Farbe1[:,:,1]=np.ones((300,300))*0.4\n",
    "Farbe1[:,:,2]=np.ones((300,300))*0.1\n",
    "\n",
    "Farbe2=np.ones((300,300,3))\n",
    "Farbe2[:,:,0]=np.ones((300,300))*0.3\n",
    "Farbe2[:,:,1]=np.ones((300,300))*0.6\n",
    "Farbe2[:,:,2]=np.ones((300,300))*0.1"
   ]
  },
  {
   "cell_type": "markdown",
   "metadata": {},
   "source": [
    "* Mixing of colors with random factors."
   ]
  },
  {
   "cell_type": "code",
   "execution_count": null,
   "metadata": {
    "collapsed": true
   },
   "outputs": [],
   "source": [
    "Mischfarbe=0.2*Farbe1+0.8*Farbe2"
   ]
  },
  {
   "cell_type": "markdown",
   "metadata": {},
   "source": [
    "* Display the resulting frame."
   ]
  },
  {
   "cell_type": "code",
   "execution_count": null,
   "metadata": {
    "collapsed": true
   },
   "outputs": [],
   "source": [
    "cv2.imshow('Farbe1',Farbe1)\n",
    "cv2.imshow('Farbe2',Farbe2)\n",
    "cv2.imshow('Mischfarbe',Mischfarbe)\n",
    "\n",
    "while(True):\n",
    "    if cv2.waitKey(1) & 0xFF == ord('q'):\n",
    "        break"
   ]
  },
  {
   "cell_type": "markdown",
   "metadata": {},
   "source": [
    "* When everything done, close windows."
   ]
  },
  {
   "cell_type": "code",
   "execution_count": null,
   "metadata": {
    "collapsed": true
   },
   "outputs": [],
   "source": [
    "cv2.destroyAllWindows()"
   ]
  },
  {
   "cell_type": "markdown",
   "metadata": {},
   "source": [
    "---\n",
    "\n",
    "## Program - 4 imagecolortriangledisp\n",
    "Program to display all possible display colors on the screen in a color triangle\n",
    "* Import numpy and cv2"
   ]
  },
  {
   "cell_type": "code",
   "execution_count": null,
   "metadata": {
    "collapsed": true
   },
   "outputs": [],
   "source": [
    "import numpy as np\n",
    "import cv2"
   ]
  },
  {
   "cell_type": "markdown",
   "metadata": {},
   "source": [
    "* Make frames of 300x300 pixels with 3 equal color components:"
   ]
  },
  {
   "cell_type": "code",
   "execution_count": null,
   "metadata": {
    "collapsed": true
   },
   "outputs": [],
   "source": [
    "frame=np.zeros((300,300,3))"
   ]
  },
  {
   "cell_type": "markdown",
   "metadata": {},
   "source": [
    "* 300 values between 0 and 1 for the entire intensity range on a diagonal matrix:"
   ]
  },
  {
   "cell_type": "code",
   "execution_count": null,
   "metadata": {
    "collapsed": true
   },
   "outputs": [],
   "source": [
    "d=np.diag(np.linspace(1,0,300))"
   ]
  },
  {
   "cell_type": "markdown",
   "metadata": {},
   "source": [
    "* Matrix with  values from 0 to 1 from bottom to top:"
   ]
  },
  {
   "cell_type": "code",
   "execution_count": null,
   "metadata": {
    "collapsed": true
   },
   "outputs": [],
   "source": [
    "A = np.dot(d,np.ones((300,300)))"
   ]
  },
  {
   "cell_type": "markdown",
   "metadata": {},
   "source": [
    "* Red component: Transposed, increasing values from 0 to 1 from left to right:"
   ]
  },
  {
   "cell_type": "code",
   "execution_count": null,
   "metadata": {
    "collapsed": true
   },
   "outputs": [],
   "source": [
    "frame[:,:,2]=np.fliplr(A.T)"
   ]
  },
  {
   "cell_type": "markdown",
   "metadata": {},
   "source": [
    "* Green component: increasing values from 0 to 1 from bottom to top:"
   ]
  },
  {
   "cell_type": "code",
   "execution_count": null,
   "metadata": {
    "collapsed": true
   },
   "outputs": [],
   "source": [
    "frame[:,:,1]=A"
   ]
  },
  {
   "cell_type": "markdown",
   "metadata": {},
   "source": [
    "* Blue component: 1-R-G: "
   ]
  },
  {
   "cell_type": "code",
   "execution_count": null,
   "metadata": {
    "collapsed": true
   },
   "outputs": [],
   "source": [
    "frame[:,:,0]=np.ones((300,300))-frame[:,:,1]-frame[:,:,2]"
   ]
  },
  {
   "cell_type": "markdown",
   "metadata": {},
   "source": [
    "* Only keep lower triangle, where the Blue component is not negative:"
   ]
  },
  {
   "cell_type": "code",
   "execution_count": null,
   "metadata": {
    "collapsed": true
   },
   "outputs": [],
   "source": [
    "frame[:,:,2]=np.tril(frame[:,:,2])\n",
    "frame[:,:,1]=np.tril(frame[:,:,1])\n",
    "frame[:,:,0]=np.tril(frame[:,:,0])"
   ]
  },
  {
   "cell_type": "markdown",
   "metadata": {},
   "source": [
    "* lower left Pixel, 1 to the right:"
   ]
  },
  {
   "cell_type": "code",
   "execution_count": null,
   "metadata": {
    "collapsed": true
   },
   "outputs": [],
   "source": [
    "print('Lower left Pixel:',frame[299,0,:])"
   ]
  },
  {
   "cell_type": "markdown",
   "metadata": {},
   "source": [
    "* upper left Pixel:"
   ]
  },
  {
   "cell_type": "code",
   "execution_count": null,
   "metadata": {
    "collapsed": true
   },
   "outputs": [],
   "source": [
    "print('Upper left Pixel:',frame[0,0,:])"
   ]
  },
  {
   "cell_type": "markdown",
   "metadata": {},
   "source": [
    "* Lower right Pixel:"
   ]
  },
  {
   "cell_type": "code",
   "execution_count": null,
   "metadata": {
    "collapsed": true
   },
   "outputs": [],
   "source": [
    "print('Lower right Pixel:',frame[299,299,:])"
   ]
  },
  {
   "cell_type": "markdown",
   "metadata": {},
   "source": [
    "* Display the resulting color triangle"
   ]
  },
  {
   "cell_type": "code",
   "execution_count": null,
   "metadata": {
    "collapsed": true
   },
   "outputs": [],
   "source": [
    "cv2.imshow('Color trinagle of possible display colors',frame)\n",
    "\n",
    "while(True):\n",
    "    if cv2.waitKey(1) & 0xFF == ord('q'):\n",
    "        break"
   ]
  },
  {
   "cell_type": "markdown",
   "metadata": {},
   "source": [
    "* When everything done, close windows."
   ]
  },
  {
   "cell_type": "code",
   "execution_count": null,
   "metadata": {
    "collapsed": true
   },
   "outputs": [],
   "source": [
    "cv2.destroyAllWindows()"
   ]
  },
  {
   "cell_type": "markdown",
   "metadata": {},
   "source": [
    "---\n",
    "\n",
    "## Program 5 - videorecdispRGBkey\n",
    "Program to capture a video from a camera and display Original and R,G,B, components live on the screen, and switch them on and off with the keys r,g,b.\n",
    "* Import numpy and cv2."
   ]
  },
  {
   "cell_type": "code",
   "execution_count": null,
   "metadata": {
    "collapsed": true
   },
   "outputs": [],
   "source": [
    "import numpy as np\n",
    "import cv2\n",
    "\n",
    "cap = cv2.VideoCapture(0)\n",
    "\n",
    "\n",
    "Ron=True\n",
    "Gon=True\n",
    "Bon=True\n",
    "\n",
    "while(True):\n",
    "    # Capture frame-by-frame\n",
    "    [ret, frame] = cap.read()\n",
    "    cv2.imshow('Original',frame)\n",
    "\n",
    "    #Null Setzen von Farb-Komponenten:\n",
    "    if Ron==False:\n",
    "    #Probeweise nur Farbkomponenten durch setzen von den Y-Komponenten auf einen festen Wert:\n",
    "        frame[:,:,2]=np.zeros(frame[:,:,2].shape);\n",
    "    if Gon==False:\n",
    "        frame[:,:,1]=np.zeros(frame[:,:,1].shape);\n",
    "    if Bon==False:\n",
    "        frame[:,:,0]=np.zeros(frame[:,:,0].shape);"
   ]
  },
  {
   "cell_type": "markdown",
   "metadata": {},
   "source": [
    "* Display resulting video<br/>\n",
    "    Display text with\n",
    "    putText(frame, text string, position, fontFace, fontScale, color, thickness)"
   ]
  },
  {
   "cell_type": "code",
   "execution_count": null,
   "metadata": {
    "collapsed": true
   },
   "outputs": [],
   "source": [
    "    cv2.putText(frame,\"Key r: R comp. on/off, R on=\"+str(Ron), (20,50), cv2.FONT_HERSHEY_SIMPLEX, 1, (0,0,255),2)\n",
    "    cv2.putText(frame,\"Key g: G comp. on/off, G on=\"+str(Gon), (20,100), cv2.FONT_HERSHEY_SIMPLEX, 1, (0,255,0),2)\n",
    "    cv2.putText(frame,\"Key b: B comp. on/off, B on=\"+str(Bon), (20,150), cv2.FONT_HERSHEY_SIMPLEX, 1, (255,0,0),2)\n",
    "    cv2.imshow('Einzelne Komponenten',frame)"
   ]
  },
  {
   "cell_type": "markdown",
   "metadata": {},
   "source": [
    "* Key inputs:\n",
    "    * 'r' key to toggle red component of the video.\n",
    "    * 'g' key to toggle green component of the video.\n",
    "    * 'b' key to toggle blue component of the video."
   ]
  },
  {
   "cell_type": "code",
   "execution_count": null,
   "metadata": {
    "collapsed": true
   },
   "outputs": [],
   "source": [
    "    key=cv2.waitKey(1) & 0xFF;\n",
    "    if key == ord('r'):     \n",
    "        Ron= not Ron\n",
    "    if key == ord('g'):     \n",
    "        Gon= not Gon\n",
    "    if key == ord('b'):     \n",
    "        Bon= not Bon\n",
    "    if key == ord('q'):\n",
    "        break"
   ]
  },
  {
   "cell_type": "markdown",
   "metadata": {},
   "source": [
    "* When everything done, release the capture"
   ]
  },
  {
   "cell_type": "code",
   "execution_count": null,
   "metadata": {
    "collapsed": true
   },
   "outputs": [],
   "source": [
    "cap.release()\n",
    "cv2.destroyAllWindows()"
   ]
  },
  {
   "cell_type": "markdown",
   "metadata": {},
   "source": [
    "---\n",
    "\n",
    "## Program 6 - videorecencdecyiqkey\n",
    "Program to capture a video from a camera, transform it to YIQ, transform it back, and display it live on the screen.\n",
    "* Import numpy and cv2"
   ]
  },
  {
   "cell_type": "code",
   "execution_count": null,
   "metadata": {
    "collapsed": true
   },
   "outputs": [],
   "source": [
    "import numpy as np\n",
    "import cv2\n",
    "from numpy.linalg import inv\n",
    "\n",
    "cap = cv2.VideoCapture(0)"
   ]
  },
  {
   "cell_type": "markdown",
   "metadata": {},
   "source": [
    "* YIQ transform matrix:"
   ]
  },
  {
   "cell_type": "code",
   "execution_count": null,
   "metadata": {
    "collapsed": true
   },
   "outputs": [],
   "source": [
    "T=np.array([[0.299, 0.587, 0.114],\n",
    "[0.595, -0.274, -0.321],\n",
    "[0.211,-0.522, 0.311]])"
   ]
  },
  {
   "cell_type": "markdown",
   "metadata": {},
   "source": [
    "* Inverse color transform:<br/>Inverse matrix as array:"
   ]
  },
  {
   "cell_type": "code",
   "execution_count": null,
   "metadata": {
    "collapsed": true
   },
   "outputs": [],
   "source": [
    "Tinv=inv(T)\n",
    "\n",
    "Yon=True\n",
    "Ion=True\n",
    "Qon=True\n",
    "\n",
    "while(True):\n",
    "    # Capture frame-by-frame\n",
    "    [ret, frame] = cap.read()\n",
    "    framerec=np.zeros(frame.shape);\n",
    "\n",
    "    # Display the original frame\n",
    "    cv2.imshow('Original',frame)"
   ]
  },
  {
   "cell_type": "markdown",
   "metadata": {},
   "source": [
    "* Our operations on the frames come here<br/>**###### Encoder #######**<br/>Forwaerts Farb-Transformation im Encoder:<br/>Berechnung der Luminanz-Komponente Y und der Farb-Komponenten U und V:<br/>/256 because the result is float values which imshow expects in range 0...1:<br/>np.dot applies the matrix multiplication to the last axis, hence here the RGB axis:\n",
    "\n",
    "Result is 3-dimensional matrix, rows x columns x color components"
   ]
  },
  {
   "cell_type": "code",
   "execution_count": null,
   "metadata": {
    "collapsed": true
   },
   "outputs": [],
   "source": [
    "    YIQ= np.dot(frame,T)/255.0"
   ]
  },
  {
   "cell_type": "markdown",
   "metadata": {},
   "source": [
    "*  **###### Decoder ######**<br/><br/>Inverse Farb-Transformation im Decoder:"
   ]
  },
  {
   "cell_type": "code",
   "execution_count": null,
   "metadata": {
    "collapsed": true
   },
   "outputs": [],
   "source": [
    "    if Yon==False:\n",
    "      #Probeweise nur Farbkomponenten durch setzen von den Y-Komponenten auf einen festen Wert:\n",
    "      YIQ[:,:,0]=np.ones(YIQ[:,:,0].shape)*0.5;\n",
    "    #Probeweise Null setzen von Farb-Komponenten:\n",
    "    if Ion==False:\n",
    "        YIQ[:,:,1]=np.zeros(YIQ[:,:,1].shape);\n",
    "    if Qon==False:\n",
    "        YIQ[:,:,2]=np.zeros(YIQ[:,:,2].shape);"
   ]
  },
  {
   "cell_type": "markdown",
   "metadata": {},
   "source": [
    "* Inverse color transform: <br/>np.dot applies the matrix multiplication to the last axis, hence here the color axis:"
   ]
  },
  {
   "cell_type": "code",
   "execution_count": null,
   "metadata": {
    "collapsed": true
   },
   "outputs": [],
   "source": [
    "framerec=np.dot(YIQ,Tinv)"
   ]
  },
  {
   "cell_type": "markdown",
   "metadata": {},
   "source": [
    "* Display reconstructed video<br/>Display text with:"
   ]
  },
  {
   "cell_type": "code",
   "execution_count": null,
   "metadata": {
    "collapsed": true
   },
   "outputs": [],
   "source": [
    "    cv2.putText(framerec,\"Key y: Y comp. on/off, Y on=\"+str(Yon), (20,50), cv2.FONT_HERSHEY_SIMPLEX, 1, (255,255,255),2)\n",
    "    cv2.putText(framerec,\"Key i: I comp. on/off, I on=\"+str(Ion), (20,100), cv2.FONT_HERSHEY_SIMPLEX, 1, (255,0,0),2)\n",
    "    cv2.putText(framerec,\"Key q: Q comp. on/off, Q on=\"+str(Qon), (20,150), cv2.FONT_HERSHEY_SIMPLEX, 1, (0,0,255),2)\n",
    "\n",
    "    cv2.imshow('Reconstructed, exit with x',framerec)    "
   ]
  },
  {
   "cell_type": "markdown",
   "metadata": {},
   "source": [
    "* Key inputs:\n",
    "    * 'y' key to toggle Y component of the video.\n",
    "    * 'i' key to toggle I component of the video.\n",
    "    * 'q' key to toggle Q component of the video.\n",
    "    * 'x' key to exit."
   ]
  },
  {
   "cell_type": "code",
   "execution_count": null,
   "metadata": {
    "collapsed": true
   },
   "outputs": [],
   "source": [
    "    key=cv2.waitKey(1) & 0xFF;\n",
    "    if key == ord('y'):     \n",
    "        Yon= not Yon\n",
    "    if key == ord('i'):     \n",
    "        Ion= not Ion\n",
    "    if key == ord('q'):     \n",
    "        Qon= not Qon\n",
    "    #Ende durch Taste \"x\":\n",
    "    if key == ord('x'):\n",
    "        break"
   ]
  },
  {
   "cell_type": "markdown",
   "metadata": {},
   "source": [
    "* When everything done, release the capture."
   ]
  },
  {
   "cell_type": "code",
   "execution_count": null,
   "metadata": {
    "collapsed": true
   },
   "outputs": [],
   "source": [
    "cap.release()\n",
    "cv2.destroyAllWindows()"
   ]
  },
  {
   "cell_type": "markdown",
   "metadata": {},
   "source": [
    "---\n",
    "\n",
    "## Program 7 - videorecencdecyuvkey\n",
    "Program to capture a video from a camera, transform it to YUV, transform it back, and display it live on the screen\n",
    "* Import numpy and cv2"
   ]
  },
  {
   "cell_type": "code",
   "execution_count": null,
   "metadata": {
    "collapsed": true
   },
   "outputs": [],
   "source": [
    "import numpy as np\n",
    "import cv2\n",
    "\n",
    "while(True):\n",
    "    # Capture frame-by-frame\n",
    "    [ret, frame] = cap.read()\n",
    "    framerec=np.zeros(frame.shape);\n",
    "\n",
    "    # Display the original frame\n",
    "    cv2.imshow('Original',frame)"
   ]
  },
  {
   "cell_type": "markdown",
   "metadata": {},
   "source": [
    "* Our operations on the frames come here<br/>\n",
    "    **###### Encoder #######**<br/>\n",
    "    Forwaerts Farb-Transformation im Encoder:<br/>\n",
    "    Berechnung der Luminanz-Komponente Y und der Farb-Komponenten U und V:<br/>\n",
    "    Y= 0.114\\*B+0.587\\*G+0.299\\*R :<br/>\n",
    "    /256 because the result is float values which imshow expects in range 0...1:<br/>"
   ]
  },
  {
   "cell_type": "code",
   "execution_count": null,
   "metadata": {
    "collapsed": true
   },
   "outputs": [],
   "source": [
    "    Y=(0.114*frame[:,:,0]+0.587*frame[:,:,1]+0.299*frame[:,:,2])/255;        \n",
    "    #U=B-Y:\n",
    "    U=frame[:,:,0]/255.0-Y;\n",
    "    #V=R-Y:\n",
    "    V=frame[:,:,2]/255.0-Y;"
   ]
  },
  {
   "cell_type": "markdown",
   "metadata": {},
   "source": [
    "* **#######Decoder #######**<br/>Inverse Farb-Transformation im Decoder:"
   ]
  },
  {
   "cell_type": "code",
   "execution_count": null,
   "metadata": {
    "collapsed": true
   },
   "outputs": [],
   "source": [
    "    if Yon==False:\n",
    "      #Probeweise nur Farbkomponenten durch setzen von den Y-Komponenten auf einen festen Wert:\n",
    "      Y=np.ones(Y.shape)*0.5;\n",
    "    #Probeweise Null setzen von Farb-Komponenten:\n",
    "    if Uon==False:\n",
    "        U=np.zeros(U.shape);\n",
    "    if Von==False:\n",
    "        V=np.zeros(V.shape);\n",
    "\n",
    "    B=U+Y\n",
    "    R=V+Y\n",
    "    G=(Y-0.114*B-0.299*R)/0.587;"
   ]
  },
  {
   "cell_type": "markdown",
   "metadata": {},
   "source": [
    "* Write the RGB components in the reconstruction frame."
   ]
  },
  {
   "cell_type": "code",
   "execution_count": null,
   "metadata": {
    "collapsed": true
   },
   "outputs": [],
   "source": [
    "    framerec[:,:,0]=B\n",
    "    framerec[:,:,1]=G\n",
    "    framerec[:,:,2]=R"
   ]
  },
  {
   "cell_type": "markdown",
   "metadata": {},
   "source": [
    "* Display reconstructed video<br/>\n",
    "  Display text with:"
   ]
  },
  {
   "cell_type": "code",
   "execution_count": null,
   "metadata": {
    "collapsed": true
   },
   "outputs": [],
   "source": [
    "    cv2.putText(framerec,\"Key y: Y comp. on/off, Y on=\"+str(Yon), (20,50), cv2.FONT_HERSHEY_SIMPLEX, 1, (255,255,255),2)\n",
    "    cv2.putText(framerec,\"Key u: U comp. on/off, U on=\"+str(Uon), (20,100), cv2.FONT_HERSHEY_SIMPLEX, 1, (255,0,0),2)\n",
    "    cv2.putText(framerec,\"Key v: V comp. on/off, V on=\"+str(Von), (20,150), cv2.FONT_HERSHEY_SIMPLEX, 1, (0,0,255),2)\n",
    "\n",
    "    cv2.imshow('Reconstructed, exit with q',framerec)    \n",
    "   "
   ]
  },
  {
   "cell_type": "markdown",
   "metadata": {},
   "source": [
    "* Key inputs:\n",
    "    * 'y' key to toggle Y component of the video.\n",
    "    * 'u' key to toggle U component of the video.\n",
    "    * 'v' key to toggle V component of the video.\n",
    "    * 'q' key to exit."
   ]
  },
  {
   "cell_type": "code",
   "execution_count": null,
   "metadata": {
    "collapsed": true
   },
   "outputs": [],
   "source": [
    "    key=cv2.waitKey(1) & 0xFF;\n",
    "    if key == ord('y'):     \n",
    "        Yon= not Yon\n",
    "    if key == ord('u'):     \n",
    "        Uon= not Uon\n",
    "    if key == ord('v'):     \n",
    "        Von= not Von\n",
    "    #Ende durch Taste \"q\":\n",
    "    if key == ord('q'):\n",
    "        break"
   ]
  },
  {
   "cell_type": "markdown",
   "metadata": {},
   "source": [
    "* When everything done, release the capture"
   ]
  },
  {
   "cell_type": "code",
   "execution_count": null,
   "metadata": {
    "collapsed": true
   },
   "outputs": [],
   "source": [
    "cap.release()\n",
    "cv2.destroyAllWindows()"
   ]
  },
  {
   "cell_type": "markdown",
   "metadata": {},
   "source": [
    "---\n",
    "\n",
    "## Program 8 - videorecprocyuv\n",
    "Program to capture a video from a camera and display it live on the screen\n",
    "* Import numpy and cv2."
   ]
  },
  {
   "cell_type": "code",
   "execution_count": null,
   "metadata": {
    "collapsed": true
   },
   "outputs": [],
   "source": [
    "cap = cv2.VideoCapture(0)\n",
    "\n",
    "cv2.namedWindow('Original')\n",
    "cv2.namedWindow('Luminanz Y')\n",
    "cv2.namedWindow('Farbkomponente U')\n",
    "cv2.namedWindow('Farbkomponente V')\n",
    "while(True):\n",
    "    # Capture frame-by-frame\n",
    "    [ret, frame] = cap.read()"
   ]
  },
  {
   "cell_type": "markdown",
   "metadata": {},
   "source": [
    "*      Our operations on the frames come here<br/>\n",
    "    Berechnung der Luminanz-Komponente Y:<br/>\n",
    "    Y= 0.114*B+0.587*G+0.299*R :<br/>\n",
    "    /256 because the result is float values which imshow expects in range 0...1:"
   ]
  },
  {
   "cell_type": "code",
   "execution_count": null,
   "metadata": {
    "collapsed": true
   },
   "outputs": [],
   "source": [
    "    Y=(0.114*frame[:,:,0]+0.587*frame[:,:,1]+0.299*frame[:,:,2])/255;        \n",
    "    #U=B-Y:\n",
    "    U=frame[:,:,0]/255.0-Y;\n",
    "    #V=R-Y:\n",
    "    V=frame[:,:,2]/255.0-Y;"
   ]
  },
  {
   "cell_type": "markdown",
   "metadata": {},
   "source": [
    "*      Display the resulting frame"
   ]
  },
  {
   "cell_type": "code",
   "execution_count": null,
   "metadata": {
    "collapsed": true
   },
   "outputs": [],
   "source": [
    "    cv2.imshow('Original',frame)\n",
    "    cv2.imshow('Luminanz Y',Y)\n",
    "    cv2.imshow('Farbkomponente U',np.abs(U))\n",
    "    cv2.imshow('Farbkomponente V',np.abs(V))\n",
    "    "
   ]
  },
  {
   "cell_type": "markdown",
   "metadata": {},
   "source": [
    "* End by pressing the key 'q'."
   ]
  },
  {
   "cell_type": "code",
   "execution_count": null,
   "metadata": {
    "collapsed": true
   },
   "outputs": [],
   "source": [
    "    if cv2.waitKey(1) & 0xFF == ord('q'):\n",
    "        break"
   ]
  },
  {
   "cell_type": "markdown",
   "metadata": {},
   "source": [
    "* When everything done, release the capture"
   ]
  },
  {
   "cell_type": "code",
   "execution_count": null,
   "metadata": {
    "collapsed": true
   },
   "outputs": [],
   "source": [
    "cap.release()\n",
    "cv2.destroyAllWindows()"
   ]
  }
 ],
 "metadata": {
  "kernelspec": {
   "display_name": "Python 2",
   "language": "python",
   "name": "python2"
  },
  "language_info": {
   "codemirror_mode": {
    "name": "ipython",
    "version": 2
   },
   "file_extension": ".py",
   "mimetype": "text/x-python",
   "name": "python",
   "nbconvert_exporter": "python",
   "pygments_lexer": "ipython2",
   "version": "2.7.12"
  }
 },
 "nbformat": 4,
 "nbformat_minor": 2
}
