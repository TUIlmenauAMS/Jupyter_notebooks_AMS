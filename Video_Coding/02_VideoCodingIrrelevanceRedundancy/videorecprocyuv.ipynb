{
 "cells": [
  {
   "cell_type": "markdown",
   "metadata": {},
   "source": [
    "# Videorecprocyuv\n",
    "Program to capture a video from a camera and display it live on the screen\n",
    "\n",
    "    - Gerald Schuller, October 2014"
   ]
  },
  {
   "cell_type": "markdown",
   "metadata": {},
   "source": [
    "* **Import relevant modules:**"
   ]
  },
  {
   "cell_type": "code",
   "execution_count": 1,
   "metadata": {
    "collapsed": true
   },
   "outputs": [],
   "source": [
    "import numpy as np\n",
    "import cv2"
   ]
  },
  {
   "cell_type": "markdown",
   "metadata": {},
   "source": [
    "* **Define the required variables to display the components:**"
   ]
  },
  {
   "cell_type": "code",
   "execution_count": 2,
   "metadata": {
    "collapsed": true
   },
   "outputs": [],
   "source": [
    "cap = cv2.VideoCapture(0)\n",
    "\n",
    "cv2.namedWindow('Original')\n",
    "cv2.namedWindow('Luminanz Y')\n",
    "cv2.namedWindow('Farbkomponente U')\n",
    "cv2.namedWindow('Farbkomponente V')"
   ]
  },
  {
   "cell_type": "markdown",
   "metadata": {},
   "source": [
    "* **Start capturing the video from the default camera and display back the Luminance and Chrominance components respectively:**"
   ]
  },
  {
   "cell_type": "code",
   "execution_count": 3,
   "metadata": {
    "collapsed": true
   },
   "outputs": [],
   "source": [
    "while(True):\n",
    "    # Capture frame-by-frame\n",
    "    [ret, frame] = cap.read()\n",
    "\n",
    "    # Our operations on the frames come here\n",
    "    #Berechnung der Luminanz-Komponente Y:\n",
    "    # Y= 0.114*B+0.587*G+0.299*R :\n",
    "    \n",
    "    # /256 because the result is float values which imshow expects in range 0...1:\n",
    "    Y = (0.114*frame[:,:,0]+0.587*frame[:,:,1]+0.299*frame[:,:,2])/255;        \n",
    "    \n",
    "    #U=B-Y:\n",
    "    U = frame[:,:,0]/255.0-Y;\n",
    "    \n",
    "    #V=R-Y:\n",
    "    V = frame[:,:,2]/255.0-Y;\n",
    "\n",
    "    # Display the resulting frame\n",
    "    cv2.imshow('Original',frame)\n",
    "    cv2.imshow('Luminanz Y',Y)\n",
    "    cv2.imshow('Farbkomponente U',np.abs(U))\n",
    "    cv2.imshow('Farbkomponente V',np.abs(V))\n",
    "    #Ende durch Taste \"q\":\n",
    "    if cv2.waitKey(1) & 0xFF == ord('q'):\n",
    "        break"
   ]
  },
  {
   "cell_type": "markdown",
   "metadata": {},
   "source": [
    "* **When everything is done, then release the capture:**"
   ]
  },
  {
   "cell_type": "code",
   "execution_count": 4,
   "metadata": {
    "collapsed": true
   },
   "outputs": [],
   "source": [
    "cap.release()\n",
    "cv2.destroyAllWindows()"
   ]
  }
 ],
 "metadata": {
  "kernelspec": {
   "display_name": "Python 2",
   "language": "python",
   "name": "python2"
  },
  "language_info": {
   "codemirror_mode": {
    "name": "ipython",
    "version": 2
   },
   "file_extension": ".py",
   "mimetype": "text/x-python",
   "name": "python",
   "nbconvert_exporter": "python",
   "pygments_lexer": "ipython2",
   "version": "2.7.12"
  }
 },
 "nbformat": 4,
 "nbformat_minor": 2
}
