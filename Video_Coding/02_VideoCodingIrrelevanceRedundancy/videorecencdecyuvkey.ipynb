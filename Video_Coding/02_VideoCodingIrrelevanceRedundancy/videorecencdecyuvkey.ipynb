{
 "cells": [
  {
   "cell_type": "markdown",
   "metadata": {
    "deletable": true,
    "editable": true
   },
   "source": [
    "# Videorecencdecyuvkey\n",
    "Program to capture a video from a camera, transform it to YUV, transform it back, and display it live on the screen\n",
    "\n",
    "    - Gerald Schuller,November 2015\n"
   ]
  },
  {
   "cell_type": "markdown",
   "metadata": {
    "deletable": true,
    "editable": true
   },
   "source": [
    "* **Import the relevant modules:**"
   ]
  },
  {
   "cell_type": "code",
   "execution_count": 1,
   "metadata": {
    "collapsed": true,
    "deletable": true,
    "editable": true
   },
   "outputs": [],
   "source": [
    "import numpy as np\n",
    "import cv2\n",
    "\n",
    "cap = cv2.VideoCapture(0)\n",
    "\n",
    "Yon=True\n",
    "Uon=True\n",
    "Von=True"
   ]
  },
  {
   "cell_type": "markdown",
   "metadata": {
    "deletable": true,
    "editable": true
   },
   "source": [
    "* **Start capturing, transform to Y, U, V components by encoding and display them back simultaneously by decoding:<br/> One can toggle the transformed components by pressing the following keys:**\n",
    "    - **Toggle Luminance component Y - press 'y'**\n",
    "    - **Toggle Chrominance component U - press 'u'**\n",
    "    - **Toggle Chrominance component V - press 'v'**\n",
    "* **Press 'q' to quit the open windows**"
   ]
  },
  {
   "cell_type": "code",
   "execution_count": 2,
   "metadata": {
    "collapsed": true,
    "deletable": true,
    "editable": true
   },
   "outputs": [],
   "source": [
    "while(True):\n",
    "    # Capture frame-by-frame\n",
    "    [ret, frame] = cap.read()\n",
    "    framerec = np.zeros(frame.shape)\n",
    "\n",
    "    # Display the original frame\n",
    "    cv2.imshow('Original',frame)\n",
    "\n",
    "    # Our operations on the frames come here\n",
    "    ######Encoder###########################\n",
    "    #Forwaerts Farb-Transformation im Encoder:\n",
    "    #Berechnung der Luminanz-Komponente Y und der Farb-Komponenten U und V:\n",
    "    # Y= 0.114*B+0.587*G+0.299*R :\n",
    "    # /256 because the result is float values which imshow expects in range 0...1:\n",
    "    Y = (0.114 * frame[:,:,0] + 0.587 * frame[:,:,1] + 0.299 * frame[:,:,2])/255     \n",
    "    \n",
    "    #U=B-Y:\n",
    "    U = frame[:,:,0]/255.0-Y\n",
    "    \n",
    "    #V=R-Y:\n",
    "    V = frame[:,:,2]/255.0-Y\n",
    "\n",
    "    ####################Decoder ################ \n",
    "    \n",
    "    #Inverse Farb-Transformation im Decoder:\n",
    "\n",
    "    if Yon == False:\n",
    "        #Probeweise nur Farbkomponenten durch setzen von den Y-Komponenten auf einen festen Wert:\n",
    "        Y = np.ones(Y.shape)*0.5\n",
    "        \n",
    "    #Probeweise Null setzen von Farb-Komponenten:\n",
    "    if Uon == False:\n",
    "        U = np.zeros(U.shape)\n",
    "    if Von == False:\n",
    "        V = np.zeros(V.shape)\n",
    "\n",
    "    B = U + Y\n",
    "    R = V + Y\n",
    "    G = (Y - 0.114*B - 0.299*R)/0.587\n",
    "    #Schreibe die RGB Komponenten in den rekonstruierten Frame: \n",
    "    framerec[:,:,0] = B\n",
    "    framerec[:,:,1] = G\n",
    "    framerec[:,:,2] = R\n",
    "\n",
    "    #Display reconstructed video\n",
    "    #Display text with\n",
    "    #putText(frame, text string, position, fontFace, fontScale, color, thickness)\n",
    "    cv2.putText(framerec,\"Key y: Y comp. on/off, Y on=\"+str(Yon), (20,50), cv2.FONT_HERSHEY_SIMPLEX, 1, (255,255,255),2)\n",
    "    cv2.putText(framerec,\"Key u: U comp. on/off, U on=\"+str(Uon), (20,100), cv2.FONT_HERSHEY_SIMPLEX, 1, (255,0,0),2)\n",
    "    cv2.putText(framerec,\"Key v: V comp. on/off, V on=\"+str(Von), (20,150), cv2.FONT_HERSHEY_SIMPLEX, 1, (0,0,255),2)\n",
    "\n",
    "    cv2.imshow('Reconstructed, exit with q',framerec)    \n",
    "    \n",
    "    key=cv2.waitKey(1) & 0xFF\n",
    "    if key == ord('y'):     \n",
    "        Yon = not Yon\n",
    "    if key == ord('u'):     \n",
    "        Uon = not Uon\n",
    "    if key == ord('v'):     \n",
    "        Von = not Von\n",
    "    #Ende durch Taste \"q\":\n",
    "    if key == ord('q'):\n",
    "        break\n",
    "\n",
    "# When everything done, release the capture\n",
    "cap.release()\n",
    "cv2.destroyAllWindows()"
   ]
  }
 ],
 "metadata": {
  "kernelspec": {
   "display_name": "Python 2",
   "language": "python",
   "name": "python2"
  },
  "language_info": {
   "codemirror_mode": {
    "name": "ipython",
    "version": 2
   },
   "file_extension": ".py",
   "mimetype": "text/x-python",
   "name": "python",
   "nbconvert_exporter": "python",
   "pygments_lexer": "ipython2",
   "version": "2.7.12"
  }
 },
 "nbformat": 4,
 "nbformat_minor": 2
}
