{
 "cells": [
  {
   "cell_type": "markdown",
   "metadata": {},
   "source": [
    "# 2D Discrete Fourier Transform "
   ]
  },
  {
   "cell_type": "markdown",
   "metadata": {},
   "source": [
    "* Our image consists of pixel values $x(n_1, n_2)$ with position indices $n_1, n_2$ in the ranges $0 \\leq n_1 < N_1$, $0 \\leq n_2 < N_2$.\n",
    "\n",
    "* The 2D Discrete Fourier Transform (2D DFT) gives us this 2D frequency domain, and is defined as,\n",
    "<p style=\"font-size: 20px;\">$$X(k_1, k_2) = \\sum\\limits_{n_1=0}^{N_1-1}\\sum\\limits_{n_2=0}^{N_2-1} x(n_1, n_2).e^{-j\\frac{\\pi}{N_1}.k_1n_1}.e^{-j\\frac{\\pi}{N_2}.k_2n_2} $$\n",
    "\n",
    "where $0 \\leq k_1 < N_1$ and $0 \\leq k_2 < N_2$ are the frequency indices. The index for the Nyquist frequency is $k_1 =N_1 /2$ and $k_2 =N_2 /2$.\n",
    "\n",
    "* The 2D-DFT is equvalent to the application of our one-dimensional DFT to the rows and colums of our image.\n",
    "\n",
    "* In Python this is the function,\n",
    "\n",
    "        X=numpy.fft.fft2(x)\n",
    "\n",
    "\n",
    "* We can plot an intensity plot of the 2D-DFT with,\n",
    "\n",
    "        cv2.imshow(numpy.abs(X))\n",
    "\n",
    "\n",
    "* This way we plot the 2D-DFT as an image, with the frequency indices k 1 , k 2 as image coordinates, and the magnitude $|X (k_1, k_2)|$ as brightness.\n"
   ]
  },
  {
   "cell_type": "markdown",
   "metadata": {},
   "source": [
    "**Observe:**\n",
    "    \n",
    "This is similar to a spectrogram plot, but instead of the time/frequency axes we now have the normalized x-frequency $k_2$ and y-frequency $k_1$. \n",
    "    \n",
    "Since we apply a DFT vertically and horizontally, the lowest frequencies horiziontally are located at the left and right corners with $k_2 =0$ and $k_2 =N_2−1$ , and the lowest frequencies vertically at the top and bottom corners. The Nyquist frequency is located at the center.\n"
   ]
  },
  {
   "cell_type": "markdown",
   "metadata": {},
   "source": [
    "---"
   ]
  },
  {
   "cell_type": "markdown",
   "metadata": {},
   "source": [
    "# The Inverse 2D-DFT"
   ]
  },
  {
   "cell_type": "markdown",
   "metadata": {},
   "source": [
    "The 2D-DFT can also be inverted, with\n",
    "<p style=\"font-size:20px;\">$$x(k_1, k_2)=\\frac{1}{N_1.N_2} \\sum\\limits_{n_1=0}^{N_1-1}\\sum\\limits_{n_2=0}^{N_2-1} X(k_1, k_2).e^{j\\frac{\\pi}{N_1}.k_1n_1}.e^{j\\frac{\\pi}{N_2}.k_2n_2}$$</p>\n",
    "\n",
    "In Python:\n",
    "\n",
    "    x=numpy.fft.ifft2(X)"
   ]
  }
 ],
 "metadata": {
  "kernelspec": {
   "display_name": "Python 2",
   "language": "python",
   "name": "python2"
  },
  "language_info": {
   "codemirror_mode": {
    "name": "ipython",
    "version": 2
   },
   "file_extension": ".py",
   "mimetype": "text/x-python",
   "name": "python",
   "nbconvert_exporter": "python",
   "pygments_lexer": "ipython2",
   "version": "2.7.12"
  }
 },
 "nbformat": 4,
 "nbformat_minor": 2
}
