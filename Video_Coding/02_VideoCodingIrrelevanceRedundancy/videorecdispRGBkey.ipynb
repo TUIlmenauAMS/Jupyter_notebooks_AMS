{
 "cells": [
  {
   "cell_type": "markdown",
   "metadata": {
    "deletable": true,
    "editable": true
   },
   "source": [
    "# VideorecdispRGBkey\n",
    "Program to capture a video from a camera and display Original and R,G,B components live on the screen, and switch them on and off with the keys r,g,b\n",
    "    \n",
    "    - Gerald Schuller, November 2015\n",
    "* **Import the relevant modules:**"
   ]
  },
  {
   "cell_type": "code",
   "execution_count": 1,
   "metadata": {
    "collapsed": true,
    "deletable": true,
    "editable": true
   },
   "outputs": [],
   "source": [
    "import numpy as np\n",
    "import cv2\n",
    "\n",
    "cap = cv2.VideoCapture(0)\n",
    "\n",
    "Ron=True\n",
    "Gon=True\n",
    "Bon=True"
   ]
  },
  {
   "cell_type": "markdown",
   "metadata": {
    "deletable": true,
    "editable": true
   },
   "source": [
    "* **Start capturing, extract R, G, B components and display them back simultaneously:<br/> One can toggle the transformed components by pressing the following keys:**\n",
    "    - **Toggle Red component R - press 'r'**\n",
    "    - **Toggle Blue component B - press 'b'**\n",
    "    - **Toggle Green component G - press 'g'**\n",
    "* **Press 'q' to quit the open windows**"
   ]
  },
  {
   "cell_type": "code",
   "execution_count": 2,
   "metadata": {
    "collapsed": true,
    "deletable": true,
    "editable": true
   },
   "outputs": [],
   "source": [
    "while(True):\n",
    "    \n",
    "    # Capture frame-by-frame\n",
    "    [ret, frame] = cap.read()\n",
    "    cv2.imshow('Original',frame)\n",
    "\n",
    "    #Null Setzen von Farb-Komponenten:\n",
    "    if Ron==False:\n",
    "    #Probeweise nur Farbkomponenten durch setzen von den Y-Komponenten auf einen festen Wert:\n",
    "        frame[:,:,2]=np.zeros(frame[:,:,2].shape)\n",
    "        \n",
    "    if Gon==False:\n",
    "        frame[:,:,1]=np.zeros(frame[:,:,1].shape);\n",
    "    if Bon==False:\n",
    "        frame[:,:,0]=np.zeros(frame[:,:,0].shape);\n",
    "\n",
    "   \n",
    "    #Display resulting video\n",
    "    #Display text with\n",
    "    #putText(frame, text string, position, fontFace, fontScale, color, thickness)\n",
    "    cv2.putText(frame,\"Key r: R comp. on/off, R on=\"+str(Ron), (20,50), cv2.FONT_HERSHEY_SIMPLEX, 1, (0,0,255),2)\n",
    "    cv2.putText(frame,\"Key g: G comp. on/off, G on=\"+str(Gon), (20,100), cv2.FONT_HERSHEY_SIMPLEX, 1, (0,255,0),2)\n",
    "    cv2.putText(frame,\"Key b: B comp. on/off, B on=\"+str(Bon), (20,150), cv2.FONT_HERSHEY_SIMPLEX, 1, (255,0,0),2)\n",
    "    cv2.imshow('Einzelne Komponenten',frame)\n",
    "\n",
    "    key=cv2.waitKey(1) & 0xFF;\n",
    "    if key == ord('r'):     \n",
    "        Ron= not Ron\n",
    "    if key == ord('g'):     \n",
    "        Gon= not Gon\n",
    "    if key == ord('b'):     \n",
    "        Bon= not Bon\n",
    "    if key == ord('q'):\n",
    "        break\n",
    "\n",
    "# When everything done, release the capture\n",
    "cap.release()\n",
    "cv2.destroyAllWindows()"
   ]
  }
 ],
 "metadata": {
  "kernelspec": {
   "display_name": "Python 2",
   "language": "python",
   "name": "python2"
  },
  "language_info": {
   "codemirror_mode": {
    "name": "ipython",
    "version": 2
   },
   "file_extension": ".py",
   "mimetype": "text/x-python",
   "name": "python",
   "nbconvert_exporter": "python",
   "pygments_lexer": "ipython2",
   "version": "2.7.12"
  }
 },
 "nbformat": 4,
 "nbformat_minor": 2
}
