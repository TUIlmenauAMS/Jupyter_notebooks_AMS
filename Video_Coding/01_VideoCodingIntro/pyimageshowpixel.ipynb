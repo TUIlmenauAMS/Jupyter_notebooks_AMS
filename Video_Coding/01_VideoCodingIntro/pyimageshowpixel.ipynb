{
 "cells": [
  {
   "cell_type": "markdown",
   "metadata": {},
   "source": [
    "# Pyimageshowpixel\n",
    "Program to capture an image from a camera and display the pixel value on the screen\n",
    "\n",
    "* **Import cv2:**"
   ]
  },
  {
   "cell_type": "code",
   "execution_count": 1,
   "metadata": {
    "collapsed": true
   },
   "outputs": [],
   "source": [
    "import cv2"
   ]
  },
  {
   "cell_type": "code",
   "execution_count": 2,
   "metadata": {
    "collapsed": true
   },
   "outputs": [],
   "source": [
    "cap = cv2.VideoCapture(0)"
   ]
  },
  {
   "cell_type": "markdown",
   "metadata": {},
   "source": [
    "* ** Capture one frame:**"
   ]
  },
  {
   "cell_type": "code",
   "execution_count": 3,
   "metadata": {
    "collapsed": false
   },
   "outputs": [
    {
     "name": "stdout",
     "output_type": "stream",
     "text": [
      "('image format: ', (480, 640, 3))\n",
      "('pixel 0,0: ', array([12, 13, 21], dtype=uint8))\n"
     ]
    }
   ],
   "source": [
    "[ret, frame] = cap.read()\n",
    "\n",
    "print(\"image format: \", frame.shape)\n",
    "print(\"pixel 0,0: \",frame[0,0,:])"
   ]
  }
 ],
 "metadata": {
  "kernelspec": {
   "display_name": "Python 2",
   "language": "python",
   "name": "python2"
  },
  "language_info": {
   "codemirror_mode": {
    "name": "ipython",
    "version": 2
   },
   "file_extension": ".py",
   "mimetype": "text/x-python",
   "name": "python",
   "nbconvert_exporter": "python",
   "pygments_lexer": "ipython2",
   "version": "2.7.12"
  }
 },
 "nbformat": 4,
 "nbformat_minor": 2
}
