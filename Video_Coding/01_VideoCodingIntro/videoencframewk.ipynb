{
 "cells": [
  {
   "cell_type": "markdown",
   "metadata": {
    "deletable": true,
    "editable": true
   },
   "source": [
    "# Videoencframewk\n",
    "Program to capture video from a camera and store it in an recording file, in Python txt format, using cPickle<br/>\n",
    "This is a framework for a simple video encoder to build.<br/>\n",
    "It writes into file 'videorecord.txt'\n",
    "\n",
    "    -Gerald Schuller, April 2015\n",
    "* **Import relevant modules: **"
   ]
  },
  {
   "cell_type": "code",
   "execution_count": 1,
   "metadata": {
    "collapsed": true,
    "deletable": true,
    "editable": true
   },
   "outputs": [],
   "source": [
    "import numpy as np\n",
    "import cv,cv2\n",
    "import cPickle as pickle\n",
    "\n",
    "\n",
    "cap = cv2.VideoCapture(0)\n",
    "\n",
    "f=open('videorecord.txt', 'wb')"
   ]
  },
  {
   "cell_type": "markdown",
   "metadata": {
    "deletable": true,
    "editable": true
   },
   "source": [
    "* **Process 25 frames:**"
   ]
  },
  {
   "cell_type": "code",
   "execution_count": 2,
   "metadata": {
    "collapsed": true,
    "deletable": true,
    "editable": true
   },
   "outputs": [],
   "source": [
    "for n in range(25):\n",
    "\n",
    "    ret, frame = cap.read()\n",
    "    \n",
    "    if ret==True:\n",
    "        #show captured frame:\n",
    "        cv2.imshow('frame',frame)\n",
    "\n",
    "        #Here goes the processing to reduce data... \n",
    "        reduced = frame.copy()\n",
    "        reduced=np.array(reduced,dtype='uint8')# for the Cb and Cr components use the int8 type\n",
    "        #\"Serialize\" the captured video frame (convert it to a string) \n",
    "        #using pickle, and write/append it to file f:\n",
    "        pickle.dump(reduced,f)\n",
    "        \n",
    "        if cv2.waitKey(1) & 0xFF == ord('q'):\n",
    "            break\n",
    "        else:\n",
    "            break"
   ]
  },
  {
   "cell_type": "markdown",
   "metadata": {
    "deletable": true,
    "editable": true
   },
   "source": [
    "* ** Release everything if job is finished:**"
   ]
  },
  {
   "cell_type": "code",
   "execution_count": 3,
   "metadata": {
    "collapsed": true,
    "deletable": true,
    "editable": true
   },
   "outputs": [],
   "source": [
    "cap.release()\n",
    "f.close()\n",
    "cv2.destroyAllWindows()"
   ]
  }
 ],
 "metadata": {
  "kernelspec": {
   "display_name": "Python 2",
   "language": "python",
   "name": "python2"
  },
  "language_info": {
   "codemirror_mode": {
    "name": "ipython",
    "version": 2
   },
   "file_extension": ".py",
   "mimetype": "text/x-python",
   "name": "python",
   "nbconvert_exporter": "python",
   "pygments_lexer": "ipython2",
   "version": "2.7.12"
  }
 },
 "nbformat": 4,
 "nbformat_minor": 2
}
