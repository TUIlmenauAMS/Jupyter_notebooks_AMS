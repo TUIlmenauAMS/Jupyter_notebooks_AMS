{
 "cells": [
  {
   "cell_type": "markdown",
   "metadata": {
    "deletable": true,
    "editable": true
   },
   "source": [
    "# VideorecdispRGB\n",
    "Program to capture a video from a camera and display Original and R,G,B, compinents live on the screen.\n",
    "\n",
    "* **Import relevant modules:**"
   ]
  },
  {
   "cell_type": "code",
   "execution_count": 1,
   "metadata": {
    "collapsed": false,
    "deletable": true,
    "editable": true
   },
   "outputs": [],
   "source": [
    "import cv2\n",
    "import numpy as np\n",
    "\n",
    "cap = cv2.VideoCapture(0)\n",
    "\n",
    "cv2.namedWindow('Original')\n",
    "cv2.namedWindow('B Komponente')\n",
    "cv2.namedWindow('G Komponente')\n",
    "cv2.namedWindow('R Komponente')\n",
    "\n",
    "while(True):\n",
    "    # Capture frame-by-frame\n",
    "    [ret, frame] = cap.read()\n",
    "\n",
    "    # Display the resulting frame\n",
    "    cv2.imshow('Original',frame)\n",
    "    cv2.imshow('B Komponente',frame[:,:,0])\n",
    "    cv2.imshow('G Komponente',frame[:,:,1])\n",
    "    cv2.imshow('R Komponente',frame[:,:,2])\n",
    "\n",
    "    if cv2.waitKey(1) & 0xFF == ord('q'):\n",
    "        break\n",
    "\n",
    "# When everything done, release the capture\n",
    "cap.release()\n",
    "cv2.destroyAllWindows()"
   ]
  }
 ],
 "metadata": {
  "kernelspec": {
   "display_name": "Python 2",
   "language": "python",
   "name": "python2"
  },
  "language_info": {
   "codemirror_mode": {
    "name": "ipython",
    "version": 2
   },
   "file_extension": ".py",
   "mimetype": "text/x-python",
   "name": "python",
   "nbconvert_exporter": "python",
   "pygments_lexer": "ipython2",
   "version": "2.7.12"
  }
 },
 "nbformat": 4,
 "nbformat_minor": 2
}
