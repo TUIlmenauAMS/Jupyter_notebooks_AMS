{
 "cells": [
  {
   "cell_type": "markdown",
   "metadata": {
    "deletable": true,
    "editable": true
   },
   "source": [
    "# Videoencframewk\n",
    "Program to open a video input file 'videorecord.txt' (python txt format using pickle) and display it on the screen.\n",
    "This is a framework for a simple video decoder to build.\n",
    "\n",
    "    -Gerald Schuller, April 2015\n",
    "* **Import relevant modules: **"
   ]
  },
  {
   "cell_type": "code",
   "execution_count": 1,
   "metadata": {
    "collapsed": true
   },
   "outputs": [],
   "source": [
    "import numpy as np\n",
    "import cv2\n",
    "import sys\n",
    "import pickle\n",
    "\n",
    "\n",
    "f=open('videorecord.txt', 'rb')"
   ]
  },
  {
   "cell_type": "markdown",
   "metadata": {},
   "source": [
    "* **Try/catch block to avoid EOFError while reading the file in while loop: **"
   ]
  },
  {
   "cell_type": "code",
   "execution_count": 2,
   "metadata": {
    "collapsed": false,
    "deletable": true,
    "editable": true
   },
   "outputs": [],
   "source": [
    "try:\n",
    "    while True:\n",
    "    #load next frame from file f and \"de-pickle\" it, convert from a string back to matrix or tensor:\n",
    "        reduced = pickle.load(f)\n",
    "\n",
    "        #here goes the decoding:\n",
    "        framedec = reduced.copy()\n",
    "\n",
    "        cv2.imshow('Video', framedec)\n",
    "        #Wait for key for 50ms, to get about 20 frames per second playback\n",
    "        #(depends also on speed of the machine, and recording frame rate, try out):\n",
    "        if cv2.waitKey(50) & 0xFF == ord('q'):\n",
    "            break\n",
    "except (EOFError):\n",
    "    pass\n",
    "\n",
    "\n",
    "# cap.release()\n",
    "cv2.destroyAllWindows()"
   ]
  }
 ],
 "metadata": {
  "kernelspec": {
   "display_name": "Python 2",
   "language": "python",
   "name": "python2"
  },
  "language_info": {
   "codemirror_mode": {
    "name": "ipython",
    "version": 2
   },
   "file_extension": ".py",
   "mimetype": "text/x-python",
   "name": "python",
   "nbconvert_exporter": "python",
   "pygments_lexer": "ipython2",
   "version": "2.7.12"
  }
 },
 "nbformat": 4,
 "nbformat_minor": 2
}
