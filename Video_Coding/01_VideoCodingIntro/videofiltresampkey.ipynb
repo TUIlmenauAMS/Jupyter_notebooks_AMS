{
 "cells": [
  {
   "cell_type": "markdown",
   "metadata": {
    "deletable": true,
    "editable": true
   },
   "source": [
    "# Videofiltresampkey\n",
    "Program to capture a video from a camera, filter it and display it live on the screen.\n",
    "    \n",
    "    -Gerald Schuller, October 2014\n",
    "* **Import the relevant modules:**"
   ]
  },
  {
   "cell_type": "code",
   "execution_count": 1,
   "metadata": {
    "collapsed": true,
    "deletable": true,
    "editable": true
   },
   "outputs": [],
   "source": [
    "import numpy as np\n",
    "import scipy.signal\n",
    "import cv2"
   ]
  },
  {
   "cell_type": "markdown",
   "metadata": {
    "deletable": true,
    "editable": true
   },
   "source": [
    "* **Downsample factor:**"
   ]
  },
  {
   "cell_type": "code",
   "execution_count": 2,
   "metadata": {
    "collapsed": true,
    "deletable": true,
    "editable": true
   },
   "outputs": [],
   "source": [
    "N = 8"
   ]
  },
  {
   "cell_type": "code",
   "execution_count": 3,
   "metadata": {
    "collapsed": false,
    "deletable": true,
    "editable": true
   },
   "outputs": [
    {
     "name": "stdout",
     "output_type": "stream",
     "text": [
      "(480, 640)\n"
     ]
    }
   ],
   "source": [
    "cap = cv2.VideoCapture(0)\n",
    "[retval, frame] = cap.read()\n",
    "[r,c,d] = frame.shape\n",
    "print(r,c)\n",
    "Dsy = np.zeros((r,c))"
   ]
  },
  {
   "cell_type": "markdown",
   "metadata": {
    "deletable": true,
    "editable": true
   },
   "source": [
    "* **2D-Mask to set to zero the 7/8 highest frequencies,\n",
    " only kep the 1/8 lowest frequencies in each direction:**"
   ]
  },
  {
   "cell_type": "code",
   "execution_count": 4,
   "metadata": {
    "collapsed": false,
    "deletable": true,
    "editable": true
   },
   "outputs": [],
   "source": [
    "M = np.ones((r,c))\n",
    "M[(r/16.0):(r-r/16.0),(c/16.0):(c-c/16.0)] = np.zeros((7.0/8.0*r,7.0/8.0*c))"
   ]
  },
  {
   "cell_type": "markdown",
   "metadata": {},
   "source": [
    "* **Conmpute space-domain/inverse 2D Fourier transform of Low Pass filter:**"
   ]
  },
  {
   "cell_type": "code",
   "execution_count": 5,
   "metadata": {
    "collapsed": true
   },
   "outputs": [],
   "source": [
    "h = np.abs(np.fft.ifft2(M))\n",
    "hc = np.concatenate((h[:,(c/2):c], h[:,0:(c/2)]), axis=1)\n",
    "hc = np.concatenate((hc[(r/2):r,:], hc[0:(r/2),:]))"
   ]
  },
  {
   "cell_type": "markdown",
   "metadata": {},
   "source": [
    "* **Only keep the part with the biggest components to reduce computations:**"
   ]
  },
  {
   "cell_type": "code",
   "execution_count": 6,
   "metadata": {
    "collapsed": true
   },
   "outputs": [],
   "source": [
    "hc = hc[(r/2-4):(r/2+4), (c/2-4):(c/2+4)]\n",
    "#High pass filter kernel for edge detection:\n",
    "#filt=np.matrix([[-1.0,-1.0,-1],[-1,8,-1],[-1,-1,-1]])/1.0;"
   ]
  },
  {
   "cell_type": "markdown",
   "metadata": {},
   "source": [
    "* **Low Pass Kernel:**\n",
    "  - ** *Rectangular filter kernel:* **"
   ]
  },
  {
   "cell_type": "code",
   "execution_count": 7,
   "metadata": {
    "collapsed": true
   },
   "outputs": [],
   "source": [
    "filt1 = np.ones((8,8))/8;"
   ]
  },
  {
   "cell_type": "markdown",
   "metadata": {},
   "source": [
    "* **Low Pass Kernel:**\n",
    "  - ** *Triangular filter kernel:* **"
   ]
  },
  {
   "cell_type": "code",
   "execution_count": 8,
   "metadata": {
    "collapsed": true
   },
   "outputs": [],
   "source": [
    "filt2 = scipy.signal.convolve2d(filt1, filt1)/8\n",
    "\n",
    "filteron = False"
   ]
  },
  {
   "cell_type": "markdown",
   "metadata": {},
   "source": [
    "* **Filter type:**"
   ]
  },
  {
   "cell_type": "code",
   "execution_count": 9,
   "metadata": {
    "collapsed": true
   },
   "outputs": [],
   "source": [
    "rectfilt = True"
   ]
  },
  {
   "cell_type": "code",
   "execution_count": 10,
   "metadata": {
    "collapsed": true
   },
   "outputs": [],
   "source": [
    "while(True):\n",
    "    # Capture frame-by-frame\n",
    "    [ret, frame] = cap.read()\n",
    "    Y = (0.114*frame[:,:,0] + 0.587*frame[:,:,1] + 0.299*frame[:,:,2])/256;\n",
    "    cv2.imshow('Original Y Signal',Y)\n",
    "\n",
    "    if rectfilt == True:\n",
    "        filt = filt1\n",
    "    else:\n",
    "        filt = filt2\n",
    "\n",
    "    if filteron == True:\n",
    "        Y = scipy.signal.convolve2d(Y,filt,mode='same')\n",
    "    #Downsample filtered frame:\n",
    "    Dsy[0::N,::N] = Y[0::N,::N];\n",
    "    # Display the resulting filtered frame\n",
    "    #cv2.imshow('Y LP filtered, down- and upsampled',Dsy)\n",
    "    #low pass filter the downsampled version to fill picture:\n",
    "\n",
    "    if filteron == True:\n",
    "        yfilt = scipy.signal.convolve2d(Dsy,filt,mode='same')\n",
    "    else:\n",
    "        yfilt = Dsy.copy()\n",
    "    #print(Dsy[0:8,0:8])\n",
    "    cv2.putText(yfilt,\"Down - and upsampling and LP filtering Demo\", (20,50), cv2.FONT_HERSHEY_SIMPLEX, 0.8, (255,128,128))\n",
    "    cv2.putText(yfilt,\"Toggle LP filter on/off: key f\", (20,100), cv2.FONT_HERSHEY_SIMPLEX, 0.8, (255,128,128))\n",
    "    cv2.putText(yfilt,\"Toggle rect and triang filt. kernel: key t\", (20,150), cv2.FONT_HERSHEY_SIMPLEX, 0.8, (255,128,128))\n",
    "    cv2.putText(yfilt,\"Quit: key q\", (20,200), cv2.FONT_HERSHEY_SIMPLEX, 0.8, (255,128,128))\n",
    "    cv2.imshow('(LP filtered,) down- and upsampled (, and LP filtered)',yfilt)\n",
    "    key=cv2.waitKey(1) & 0xFF;\n",
    "    if key == ord('f'):\n",
    "        filteron = not filteron;\n",
    "    if key == ord('t'):\n",
    "        rectfilt = not rectfilt;\n",
    "    if key == ord('q'):\n",
    "        break\n",
    "\n",
    "# When everything done, release the capture\n",
    "cap.release()\n",
    "cv2.destroyAllWindows()"
   ]
  }
 ],
 "metadata": {
  "kernelspec": {
   "display_name": "Python 2",
   "language": "python",
   "name": "python2"
  },
  "language_info": {
   "codemirror_mode": {
    "name": "ipython",
    "version": 2
   },
   "file_extension": ".py",
   "mimetype": "text/x-python",
   "name": "python",
   "nbconvert_exporter": "python",
   "pygments_lexer": "ipython2",
   "version": "2.7.12"
  }
 },
 "nbformat": 4,
 "nbformat_minor": 2
}
