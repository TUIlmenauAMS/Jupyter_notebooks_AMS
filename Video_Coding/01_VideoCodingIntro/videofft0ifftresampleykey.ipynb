{
 "cells": [
  {
   "cell_type": "markdown",
   "metadata": {},
   "source": [
    "# Videofft0ifftresampleykey\n",
    "Program to capture a video from a camera, compute the Y-component, \n",
    "downsample it by a factor of N horizontally and vertically, and display \n",
    "it live on the screen.\n",
    "<br/>With keyboard switchable low pass filter and sampling\n",
    "key f toggles the low pass filter, key s the sampling.<br/>\n",
    "With explanation text and state display in the image windows.\n",
    "\n",
    "    -Gerald Schuller, April. 2015\n",
    "* ** Import the relevant modules:**"
   ]
  },
  {
   "cell_type": "code",
   "execution_count": null,
   "metadata": {
    "collapsed": true
   },
   "outputs": [],
   "source": [
    "import numpy as np\n",
    "import cv2\n",
    "\n",
    "cap = cv2.VideoCapture(0)\n",
    "\n",
    "import numpy as np\n",
    "import cv2\n",
    "#import scipy.signal\n",
    "\n",
    "cap = cv2.VideoCapture(0)"
   ]
  },
  {
   "cell_type": "markdown",
   "metadata": {},
   "source": [
    "* **Low Pass Kernel:**"
   ]
  },
  {
   "cell_type": "markdown",
   "metadata": {},
   "source": [
    "* **Downsampling factor N:**"
   ]
  },
  {
   "cell_type": "code",
   "execution_count": null,
   "metadata": {
    "collapsed": false
   },
   "outputs": [],
   "source": [
    "N = 4\n",
    "[ret, frame] = cap.read()\n",
    "[rows,cols,c] = frame.shape\n",
    "r = rows\n",
    "c = cols\n",
    "Ds0 = np.zeros((rows,cols))\n",
    "Ds = Ds0"
   ]
  },
  {
   "cell_type": "markdown",
   "metadata": {},
   "source": [
    "* **Mask to set to zero the 7/8 highest frequencies, only keep the 1/8 lowest frequencies in each direction:<br/>\n",
    "For rows:**"
   ]
  },
  {
   "cell_type": "code",
   "execution_count": null,
   "metadata": {
    "collapsed": true
   },
   "outputs": [],
   "source": [
    "Mr = np.ones((r,1))\n",
    "Mr[(r/8.0):(r-r/8.0),0] = np.zeros((3.0/4.0*r))"
   ]
  },
  {
   "cell_type": "markdown",
   "metadata": {},
   "source": [
    "* **For columns:**"
   ]
  },
  {
   "cell_type": "code",
   "execution_count": null,
   "metadata": {
    "collapsed": true
   },
   "outputs": [],
   "source": [
    "Mc = np.ones((1,c))\n",
    "Mc[0,(c/8.0):(c-c/8)] = np.zeros((3.0/4.0*c));"
   ]
  },
  {
   "cell_type": "markdown",
   "metadata": {},
   "source": [
    "* **Together:**"
   ]
  },
  {
   "cell_type": "code",
   "execution_count": null,
   "metadata": {
    "collapsed": true
   },
   "outputs": [],
   "source": [
    "M = np.dot(Mr,Mc)\n",
    "\n",
    "ytext=np.zeros((rows,cols))\n",
    "cv2.putText(ytext,\"Down- and upsampling and LP filtering Demo\", (20,50), cv2.FONT_HERSHEY_SIMPLEX, 0.8, (1.0))\n",
    "cv2.putText(ytext,\"Toggle LP filter in 2D-FFT on/off: key f\", (20,100), cv2.FONT_HERSHEY_SIMPLEX, 0.8, (255))\n",
    "cv2.putText(ytext,\"Toggle sampling on/off: key s\", (20,150), cv2.FONT_HERSHEY_SIMPLEX, 0.8, (255))\n",
    "cv2.putText(ytext,\"Quit: key q\", (20,200), cv2.FONT_HERSHEY_SIMPLEX, 0.8, (255))\n",
    "\n",
    "\n",
    "filteron=False;\n",
    "samplingon=False;\n",
    "\n",
    "while(True):\n",
    "    #Encoding side:\n",
    "    # Capture frame-by-frame\n",
    "    [ret, frame] = cap.read()\n",
    "\n",
    "    #Berechnung der Luminanz-Komponente Y:\n",
    "    # Y= 0.114*B+0.587*G+0.299*R :\n",
    "    # /256 because the result is float values which imshow expects in range 0...1:\n",
    "    Y=(0.114*frame[:,:,0]+0.587*frame[:,:,1]+0.299*frame[:,:,2])/256;\n",
    "\n",
    "    cv2.imshow('Encoder, Original: Luminance Y',Y+ytext)\n",
    "\n",
    "    if filteron==True:\n",
    "       #2D-FFT of Y\n",
    "       X=np.fft.fft2(Y)\n",
    "       #Set to zero the 7/8 highest spatial frequencies in each direction:\n",
    "       X=X*M\n",
    "       #inverse 2D-FFT:\n",
    "       Y=np.abs(np.fft.ifft2(X))\n",
    "\n",
    "    if samplingon==True:\n",
    "        #Downgesamplets Y0, nur jedes Nte pixel horizontal und vertikal wir uebertragen:\n",
    "        Y0=np.zeros((rows,cols));\n",
    "        Y0[0::N,::N]=Y[0::N,::N];\n",
    "        Y=Y0.copy()\n",
    "\n",
    "    #Decoding Side\n",
    "    #Make text:\n",
    "    ytext2=np.zeros((rows,cols))\n",
    "    if samplingon:\n",
    "        cv2.putText(ytext2,\"Sampling on\", (20,20), cv2.FONT_HERSHEY_SIMPLEX, 0.8, (0.9))\n",
    "        #print(\"sampling on\")\n",
    "    else:\n",
    "        cv2.putText(ytext2,\"Sampling off\", (20,20), cv2.FONT_HERSHEY_SIMPLEX, 0.8, (0.9))\n",
    "        #print(\"sampling off\")\n",
    "\n",
    "    if filteron:\n",
    "        cv2.putText(ytext2,\"Filter on\", (20,50), cv2.FONT_HERSHEY_SIMPLEX, 0.8, (255))\n",
    "        #print(\"filter on\")\n",
    "    else:\n",
    "        cv2.putText(ytext2,\"Filter off\", (20,50), cv2.FONT_HERSHEY_SIMPLEX, 0.8, (255))\n",
    "        #print(\"filter off\")\n",
    "\n",
    "    #2D-DFT:\n",
    "    Dsfft=np.fft.fft2(Y)\n",
    "\n",
    "    if filteron == True:\n",
    "       #Lowpass filter the sampled frame:\n",
    "       #Dsfilt=N*scipy.signal.convolve2d(Ds0,filt,mode='same')\n",
    "       #Set to zero the 7/8 highest spacial frequencies in each direction:\n",
    "       Dsfft=Dsfft * M\n",
    "    #scaling to maintain the energy after sampling and filtering\n",
    "    if samplingon and filteron:\n",
    "        Dsfft=Dsfft*N*N\n",
    "    cv2.imshow('2D Discrete Fourier Transform of (downsampled, filtered) Luminance Y',np.abs(Dsfft)/(480.0)+ytext2)\n",
    "\n",
    "    #inverse 2D-FFT:\n",
    "    Y=np.abs(np.fft.ifft2(Dsfft))\n",
    "\n",
    "    cv2.imshow('Decoder: reconstructed Luminance Y',Y+ytext2)\n",
    "\n",
    "    #Ende durch Taste \"q\":\n",
    "    key=cv2.waitKey(1) & 0xFF;\n",
    "    if key == ord('s'):\n",
    "        samplingon = not samplingon;\n",
    "    if key == ord('f'):\n",
    "        filteron = not filteron;\n",
    "    if key == ord('q'):\n",
    "        break"
   ]
  },
  {
   "cell_type": "markdown",
   "metadata": {},
   "source": [
    "* **When everything done, release the capture**"
   ]
  },
  {
   "cell_type": "code",
   "execution_count": null,
   "metadata": {
    "collapsed": true
   },
   "outputs": [],
   "source": [
    "cap.release()\n",
    "cv2.destroyAllWindows()"
   ]
  }
 ],
 "metadata": {
  "kernelspec": {
   "display_name": "Python 2",
   "language": "python",
   "name": "python2"
  },
  "language_info": {
   "codemirror_mode": {
    "name": "ipython",
    "version": 2
   },
   "file_extension": ".py",
   "mimetype": "text/x-python",
   "name": "python",
   "nbconvert_exporter": "python",
   "pygments_lexer": "ipython2",
   "version": "2.7.12"
  }
 },
 "nbformat": 4,
 "nbformat_minor": 2
}
