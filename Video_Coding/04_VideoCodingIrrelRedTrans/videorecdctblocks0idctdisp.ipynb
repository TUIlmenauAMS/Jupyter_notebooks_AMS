{
 "cells": [
  {
   "cell_type": "markdown",
   "metadata": {
    "deletable": true,
    "editable": true
   },
   "source": [
    "# Videorecdctblocks0idctdisp \n",
    "Program to capture a video from the default camera (0), compute the 2D DCT on the Green component, take the magnitude (phase) and display it live on the screen, divide the picture into blocks of 8x8 pixels and apply a 2D DCT to each, low pass filter, and inverse transform.\n",
    "\n",
    "    -Gerald Schuller, Nov. 2014"
   ]
  },
  {
   "cell_type": "markdown",
   "metadata": {
    "deletable": true,
    "editable": true
   },
   "source": [
    "* **Import relevant modules:**"
   ]
  },
  {
   "cell_type": "code",
   "execution_count": 1,
   "metadata": {
    "collapsed": true,
    "deletable": true,
    "editable": true
   },
   "outputs": [],
   "source": [
    "import cv2\n",
    "import numpy as np\n",
    "import scipy.fftpack as sft\n",
    "import warnings\n",
    "warnings.filterwarnings('ignore')"
   ]
  },
  {
   "cell_type": "markdown",
   "metadata": {
    "deletable": true,
    "editable": true
   },
   "source": [
    "* **Define the variables:**"
   ]
  },
  {
   "cell_type": "code",
   "execution_count": 2,
   "metadata": {
    "collapsed": false,
    "deletable": true,
    "editable": true
   },
   "outputs": [
    {
     "name": "stdout",
     "output_type": "stream",
     "text": [
      "(480, 640)\n"
     ]
    }
   ],
   "source": [
    "cap = cv2.VideoCapture(0)\n",
    "\n",
    "#Get size of frame:\n",
    "[retval, frame] = cap.read()\n",
    "[r,c,d] = frame.shape\n",
    "print(r,c)"
   ]
  },
  {
   "cell_type": "markdown",
   "metadata": {
    "deletable": true,
    "editable": true
   },
   "source": [
    "* **Mask to set to zero the 3/4 highest frequencies, only keep the 1/4 lowest frequencies in each direction for the 8x8 DCT, because of the DCT no longer symmetric about the center:**"
   ]
  },
  {
   "cell_type": "markdown",
   "metadata": {
    "deletable": true,
    "editable": true
   },
   "source": [
    "* **For rows:**"
   ]
  },
  {
   "cell_type": "code",
   "execution_count": 3,
   "metadata": {
    "collapsed": false,
    "deletable": true,
    "editable": true
   },
   "outputs": [],
   "source": [
    "Mr = np.ones(8) \n",
    "Mr[(8/4.0):r] = np.zeros((3.0/4.0*8))"
   ]
  },
  {
   "cell_type": "markdown",
   "metadata": {
    "deletable": true,
    "editable": true
   },
   "source": [
    "* **For columns:**"
   ]
  },
  {
   "cell_type": "code",
   "execution_count": 4,
   "metadata": {
    "collapsed": true,
    "deletable": true,
    "editable": true
   },
   "outputs": [],
   "source": [
    "Mc = Mr"
   ]
  },
  {
   "cell_type": "markdown",
   "metadata": {
    "deletable": true,
    "editable": true
   },
   "source": [
    "* **Grid of 8x8 blocks:**"
   ]
  },
  {
   "cell_type": "code",
   "execution_count": 5,
   "metadata": {
    "collapsed": true,
    "deletable": true,
    "editable": true
   },
   "outputs": [],
   "source": [
    "gc = np.zeros((1,c))\n",
    "gc[0,0:c:8] = np.ones(c/8)\n",
    "gr = np.zeros((r,1))\n",
    "gr[0:r:8,0] = np.ones(r/8)\n",
    "grid = np.ones((r,1))*gc + gr*np.ones((1,c))"
   ]
  },
  {
   "cell_type": "markdown",
   "metadata": {},
   "source": [
    "* ** Compute magnitude of 2D DCT of blocks of 8x8 pixels of the green component by first reshaping the image to width 8 and applying the 1D DCT all rows, then reshape it back, then transpose it, and again reshape it to width 8 and apply the 1D DCT to each row, reshape it back, and transpose it back.<br/>\n",
    "    with norm='ortho' for \"energy conservation\" in the subbands and for \n",
    "    invertibiltity without factor.**"
   ]
  },
  {
   "cell_type": "code",
   "execution_count": 6,
   "metadata": {
    "collapsed": true
   },
   "outputs": [],
   "source": [
    "while(True):\n",
    "    # Capture frame-by-frame\n",
    "    [retval, frame] = cap.read()    \n",
    "\n",
    "    cv2.imshow('Original Video, Green Component, with superimposed 8x8 grid',frame[:,:,1]/255.0+grid)\n",
    "    #cv2.imshow('Original Video, Gruen Komponente',frame[:,:,1])\n",
    "\n",
    "    #compute magnitude of 2D DCT of blocks of 8x8 pixels of the green component \n",
    "    #by first reshaping the image to width 8 and applying the 1D DCT all rows, then reshape it back,\n",
    "    #then transpose it, and again reshape it to width 8 and apply the 1D DCT to each row, reshape it back,\n",
    "    #and transpose it back.\n",
    "    #with norm='ortho' for \"energy conservation\" in the subbands and for \n",
    "    #invertibiltity without factor.\n",
    "\n",
    "    #First reshape green frame as frame with rows of width 8, (rows: order= 'C' ), \n",
    "    #and apply DCT to each row of length 8 of all blocks:\n",
    "    frame=np.reshape(frame[:,:,1],(-1,8), order='C')\n",
    "    X=sft.dct(frame/255.0,axis=1,norm='ortho')\n",
    "    #apply row filter to each row by matrix multiplication with Mr as a diagonal matrix from the right:\n",
    "    X=np.dot(X,np.diag(Mr))\n",
    "    #shape it back to original shape:\n",
    "    X=np.reshape(X,(-1,c), order='C')\n",
    "    #Shape frame with columns of hight 8 by using transposition .T:\n",
    "    X=np.reshape(X.T,(-1,8), order='C')\n",
    "    X=sft.dct(X,axis=1,norm='ortho')\n",
    "    #apply column filter to each row by matrix multiplication with Mc as a diagonal matrix from the right:\n",
    "    X=np.dot(X,np.diag(Mc))\n",
    "    #shape it back to original shape:\n",
    "    X=(np.reshape(X,(-1,r), order='C')).T\n",
    "    #Set to zero the 7/8 highest spacial frequencies in each direction:\n",
    "    #X=X*M\n",
    "    frame=np.abs(X)\n",
    "    \n",
    "    # Display the resulting frame\n",
    "    cv2.imshow('2D-DCT mit Null Setzen der hoechsten Ortsfrequenzen je 8x8 Block',frame)\n",
    "    #Inverse 2D DCT,\n",
    "    #Rows:\n",
    "    X=np.reshape(X,(-1,8), order='C')\n",
    "    X=sft.idct(X,axis=1,norm='ortho')\n",
    "    #shape it back to original shape:\n",
    "    X=np.reshape(X,(-1,c), order='C')\n",
    "    #Shape frame with columns of hight 8 (columns: order='F' convention):\n",
    "    X=np.reshape(X.T,(-1,8), order='C')\n",
    "    x=sft.idct(X,axis=1,norm='ortho')\n",
    "    #shape it back to original shape:\n",
    "    x=(np.reshape(x,(-1,r), order='C')).T \n",
    " \n",
    "    cv2.imshow('Inverse 2D DCT ohne die hoechsten Ortsfrequenzen', x)\n",
    "    \n",
    "    #Keep window open until key 'q' is pressed:\n",
    "    if cv2.waitKey(1) & 0xFF == ord('q'):\n",
    "        break"
   ]
  },
  {
   "cell_type": "markdown",
   "metadata": {},
   "source": [
    "* ** When everything done, release the capture:**"
   ]
  },
  {
   "cell_type": "code",
   "execution_count": 7,
   "metadata": {
    "collapsed": true
   },
   "outputs": [],
   "source": [
    "cap.release()\n",
    "cv2.destroyAllWindows()"
   ]
  }
 ],
 "metadata": {
  "kernelspec": {
   "display_name": "Python 2",
   "language": "python",
   "name": "python2"
  },
  "language_info": {
   "codemirror_mode": {
    "name": "ipython",
    "version": 2
   },
   "file_extension": ".py",
   "mimetype": "text/x-python",
   "name": "python",
   "nbconvert_exporter": "python",
   "pygments_lexer": "ipython2",
   "version": "2.7.12"
  }
 },
 "nbformat": 4,
 "nbformat_minor": 2
}
