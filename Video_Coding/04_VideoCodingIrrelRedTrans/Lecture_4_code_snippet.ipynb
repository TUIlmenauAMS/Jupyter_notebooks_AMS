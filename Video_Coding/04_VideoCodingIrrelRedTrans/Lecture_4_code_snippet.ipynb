{
 "cells": [
  {
   "cell_type": "markdown",
   "metadata": {
    "deletable": true,
    "editable": true
   },
   "source": [
    "# Python example: "
   ]
  },
  {
   "cell_type": "markdown",
   "metadata": {
    "deletable": true,
    "editable": true
   },
   "source": [
    "### The DCT Type 2 is defined as\n",
    "$$\\normalsize T_{n,k}=\\frac{1}{\\sqrt{N}}.cos\\Big(\\frac{\\pi}{N}.(n+0.5 ).k \\Big)$$\n",
    "\n",
    "for $ n, k =0,. .. , N −1.$\n",
    "\n",
    "### Take a 4x4 block of an image, for instance a part of a somewhat dark and even background:"
   ]
  },
  {
   "cell_type": "code",
   "execution_count": 18,
   "metadata": {
    "collapsed": false,
    "deletable": true,
    "editable": true
   },
   "outputs": [
    {
     "data": {
      "text/plain": [
       "array([[ 0.3,  0.3,  0.3,  0.3],\n",
       "       [ 0.3,  0.3,  0.3,  0.3],\n",
       "       [ 0.3,  0.3,  0.3,  0.3],\n",
       "       [ 0.3,  0.3,  0.3,  0.3]])"
      ]
     },
     "execution_count": 18,
     "metadata": {},
     "output_type": "execute_result"
    }
   ],
   "source": [
    "import numpy as np\n",
    "x = 0.3*np.ones((4,4))\n",
    "x"
   ]
  },
  {
   "cell_type": "markdown",
   "metadata": {
    "collapsed": true,
    "deletable": true,
    "editable": true
   },
   "source": [
    "### Now transform this block $\\normalsize x$. First compute the transform matrix $\\normalsize T$, which in this example is a so-called DCT type 2. First we obtain the transform matrix $\\normalsize T$ by applying the DCT to the identity matrix $\\normalsize I$ (norm=’ortho’ includes the square root term):"
   ]
  },
  {
   "cell_type": "code",
   "execution_count": 19,
   "metadata": {
    "collapsed": false,
    "deletable": true,
    "editable": true
   },
   "outputs": [
    {
     "data": {
      "text/plain": [
       "array([[ 1.,  0.,  0.,  0.],\n",
       "       [ 0.,  1.,  0.,  0.],\n",
       "       [ 0.,  0.,  1.,  0.],\n",
       "       [ 0.,  0.,  0.,  1.]])"
      ]
     },
     "execution_count": 19,
     "metadata": {},
     "output_type": "execute_result"
    }
   ],
   "source": [
    "import scipy.fftpack \n",
    "I = np.eye(4)\n",
    "I"
   ]
  },
  {
   "cell_type": "code",
   "execution_count": 20,
   "metadata": {
    "collapsed": false,
    "deletable": true,
    "editable": true
   },
   "outputs": [
    {
     "data": {
      "text/plain": [
       "array([[ 0.5       ,  0.65328148,  0.5       ,  0.27059805],\n",
       "       [ 0.5       ,  0.27059805, -0.5       , -0.65328148],\n",
       "       [ 0.5       , -0.27059805, -0.5       ,  0.65328148],\n",
       "       [ 0.5       , -0.65328148,  0.5       , -0.27059805]])"
      ]
     },
     "execution_count": 20,
     "metadata": {},
     "output_type": "execute_result"
    }
   ],
   "source": [
    "T = scipy.fftpack.dct(I, norm='ortho')\n",
    "T"
   ]
  },
  {
   "cell_type": "markdown",
   "metadata": {
    "deletable": true,
    "editable": true
   },
   "source": [
    "### Here we can see that each column represents a filter. For instance our filter impulse response (the coefficients) for the lowest subband, (including flipping it up-down) is,"
   ]
  },
  {
   "cell_type": "code",
   "execution_count": 21,
   "metadata": {
    "collapsed": false,
    "deletable": true,
    "editable": true
   },
   "outputs": [
    {
     "data": {
      "text/plain": [
       "array([ 0.5,  0.5,  0.5,  0.5])"
      ]
     },
     "execution_count": 21,
     "metadata": {},
     "output_type": "execute_result"
    }
   ],
   "source": [
    "h0=np.flipud(T[:,0]) \n",
    "h0"
   ]
  },
  {
   "cell_type": "markdown",
   "metadata": {
    "deletable": true,
    "editable": true
   },
   "source": [
    "### Now we can transform our block $\\normalsize x$ to obtain our 2-dimensional subband values $\\normalsize y$,"
   ]
  },
  {
   "cell_type": "code",
   "execution_count": 22,
   "metadata": {
    "collapsed": false,
    "deletable": true,
    "editable": true
   },
   "outputs": [
    {
     "data": {
      "text/plain": [
       "array([[ 1.2,  0. ,  0. ,  0. ],\n",
       "       [ 0. ,  0. ,  0. ,  0. ],\n",
       "       [ 0. ,  0. ,  0. ,  0. ],\n",
       "       [ 0. ,  0. ,  0. ,  0. ]])"
      ]
     },
     "execution_count": 22,
     "metadata": {},
     "output_type": "execute_result"
    }
   ],
   "source": [
    "y=np.dot(np.dot(np.transpose(T),x),T) \n",
    "y"
   ]
  },
  {
   "cell_type": "markdown",
   "metadata": {
    "deletable": true,
    "editable": true
   },
   "source": [
    "### Observe:\n",
    "\n",
    "We have only **1 large value**, the 1.2, in the upper, left hand corner. This corresponds to filter $h_0(n)$ horizontally and vertically. The rest of the coefficients are zero. For natural images, the DCT usually has this effect, that the large values appear in the upper, left hand corner, and the rest of the values are much smaller. This property is also called **\"energy compaction\"**, and is used to reduce the bit rate, by taking advantage of redundancies in our signal, the image block. For instance, many consecutive zeros can be efficiently and easily encoded using the run-length coding (an escape code, followed by the value and the number of repetitions)."
   ]
  }
 ],
 "metadata": {
  "kernelspec": {
   "display_name": "Python 2",
   "language": "python",
   "name": "python2"
  },
  "language_info": {
   "codemirror_mode": {
    "name": "ipython",
    "version": 2
   },
   "file_extension": ".py",
   "mimetype": "text/x-python",
   "name": "python",
   "nbconvert_exporter": "python",
   "pygments_lexer": "ipython2",
   "version": "2.7.12"
  }
 },
 "nbformat": 4,
 "nbformat_minor": 2
}
