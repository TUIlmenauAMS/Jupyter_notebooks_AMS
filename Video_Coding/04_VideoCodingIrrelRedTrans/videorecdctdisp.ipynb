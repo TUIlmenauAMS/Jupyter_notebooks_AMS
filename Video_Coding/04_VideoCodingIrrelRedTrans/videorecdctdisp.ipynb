{
 "cells": [
  {
   "cell_type": "markdown",
   "metadata": {},
   "source": [
    "# Videorecdctdisp\n",
    "Program to capture a video from the default camera (0), compute the 2D DCT Type 2\n",
    "on the Green component, take the magnitude (phase) and display it live on the screen\n",
    "\n",
    "    -Gerald Schuller, Nov. 2014"
   ]
  },
  {
   "cell_type": "markdown",
   "metadata": {},
   "source": [
    "* **Import relevant modules:**"
   ]
  },
  {
   "cell_type": "code",
   "execution_count": 1,
   "metadata": {
    "collapsed": true
   },
   "outputs": [],
   "source": [
    "import cv2\n",
    "import numpy as np\n",
    "import scipy.fftpack as sft"
   ]
  },
  {
   "cell_type": "markdown",
   "metadata": {},
   "source": [
    "* **Instantiate capturing object:**"
   ]
  },
  {
   "cell_type": "code",
   "execution_count": null,
   "metadata": {
    "collapsed": true
   },
   "outputs": [],
   "source": [
    "cap = cv2.VideoCapture(0)"
   ]
  },
  {
   "cell_type": "markdown",
   "metadata": {},
   "source": [
    "* **Start capturing and apply 2D-DCT on each of the frames and display the 2D-DCT for the live capture:**\n",
    "* **Press 'q' to quit the popped up windows:**"
   ]
  },
  {
   "cell_type": "code",
   "execution_count": null,
   "metadata": {
    "collapsed": true
   },
   "outputs": [],
   "source": [
    "while(True):\n",
    "    # Capture frame-by-frame\n",
    "    [retval, frame] = cap.read()  \n",
    "    print(frame.shape)  \n",
    "    #compute magnitude of 2D DCT of green component \n",
    "    #by applying the DCT first along the rows and the along the columns,\n",
    "    #with suitable normalization for the display:\n",
    "    frame=sft.dct(frame[:,:,1]/255.0,axis=1,norm='ortho')\n",
    "    frame=np.abs(sft.dct(frame,axis=0,norm='ortho'))\n",
    "    #angle/phase:\n",
    "    #frame=(3.14+np.angle(np.fft.fft2(frame[:,:,1]/255.0)))/6.28\n",
    "    # Display the resulting frame\n",
    "    cv2.imshow('Betrag der 2D - DCT Typ 2 des Videos',frame)\n",
    "    #Keep window open until key 'q' is pressed:\n",
    "    if cv2.waitKey(1) & 0xFF == ord('q'):\n",
    "        break"
   ]
  },
  {
   "cell_type": "markdown",
   "metadata": {},
   "source": [
    "* **When everything's done then release the capture:**"
   ]
  },
  {
   "cell_type": "code",
   "execution_count": null,
   "metadata": {
    "collapsed": true
   },
   "outputs": [],
   "source": [
    "cap.release()\n",
    "cv2.destroyAllWindows()"
   ]
  }
 ],
 "metadata": {
  "kernelspec": {
   "display_name": "Python 2",
   "language": "python",
   "name": "python2"
  },
  "language_info": {
   "codemirror_mode": {
    "name": "ipython",
    "version": 2
   },
   "file_extension": ".py",
   "mimetype": "text/x-python",
   "name": "python",
   "nbconvert_exporter": "python",
   "pygments_lexer": "ipython2",
   "version": "2.7.12"
  }
 },
 "nbformat": 4,
 "nbformat_minor": 2
}
