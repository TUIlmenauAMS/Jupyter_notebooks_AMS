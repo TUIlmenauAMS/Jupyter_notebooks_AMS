{
 "cells": [
  {
   "cell_type": "markdown",
   "metadata": {
    "deletable": true,
    "editable": true
   },
   "source": [
    "# Videorecdct0idctdisp\n",
    "Program to capture a video from the default camera (0), compute the 2D DCT \n",
    "on the Green component, take the magnitude (phase) and display it live on the screen\n",
    "and then low pass filter it and finally inverse transform it.\n",
    "    \n",
    "    -Gerald Schuller, Nov. 2014"
   ]
  },
  {
   "cell_type": "markdown",
   "metadata": {
    "deletable": true,
    "editable": true
   },
   "source": [
    "* **Import relevant modules:** "
   ]
  },
  {
   "cell_type": "code",
   "execution_count": 1,
   "metadata": {
    "collapsed": true,
    "deletable": true,
    "editable": true
   },
   "outputs": [],
   "source": [
    "import cv2\n",
    "import numpy as np\n",
    "import scipy.fftpack as sft"
   ]
  },
  {
   "cell_type": "markdown",
   "metadata": {
    "deletable": true,
    "editable": true
   },
   "source": [
    "* **Define the variables:**"
   ]
  },
  {
   "cell_type": "code",
   "execution_count": 2,
   "metadata": {
    "collapsed": false,
    "deletable": true,
    "editable": true
   },
   "outputs": [
    {
     "name": "stdout",
     "output_type": "stream",
     "text": [
      "(480, 640)\n"
     ]
    }
   ],
   "source": [
    "cap = cv2.VideoCapture(0)\n",
    "#Get size of frame:\n",
    "[retval, frame] = cap.read()\n",
    "[r,c,d]=frame.shape\n",
    "print(r,c)"
   ]
  },
  {
   "cell_type": "markdown",
   "metadata": {
    "deletable": true,
    "editable": true
   },
   "source": [
    "### Mask to set to zero the 3/4 highest frequencies, only keep the 1/4 lowest frequencies in each direction for the DCT, because of the DCT no longer symmetric about the center:\n",
    "* **For rows:**"
   ]
  },
  {
   "cell_type": "code",
   "execution_count": null,
   "metadata": {
    "collapsed": true
   },
   "outputs": [],
   "source": [
    "Mr = np.ones((r,1)) \n",
    "Mr[(r/4.0):r,0] = np.zeros((3.0/4.0*r))"
   ]
  },
  {
   "cell_type": "markdown",
   "metadata": {},
   "source": [
    "* **For columns:**"
   ]
  },
  {
   "cell_type": "code",
   "execution_count": null,
   "metadata": {
    "collapsed": true
   },
   "outputs": [],
   "source": [
    "Mc=np.ones((1, c)) \n",
    "Mc[0, (c/4.0):c] = np.zeros((3.0/4.0*c))"
   ]
  },
  {
   "cell_type": "markdown",
   "metadata": {},
   "source": [
    "* **Together:**"
   ]
  },
  {
   "cell_type": "code",
   "execution_count": 3,
   "metadata": {
    "collapsed": false,
    "deletable": true,
    "editable": true
   },
   "outputs": [],
   "source": [
    "M = np.dot(Mr,Mc)"
   ]
  },
  {
   "cell_type": "markdown",
   "metadata": {
    "deletable": true,
    "editable": true
   },
   "source": [
    "### Start looping over captured frames, analyse it and compute the 2D-DCT for the green component of those frames and then apply inverse DCT to display the coded frame simultaneously:**\n",
    "> **After applying the 2D-DCT removing the High frequencies i.e., 7/8th of the frequencies and considering only low frequency componenets.**\n",
    "\n",
    "> **Once done press 'q' to quit all windows:**"
   ]
  },
  {
   "cell_type": "code",
   "execution_count": 4,
   "metadata": {
    "collapsed": true,
    "deletable": true,
    "editable": true
   },
   "outputs": [],
   "source": [
    "while(True):\n",
    "    # Capture frame-by-frame\n",
    "    [retval, frame] = cap.read()\n",
    "    cv2.imshow('Original Video, Gruen Komponente',frame[:,:,1])\n",
    "\n",
    "    #compute magnitude of 2D DCT of green component\n",
    "    #with suitable normalization for the display,\n",
    "    #with norm='ortho' for \"energy conservation\" in the subbands and for\n",
    "    #invertibiltity without factor:\n",
    "    X=sft.dct(frame[:,:,1]/255.0,axis=1,norm='ortho')\n",
    "    X=sft.dct(X,axis=0,norm='ortho')\n",
    "    #Set to zero the 7/8 highest spatial frequencies in each direction:\n",
    "    X=X*M\n",
    "    frame=np.abs(X)\n",
    "\n",
    "    # Display the resulting frame\n",
    "    cv2.imshow('2D-DCT mit Null Setzen der hoechsten Ortsfrequenzen',frame)\n",
    "    #Inverse 2D DCT:\n",
    "    X=sft.idct(X,axis=1,norm='ortho')\n",
    "    x=sft.idct(X,axis=0,norm='ortho')\n",
    "    cv2.imshow('Inverse 2D DCT ohne die hoechsten Ortsfrequenzen', x)\n",
    "\n",
    "    #Keep window open until key 'q' is pressed:\n",
    "    if cv2.waitKey(1) & 0xFF == ord('q'):\n",
    "        break"
   ]
  },
  {
   "cell_type": "markdown",
   "metadata": {
    "deletable": true,
    "editable": true
   },
   "source": [
    "### When everything is done then release the capture:"
   ]
  },
  {
   "cell_type": "code",
   "execution_count": 5,
   "metadata": {
    "collapsed": false,
    "deletable": true,
    "editable": true
   },
   "outputs": [],
   "source": [
    "cap.release()\n",
    "cv2.destroyAllWindows()"
   ]
  }
 ],
 "metadata": {
  "kernelspec": {
   "display_name": "Python 2",
   "language": "python",
   "name": "python2"
  },
  "language_info": {
   "codemirror_mode": {
    "name": "ipython",
    "version": 2
   },
   "file_extension": ".py",
   "mimetype": "text/x-python",
   "name": "python",
   "nbconvert_exporter": "python",
   "pygments_lexer": "ipython2",
   "version": "2.7.12"
  }
 },
 "nbformat": 4,
 "nbformat_minor": 2
}
