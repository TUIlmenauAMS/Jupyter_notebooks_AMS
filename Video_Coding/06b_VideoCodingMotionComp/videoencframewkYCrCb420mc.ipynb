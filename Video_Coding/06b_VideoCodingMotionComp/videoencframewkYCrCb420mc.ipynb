{
 "cells": [
  {
   "cell_type": "markdown",
   "metadata": {
    "deletable": true,
    "editable": true
   },
   "source": [
    "# VideoencframewkYCrCb420mc\n",
    "\n",
    "### Program to capture video from a camera and store it in an recording file, in Python txt format, using cPickle\n",
    "### Also, frame is divided into luminance and two color components. By using 4:2:0 scheme, color components are then downsampled by the factor of 2. To reduce aliasing artifacts pyramidial filter is used.\n",
    "### With motion estimation and display of motion vectors\n",
    "### This is a framework for a simple video encoder to build.\n",
    "### It writes into file 'videorecord.txt'\n",
    "\n",
    "    - Gerald Schuller, May 2015"
   ]
  },
  {
   "cell_type": "markdown",
   "metadata": {
    "deletable": true,
    "editable": true
   },
   "source": [
    "* **Import relevant modules:**"
   ]
  },
  {
   "cell_type": "code",
   "execution_count": 1,
   "metadata": {
    "collapsed": true,
    "deletable": true,
    "editable": true
   },
   "outputs": [],
   "source": [
    "import numpy as np\n",
    "import cv,cv2\n",
    "import cPickle as pickle\n",
    "import scipy.signal  "
   ]
  },
  {
   "cell_type": "markdown",
   "metadata": {
    "deletable": true,
    "editable": true
   },
   "source": [
    "* **Define the variables required:**"
   ]
  },
  {
   "cell_type": "code",
   "execution_count": 2,
   "metadata": {
    "collapsed": true,
    "deletable": true,
    "editable": true
   },
   "outputs": [],
   "source": [
    "cap = cv2.VideoCapture(0)\n",
    "N=2\n",
    "g=open('videorecord.txt', 'w')\n",
    "# filter is created by convolving two rectangular filters\n",
    "#Triangular filter kernel:\n",
    "filt1=np.ones((N,N))/N;\n",
    "filt2=scipy.signal.convolve2d(filt1,filt1)/N"
   ]
  },
  {
   "cell_type": "markdown",
   "metadata": {
    "deletable": true,
    "editable": true
   },
   "source": [
    "* **Extract size of the fram from the capture:**"
   ]
  },
  {
   "cell_type": "code",
   "execution_count": 3,
   "metadata": {
    "collapsed": false,
    "deletable": true,
    "editable": true
   },
   "outputs": [
    {
     "name": "stdout",
     "output_type": "stream",
     "text": [
      "(480, 640)\n"
     ]
    }
   ],
   "source": [
    "[retval, frame] = cap.read()\n",
    "[rows,columns,d] = frame.shape\n",
    "print(rows,columns)"
   ]
  },
  {
   "cell_type": "markdown",
   "metadata": {
    "deletable": true,
    "editable": true
   },
   "source": [
    "* **Grid of 8x8 blocks:**"
   ]
  },
  {
   "cell_type": "code",
   "execution_count": 4,
   "metadata": {
    "collapsed": false,
    "deletable": true,
    "editable": true
   },
   "outputs": [],
   "source": [
    "gc = np.zeros((1,columns))\n",
    "gc[0,0:columns:8] = np.ones(columns/8)\n",
    "gr = np.zeros((rows,1))\n",
    "gr[0:rows:8,0] = np.ones(rows/8)\n",
    "grid = np.ones((rows,1))*gc + gr*np.ones((1,columns))\n",
    "grid3 = np.zeros((rows,columns,3))\n",
    "grid3[:,:,1] = grid"
   ]
  },
  {
   "cell_type": "markdown",
   "metadata": {
    "deletable": true,
    "editable": true
   },
   "source": [
    "* **Previous Y frame:**"
   ]
  },
  {
   "cell_type": "code",
   "execution_count": 5,
   "metadata": {
    "collapsed": true,
    "deletable": true,
    "editable": true
   },
   "outputs": [],
   "source": [
    "Yprev = np.zeros((rows, columns))"
   ]
  },
  {
   "cell_type": "markdown",
   "metadata": {
    "deletable": true,
    "editable": true
   },
   "source": [
    "* **Vectors for current frame as graphic:**"
   ]
  },
  {
   "cell_type": "code",
   "execution_count": 6,
   "metadata": {
    "collapsed": true,
    "deletable": true,
    "editable": true
   },
   "outputs": [],
   "source": [
    "framevectors = np.zeros((rows, columns, 3))"
   ]
  },
  {
   "cell_type": "markdown",
   "metadata": {
    "deletable": true,
    "editable": true
   },
   "source": [
    "* **Motion vectors, for each block a 2-d vector:**"
   ]
  },
  {
   "cell_type": "code",
   "execution_count": 7,
   "metadata": {
    "collapsed": true,
    "deletable": true,
    "editable": true
   },
   "outputs": [],
   "source": [
    "mv = np.zeros((rows/8, columns/8, 2))"
   ]
  },
  {
   "cell_type": "markdown",
   "metadata": {
    "deletable": true,
    "editable": true
   },
   "source": [
    "* **Processing 25 frames, computing YCbCr components, then applying filter and donsampling followed by motion estimation using block-wise approach:**"
   ]
  },
  {
   "cell_type": "code",
   "execution_count": 8,
   "metadata": {
    "collapsed": false,
    "deletable": true,
    "editable": true
   },
   "outputs": [
    {
     "name": "stdout",
     "output_type": "stream",
     "text": [
      "('Frame no ', 0)\n",
      "('Frame no ', 1)\n",
      "('Frame no ', 2)\n",
      "('Frame no ', 3)\n",
      "('Frame no ', 4)\n",
      "('Frame no ', 5)\n",
      "('Frame no ', 6)\n",
      "('Frame no ', 7)\n",
      "('Frame no ', 8)\n",
      "('Frame no ', 9)\n",
      "('Frame no ', 10)\n",
      "('Frame no ', 11)\n",
      "('Frame no ', 12)\n",
      "('Frame no ', 13)\n",
      "('Frame no ', 14)\n",
      "('Frame no ', 15)\n",
      "('Frame no ', 16)\n",
      "('Frame no ', 17)\n",
      "('Frame no ', 18)\n",
      "('Frame no ', 19)\n",
      "('Frame no ', 20)\n",
      "('Frame no ', 21)\n",
      "('Frame no ', 22)\n",
      "('Frame no ', 23)\n",
      "('Frame no ', 24)\n"
     ]
    }
   ],
   "source": [
    "for n in range(25):\n",
    "    print(\"Frame no \",n)\n",
    "    ret, frame = cap.read()\n",
    "    [rows, columns, c] = frame.shape\n",
    "\n",
    "    if ret == True:\n",
    "\n",
    "        #Here goes the processing to reduce data...\n",
    "        reduced = np.zeros((rows,columns,c))\n",
    "        Y = (0.114*frame[:,:,0] + 0.587*frame[:,:,1] + 0.299*frame[:,:,2]);\n",
    "\n",
    "        Cb = (0.4997*frame[:,:,0] - 0.33107*frame[:,:,1] - 0.16864*frame[:,:,2]);\n",
    "\n",
    "        Cr = (-0.081282*frame[:,:,0] - 0.418531*frame[:,:,1] + 0.499813*frame[:,:,2]);\n",
    "        reduced[:,:,0]=Y\n",
    "        reduced[:,:,1]=Cb\n",
    "        reduced[:,:,2]=Cr\n",
    "\n",
    "        #print(grid3.shape)\n",
    "        #print(framevectors.shape)\n",
    "\n",
    "        cv2.imshow('Original',frame/255.0+framevectors)\n",
    "        #cv2.imshow('Luminanz Y',Y[0:200,0:100]/255)\n",
    "        #cv2.imshow('Unterabgetastetes Y',Ds)\n",
    "        #cv2.imshow('Farbkomponente U',np.abs(Cr))\n",
    "        #cv2.imshow('Farbkomponente V',np.abs(Cb))\n",
    "\n",
    "\n",
    "        #Two color components are filtered first\n",
    "        Crfilt = scipy.signal.convolve2d(Cr,filt2,mode='same')\n",
    "        Cbfilt = scipy.signal.convolve2d(Cb,filt2,mode='same')\n",
    "\n",
    "        #Downsampling\n",
    "        DCr = Crfilt[0::N,::N];\n",
    "        DCb = Cbfilt[0::N,::N];\n",
    "        #cv2.imshow('Crfiltered',DCr)\n",
    "        #cv2.imshow('Cbfiltered',DCb)\n",
    "\n",
    "        #Motion estimation, correlate current Y block with previous 16x16 block which contains current 8x8 block:\n",
    "        #Start pixel for block wise motion estimation:\n",
    "        block = np.array([8,8])\n",
    "        framevectors = np.zeros((rows,columns,3))\n",
    "        #for loops for the blocks:\n",
    "        #print(\"for loops for the motion vectors:\")\n",
    "        \n",
    "        for yblock in range(5):\n",
    "            #print(\"yblock=\",yblock)\n",
    "            block[0] = yblock * 8 + 200\n",
    "            for xblock in range(5):\n",
    "                #print(\"xblock=\",xblock)\n",
    "                block[1] = xblock * 8 + 300\n",
    "                #print(\"block= \", block)\n",
    "                #current block:\n",
    "                Yc = Y[block[0]:block[0] + 8, block[1]:block[1] + 8]\n",
    "                #print(\"Yc= \",Yc)\n",
    "                #previous block:\n",
    "                #Yp=Yprev[block[0]-4 : block[0]+12 ,block[1]-4 : block[1]+12]\n",
    "                #print(\"Yp= \",Yp)\n",
    "                #correlate both to find motion vector\n",
    "                #print(\"Yp=\",Yp)\n",
    "                #print(Yc.shape)\n",
    "                #Some high value for MAE for initialization:\n",
    "                bestmae = 10000.0;\n",
    "                #For loops for the motion vector, full search at +-8 integer pixels:\n",
    "                for ymv in range(-8,8):\n",
    "                    for xmv in range(-8,8):\n",
    "                        diff = Yc - Yprev[block[0]+ymv : block[0]+ymv+8, block[1]+xmv: block[1] + xmv + 8]\n",
    "                        mae = sum(sum(np.abs(diff)))/64\n",
    "                        if mae < bestmae:\n",
    "                            bestmae = mae\n",
    "                            mv[yblock, xblock, 0] = ymv\n",
    "                            mv[yblock, xblock, 1] = xmv\n",
    "\n",
    "                #Ycorr=scipy.signal.correlate2d(Yp, Yc,mode='valid')\n",
    "                #print(\"Ycorr= \", Ycorr)\n",
    "                #motion vector:\n",
    "                #1-d Index of maximum\n",
    "                #index1d=np.argmax(Ycorr)\n",
    "                #print(\"inedx1d=\",index1d)\n",
    "                #convert it to 2d index:\n",
    "                #index2d=np.unravel_index(index1d,(9,9))\n",
    "                #print(\"arg max of correlation: \", index2d)\n",
    "                #2-d index minus center coordinates (4,4) is the motion vector\n",
    "                #print(\"mv=\",mv[0,0,:])\n",
    "                #print(np.subtract(index2d,(4,4)))\n",
    "                #mv[0,0,:]=np.subtract(index2d,(4,4))\n",
    "                #print(\"mv[0,0,:]=\",mv[0,0,:])\n",
    "                #print(tuple(np.add(block,mv[0,0,:]).astype(int)))\n",
    "                #cv2.line(framevectors, block, (block[0]+mv[0],block[1]+mv[1]),(1.0,1.0,1.0))\n",
    "                cv2.line(framevectors, (block[1], block[0]), (block[1]+mv[yblock,yblock,1].astype(int),block[0]+mv[yblock,yblock,0].astype(int)) , (1.0,1.0,1.0));\n",
    "        Yprev=Y.copy();\n",
    "        #converting  images back to integer:\n",
    "        Y=np.array(Y, dtype='uint8')\n",
    "        DCr=np.array(DCr, dtype='int8')\n",
    "        DCb=np.array(DCb, dtype='int8')\n",
    "        #\"Serialize\" the captured video frame (convert it to a string)\n",
    "        #using pickle, and write/append it to file g:\n",
    "        pickle.dump(Y,g)\n",
    "        pickle.dump(DCr,g)\n",
    "        pickle.dump(DCb,g)\n",
    "\n",
    "        if cv2.waitKey(1) & 0xFF == ord('q'):\n",
    "            break\n",
    "    else:\n",
    "        break\n"
   ]
  },
  {
   "cell_type": "markdown",
   "metadata": {
    "deletable": true,
    "editable": true
   },
   "source": [
    "* **Release when finished with motion estimation and compensation:**"
   ]
  },
  {
   "cell_type": "code",
   "execution_count": 9,
   "metadata": {
    "collapsed": true,
    "deletable": true,
    "editable": true
   },
   "outputs": [],
   "source": [
    "cap.release()\n",
    "g.close()\n",
    "cv2.destroyAllWindows()"
   ]
  }
 ],
 "metadata": {
  "kernelspec": {
   "display_name": "Python 2",
   "language": "python",
   "name": "python2"
  },
  "language_info": {
   "codemirror_mode": {
    "name": "ipython",
    "version": 2
   },
   "file_extension": ".py",
   "mimetype": "text/x-python",
   "name": "python",
   "nbconvert_exporter": "python",
   "pygments_lexer": "ipython2",
   "version": "2.7.12"
  }
 },
 "nbformat": 4,
 "nbformat_minor": 2
}
