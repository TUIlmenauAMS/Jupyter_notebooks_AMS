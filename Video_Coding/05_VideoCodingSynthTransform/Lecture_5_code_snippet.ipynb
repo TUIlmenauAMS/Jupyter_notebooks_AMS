{
 "cells": [
  {
   "cell_type": "markdown",
   "metadata": {},
   "source": [
    "# Python Example\n",
    "Take again the DCT2 as our transform matrix,"
   ]
  },
  {
   "cell_type": "code",
   "execution_count": 1,
   "metadata": {
    "collapsed": false,
    "scrolled": true
   },
   "outputs": [
    {
     "data": {
      "text/plain": [
       "array([[ 0.5       ,  0.65328148,  0.5       ,  0.27059805],\n",
       "       [ 0.5       ,  0.27059805, -0.5       , -0.65328148],\n",
       "       [ 0.5       , -0.27059805, -0.5       ,  0.65328148],\n",
       "       [ 0.5       , -0.65328148,  0.5       , -0.27059805]])"
      ]
     },
     "execution_count": 1,
     "metadata": {},
     "output_type": "execute_result"
    }
   ],
   "source": [
    "import numpy as np\n",
    "import scipy.fftpack as sft\n",
    "\n",
    "I = np.eye(4)\n",
    "T = sft.dct(I, norm='ortho')\n",
    "T"
   ]
  },
  {
   "cell_type": "code",
   "execution_count": 2,
   "metadata": {
    "collapsed": false
   },
   "outputs": [
    {
     "data": {
      "text/plain": [
       "matrix([[ 0.5       ,  0.65328148,  0.5       ,  0.27059805],\n",
       "        [ 0.5       ,  0.27059805, -0.5       , -0.65328148],\n",
       "        [ 0.5       , -0.27059805, -0.5       ,  0.65328148],\n",
       "        [ 0.5       , -0.65328148,  0.5       , -0.27059805]])"
      ]
     },
     "execution_count": 2,
     "metadata": {},
     "output_type": "execute_result"
    }
   ],
   "source": [
    "T = np.matrix(T)\n",
    "T"
   ]
  },
  {
   "cell_type": "markdown",
   "metadata": {},
   "source": [
    "The inverse matrix then is used for the inverse transform (in the decoder),"
   ]
  },
  {
   "cell_type": "code",
   "execution_count": 3,
   "metadata": {
    "collapsed": false
   },
   "outputs": [
    {
     "data": {
      "text/plain": [
       "matrix([[ 0.5       ,  0.5       ,  0.5       ,  0.5       ],\n",
       "        [ 0.65328148,  0.27059805, -0.27059805, -0.65328148],\n",
       "        [ 0.5       , -0.5       , -0.5       ,  0.5       ],\n",
       "        [ 0.27059805, -0.65328148,  0.65328148, -0.27059805]])"
      ]
     },
     "execution_count": 3,
     "metadata": {},
     "output_type": "execute_result"
    }
   ],
   "source": [
    "Tinv = T.I\n",
    "Tinv"
   ]
  },
  {
   "cell_type": "markdown",
   "metadata": {},
   "source": [
    "Observe that the inverse matrix is identical to its transpose. This is because the DCT2 transform matrix is **Orthogonal** (the transpose needs a factor to become theinverse) or **Orthonormal** (the transpose needs no factor to become the inverse). \n",
    "\n",
    "Here we can see that, for instance, the first row contains the impulse response of the **first** synthesis filter, $h_0 (n)$, which here is indeed identical to the first analysis filter. \n",
    "\n",
    "Or, take the $2^{nd}$ subband, $h_1(n)$, as an example. In the analysis part, we have the equivalent impulse response of the $2^{nd}$ analysis filter as,"
   ]
  },
  {
   "cell_type": "code",
   "execution_count": 4,
   "metadata": {
    "collapsed": false
   },
   "outputs": [
    {
     "data": {
      "text/plain": [
       "matrix([[-0.65328148],\n",
       "        [-0.27059805],\n",
       "        [ 0.27059805],\n",
       "        [ 0.65328148]])"
      ]
     },
     "execution_count": 4,
     "metadata": {},
     "output_type": "execute_result"
    }
   ],
   "source": [
    "h1 = np.flipud(T[:,1])\n",
    "h1"
   ]
  },
  {
   "cell_type": "markdown",
   "metadata": {},
   "source": [
    "The 2nd synthesis filter h 1 (n) is obtained with"
   ]
  },
  {
   "cell_type": "code",
   "execution_count": 5,
   "metadata": {
    "collapsed": false
   },
   "outputs": [
    {
     "data": {
      "text/plain": [
       "matrix([[ 0.65328148,  0.27059805, -0.27059805, -0.65328148]])"
      ]
     },
     "execution_count": 5,
     "metadata": {},
     "output_type": "execute_result"
    }
   ],
   "source": [
    "Tinv[1,:]"
   ]
  },
  {
   "cell_type": "markdown",
   "metadata": {},
   "source": [
    "We can see that this 2nd synthesis impulse response (a row vector) is the time reverse version of the 2nd analysis impulse response (a column vector). Observe that this is generally true for orthogonal transform matrices (where the synthesis matrix is the (conjugate) transpose of the analysis matrix)!"
   ]
  },
  {
   "cell_type": "markdown",
   "metadata": {},
   "source": [
    "Taking again our subband block y from our\n",
    "previous example (check for the Transform matrix in Lecture 4 code snippet),"
   ]
  },
  {
   "cell_type": "code",
   "execution_count": 6,
   "metadata": {
    "collapsed": false
   },
   "outputs": [
    {
     "data": {
      "text/plain": [
       "matrix([[ 1.2,  0. ,  0. ,  0. ],\n",
       "        [ 0. ,  0. ,  0. ,  0. ],\n",
       "        [ 0. ,  0. ,  0. ,  0. ],\n",
       "        [ 0. ,  0. ,  0. ,  0. ]])"
      ]
     },
     "execution_count": 6,
     "metadata": {},
     "output_type": "execute_result"
    }
   ],
   "source": [
    "x = 0.3 * np.ones((4,4))\n",
    "y = np.dot(np.dot(np.transpose(T),x),T) \n",
    "y"
   ]
  },
  {
   "cell_type": "markdown",
   "metadata": {},
   "source": [
    "we get the inverse thransform with,"
   ]
  },
  {
   "cell_type": "code",
   "execution_count": 7,
   "metadata": {
    "collapsed": false
   },
   "outputs": [
    {
     "data": {
      "text/plain": [
       "matrix([[ 0.3,  0.3,  0.3,  0.3],\n",
       "        [ 0.3,  0.3,  0.3,  0.3],\n",
       "        [ 0.3,  0.3,  0.3,  0.3],\n",
       "        [ 0.3,  0.3,  0.3,  0.3]])"
      ]
     },
     "execution_count": 7,
     "metadata": {},
     "output_type": "execute_result"
    }
   ],
   "source": [
    "np.dot(np.dot(np.transpose(Tinv),y),Tinv)"
   ]
  },
  {
   "cell_type": "markdown",
   "metadata": {},
   "source": [
    "Here we see that we indeed get our original block back!<br/>\n",
    "(Observe that inv(T') = inv(T)')."
   ]
  },
  {
   "cell_type": "markdown",
   "metadata": {},
   "source": [
    "Also Observe that the beauty of this approach is, that we can deal with each block of our image independently of the others blocks, meaning there is no overlap of filters into neighbouring blocks!"
   ]
  }
 ],
 "metadata": {
  "kernelspec": {
   "display_name": "Python 2",
   "language": "python",
   "name": "python2"
  },
  "language_info": {
   "codemirror_mode": {
    "name": "ipython",
    "version": 2
   },
   "file_extension": ".py",
   "mimetype": "text/x-python",
   "name": "python",
   "nbconvert_exporter": "python",
   "pygments_lexer": "ipython2",
   "version": "2.7.12"
  }
 },
 "nbformat": 4,
 "nbformat_minor": 2
}
