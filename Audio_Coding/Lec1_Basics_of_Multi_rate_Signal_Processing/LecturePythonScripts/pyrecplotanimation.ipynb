{
 "cells": [
  {
   "cell_type": "markdown",
   "metadata": {},
   "source": [
    "## Python Example:\n",
    "Using Pyaudio, record sound from the audio device and plot, for 8 seconds, and display it live in a Window.\n",
    "Usage example: python pyrecplotanimation.py\n",
    "Gerald Schuller, October 2014 "
   ]
  },
  {
   "cell_type": "markdown",
   "metadata": {},
   "source": [
    "Import the modules and define the variables."
   ]
  },
  {
   "cell_type": "code",
   "execution_count": 1,
   "metadata": {
    "collapsed": true
   },
   "outputs": [],
   "source": [
    "import pyaudio\n",
    "import struct\n",
    "#import math\n",
    "#import array\n",
    "import numpy as np\n",
    "#import sys\n",
    "#import wave\n",
    "import matplotlib.pyplot as plt\n",
    "import matplotlib.animation as animation\n",
    "#import pylab\n",
    "#import cv2\n",
    "\n",
    "CHUNK = 1024 #Blocksize\n",
    "WIDTH = 2 #2 bytes per sample\n",
    "CHANNELS = 1 #2\n",
    "RATE = 32000  #Sampling Rate in Hz\n",
    "RECORD_SECONDS = 70"
   ]
  },
  {
   "cell_type": "code",
   "execution_count": 2,
   "metadata": {
    "collapsed": true
   },
   "outputs": [],
   "source": [
    "fig, ax = plt.subplots()\n",
    "\n",
    "x = np.arange(0, CHUNK)        # x-array\n",
    "#Scale axis as this sine function:\n",
    "line, = ax.plot(x, 20000.0*np.sin(x))"
   ]
  },
  {
   "cell_type": "markdown",
   "metadata": {},
   "source": [
    "Function for animation."
   ]
  },
  {
   "cell_type": "code",
   "execution_count": 3,
   "metadata": {
    "collapsed": true
   },
   "outputs": [],
   "source": [
    "def animate(i):\n",
    "    # update the data\n",
    "    #Reading from audio input stream into data with block length \"CHUNK\":\n",
    "    data = stream.read(CHUNK)\n",
    "    #Convert from stream of bytes to a list of short integers (2 bytes here) in \"samples\":\n",
    "    #shorts = (struct.unpack( \"128h\", data ))\n",
    "    shorts = (struct.unpack( 'h' * CHUNK, data ));\n",
    "    samples=np.array(list(shorts),dtype=float);\n",
    "\n",
    "    #plt.plot(samples)  #<-- here goes the signal processing.\n",
    "    #line.set_ydata(np.log((np.abs(pylab.fft(samples))+0.1))/np.log(10.0))\n",
    "    line.set_ydata(samples)\n",
    "    return line,"
   ]
  },
  {
   "cell_type": "code",
   "execution_count": 4,
   "metadata": {
    "collapsed": true
   },
   "outputs": [],
   "source": [
    "def init():\n",
    "    line.set_ydata(np.ma.array(x, mask=True))\n",
    "    return line,"
   ]
  },
  {
   "cell_type": "markdown",
   "metadata": {},
   "source": [
    "Initialize the soundcard and print the sound card information."
   ]
  },
  {
   "cell_type": "code",
   "execution_count": 5,
   "metadata": {
    "collapsed": false
   },
   "outputs": [
    {
     "name": "stdout",
     "output_type": "stream",
     "text": [
      "('device count=', 12L)\n",
      "('i = ', 0)\n",
      "2\n",
      "44100.0\n",
      "('i = ', 1)\n",
      "2\n",
      "44100.0\n",
      "('i = ', 2)\n",
      "0\n",
      "44100.0\n",
      "('i = ', 3)\n",
      "0\n",
      "44100.0\n",
      "('i = ', 4)\n",
      "2\n",
      "44100.0\n",
      "('i = ', 5)\n",
      "2\n",
      "44100.0\n",
      "('i = ', 6)\n",
      "0\n",
      "44100.0\n",
      "('i = ', 7)\n",
      "0\n",
      "44100.0\n",
      "('i = ', 8)\n",
      "0\n",
      "44100.0\n",
      "('i = ', 9)\n",
      "2\n",
      "44100.0\n",
      "('i = ', 10)\n",
      "2\n",
      "44100.0\n",
      "('i = ', 11)\n",
      "0\n",
      "44100.0\n"
     ]
    }
   ],
   "source": [
    "p = pyaudio.PyAudio()\n",
    "\n",
    "a = p.get_device_count()\n",
    "print(\"device count=\",a)\n",
    "\n",
    "for i in range(0, a):\n",
    "    print(\"i = \",i)\n",
    "    b = p.get_device_info_by_index(i)['maxInputChannels']\n",
    "    print(b)\n",
    "    b = p.get_device_info_by_index(i)['defaultSampleRate']\n",
    "    print(b)\n",
    "\n",
    "stream = p.open(format=p.get_format_from_width(WIDTH),\n",
    "                channels=CHANNELS,\n",
    "                rate=RATE,\n",
    "                input=True,\n",
    "                output=True,\n",
    "                #input_device_index=3,\n",
    "                frames_per_buffer=CHUNK)"
   ]
  },
  {
   "cell_type": "markdown",
   "metadata": {},
   "source": [
    "Start recording and live plot of it."
   ]
  },
  {
   "cell_type": "code",
   "execution_count": 6,
   "metadata": {
    "collapsed": false
   },
   "outputs": [
    {
     "name": "stdout",
     "output_type": "stream",
     "text": [
      "* done\n"
     ]
    }
   ],
   "source": [
    "# When everything done, release the capture\n",
    "\n",
    "print(\"* done\")\n",
    "\n",
    "#f.close()\n",
    "stream.stop_stream()\n",
    "stream.close()"
   ]
  }
 ],
 "metadata": {
  "kernelspec": {
   "display_name": "Python 2",
   "language": "python",
   "name": "python2"
  },
  "language_info": {
   "codemirror_mode": {
    "name": "ipython",
    "version": 2
   },
   "file_extension": ".py",
   "mimetype": "text/x-python",
   "name": "python",
   "nbconvert_exporter": "python",
   "pygments_lexer": "ipython2",
   "version": "2.7.12"
  }
 },
 "nbformat": 4,
 "nbformat_minor": 2
}
