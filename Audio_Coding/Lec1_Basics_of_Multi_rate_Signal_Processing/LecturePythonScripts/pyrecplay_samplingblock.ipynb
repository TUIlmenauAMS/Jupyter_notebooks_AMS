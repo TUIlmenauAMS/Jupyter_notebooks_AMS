{
 "cells": [
  {
   "cell_type": "markdown",
   "metadata": {},
   "source": [
    "## PyAudio Example:\n",
    "Make a sampling between input and output (i.e., record a few samples, multiply them with a unit pulse train, and play them back immediately). Using block-wise processing instead of a for loop Gerald Schuller, Octtober 2014."
   ]
  },
  {
   "cell_type": "markdown",
   "metadata": {},
   "source": [
    "Import the modules and define the variables."
   ]
  },
  {
   "cell_type": "code",
   "execution_count": 1,
   "metadata": {
    "collapsed": true
   },
   "outputs": [],
   "source": [
    "import pyaudio\n",
    "import struct\n",
    "#import math\n",
    "#import array\n",
    "import numpy\n",
    "#import scipy\n",
    "\n",
    "CHUNK = 5000 #Blocksize\n",
    "WIDTH = 2 #2 bytes per sample\n",
    "CHANNELS = 1 #2\n",
    "RATE = 32000  #Sampling Rate in Hz\n",
    "RECORD_SECONDS = 8"
   ]
  },
  {
   "cell_type": "markdown",
   "metadata": {},
   "source": [
    "Initialize the sound card"
   ]
  },
  {
   "cell_type": "code",
   "execution_count": 2,
   "metadata": {
    "collapsed": true
   },
   "outputs": [],
   "source": [
    "p = pyaudio.PyAudio()\n",
    "\n",
    "stream = p.open(format=p.get_format_from_width(WIDTH),\n",
    "                channels=CHANNELS,\n",
    "                rate=RATE,\n",
    "                input=True,\n",
    "                output=True,\n",
    "                #input_device_index=10,\n",
    "                frames_per_buffer=CHUNK)"
   ]
  },
  {
   "cell_type": "markdown",
   "metadata": {},
   "source": [
    "Start recording and playback the sampled version of it."
   ]
  },
  {
   "cell_type": "code",
   "execution_count": 3,
   "metadata": {
    "collapsed": false
   },
   "outputs": [
    {
     "name": "stdout",
     "output_type": "stream",
     "text": [
      "* recording\n",
      "* done\n"
     ]
    }
   ],
   "source": [
    "print(\"* recording\")\n",
    "\n",
    "#Loop for the blocks:\n",
    "for i in range(0, int(RATE / CHUNK * RECORD_SECONDS)):\n",
    "    #Reading from audio input stream into data with block length \"CHUNK\":\n",
    "    data = stream.read(CHUNK)\n",
    "    #Convert from stream of bytes to a list of short integers (2 bytes here) in \"samples\":\n",
    "    #shorts = (struct.unpack( \"128h\", data ))\n",
    "    shorts = (struct.unpack( 'h' * CHUNK, data ));\n",
    "    samples=list(shorts);\n",
    "\n",
    "    #start block-wise signal processing:\n",
    "\n",
    "    #Compute a block/an array of a unit pulse train corresponding a downsampling rate of N:\n",
    "    N=4.0;\n",
    "    s=numpy.modf(numpy.arange(0,CHUNK)/N)[0]==0.0\n",
    "    #multiply the signal with the unit pulse train:\n",
    "    samples=samples*s;\n",
    "    \n",
    "    #end signal processing\n",
    "\n",
    "    #converting from short integers to a stream of bytes in \"data\":\n",
    "    data=struct.pack('h' * len(samples), *samples);\n",
    "    #Writing data back to audio output stream: \n",
    "    stream.write(data, CHUNK)\n",
    "\n",
    "print(\"* done\")\n",
    "\n",
    "stream.stop_stream()\n",
    "stream.close()\n",
    "\n",
    "p.terminate()"
   ]
  }
 ],
 "metadata": {
  "kernelspec": {
   "display_name": "Python 2",
   "language": "python",
   "name": "python2"
  },
  "language_info": {
   "codemirror_mode": {
    "name": "ipython",
    "version": 2
   },
   "file_extension": ".py",
   "mimetype": "text/x-python",
   "name": "python",
   "nbconvert_exporter": "python",
   "pygments_lexer": "ipython2",
   "version": "2.7.12"
  }
 },
 "nbformat": 4,
 "nbformat_minor": 2
}
