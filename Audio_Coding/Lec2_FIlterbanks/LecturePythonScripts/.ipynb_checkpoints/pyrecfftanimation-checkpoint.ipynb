{
 "cells": [
  {
   "cell_type": "markdown",
   "metadata": {
    "deletable": true,
    "editable": true
   },
   "source": [
    "# Python Example: *pyrecfftanimation*\n",
    "Using Pyaudio, record sound from the audio device and plot the fft magnitude spectrum life, for 8 seconds. \n",
    "\n",
    "Usage example: ```python pyrecfftanimation.py``` \n",
    "\n",
    "` - Gerald Schuller, October 2014.`"
   ]
  },
  {
   "cell_type": "markdown",
   "metadata": {
    "deletable": true,
    "editable": true
   },
   "source": [
    "## Import the modules and define the variables."
   ]
  },
  {
   "cell_type": "code",
   "execution_count": 1,
   "metadata": {
    "collapsed": true,
    "deletable": true,
    "editable": true
   },
   "outputs": [],
   "source": [
    "import pyaudio\n",
    "import struct\n",
    "#import math\n",
    "#import array\n",
    "import numpy as np\n",
    "#import sys\n",
    "#import wave\n",
    "import matplotlib.pyplot as plt\n",
    "import matplotlib.animation as animation\n",
    "#import pylab\n",
    "#import cv2"
   ]
  },
  {
   "cell_type": "code",
   "execution_count": 2,
   "metadata": {
    "collapsed": true,
    "deletable": true,
    "editable": true
   },
   "outputs": [],
   "source": [
    "CHUNK = 2048 #Blocksize\n",
    "WIDTH = 2 #2 bytes per sample\n",
    "CHANNELS = 1 #2\n",
    "RATE = 32000  #Sampling Rate in Hz\n",
    "RECORD_SECONDS = 70\n",
    "\n",
    "fftlen=CHUNK/2"
   ]
  },
  {
   "cell_type": "markdown",
   "metadata": {
    "deletable": true,
    "editable": true
   },
   "source": [
    "## Initialize the plots:"
   ]
  },
  {
   "cell_type": "code",
   "execution_count": 3,
   "metadata": {
    "collapsed": true,
    "deletable": true,
    "editable": true
   },
   "outputs": [],
   "source": [
    "[fig, ax] = plt.subplots()\n",
    "plt.ylabel('dB')\n",
    "plt.xlabel('FFT bins/Subbands')\n",
    "plt.title('Live FFT Magnitude Spectrum of Microphone Signal')\n",
    "\n",
    "x = np.arange(0, fftlen)        # x-array\n",
    "#Set scale on y-axis and generate line object with it:\n",
    "[line, ]= ax.plot(x, 100.0**np.sin(x))"
   ]
  },
  {
   "cell_type": "markdown",
   "metadata": {
    "deletable": true,
    "editable": true
   },
   "source": [
    "## Function for animation:"
   ]
  },
  {
   "cell_type": "code",
   "execution_count": 4,
   "metadata": {
    "collapsed": true,
    "deletable": true,
    "editable": true
   },
   "outputs": [],
   "source": [
    "def animate(i):\n",
    "    # update the data\n",
    "    #Reading from audio input stream into data with block length \"CHUNK\":\n",
    "    data = stream.read(CHUNK)\n",
    "    #Convert from stream of bytes to a list of short integers (2 bytes here) in \"samples\":\n",
    "    #shorts = (struct.unpack( \"128h\", data ))\n",
    "    shorts = (struct.unpack( 'h' * CHUNK, data ));\n",
    "    samples=np.array(list(shorts),dtype=float);\n",
    "\n",
    "    #plt.plot(samples)  #<-- here goes the signal processing.\n",
    "    line.set_ydata(20.0*np.log((np.abs(np.fft.fft(samples[0:fftlen])/np.sqrt(fftlen))+1))/np.log(10.0))\n",
    "    #line.set_ydata(samples)\n",
    "    return line,"
   ]
  },
  {
   "cell_type": "code",
   "execution_count": 5,
   "metadata": {
    "collapsed": true,
    "deletable": true,
    "editable": true
   },
   "outputs": [],
   "source": [
    "def init():\n",
    "    line.set_ydata(np.ma.array(x, mask=True))\n",
    "    return line,"
   ]
  },
  {
   "cell_type": "markdown",
   "metadata": {
    "deletable": true,
    "editable": true
   },
   "source": [
    "## Initialize the soundcard:"
   ]
  },
  {
   "cell_type": "code",
   "execution_count": 6,
   "metadata": {
    "collapsed": false,
    "deletable": true,
    "editable": true
   },
   "outputs": [
    {
     "name": "stdout",
     "output_type": "stream",
     "text": [
      "('device count=', 12L)\n",
      "('i = ', 0)\n",
      "2\n",
      "44100.0\n",
      "('i = ', 1)\n",
      "2\n",
      "44100.0\n",
      "('i = ', 2)\n",
      "0\n",
      "44100.0\n",
      "('i = ', 3)\n",
      "0\n",
      "44100.0\n",
      "('i = ', 4)\n",
      "2\n",
      "44100.0\n",
      "('i = ', 5)\n",
      "2\n",
      "44100.0\n",
      "('i = ', 6)\n",
      "0\n",
      "44100.0\n",
      "('i = ', 7)\n",
      "0\n",
      "44100.0\n",
      "('i = ', 8)\n",
      "0\n",
      "44100.0\n",
      "('i = ', 9)\n",
      "2\n",
      "44100.0\n",
      "('i = ', 10)\n",
      "2\n",
      "44100.0\n",
      "('i = ', 11)\n",
      "0\n",
      "44100.0\n"
     ]
    }
   ],
   "source": [
    "p = pyaudio.PyAudio()\n",
    "\n",
    "a = p.get_device_count()\n",
    "print(\"device count=\",a)\n",
    "\n",
    "for i in range(0, a):\n",
    "    print(\"i = \",i)\n",
    "    b = p.get_device_info_by_index(i)['maxInputChannels']\n",
    "    print(b)\n",
    "    b = p.get_device_info_by_index(i)['defaultSampleRate']\n",
    "    print(b)\n",
    "\n",
    "stream = p.open(format=p.get_format_from_width(WIDTH),\n",
    "                channels=CHANNELS,\n",
    "                rate=RATE,\n",
    "                input=True,\n",
    "                output=True,\n",
    "                #input_device_index=3,\n",
    "                frames_per_buffer=CHUNK)"
   ]
  },
  {
   "cell_type": "markdown",
   "metadata": {
    "deletable": true,
    "editable": true
   },
   "source": [
    "## Start recording plot the live animation:"
   ]
  },
  {
   "cell_type": "code",
   "execution_count": 7,
   "metadata": {
    "collapsed": false,
    "deletable": true,
    "editable": true
   },
   "outputs": [
    {
     "name": "stdout",
     "output_type": "stream",
     "text": [
      "* recording\n"
     ]
    },
    {
     "data": {
      "image/png": "[encoded data removed]",
      "text/plain": [
       "<matplotlib.figure.Figure at 0x7dbdaf0>"
      ]
     },
     "metadata": {},
     "output_type": "display_data"
    },
    {
     "name": "stdout",
     "output_type": "stream",
     "text": [
      "* done\n"
     ]
    }
   ],
   "source": [
    "print(\"* recording\")\n",
    "\n",
    "#ani = animation.FuncAnimation(fig, animate, np.arange(1, 200), init_func=init,\n",
    "#    interval=25, blit=True)\n",
    "ani = animation.FuncAnimation(fig, animate,  init_func=init, interval=25, blit=True)\n",
    "plt.show()\n",
    "\n",
    "\n",
    "# When everything done, release the capture\n",
    "\n",
    "print(\"* done\")\n",
    "\n",
    "#f.close()\n",
    "stream.stop_stream()\n",
    "stream.close()"
   ]
  }
 ],
 "metadata": {
  "kernelspec": {
   "display_name": "Python 2",
   "language": "python",
   "name": "python2"
  },
  "language_info": {
   "codemirror_mode": {
    "name": "ipython",
    "version": 2
   },
   "file_extension": ".py",
   "mimetype": "text/x-python",
   "name": "python",
   "nbconvert_exporter": "python",
   "pygments_lexer": "ipython2",
   "version": "2.7.12"
  }
 },
 "nbformat": 4,
 "nbformat_minor": 2
}
