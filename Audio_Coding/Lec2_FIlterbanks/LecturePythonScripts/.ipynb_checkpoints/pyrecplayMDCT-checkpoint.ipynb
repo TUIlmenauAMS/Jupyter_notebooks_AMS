{
 "cells": [
  {
   "cell_type": "markdown",
   "metadata": {},
   "source": [
    "# Python Example: *pyrecplayMDCT*"
   ]
  },
  {
   "cell_type": "markdown",
   "metadata": {
    "deletable": true,
    "editable": true
   },
   "source": [
    "## Importing the relevant modules:"
   ]
  },
  {
   "cell_type": "code",
   "execution_count": 1,
   "metadata": {
    "collapsed": true,
    "deletable": true,
    "editable": true
   },
   "outputs": [],
   "source": [
    "import pyaudio\n",
    "import struct\n",
    "import numpy as np\n",
    "import cv2\n",
    "import scipy.fftpack as spfft\n",
    "%matplotlib inline"
   ]
  },
  {
   "cell_type": "markdown",
   "metadata": {
    "deletable": true,
    "editable": true
   },
   "source": [
    "## Defining the variables:"
   ]
  },
  {
   "cell_type": "code",
   "execution_count": 2,
   "metadata": {
    "collapsed": true,
    "deletable": true,
    "editable": true
   },
   "outputs": [],
   "source": [
    "N=1024 #Number of subbands and block size\n",
    "CHUNK = N #Blocksize\n",
    "WIDTH = 2 #2 bytes per sample\n",
    "CHANNELS = 1 #2\n",
    "RATE = 32000  #Sampling Rate in Hz"
   ]
  },
  {
   "cell_type": "markdown",
   "metadata": {
    "deletable": true,
    "editable": true
   },
   "source": [
    "# Defining the delay matrix:"
   ]
  },
  {
   "cell_type": "code",
   "execution_count": 3,
   "metadata": {
    "collapsed": true,
    "deletable": true,
    "editable": true
   },
   "outputs": [],
   "source": [
    "def Dmatrix(samples):\n",
    "#implementation of the delay matrix D(z)\n",
    "   #Delay elements:\n",
    "   out=np.zeros(N)\n",
    "   out[0:(N/2)] = Dmatrix.z\n",
    "   Dmatrix.z = samples[0:(N/2)]\n",
    "   out[N/2:N] = samples[N/2:N]\n",
    "   return out"
   ]
  },
  {
   "cell_type": "markdown",
   "metadata": {
    "deletable": true,
    "editable": true
   },
   "source": [
    "## The inverse D(z) matrix:"
   ]
  },
  {
   "cell_type": "code",
   "execution_count": 4,
   "metadata": {
    "collapsed": true,
    "deletable": true,
    "editable": true
   },
   "outputs": [],
   "source": [
    "def Dmatrixinv(samples):\n",
    "#implementation of the delay matrix D(z)\n",
    "   #Delay elements:\n",
    "   out=np.zeros(N)\n",
    "   out[(N/2):N]=Dmatrixinv.z\n",
    "   Dmatrixinv.z=samples[(N/2):N]\n",
    "   out[0:N/2]=samples[0:N/2]\n",
    "   return out"
   ]
  },
  {
   "cell_type": "code",
   "execution_count": 5,
   "metadata": {
    "collapsed": true,
    "deletable": true,
    "editable": true
   },
   "outputs": [],
   "source": [
    "Dmatrixinv.z=np.zeros(N/2)"
   ]
  },
  {
   "cell_type": "markdown",
   "metadata": {
    "deletable": true,
    "editable": true
   },
   "source": [
    "## The F Matrix:"
   ]
  },
  {
   "cell_type": "code",
   "execution_count": 6,
   "metadata": {
    "collapsed": true,
    "deletable": true,
    "editable": true
   },
   "outputs": [],
   "source": [
    "fcoeff = np.sin(np.pi / (2 * N) * (np.arange(0, 2 * N) + 0.5))\n",
    "Fmatrix = np.zeros((N, N))\n",
    "Fmatrix[0 : N / 2, 0 : N / 2] = np.fliplr(np.diag(fcoeff[0 : N / 2]))\n",
    "Fmatrix[N / 2 : N, 0 : N / 2] = np.diag(fcoeff[N / 2 : N])\n",
    "Fmatrix[0 : N / 2, N / 2 : N] = np.diag(fcoeff[N: (N + N / 2)])\n",
    "Fmatrix[N / 2 : N, N / 2 : N] = -np.fliplr(np.diag(fcoeff[(N + N / 2) : (2 * N)]))"
   ]
  },
  {
   "cell_type": "markdown",
   "metadata": {
    "deletable": true,
    "editable": true
   },
   "source": [
    "## The inverse F matrix:"
   ]
  },
  {
   "cell_type": "code",
   "execution_count": 7,
   "metadata": {
    "collapsed": true,
    "deletable": true,
    "editable": true
   },
   "outputs": [],
   "source": [
    "Finv=np.linalg.inv(Fmatrix)"
   ]
  },
  {
   "cell_type": "markdown",
   "metadata": {
    "deletable": true,
    "editable": true
   },
   "source": [
    "## The DCT4 transform:"
   ]
  },
  {
   "cell_type": "code",
   "execution_count": 8,
   "metadata": {
    "collapsed": true,
    "deletable": true,
    "editable": true
   },
   "outputs": [],
   "source": [
    "def DCT4(samples):\n",
    "   #use a DCT3 to implement a DCT4:\n",
    "   samplesup = np.zeros(2 * N)\n",
    "   #upsample signal:\n",
    "   samplesup[1 :: 2]=samples\n",
    "   y=spfft.dct(samplesup, type = 3) / 2\n",
    "   return y[0 : N]"
   ]
  },
  {
   "cell_type": "markdown",
   "metadata": {
    "deletable": true,
    "editable": true
   },
   "source": [
    "## The complete MDCT, Analysis:"
   ]
  },
  {
   "cell_type": "code",
   "execution_count": 9,
   "metadata": {
    "collapsed": true,
    "deletable": true,
    "editable": true
   },
   "outputs": [],
   "source": [
    "def MDCT(samples):\n",
    "   y=np.dot(samples,Fmatrix)\n",
    "   y=Dmatrix(y)\n",
    "   y=DCT4(y)\n",
    "   return y"
   ]
  },
  {
   "cell_type": "markdown",
   "metadata": {
    "deletable": true,
    "editable": true
   },
   "source": [
    "## The inverse MDCT, synthesis:"
   ]
  },
  {
   "cell_type": "code",
   "execution_count": 10,
   "metadata": {
    "collapsed": true,
    "deletable": true,
    "editable": true
   },
   "outputs": [],
   "source": [
    "def MDCTinv(y): \n",
    "   #inverse DCT4 is identical to DCT4:\n",
    "   x=DCT4(y)*2/N\n",
    "   #inverse D(z) matrix\n",
    "   x=Dmatrixinv(x)\n",
    "   #inverse F matrix\n",
    "   x=np.dot(x,Finv)\n",
    "   return x"
   ]
  },
  {
   "cell_type": "markdown",
   "metadata": {
    "deletable": true,
    "editable": true
   },
   "source": [
    "## Inilitialise sound card"
   ]
  },
  {
   "cell_type": "code",
   "execution_count": 11,
   "metadata": {
    "collapsed": false,
    "deletable": true,
    "editable": true
   },
   "outputs": [
    {
     "name": "stdout",
     "output_type": "stream",
     "text": [
      "('device count=', 11L)\n"
     ]
    }
   ],
   "source": [
    "p = pyaudio.PyAudio()\n",
    "\n",
    "a = p.get_device_count()\n",
    "print(\"device count=\",a)"
   ]
  },
  {
   "cell_type": "markdown",
   "metadata": {
    "deletable": true,
    "editable": true
   },
   "source": [
    "## Prints out all the audio inputs and the input sampling rate"
   ]
  },
  {
   "cell_type": "code",
   "execution_count": 12,
   "metadata": {
    "collapsed": false,
    "deletable": true,
    "editable": true
   },
   "outputs": [
    {
     "name": "stdout",
     "output_type": "stream",
     "text": [
      "('i = ', 0)\n",
      "2\n",
      "44100.0\n",
      "('i = ', 1)\n",
      "0\n",
      "44100.0\n",
      "('i = ', 2)\n",
      "128\n",
      "48000.0\n",
      "('i = ', 3)\n",
      "0\n",
      "44100.0\n",
      "('i = ', 4)\n",
      "0\n",
      "44100.0\n",
      "('i = ', 5)\n",
      "0\n",
      "44100.0\n",
      "('i = ', 6)\n",
      "0\n",
      "44100.0\n",
      "('i = ', 7)\n",
      "32\n",
      "44100.0\n",
      "('i = ', 8)\n",
      "0\n",
      "48000.0\n",
      "('i = ', 9)\n",
      "32\n",
      "44100.0\n",
      "('i = ', 10)\n",
      "16\n",
      "44100.0\n"
     ]
    }
   ],
   "source": [
    "for i in range(0, a):\n",
    "    print(\"i = \",i)\n",
    "    b = p.get_device_info_by_index(i)['maxInputChannels']\n",
    "    print(b)\n",
    "    b = p.get_device_info_by_index(i)['defaultSampleRate']\n",
    "    print(b)"
   ]
  },
  {
   "cell_type": "code",
   "execution_count": 13,
   "metadata": {
    "collapsed": true,
    "deletable": true,
    "editable": true
   },
   "outputs": [],
   "source": [
    "stream = p.open(format=p.get_format_from_width(WIDTH),\n",
    "                channels=CHANNELS,\n",
    "                rate=RATE,\n",
    "                input=True,\n",
    "                output=True,\n",
    "                #input_device_index=3,\n",
    "                frames_per_buffer=CHUNK)"
   ]
  },
  {
   "cell_type": "code",
   "execution_count": null,
   "metadata": {
    "collapsed": false,
    "deletable": true,
    "editable": true
   },
   "outputs": [],
   "source": [
    "print(\"* recording\")\n",
    "\n",
    "#Size of waterfall diagramm:\n",
    "#max CHUNK/2 cols:\n",
    "rows=500\n",
    "cols=CHUNK\n",
    "fftlen=cols\n",
    "frame=0.0*np.ones((rows,cols,3))\n",
    "\n",
    "\n",
    "while(True):\n",
    "     \n",
    "    #Reading from audio input stream into data with block length \"CHUNK\":\n",
    "    data = stream.read(CHUNK)\n",
    "    #Convert from stream of bytes to a list of short integers (2 bytes here) in \"samples\":\n",
    "    #shorts = (struct.unpack( \"128h\", data ))\n",
    "    shorts = (struct.unpack( 'h' * CHUNK, data ));\n",
    "    samples=np.array(list(shorts),dtype=float);\n",
    "\n",
    "    #shift \"frame\" 1 up:\n",
    "    frame[0:(rows-1),:]=frame[1:rows,:]; \n",
    "    #compute magnitude of 1D FFT of sound \n",
    "    #with suitable normalization for the display:\n",
    "    #frame=np.abs(np.ffqt.fft2(frame[:,:,1]/255.0))/512.0\n",
    "    #write magnitude spectrum in lowes row of \"frame\":\n",
    "    #R=0.25*np.log((np.abs(np.fft.fft(samples[0:fftlen])[0:(fftlen/2)]/np.sqrt(fftlen))+1))/np.log(10.0)\n",
    "    #This is the FFT of the input:\n",
    "    #y=np.fft.fft(samples[0:fftlen])   \n",
    "    #This is the analysis MDCT of the input: \n",
    "    y=MDCT(samples[0:fftlen])\n",
    "    #yfilt is the processed subbands, processing goes here:\n",
    "    yfilt=y\n",
    "    #yfilt=np.zeros(N)\n",
    "    #yfilt[20:100]=y[20:100]\n",
    "    \n",
    "    #Waterfall color mapping:\n",
    "    R=0.25*np.log((np.abs(yfilt/np.sqrt(fftlen))+1))/np.log(10.0)\n",
    "    #Red frame:\n",
    "    frame[rows-1,:,2]=R\n",
    "    #Green frame:\n",
    "    frame[rows-1,:,1]=np.abs(1-2*R)\n",
    "    #Blue frame:\n",
    "    frame[rows-1,:,0]=1.0-R\n",
    "    #frame[rows-1,:,0]=frame[rows-1,:,1]**3\n",
    "    # Display the resulting frame\n",
    "    cv2.imshow('frame',frame)\n",
    "\n",
    "    #Inverse FFT:\n",
    "    #xrek=np.real(np.fft.ifft(yfilt))\n",
    "    #Inverse/synthesis MDCT:\n",
    "    xrek=MDCTinv(yfilt);\n",
    "    #converting from short integers to a stream of bytes in \"data\":\n",
    "    #data=struct.pack('h' * len(samples), *samples);\n",
    "    data=struct.pack('h' * len(xrek), *xrek);\n",
    "    #Writing data back to audio output stream: \n",
    "    stream.write(data, CHUNK)\n",
    "\n",
    "    #Keep window open until key 'q' is pressed:\n",
    "    if cv2.waitKey(1) & 0xFF == ord('q'):\n",
    "        break\n",
    "# When everything done, release the capture\n",
    "\n",
    "cv2.destroyAllWindows()\n",
    "\n",
    "stream.stop_stream()\n",
    "stream.close()\n",
    "p.terminate()"
   ]
  }
 ],
 "metadata": {
  "kernelspec": {
   "display_name": "Python 2",
   "language": "python",
   "name": "python2"
  },
  "language_info": {
   "codemirror_mode": {
    "name": "ipython",
    "version": 2
   },
   "file_extension": ".py",
   "mimetype": "text/x-python",
   "name": "python",
   "nbconvert_exporter": "python",
   "pygments_lexer": "ipython2",
   "version": "2.7.12"
  }
 },
 "nbformat": 4,
 "nbformat_minor": 2
}
