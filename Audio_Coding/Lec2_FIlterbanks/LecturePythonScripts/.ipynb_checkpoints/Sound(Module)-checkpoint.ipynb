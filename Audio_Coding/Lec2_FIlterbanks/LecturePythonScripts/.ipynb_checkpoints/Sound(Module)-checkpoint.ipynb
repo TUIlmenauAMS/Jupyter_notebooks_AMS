{
 "cells": [
  {
   "cell_type": "markdown",
   "metadata": {
    "collapsed": true,
    "deletable": true,
    "editable": true
   },
   "source": [
    "# This is a module which provides some of the functions for reading, writing, recording and playing a wave file."
   ]
  },
  {
   "cell_type": "markdown",
   "metadata": {
    "deletable": true,
    "editable": true
   },
   "source": [
    "### import relevant modules and define variables."
   ]
  },
  {
   "cell_type": "code",
   "execution_count": null,
   "metadata": {
    "collapsed": true,
    "deletable": true,
    "editable": true
   },
   "outputs": [],
   "source": [
    "import pyaudio\n",
    "import struct\n",
    "from numpy import clip\n",
    "\n",
    "opened=0;\n",
    "stream=[]"
   ]
  },
  {
   "cell_type": "markdown",
   "metadata": {
    "deletable": true,
    "editable": true
   },
   "source": [
    "## The functions are as follows(description followed by the code):"
   ]
  },
  {
   "cell_type": "markdown",
   "metadata": {
    "deletable": true,
    "editable": true
   },
   "source": [
    "### sound(s, FS)\n",
    "This function plays the samples vector 's' with the sampling rate of <i>'FS'</i>, where, <i>'s'</i> is the samples vector for a signal to be played through the output & 'fs' is the sampling rate at which the signal has to be played."
   ]
  },
  {
   "cell_type": "code",
   "execution_count": null,
   "metadata": {
    "collapsed": true,
    "deletable": true,
    "editable": true
   },
   "outputs": [],
   "source": [
    "def sound(s, FS):\n",
    "    \"\"\" \n",
    "    This function plays out a vector s as a sound at sampling rate FS, \n",
    "    like on Octave or Matlab, with: \n",
    "    import sound; sound.sound(s,FS)\n",
    "    \"\"\"\n",
    "\n",
    "    CHUNK = 1024 #Blocksize\n",
    "    WIDTH = 2 #2 bytes per sample\n",
    "    CHANNELS = 1 #2\n",
    "    RATE = FS  #Sampling Rate in Hz\n",
    "    p = pyaudio.PyAudio()\n",
    "\n",
    "    stream = p.open(format=p.get_format_from_width(WIDTH),\n",
    "                channels=CHANNELS,\n",
    "                rate=RATE,\n",
    "                input=False,\n",
    "                output=True,\n",
    "                #input_device_index=0,\n",
    "                frames_per_buffer=CHUNK)\n",
    "    for i in range(0, int(len(s) / CHUNK) ):\n",
    "        #converting from short integers to a stream of bytes in data:\n",
    "        samples=s[i*CHUNK:((i+1)*CHUNK)];\n",
    "        samples=clip(samples,-2**15,2**15-1)\n",
    "        data=struct.pack('h' * CHUNK, *samples);\n",
    "        #print data[1]\n",
    "        #Writing data back to audio output stream: \n",
    "        stream.write(data, CHUNK)\n",
    "  \n",
    "\n",
    "    stream.stop_stream()\n",
    "    stream.close()\n",
    "\n",
    "    p.terminate()\n",
    "    print(\"* done\")"
   ]
  },
  {
   "cell_type": "markdown",
   "metadata": {
    "deletable": true,
    "editable": true
   },
   "source": [
    "### wavread(sndfile)\n",
    "This function reads the file and returns back two values i.e., the vector of samples and the sampling rate, where <i>'sndfile'</i> is the file name or file path which has to read.\n",
    "E.g., wavread('Track01.wav') will return the series of samples and sampling rate."
   ]
  },
  {
   "cell_type": "code",
   "execution_count": null,
   "metadata": {
    "collapsed": true,
    "deletable": true,
    "editable": true
   },
   "outputs": [],
   "source": [
    "def wavread(sndfile):\n",
    "    \"\"\"\n",
    "    This function implements the wavread function of Octave or Matlab \n",
    "    to read a wav sound file into a vector s and sampling rate info at \n",
    "    its return, with: import sound; [s,rate]=sound.wavread('sound.wav');\n",
    "    or s,rate=sound.wavread('sound.wav')\n",
    "    \"\"\"\n",
    "\n",
    "    import wave\n",
    "    wf=wave.open(sndfile,'rb');\n",
    "    nchan=wf.getnchannels();\n",
    "    bytes=wf.getsampwidth();\n",
    "    rate=wf.getframerate();\n",
    "    length=wf.getnframes();\n",
    "    print(\"Number of channels: \", nchan);\n",
    "    print(\"Number of bytes per sample:\", bytes);\n",
    "    print(\"Sampling rate: \", rate);\n",
    "    print(\"Number of samples:\", length);\n",
    "    data=wf.readframes(length);\n",
    "    if bytes==2:\n",
    "        shorts = (struct.unpack( 'h' * length, data ));\n",
    "    else:\n",
    "        shorts = (struct.unpack( 'B' * length, data ));\n",
    "    wf.close;\n",
    "    return shorts, rate;"
   ]
  },
  {
   "cell_type": "markdown",
   "metadata": {
    "deletable": true,
    "editable": true
   },
   "source": [
    "### wavwrite(snd, Fs, sndfile)\n",
    "This function writes the samples vector 'snd' with sampling rate 'Fs' to the file provided in sndfile(string value of filename or filepath).<br/>\n",
    "** 'snd' is the samples vector**<br/>\n",
    "** 'Fs' is the sampling rate**<br/>\n",
    "** 'sndfile' is the desired filename or filepath**<br/>\n",
    "E.g., wavwrite(snd, Fs, 'Track22.wav')"
   ]
  },
  {
   "cell_type": "code",
   "execution_count": null,
   "metadata": {
    "collapsed": true,
    "deletable": true,
    "editable": true
   },
   "outputs": [],
   "source": [
    "def wavwrite(snd,Fs,sndfile):\n",
    "    \"\"\"\n",
    "    This function implements the wawwritefunction of Octave or Matlab \n",
    "    to write a wav sound file from a vector snd with \n",
    "    sampling rate Fs, with: \n",
    "    import sound; \n",
    "    sound.wavwrite(snd,Fs,'sound.wav');\"\"\"\n",
    "\n",
    "    import wave\n",
    "    import pylab\n",
    "\n",
    "    WIDTH = 2 #2 bytes per sample\n",
    "    #FORMAT = pyaudio.paInt16\n",
    "    CHANNELS = 1\n",
    "    #RATE = 22050\n",
    "    RATE = Fs #32000\n",
    "\n",
    "    length=pylab.size(snd);\n",
    "\n",
    "    wf = wave.open(sndfile, 'wb')\n",
    "    wf.setnchannels(CHANNELS)\n",
    "    wf.setsampwidth(WIDTH)\n",
    "    wf.setframerate(RATE)\n",
    "    data=struct.pack( 'h' * length, *snd )\n",
    "    wf.writeframes(data)\n",
    "    wf.close()"
   ]
  },
  {
   "cell_type": "markdown",
   "metadata": {
    "deletable": true,
    "editable": true
   },
   "source": [
    "### record(time, Fs)\n",
    "This function records in the audio from the selected input for a given period with desired sampling rate.<br/>\n",
    "** 'time' is desired time of recording in seconds.**<br/>\n",
    "** 'Fs' is the sampling rate for recording.**<br/>\n",
    "E.g., record(10, 32000)"
   ]
  },
  {
   "cell_type": "code",
   "execution_count": null,
   "metadata": {
    "collapsed": true,
    "deletable": true,
    "editable": true
   },
   "outputs": [],
   "source": [
    "def record(time, Fs):\n",
    "    \"\"\"\n",
    "    Records sound from a microphone to a vector s, for instance \n",
    "    for 5 seconds and with sampling rate of 32000 samples/sec: \n",
    "    import sound; s=sound.record(5,32000)\n",
    "    \"\"\"\n",
    "\n",
    "    import numpy;\n",
    "    global opened;\n",
    "    global stream;\n",
    "    CHUNK = 1000 #Blocksize\n",
    "    WIDTH = 2 #2 bytes per sample\n",
    "    CHANNELS = 1 #2\n",
    "    RATE = Fs  #Sampling Rate in Hz\n",
    "    RECORD_SECONDS = time;\n",
    "\n",
    "    p = pyaudio.PyAudio()\n",
    "\n",
    "    a = p.get_device_count()\n",
    "    print(\"device count=\",a)\n",
    "\n",
    "    #if (opened==0):\n",
    "    if(1):\n",
    "        for i in range(0, a):\n",
    "            print(\"i = \",i)\n",
    "            b = p.get_device_info_by_index(i)['maxInputChannels']\n",
    "            print(\"max Input Channels=\", b)\n",
    "            b = p.get_device_info_by_index(i)['defaultSampleRate']\n",
    "            print(\"default Sample Rate=\", b)\n",
    "\n",
    "        stream = p.open(format=p.get_format_from_width(WIDTH),\n",
    "                channels=CHANNELS,\n",
    "                rate=RATE,\n",
    "                input=True,\n",
    "                output=False,\n",
    "                #input_device_index=3,\n",
    "                frames_per_buffer=CHUNK)\n",
    "    opened=1;           \n",
    "\n",
    "    print(\"* recording\")\n",
    "    snd=[]\n",
    "    \n",
    "    #Loop for the blocks:\n",
    "    for i in range(0, int(RATE / CHUNK * RECORD_SECONDS)):\n",
    "        #Reading from audio input stream into data with block length \"CHUNK\":\n",
    "        data = stream.read(CHUNK)\n",
    "        #Convert from stream of bytes to a list of short integers (2 bytes here) in \"samples\":\n",
    "        #shorts = (struct.unpack( \"128h\", data ))\n",
    "        shorts = (struct.unpack( 'h' * CHUNK, data ));\n",
    "        #samples=list(shorts);\n",
    "        samples=shorts;\n",
    "        snd=numpy.append(snd,samples);\n",
    "    return snd;\n"
   ]
  }
 ],
 "metadata": {
  "kernelspec": {
   "display_name": "Python 2",
   "language": "python",
   "name": "python2"
  },
  "language_info": {
   "codemirror_mode": {
    "name": "ipython",
    "version": 2
   },
   "file_extension": ".py",
   "mimetype": "text/x-python",
   "name": "python",
   "nbconvert_exporter": "python",
   "pygments_lexer": "ipython2",
   "version": "2.7.12"
  }
 },
 "nbformat": 4,
 "nbformat_minor": 2
}
