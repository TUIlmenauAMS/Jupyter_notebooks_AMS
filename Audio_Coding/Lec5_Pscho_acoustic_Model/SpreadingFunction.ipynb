{
 "cells": [
  {
   "cell_type": "markdown",
   "metadata": {},
   "source": [
    "## Example\n",
    "* This Python example shows the non-linear superposition with parameter **$2*a=alpha=0.6$, in the Bark scale**. We construct a matrix which does the actual superposition in the Bark domain, because that is most efficient:"
   ]
  },
  {
   "cell_type": "code",
   "execution_count": 1,
   "metadata": {
    "collapsed": true
   },
   "outputs": [],
   "source": [
    "import numpy as np\n",
    "\n",
    "def spreadingfunctionmat(maxfreq,nfilts,alpha):\n",
    "    #Arguments: maxfreq: half the sampling frequency\n",
    "    #nfilts: Number of subbands in the Bark domain, for instance 64\n",
    "    fadB= 14.5+12 # Simultaneous masking for tones at Bark band 12\n",
    "    fbdb=7.5 # Upper slope of spreading function\n",
    "    fbbdb=26.0 # Lower slope of spreading function\n",
    "    maxbark=hz2bark(maxfreq)\n",
    "    spreadingfunctionBarkdB=np.zeros(2*nfilts)\n",
    "    \n",
    "    #upper slope, fbdB attenuation per Bark, over maxbark Bark (full frequency range), with fadB dB simultaneous masking:\n",
    "    spreadingfunctionBarkdB[0:nfilts]=np.linspace(-maxbark*fbdb,-2.5,nfilts)-fadB\n",
    "    \n",
    "    #lower slope fbbdb attenuation per Bark, over maxbark Bark (full frequency range):\n",
    "    spreadingfunctionBarkdB[nfilts:2*nfilts]=np.linspace(0,-maxbark*fbbdb,nfilts)-fadB\n",
    "    \n",
    "    #Convert from dB to \"voltage\" and include alpha exponent\n",
    "    spreadingfunctionBarkVoltage=10.0**(spreadingfunctionBarkdB/20.0*alpha)\n",
    "    \n",
    "    #Spreading functions for all bark scale bands in a matrix:\n",
    "    spreadingfuncmatrix=np.zeros((nfilts,nfilts))\n",
    "    for k in range(nfilts):\n",
    "        spreadingfuncmatrix[:,k]=spreadingfunctionBarkVoltage[(nfilts-k):(2*nfilts-k)]\n",
    "    return spreadingfuncmatrix"
   ]
  },
  {
   "cell_type": "markdown",
   "metadata": {},
   "source": [
    "The above produces a prototype of spreading functions for all the bark bands(bark counts based on the resolution)"
   ]
  },
  {
   "cell_type": "markdown",
   "metadata": {},
   "source": [
    "Below is the psyacmodel python example"
   ]
  },
  {
   "cell_type": "code",
   "execution_count": 2,
   "metadata": {
    "collapsed": false
   },
   "outputs": [
    {
     "data": {
      "image/png": "[encoded data removed]",
      "text/plain": [
       "<matplotlib.figure.Figure at 0x81bb530>"
      ]
     },
     "metadata": {},
     "output_type": "display_data"
    }
   ],
   "source": [
    "%matplotlib inline\n",
    "from psyacmodel import *\n",
    "import matplotlib.pyplot as plt\n",
    "\n",
    "fs=32000 # sampling frequency of audio signal\n",
    "maxfreq=fs/2\n",
    "alpha=0.6 #Exponent for non-linear superposition of spreading functions\n",
    "nfilts=64 #number of subbands in the bark domain\n",
    "\n",
    "spreadingfuncmatrix=spreadingfunctionmat(maxfreq,nfilts,alpha)\n",
    "\n",
    "plt.imshow(spreadingfuncmatrix)\n",
    "plt.title('Matrix spreadingfuncmatrix as Image')\n",
    "plt.xlabel('Bark Domain Subbands')\n",
    "plt.ylabel('Bark Domain Subbands')\n",
    "plt.show()"
   ]
  }
 ],
 "metadata": {
  "kernelspec": {
   "display_name": "Python 2",
   "language": "python",
   "name": "python2"
  },
  "language_info": {
   "codemirror_mode": {
    "name": "ipython",
    "version": 2
   },
   "file_extension": ".py",
   "mimetype": "text/x-python",
   "name": "python",
   "nbconvert_exporter": "python",
   "pygments_lexer": "ipython2",
   "version": "2.7.12"
  }
 },
 "nbformat": 4,
 "nbformat_minor": 2
}
