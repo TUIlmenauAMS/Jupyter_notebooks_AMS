{
 "cells": [
  {
   "cell_type": "markdown",
   "metadata": {},
   "source": [
    "# Module for sound playback functions for pylab\n",
    "## using normalized float numbers to access the sound card.<br/> Gerald Schuller, July, 2016"
   ]
  },
  {
   "cell_type": "markdown",
   "metadata": {},
   "source": [
    "* **Importing relevant modules**"
   ]
  },
  {
   "cell_type": "code",
   "execution_count": 1,
   "metadata": {
    "collapsed": true
   },
   "outputs": [],
   "source": [
    "import pyaudio\n",
    "from numpy import clip\n",
    "import numpy as np\n",
    "\n",
    "opened=0"
   ]
  },
  {
   "cell_type": "markdown",
   "metadata": {},
   "source": [
    "* **This function plays out a vector s as a sound at sampling rate FS, like on Octave or Matlab, with: import soundfloat; soundfloat.sound(s,FS)**"
   ]
  },
  {
   "cell_type": "code",
   "execution_count": 2,
   "metadata": {
    "collapsed": true
   },
   "outputs": [],
   "source": [
    "def sound(s, FS):\n",
    "\n",
    "\n",
    "    CHUNK = 1024 #Blocksize\n",
    "    #WIDTH = 2 #2 bytes per sample\n",
    "    CHANNELS = 1 #2\n",
    "    RATE = FS  #Sampling Rate in Hz\n",
    "    p = pyaudio.PyAudio()\n",
    "\n",
    "    stream = p.open(format=pyaudio.paFloat32,\n",
    "                channels=CHANNELS,\n",
    "                rate=RATE,\n",
    "                #input=False,\n",
    "                output=True,\n",
    "                #input_device_index=10,\n",
    "                #frames_per_buffer=CHUNK\n",
    "                )\n",
    "    stream.write(s.astype(np.float32))\n",
    "    \"\"\"\n",
    "    for i in range(0, int(len(s) / CHUNK) ):\n",
    "      #print \"i=\", i\n",
    "      #Putting samples into blocks of length CHUNK:\n",
    "      samples=s[i*CHUNK:((i+1)*CHUNK)];\n",
    "      samples=clip(samples,-1,1)\n",
    "      #print samples[1]\n",
    "      #print \"len(samples)= \", len(samples)\n",
    "      #Writing data back to audio output stream: \n",
    "      stream.write(samples.astype(np.float32))\n",
    "    \"\"\"\n",
    "\n",
    "    stream.stop_stream()\n",
    "    stream.close()\n",
    "\n",
    "    p.terminate()\n",
    "    print(\"* done\")"
   ]
  },
  {
   "cell_type": "markdown",
   "metadata": {},
   "source": [
    "* **This function implements the wavread function of Octave or Matlab to read a wav sound file into a vector s and sampling rate info at its return, with:<br/>\n",
    "  import sound<br/>\n",
    "  [s,rate]=sound.wavread('sound.wav') or s,rate=sound.wavread('sound.wav')**"
   ]
  },
  {
   "cell_type": "code",
   "execution_count": 3,
   "metadata": {
    "collapsed": true
   },
   "outputs": [],
   "source": [
    "def wavread(sndfile):\n",
    "    import wave\n",
    "    import struct\n",
    "\n",
    "    wf = wave.open(sndfile,'rb')\n",
    "    nchan = wf.getnchannels()\n",
    "    bytes = wf.getsampwidth()\n",
    "    rate = wf.getframerate()\n",
    "    length = wf.getnframes()\n",
    "    print(\"Number of channels: \", nchan)\n",
    "    print(\"Number of bytes per sample:\", bytes)\n",
    "    print(\"Sampling rate: \", rate)\n",
    "    print(\"Number of samples:\", length)\n",
    "\n",
    "    data = wf.readframes(length)\n",
    "\n",
    "    if bytes == 2:\n",
    "        shorts = (struct.unpack( 'h' * length, data ))\n",
    "    else:\n",
    "        shorts = (struct.unpack( 'B' * length, data ))\n",
    "    wf.close\n",
    "    return shorts, rate"
   ]
  },
  {
   "cell_type": "markdown",
   "metadata": {},
   "source": [
    "* **This function implements the wawwritefunction of Octave or Matlab to write a wav sound file from a vector snd with sampling rate Fs, with:<br/> import sound<br/>sound.wavwrite(snd,Fs,'sound.wav')**"
   ]
  },
  {
   "cell_type": "code",
   "execution_count": 4,
   "metadata": {
    "collapsed": true
   },
   "outputs": [],
   "source": [
    "def wavwrite(snd,Fs,sndfile):\n",
    "    import wave\n",
    "\n",
    "    WIDTH = 2 #2 bytes per sample\n",
    "    #FORMAT = pyaudio.paInt16\n",
    "    CHANNELS = 1\n",
    "    #RATE = 22050\n",
    "    RATE = Fs #32000\n",
    "\n",
    "    length=len(snd);\n",
    "\n",
    "    wf = wave.open(sndfile, 'wb')\n",
    "    wf.setnchannels(CHANNELS)\n",
    "    wf.setsampwidth(WIDTH)\n",
    "    wf.setframerate(RATE)\n",
    "    data=struct.pack( 'h' * length, *snd )\n",
    "    wf.writeframes(data)\n",
    "    wf.close()"
   ]
  },
  {
   "cell_type": "markdown",
   "metadata": {},
   "source": [
    "* **Records sound from a microphone to a vector s, for instance for 5 seconds and with sampling rate of 32000 samples/sec:<br/> import sound<br/> s=sound.record(5,32000)**"
   ]
  },
  {
   "cell_type": "code",
   "execution_count": 5,
   "metadata": {
    "collapsed": true
   },
   "outputs": [],
   "source": [
    "def record(time, Fs):\n",
    "   \n",
    "    import numpy;\n",
    "    global opened;\n",
    "    global stream;\n",
    "    CHUNK = 1000 #Blocksize\n",
    "    WIDTH = 2 #2 bytes per sample\n",
    "    CHANNELS = 1 #2\n",
    "    RATE = Fs  #Sampling Rate in Hz\n",
    "    RECORD_SECONDS = time;\n",
    "\n",
    "    p = pyaudio.PyAudio()\n",
    "\n",
    "    a = p.get_device_count()\n",
    "    print(\"device count=\",a)\n",
    "\n",
    "    #if (opened==0):\n",
    "    if(1):\n",
    "        for i in range(0, a):\n",
    "            print(\"i = \",i)\n",
    "            b = p.get_device_info_by_index(i)['maxInputChannels']\n",
    "            print(\"max Input Channels=\", b)\n",
    "            b = p.get_device_info_by_index(i)['defaultSampleRate']\n",
    "            print(\"default Sample Rate=\", b)\n",
    "\n",
    "        stream = p.open(format=pyaudio.paFloat32,\n",
    "            channels=CHANNELS,\n",
    "            rate=RATE,\n",
    "            input=True,\n",
    "            #output=False,\n",
    "            #input_device_index=3,\n",
    "            frames_per_buffer=CHUNK)\n",
    "        opened=1           \n",
    "\n",
    "    print(\"* recording\")\n",
    "    snd=[]\n",
    "    \n",
    "    #Loop for the blocks:\n",
    "    for i in range(0, int(RATE / CHUNK * RECORD_SECONDS)):\n",
    "        #Reading from audio input stream into data with block length \"CHUNK\":\n",
    "        samples = stream.read(CHUNK).astype(np.float32)\n",
    "        #Convert from stream of bytes to a list of short integers (2 bytes here) in \"samples\":\n",
    "        #shorts = (struct.unpack( \"128h\", data ))\n",
    "        #shorts = (struct.unpack( 'h' * CHUNK, data ));\n",
    "        #samples=list(shorts);\n",
    "        #samples=shorts;\n",
    "        snd=numpy.append(snd,samples)\n",
    "    return snd"
   ]
  },
  {
   "cell_type": "markdown",
   "metadata": {},
   "source": [
    "* **Testing the module - Using a sine tone of 400 Hz and sampling frequency of 44.1 kHz and playing it for 1 second.**"
   ]
  },
  {
   "cell_type": "code",
   "execution_count": 6,
   "metadata": {
    "collapsed": false
   },
   "outputs": [
    {
     "name": "stdout",
     "output_type": "stream",
     "text": [
      "* done\n"
     ]
    }
   ],
   "source": [
    "if __name__ == '__main__':\n",
    "    #Testing:\n",
    "    s = np.sin(2 * np.pi * 440 * np.arange(0.0, 1.0, 1/44100.0))\n",
    "    sound(s * 0.3, 44100)"
   ]
  }
 ],
 "metadata": {
  "kernelspec": {
   "display_name": "Python 2",
   "language": "python",
   "name": "python2"
  },
  "language_info": {
   "codemirror_mode": {
    "name": "ipython",
    "version": 2
   },
   "file_extension": ".py",
   "mimetype": "text/x-python",
   "name": "python",
   "nbconvert_exporter": "python",
   "pygments_lexer": "ipython2",
   "version": "2.7.12"
  }
 },
 "nbformat": 4,
 "nbformat_minor": 2
}
