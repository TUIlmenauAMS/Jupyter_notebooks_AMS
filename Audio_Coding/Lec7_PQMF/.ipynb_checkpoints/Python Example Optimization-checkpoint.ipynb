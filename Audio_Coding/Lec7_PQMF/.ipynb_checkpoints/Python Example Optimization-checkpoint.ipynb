{
 "cells": [
  {
   "cell_type": "markdown",
   "metadata": {
    "deletable": true,
    "editable": true
   },
   "source": [
    "# Python example for Optimization\n",
    "\n",
    "## PQMF Design\n",
    "Take the frequency response of the baseband prototype or window function:$$H(\\omega) = DTFT(h(n))$$Then we need to find (optimize) a function h(n), such that it fulfills:<br/>\n",
    "1. **Attenuation**: The **stopband attenuation** should be high after the neighboring band to **minimize aliasing**:\n",
    "    $$|H(\\omega)|\\approx 0 \\quad for  \\quad 1.5 \\cdot \\frac{\\pi}{N}<|\\omega|<\\pi$$\n",
    "2. **Unity condition**: Sum of magnitude squared frequency responses of $2$ **neighboring bands** should be close to to a **constant**, here $2N^2$, to achieve **near perfect reconstruction**: $$  |H(\\omega)|^2 + |H(\\omega+\\pi/N)|^2 \\approx 2 \\cdot N^2 \\quad for \\quad 0\\leqslant\\omega<\\frac{\\pi}{N} $$"
   ]
  },
  {
   "cell_type": "markdown",
   "metadata": {
    "deletable": true,
    "editable": true
   },
   "source": [
    "  To fulfill these requirements, we now have an **optimization problem**. Python has powerful optimization libraries to find a solution. Take a very simple example: **find the minimum** of the function of 2 variables, **$$f(x_1, x_2)=sin(x_1)+cos(x_2)$$** \n",
    " \n",
    "* In Python we write it as a function in file **functionexamp.py:**"
   ]
  },
  {
   "cell_type": "markdown",
   "metadata": {
    "deletable": true,
    "editable": true
   },
   "source": [
    "### functionexamp"
   ]
  },
  {
   "cell_type": "code",
   "execution_count": 1,
   "metadata": {
    "collapsed": false,
    "deletable": true,
    "editable": true
   },
   "outputs": [],
   "source": [
    "#function example with several unknowns (variables) for optimization\n",
    "#Gerald Schuller, Nov. 2016\n",
    "import numpy as np\n",
    "\n",
    "def functionexamp(x):\n",
    "    #x: array with 2 variables\n",
    "    \n",
    "    y=np.sin(x[0])+np.cos(x[1])\n",
    "    return y"
   ]
  },
  {
   "cell_type": "markdown",
   "metadata": {
    "deletable": true,
    "editable": true
   },
   "source": [
    "---\n",
    "\n",
    "---"
   ]
  },
  {
   "cell_type": "markdown",
   "metadata": {
    "deletable": true,
    "editable": true
   },
   "source": [
    "* Next we use the library scipy.optimize to find a minimum, and use its function “minimize”. We save it for instance as **optimizationExample.py**"
   ]
  },
  {
   "cell_type": "markdown",
   "metadata": {
    "deletable": true,
    "editable": true
   },
   "source": [
    "### optimizationExample"
   ]
  },
  {
   "cell_type": "code",
   "execution_count": 2,
   "metadata": {
    "collapsed": false,
    "deletable": true,
    "editable": true
   },
   "outputs": [
    {
     "name": "stdout",
     "output_type": "stream",
     "text": [
      "     fun: -1.0\n",
      "     jac: array([  7.45058060e-09,   7.45058060e-09])\n",
      " message: 'Optimization terminated successfully.'\n",
      "    nfev: 32\n",
      "     nit: 3\n",
      "    njev: 8\n",
      "  status: 0\n",
      " success: True\n",
      "       x: array([ 0.21460184, -1.78539816])\n"
     ]
    }
   ],
   "source": [
    "#Optimization example, see also:\n",
    "#https://docs.scipy.org/doc/scipy-0.18.1/reference/optimize.html\n",
    "#Gerald Schuller, Nov. 2016\n",
    "#run it with \"python optimizationExample.py\" in a termina shell\n",
    "#or type \"ipython\" in a termina shell and copy lines below:\n",
    "\n",
    "import numpy as np\n",
    "import scipy.optimize as optimize\n",
    "from functionexamp import functionexamp\n",
    "\n",
    "#Example for 2 unknowns, args: function-name, starting point, method:\n",
    "from functionexamp import *\n",
    "xmin = optimize.minimize(functionexamp, [-1.0, -3.0], method='CG')\n",
    "print(xmin)"
   ]
  },
  {
   "cell_type": "markdown",
   "metadata": {
    "deletable": true,
    "editable": true
   },
   "source": [
    "And call it with ** *Python optimizationExample.py* **\n"
   ]
  },
  {
   "cell_type": "markdown",
   "metadata": {
    "deletable": true,
    "editable": true
   },
   "source": [
    "**Observe**: We indeed obtain the minimium at $x_1=−π/2, x_2=−π$.\n",
    "\n",
    "---\n",
    "\n",
    "---"
   ]
  },
  {
   "cell_type": "markdown",
   "metadata": {
    "deletable": true,
    "editable": true
   },
   "source": [
    "### PQMF Optimization, Python Example, Optimization Function \n",
    "### optimfuncQMF"
   ]
  },
  {
   "cell_type": "code",
   "execution_count": 3,
   "metadata": {
    "collapsed": false,
    "deletable": true,
    "editable": true
   },
   "outputs": [],
   "source": [
    "import numpy as np\n",
    "import scipy as sp\n",
    "import scipy.signal as sig\n",
    "import matplotlib.pyplot as plt\n",
    "%matplotlib inline\n",
    "\n",
    "def optimfuncQMF(x):\n",
    "    \"\"\"Optimization function for a PQMF Filterbank\n",
    "    x: coefficients to optimize (first half of prototype h because of symmetry)\n",
    "    err: resulting total error\n",
    "    \"\"\"\n",
    "    N = 4 #4 subbands\n",
    "    h = np.append(x, np.flipud(x))\n",
    "    f, H_im = sig.freqz(h)\n",
    "    H = np.abs(H_im) #only keeping the real part\n",
    "    \n",
    "    posfreq = np.square(H[0:512/N])\n",
    "    \n",
    "    #Negative frequencies are symmetric around 0:\n",
    "    negfreq = np.flipud(np.square(H[0:512/N]))\n",
    "    \n",
    "    #Sum of magnitude squared frequency responses should be closed to unity (or N)\n",
    "    unitycond = np.sum(np.abs(posfreq + negfreq - 2*(N*N)*np.ones(512/N)))/512\n",
    "    \n",
    "    #plt.plot(posfreq+negfreq)\n",
    "    \n",
    "    #High attenuation after the next subband:\n",
    "    att = np.sum(np.abs(H[1.5*512/N:]))/512\n",
    "    \n",
    "    #Total (weighted) error:\n",
    "    err = unitycond + 100*att\n",
    "    return err"
   ]
  },
  {
   "cell_type": "markdown",
   "metadata": {
    "deletable": true,
    "editable": true
   },
   "source": [
    "---\n",
    "\n",
    "---\n",
    "\n",
    "### PQMF Optimization, Python Example, Optimizer\n",
    "> Now we have a function to minimize, and we can use Pythons powerful optimization library to minimize this function:\n"
   ]
  },
  {
   "cell_type": "code",
   "execution_count": 4,
   "metadata": {
    "collapsed": false,
    "deletable": true,
    "editable": true
   },
   "outputs": [
    {
     "name": "stderr",
     "output_type": "stream",
     "text": [
      "optimfuncQMF.py:26: VisibleDeprecationWarning: using a non-integer number instead of an integer will result in an error in the future\n",
      "  att = np.sum(np.abs(H[1.5*512/N:]))/512\n"
     ]
    },
    {
     "data": {
      "image/png": "[encoded data removed]",
      "text/plain": [
       "<matplotlib.figure.Figure at 0x7fa08c92ee90>"
      ]
     },
     "metadata": {},
     "output_type": "display_data"
    },
    {
     "data": {
      "image/png": "[encoded data removed]",
      "text/plain": [
       "<matplotlib.figure.Figure at 0x7fa08c880d50>"
      ]
     },
     "metadata": {},
     "output_type": "display_data"
    }
   ],
   "source": [
    "import numpy as np\n",
    "import matplotlib.pyplot as plt\n",
    "import scipy.optimize as opt\n",
    "import scipy.signal as sig\n",
    "from optimfuncQMF import optimfuncQMF\n",
    "\n",
    "#optimize for 16 filter coefficients:\n",
    "xmin = opt.minimize(optimfuncQMF, 16*np.ones(16), method='SLSQP')\n",
    "xmin = xmin[\"x\"]\n",
    "\n",
    "#Restore symmetric upper half of window:\n",
    "h = np.concatenate((xmin, np.flipud(xmin)))\n",
    "plt.plot(h)\n",
    "plt.title('Resulting PQMF Window Function')\n",
    "plt.xlabel('Sample')\n",
    "plt.ylabel('Value')\n",
    "plt.show()\n",
    "\n",
    "f, H = sig.freqz(h)\n",
    "plt.plot(f, 20*np.log10(np.abs(H)))\n",
    "plt.title('Resulting PQMF Magnitude Response')\n",
    "plt.xlabel('Normalized Frequency')\n",
    "plt.ylabel('dB')\n",
    "plt.show()"
   ]
  },
  {
   "cell_type": "markdown",
   "metadata": {
    "deletable": true,
    "editable": true
   },
   "source": [
    "**Observe**: We get almost 100 dB Stopband attenuation, much more than with the MDCT!\n",
    "\n",
    "---\n",
    "\n",
    "---\n",
    "\n",
    "### PQMF Optimization, Python Example, Unity Condition\n",
    "\n",
    ">We can test the PQMF Unity condition (slide 19) $$ |H(\\omega)^2| + |H(\\omega+\\pi/N)^2|\\approx2\\cdot N^2\\quad for \\quad 0 \\leq\\omega<\\frac{\\pi}{N}$$ $(2N^2=32)$, with the following Python code"
   ]
  },
  {
   "cell_type": "code",
   "execution_count": 5,
   "metadata": {
    "collapsed": false,
    "deletable": true,
    "editable": true
   },
   "outputs": [
    {
     "data": {
      "image/png": "[encoded data removed]",
      "text/plain": [
       "<matplotlib.figure.Figure at 0x7fa0b4180210>"
      ]
     },
     "metadata": {},
     "output_type": "display_data"
    }
   ],
   "source": [
    "N = 4\n",
    "f, H_im = sig.freqz(h)\n",
    "posfreq = np.square(H[0:512/N])\n",
    "negfreq = np.flipud(np.square(H[0:512/N]))\n",
    "plt.plot((np.abs(posfreq) + np.abs(negfreq)))\n",
    "plt.xlabel('Frequency (512 is Nyquist)')\n",
    "plt.ylabel('Magnitude')\n",
    "plt.title('Unity Condition, Sum of Squared Magnitude of 2 Neighboring Subbands')\n",
    "plt.show()"
   ]
  },
  {
   "cell_type": "markdown",
   "metadata": {
    "deletable": true,
    "editable": true
   },
   "source": [
    "**Observe:** \n",
    "  * We obtain a 4-band filter bank with filter length of 32 taps, hence 8 times overlap.\n",
    "  * The stopband attenuation reaches almost 100 dB, almost right after the passband, much more than with the MDCT!"
   ]
  }
 ],
 "metadata": {
  "kernelspec": {
   "display_name": "Python 2",
   "language": "python",
   "name": "python2"
  },
  "language_info": {
   "codemirror_mode": {
    "name": "ipython",
    "version": 2
   },
   "file_extension": ".py",
   "mimetype": "text/x-python",
   "name": "python",
   "nbconvert_exporter": "python",
   "pygments_lexer": "ipython2",
   "version": "2.7.12"
  }
 },
 "nbformat": 4,
 "nbformat_minor": 2
}
