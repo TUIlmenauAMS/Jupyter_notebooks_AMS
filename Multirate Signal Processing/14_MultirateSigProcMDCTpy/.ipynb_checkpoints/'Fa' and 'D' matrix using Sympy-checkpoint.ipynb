{
 "cells": [
  {
   "cell_type": "markdown",
   "metadata": {},
   "source": [
    "# Sympy  "
   ]
  },
  {
   "cell_type": "code",
   "execution_count": 1,
   "metadata": {
    "collapsed": true,
    "deletable": true,
    "editable": true
   },
   "outputs": [],
   "source": [
    "from sympy import *"
   ]
  },
  {
   "cell_type": "code",
   "execution_count": 2,
   "metadata": {
    "collapsed": false,
    "deletable": true,
    "editable": true,
    "scrolled": true
   },
   "outputs": [
    {
     "data": {
      "text/plain": [
       "Matrix([\n",
       "[0, 1,  4,  0],\n",
       "[2, 0,  0,  3],\n",
       "[3, 0,  0, -2],\n",
       "[0, 4, -1,  0]])"
      ]
     },
     "execution_count": 2,
     "metadata": {},
     "output_type": "execute_result"
    }
   ],
   "source": [
    "Fa = Matrix([[0, 1, 4, 0],[2, 0, 0, 3],[3, 0, 0, -2],[0, 4, -1, 0]])\n",
    "Fa"
   ]
  },
  {
   "cell_type": "code",
   "execution_count": 3,
   "metadata": {
    "collapsed": false,
    "deletable": true,
    "editable": true
   },
   "outputs": [
    {
     "data": {
      "text/plain": [
       "Matrix([\n",
       "[1/z,   0, 0, 0],\n",
       "[  0, 1/z, 0, 0],\n",
       "[  0,   0, 1, 0],\n",
       "[  0,   0, 0, 1]])"
      ]
     },
     "execution_count": 3,
     "metadata": {},
     "output_type": "execute_result"
    }
   ],
   "source": [
    "z = symbols('z')\n",
    "D = Matrix([[z**(-1), 0, 0, 0],[0, z**(-1), 0, 0],[0, 0, 1, 0],[0, 0, 0, 1]])\n",
    "D"
   ]
  },
  {
   "cell_type": "code",
   "execution_count": 4,
   "metadata": {
    "collapsed": false,
    "deletable": true,
    "editable": true,
    "scrolled": true
   },
   "outputs": [
    {
     "data": {
      "text/plain": [
       "Matrix([\n",
       "[  0, 1/z,  4,  0],\n",
       "[2/z,   0,  0,  3],\n",
       "[3/z,   0,  0, -2],\n",
       "[  0, 4/z, -1,  0]])"
      ]
     },
     "execution_count": 4,
     "metadata": {},
     "output_type": "execute_result"
    }
   ],
   "source": [
    "Fa*D"
   ]
  },
  {
   "cell_type": "markdown",
   "metadata": {
    "deletable": true,
    "editable": true
   },
   "source": [
    "* **Here now we have a matrix which only consists of real (or complex) valued elements, which we can now enter into a numerical math package, like MATLAB or Octave or Python. Observe that our time index n for the prototype function runs from the buttom up.**"
   ]
  },
  {
   "cell_type": "markdown",
   "metadata": {
    "deletable": true,
    "editable": true
   },
   "source": [
    "---"
   ]
  },
  {
   "cell_type": "markdown",
   "metadata": {
    "deletable": true,
    "editable": true
   },
   "source": [
    "# Example in Python:"
   ]
  },
  {
   "cell_type": "markdown",
   "metadata": {
    "deletable": true,
    "editable": true
   },
   "source": [
    "Again assume we have the block length and number of subbands $N=4$, and our baseband prototype impulse response is $h(n)=[1,2,3,4,4,3,2,1]$ . We get the analysis Folding matrix $F_a$ (as above)"
   ]
  },
  {
   "cell_type": "code",
   "execution_count": 5,
   "metadata": {
    "collapsed": false,
    "deletable": true,
    "editable": true,
    "scrolled": true
   },
   "outputs": [
    {
     "data": {
      "text/plain": [
       "Matrix([\n",
       "[ 0, -1, -4,  0],\n",
       "[-2,  0,  0, -3],\n",
       "[-3,  0,  0,  2],\n",
       "[ 0, -4,  1,  0]])"
      ]
     },
     "execution_count": 5,
     "metadata": {},
     "output_type": "execute_result"
    }
   ],
   "source": [
    "Fa = Matrix([[0, -1, -4, 0],[-2, 0, 0, -3],[-3, 0, 0, 2],[0, -4, 1, 0]])\n",
    "Fa"
   ]
  },
  {
   "cell_type": "markdown",
   "metadata": {
    "deletable": true,
    "editable": true
   },
   "source": [
    "## and its inverse becomes the Folding matrix for the synthesis, to ensure perfect reconstruction, is $\\normalsize F^{(−1)}_a$:"
   ]
  },
  {
   "cell_type": "code",
   "execution_count": 6,
   "metadata": {
    "collapsed": false,
    "deletable": true,
    "editable": true
   },
   "outputs": [
    {
     "data": {
      "text/plain": [
       "Matrix([\n",
       "[    0, -2/13, -3/13,     0],\n",
       "[-1/17,     0,     0, -4/17],\n",
       "[-4/17,     0,     0,  1/17],\n",
       "[    0, -3/13,  2/13,     0]])"
      ]
     },
     "execution_count": 6,
     "metadata": {},
     "output_type": "execute_result"
    }
   ],
   "source": [
    "Fa**(-1)"
   ]
  },
  {
   "cell_type": "markdown",
   "metadata": {
    "deletable": true,
    "editable": true
   },
   "source": [
    "### This is now equal to the synthesis folding matrix $F_s$ , and we can read out the resulting synthesis baseband impulse response as: $$\\normalsize g(n) = \\big[\\frac{1}{17} , \\frac{2}{13} , \\frac{3}{13} , \\frac{4}{17} , \\frac{4}{17}, \\frac{3}{13}, \\frac{2}{13}, \\frac{1}{17}\\big]$$ \n",
    "\n",
    "### we can see that its values not quite identical to $h(n)$ . The numerator is the same, but the denominators change."
   ]
  }
 ],
 "metadata": {
  "kernelspec": {
   "display_name": "Python 2",
   "language": "python",
   "name": "python2"
  },
  "language_info": {
   "codemirror_mode": {
    "name": "ipython",
    "version": 2
   },
   "file_extension": ".py",
   "mimetype": "text/x-python",
   "name": "python",
   "nbconvert_exporter": "python",
   "pygments_lexer": "ipython2",
   "version": "2.7.12"
  }
 },
 "nbformat": 4,
 "nbformat_minor": 2
}
