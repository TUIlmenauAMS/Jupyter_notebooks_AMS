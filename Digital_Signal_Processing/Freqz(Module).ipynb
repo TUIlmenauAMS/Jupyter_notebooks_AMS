{
 "cells": [
  {
   "cell_type": "markdown",
   "metadata": {
    "deletable": true,
    "editable": true
   },
   "source": [
    "# This is a module which has a function freqz which can be used to plot the frequency response of a filter or a digital signal and outputs the plot for frequency response and phase response for the given filter or signal."
   ]
  },
  {
   "cell_type": "markdown",
   "metadata": {
    "deletable": true,
    "editable": true
   },
   "source": [
    "### Input:\n",
    "Inputs for the function freqz are as follows:\n",
    "##### 'b' - vector of Filter coefficients in the numerator of its transfer function\n",
    "##### 'a' - vector of Filter coefficients in the denominator of its transfer function(default value is 1 for FIR filter)\n",
    "##### 'whole' - boolean parameter for plotting the frequency/phase for the complete timeperiod(cycle/2pi)\n",
    "##### axisFreqz - vector of values for scaling axes of Frequency response. Vector structure: [xmin, xmax, ymin, ymax].\n",
    "##### axisPhase - vector of values for scaling axes of Phase response. Vector structure: [xmin, xmax, ymin, ymax]."
   ]
  },
  {
   "cell_type": "markdown",
   "metadata": {
    "deletable": true,
    "editable": true
   },
   "source": [
    "### Output:\n",
    "Shows a plot with twos subplots of frequency response on top and phase response at the bottom for the given signal of for filter coefficients provided."
   ]
  },
  {
   "cell_type": "markdown",
   "metadata": {
    "deletable": true,
    "editable": true
   },
   "source": [
    "### Import the relevant modules and define the function."
   ]
  },
  {
   "cell_type": "code",
   "execution_count": 1,
   "metadata": {
    "collapsed": true,
    "deletable": true,
    "editable": true
   },
   "outputs": [],
   "source": [
    "# Module for show impulse rsponse answer\n",
    "# Julia Peter, Mathias Kuntze\n",
    "#Modified, Gerald Schuller, Nov. 2016\n",
    "\n",
    "import matplotlib.pyplot as plt\n",
    "import numpy as np\n",
    "from scipy import signal as sp\n",
    "\n",
    "def freqz(b, a=1, whole = False, axisFreqz = None, axisPhase = None):\n",
    "    \n",
    "    w, h = sp.freqz(b, a, worN=512, whole=whole)\n",
    "    #w = w/np.pi\n",
    "    fig = plt.figure()\n",
    "    plt.title('Digital filter frequency response')\n",
    "    plt.subplot(2,1,1)\n",
    "    \n",
    "    plt.plot(w, 20 * np.log10(abs(h)), 'b')\n",
    "    plt.ylabel('Amplitude (dB)')\n",
    "    plt.xlabel('Normalized Frequency')\n",
    "    plt.grid()\n",
    "    if axisFreqz is not None:\n",
    "        plt.axis(axisFreqz)\n",
    "    \n",
    "    plt.subplot(2,1,2)\n",
    "    #angles = np.unwrap(np.angle(h))\n",
    "    angles = np.angle(h)\n",
    "    plt.plot(w, angles, 'g')\n",
    "    plt.ylabel('Angle (radians)')\n",
    "    plt.xlabel('Normalized Frequency')\n",
    "    plt.grid()\n",
    "\n",
    "    if axisPhase is not None:\n",
    "        plt.axis(axisPhase)\n",
    "    \n",
    "    plt.show()\n",
    "    return h"
   ]
  }
 ],
 "metadata": {
  "kernelspec": {
   "display_name": "Python 3",
   "language": "python",
   "name": "python3"
  },
  "language_info": {
   "codemirror_mode": {
    "name": "ipython",
    "version": 3
   },
   "file_extension": ".py",
   "mimetype": "text/x-python",
   "name": "python",
   "nbconvert_exporter": "python",
   "pygments_lexer": "ipython3",
   "version": "3.5.2"
  }
 },
 "nbformat": 4,
 "nbformat_minor": 2
}
