{
 "cells": [
  {
   "cell_type": "markdown",
   "metadata": {},
   "source": [
    "## This is a python module which generates warping phase of an allpass filter."
   ]
  },
  {
   "cell_type": "markdown",
   "metadata": {},
   "source": [
    "* Input - namely two parameters as follows:\n",
    "  * w - vector of normalized frequencies i.e., from 0 to $\\pi$\n",
    "  * a - allpass coefficient\n",
    "* Output\n",
    "  * wy - warped frequencies vector"
   ]
  },
  {
   "cell_type": "code",
   "execution_count": 1,
   "metadata": {
    "collapsed": true
   },
   "outputs": [],
   "source": [
    "import numpy as np\n",
    "# import matplotlib.pyplot as plt\n",
    "def warpingphase(w, a):\n",
    "    #produces (outputs) phase wy for an allpass filter\n",
    "    #w: input vector of normlized frequencies (0..pi)\n",
    "    #a: allpass coefficient\n",
    "    #phase of allpass zero/pole :\n",
    "    theta = np.angle(a);\n",
    "    #magnitude of allpass zero/pole :\n",
    "    r = np.abs(a);\n",
    "    wy = - w - 2 * np.arctan((r*np.sin(w - theta))/(1 - r*np.cos(w - theta)))\n",
    "    return wy"
   ]
  }
 ],
 "metadata": {
  "kernelspec": {
   "display_name": "Python 2",
   "language": "python",
   "name": "python2"
  },
  "language_info": {
   "codemirror_mode": {
    "name": "ipython",
    "version": 2
   },
   "file_extension": ".py",
   "mimetype": "text/x-python",
   "name": "python",
   "nbconvert_exporter": "python",
   "pygments_lexer": "ipython2",
   "version": "2.7.12"
  }
 },
 "nbformat": 4,
 "nbformat_minor": 2
}
