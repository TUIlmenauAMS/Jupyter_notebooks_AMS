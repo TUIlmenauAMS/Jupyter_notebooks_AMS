{
 "cells": [
  {
   "cell_type": "code",
   "execution_count": 1,
   "metadata": {
    "collapsed": false
   },
   "outputs": [
    {
     "name": "stdout",
     "output_type": "stream",
     "text": [
      "[ 0.012  1.234  2.456  3.789]\n"
     ]
    }
   ],
   "source": [
    "import numpy as np\n",
    "q = 0.1 #stepsize\n",
    "x = np.array([0.012, 1.234, 2.456, 3.789])\n",
    "print x"
   ]
  },
  {
   "cell_type": "markdown",
   "metadata": {},
   "source": [
    "Mid-Tread quantizer (Encoder):"
   ]
  },
  {
   "cell_type": "code",
   "execution_count": 2,
   "metadata": {
    "collapsed": false
   },
   "outputs": [
    {
     "name": "stdout",
     "output_type": "stream",
     "text": [
      "[  0.  12.  25.  38.]\n"
     ]
    }
   ],
   "source": [
    "index = np.round(x/q)\n",
    "print index"
   ]
  },
  {
   "cell_type": "markdown",
   "metadata": {},
   "source": [
    "De-quantization (Decoder):"
   ]
  },
  {
   "cell_type": "code",
   "execution_count": 3,
   "metadata": {
    "collapsed": false
   },
   "outputs": [
    {
     "name": "stdout",
     "output_type": "stream",
     "text": [
      "[ 0.   1.2  2.5  3.8]\n"
     ]
    }
   ],
   "source": [
    "reconstr = index * q\n",
    "print reconstr"
   ]
  }
 ],
 "metadata": {
  "kernelspec": {
   "display_name": "Python 2",
   "language": "python",
   "name": "python2"
  },
  "language_info": {
   "codemirror_mode": {
    "name": "ipython",
    "version": 2
   },
   "file_extension": ".py",
   "mimetype": "text/x-python",
   "name": "python",
   "nbconvert_exporter": "python",
   "pygments_lexer": "ipython2",
   "version": "2.7.12"
  }
 },
 "nbformat": 4,
 "nbformat_minor": 2
}
