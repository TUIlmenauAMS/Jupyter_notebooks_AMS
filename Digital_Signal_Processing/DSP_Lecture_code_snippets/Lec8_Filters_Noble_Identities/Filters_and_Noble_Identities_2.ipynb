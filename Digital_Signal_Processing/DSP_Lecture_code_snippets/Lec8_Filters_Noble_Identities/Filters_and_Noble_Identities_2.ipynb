{
 "cells": [
  {
   "cell_type": "markdown",
   "metadata": {
    "deletable": true,
    "editable": true
   },
   "source": [
    "## Example: (with speech signal using polyphase matrices)"
   ]
  },
  {
   "cell_type": "code",
   "execution_count": 1,
   "metadata": {
    "collapsed": false,
    "deletable": true,
    "editable": true
   },
   "outputs": [
    {
     "name": "stdout",
     "output_type": "stream",
     "text": [
      "('Number of channels: ', 1)\n",
      "('Number of bytes per sample:', 2)\n",
      "('Sampling rate: ', 8000)\n",
      "('Number of samples:', 60246)\n"
     ]
    }
   ],
   "source": [
    "from sound import *\n",
    "import scipy.signal\n",
    "x, fs = wavread('speech8kHz.wav')"
   ]
  },
  {
   "cell_type": "markdown",
   "metadata": {
    "deletable": true,
    "editable": true
   },
   "source": [
    "Listen to it as a comparison:"
   ]
  },
  {
   "cell_type": "code",
   "execution_count": 2,
   "metadata": {
    "collapsed": false,
    "deletable": true,
    "editable": true
   },
   "outputs": [
    {
     "name": "stdout",
     "output_type": "stream",
     "text": [
      "* done\n"
     ]
    }
   ],
   "source": [
    "sound(x,fs)"
   ]
  },
  {
   "cell_type": "markdown",
   "metadata": {
    "deletable": true,
    "editable": true
   },
   "source": [
    "Take a low pass FIR filter with impulse response"
   ]
  },
  {
   "cell_type": "code",
   "execution_count": 3,
   "metadata": {
    "collapsed": true,
    "deletable": true,
    "editable": true
   },
   "outputs": [],
   "source": [
    "h = [0.5, 1, 1.1, 0.6]"
   ]
  },
  {
   "cell_type": "markdown",
   "metadata": {
    "deletable": true,
    "editable": true
   },
   "source": [
    "and a down-sampling factor N=2. Hence we get the z-transform or the impulse response as,\n",
    "$H(z)=0.5 + 1⋅z^{−1}+1.1\\cdot z^{−2}+0.6 \\cdot z^{−3}$ and its polyphase components as\n",
    "$H_0 (z)=0.5+1.1 \\cdot z^{−1}$, $H_1 (z)=1+0.6 \\cdot z^{−1}$\n",
    "The polyphase components in in the tme domain (in Python) are hence:"
   ]
  },
  {
   "cell_type": "code",
   "execution_count": 4,
   "metadata": {
    "collapsed": true,
    "deletable": true,
    "editable": true
   },
   "outputs": [],
   "source": [
    "h0 = h[0::2]\n",
    "h1 = h[1::2]"
   ]
  },
  {
   "cell_type": "markdown",
   "metadata": {
    "deletable": true,
    "editable": true
   },
   "source": [
    "Produce the 2 phases of a down-sampled input signal x:"
   ]
  },
  {
   "cell_type": "code",
   "execution_count": 5,
   "metadata": {
    "collapsed": true,
    "deletable": true,
    "editable": true
   },
   "outputs": [],
   "source": [
    "x0 = x[0::2]\n",
    "x1 = x[1::2]"
   ]
  },
  {
   "cell_type": "markdown",
   "metadata": {
    "deletable": true,
    "editable": true
   },
   "source": [
    "then the filtered and down-sampled output y is"
   ]
  },
  {
   "cell_type": "code",
   "execution_count": 6,
   "metadata": {
    "collapsed": true,
    "deletable": true,
    "editable": true
   },
   "outputs": [],
   "source": [
    "y=scipy.signal.lfilter(h0,1,x0)+scipy.signal.lfilter(h1,1,x1)"
   ]
  },
  {
   "cell_type": "markdown",
   "metadata": {
    "deletable": true,
    "editable": true
   },
   "source": [
    "Observe that each of these 2 filters now works on a downsampled signal, but the result is identcal to frst filtering and then down-sampling.\n",
    "Now listen to the resultng down-sampled signal:"
   ]
  },
  {
   "cell_type": "code",
   "execution_count": 7,
   "metadata": {
    "collapsed": false,
    "deletable": true,
    "editable": true
   },
   "outputs": [
    {
     "name": "stdout",
     "output_type": "stream",
     "text": [
      "* done\n"
     ]
    }
   ],
   "source": [
    "sound(y,fs/2)"
   ]
  },
  {
   "cell_type": "markdown",
   "metadata": {
    "deletable": true,
    "editable": true
   },
   "source": [
    "Correspondingly, **up-samplers** can be obtained with flters operatng on the **lower sampling rate**. Since $H_i(z^N)$ and $z^{−i}$ are linear tme-invariant systems, we can exchange their ordering,\n",
    "$H_i (z^N)\\cdot z^{−i} = z^{−i} \\cdot H_i(z^N)$\n",
    "Hence we can redraw the polyphase decompositon for an up-sampler followed by a (e.g. low pass) flter (at the high sampling rate) as follows,"
   ]
  },
  {
   "cell_type": "markdown",
   "metadata": {
    "deletable": true,
    "editable": true
   },
   "source": [
    "![polyphase](ppu.JPG)"
   ]
  },
  {
   "cell_type": "markdown",
   "metadata": {
    "deletable": true,
    "editable": true
   },
   "source": [
    "Using the Noble Identtes, we can now shif the upsampler to the right, behind the polyphase flters (with changing their arguments from $z^N$ to $z$) and before the delay chain,"
   ]
  },
  {
   "cell_type": "markdown",
   "metadata": {
    "deletable": true,
    "editable": true
   },
   "source": [
    "![Polyohase2](ppu2.JPG)"
   ]
  },
  {
   "cell_type": "markdown",
   "metadata": {
    "deletable": true,
    "editable": true
   },
   "source": [
    "Again, this leads to a parallel processing, with N flters working in **parallel** at the **lower sampling rate**. The structure on the right with the up-sampler and the delay chain can be seen as a **de-blocking** operaton. Each tme the up-sampler let a complete block through, it is given to the delay chain. In the next time-steps the up-samplers stop letting through, and the block is shifed through the delay chain as a sequence of samples. This can also be seen as a **parallel to serial conversion.** \n",
    "\n",
    "With the polyphase elements $Y_i(z)$ the processing at the lower sampling rate can also be writen in terms of **polyphase vectors**\n",
    "\n",
    "### $Y(z)\\cdot[ H_0(z),…, H_{N−1}(z)] = [Y_0(z),…,Y_{N−1}(z)]$\n",
    "\n",
    "Observe: If we have more than 1 flter, we can collect their\n",
    "polyphase vectors into **polyphase matrices.**"
   ]
  },
  {
   "cell_type": "code",
   "execution_count": 8,
   "metadata": {
    "collapsed": true,
    "deletable": true,
    "editable": true
   },
   "outputs": [],
   "source": [
    "import scipy.signal\n",
    "import numpy as np\n",
    "from sound import *"
   ]
  },
  {
   "cell_type": "markdown",
   "metadata": {
    "deletable": true,
    "editable": true
   },
   "source": [
    "up-sample the signal y by a factor of N=2 and low-pass flter it with the flter"
   ]
  },
  {
   "cell_type": "code",
   "execution_count": 9,
   "metadata": {
    "collapsed": false,
    "deletable": true,
    "editable": true
   },
   "outputs": [],
   "source": [
    "h = np.array([0.5, 1, 1, 0.5])"
   ]
  },
  {
   "cell_type": "markdown",
   "metadata": {
    "deletable": true,
    "editable": true
   },
   "source": [
    "as in the previous example. Again we obtain the flters polyphase components as,"
   ]
  },
  {
   "cell_type": "code",
   "execution_count": 10,
   "metadata": {
    "collapsed": true,
    "deletable": true,
    "editable": true
   },
   "outputs": [],
   "source": [
    "h0 = h[0::2]\n",
    "h1 = h[1::2]"
   ]
  },
  {
   "cell_type": "markdown",
   "metadata": {
    "deletable": true,
    "editable": true
   },
   "source": [
    "Now we can use these polyphase components to flter at the lower sampling rate to obtain the polyphase components of the fltered and upsampled signal y0 and y1,"
   ]
  },
  {
   "cell_type": "code",
   "execution_count": 11,
   "metadata": {
    "collapsed": true,
    "deletable": true,
    "editable": true
   },
   "outputs": [],
   "source": [
    "y0 = scipy.signal.lfilter(h0,1,y)\n",
    "y1 = scipy.signal.lfilter(h1,1,y)"
   ]
  },
  {
   "cell_type": "markdown",
   "metadata": {
    "deletable": true,
    "editable": true
   },
   "source": [
    "The complete up-sampling the signal is then obtained from its 2 polyphase components, performing our deblocking,"
   ]
  },
  {
   "cell_type": "code",
   "execution_count": 12,
   "metadata": {
    "collapsed": false,
    "deletable": true,
    "editable": true
   },
   "outputs": [],
   "source": [
    "L = np.max([len(y0), len(y1)])\n",
    "yu = np.zeros(2*L)\n",
    "yu[0::2] = y0\n",
    "yu[1::2] = y1"
   ]
  },
  {
   "cell_type": "markdown",
   "metadata": {
    "deletable": true,
    "editable": true
   },
   "source": [
    "Where now the signal yu is the same as if we had frst upsampled and then fltered the signal!\n",
    "\n",
    "Now listen to the up-sampled signal:"
   ]
  },
  {
   "cell_type": "code",
   "execution_count": 13,
   "metadata": {
    "collapsed": false,
    "deletable": true,
    "editable": true
   },
   "outputs": [
    {
     "name": "stdout",
     "output_type": "stream",
     "text": [
      "* done\n"
     ]
    }
   ],
   "source": [
    "sound(yu/2,fs)"
   ]
  }
 ],
 "metadata": {
  "kernelspec": {
   "display_name": "Python 2",
   "language": "python",
   "name": "python2"
  },
  "language_info": {
   "codemirror_mode": {
    "name": "ipython",
    "version": 2
   },
   "file_extension": ".py",
   "mimetype": "text/x-python",
   "name": "python",
   "nbconvert_exporter": "python",
   "pygments_lexer": "ipython2",
   "version": "2.7.12"
  }
 },
 "nbformat": 4,
 "nbformat_minor": 2
}
