{
 "cells": [
  {
   "cell_type": "markdown",
   "metadata": {},
   "source": [
    "## Python Example\n",
    "**Our speech signal is sampled at 32 kHz, hence a block of 20 ms has 640 samples. We write a python file with name “lpcexample.py”, with the following content,**"
   ]
  },
  {
   "cell_type": "code",
   "execution_count": 1,
   "metadata": {
    "collapsed": false
   },
   "outputs": [
    {
     "name": "stdout",
     "output_type": "stream",
     "text": [
      "('Number of channels: ', 1)\n",
      "('Number of bytes per sample:', 2)\n",
      "('Sampling rate: ', 8000)\n",
      "('Number of samples:', 60246)\n"
     ]
    }
   ],
   "source": [
    "import numpy as np\n",
    "from sound import *\n",
    "import matplotlib.pyplot as plt\n",
    "import scipy.signal as sp\n",
    "%matplotlib inline\n",
    "\n",
    "x, fs = wavread('speech8kHz.wav')"
   ]
  },
  {
   "cell_type": "markdown",
   "metadata": {},
   "source": [
    "* convert to float array type, normalize to -1<x<1:"
   ]
  },
  {
   "cell_type": "code",
   "execution_count": 2,
   "metadata": {
    "collapsed": false
   },
   "outputs": [
    {
     "name": "stdout",
     "output_type": "stream",
     "text": [
      "60246\n"
     ]
    }
   ],
   "source": [
    "x = np.array(x,dtype=float)/2**15\n",
    "print np.size(x)"
   ]
  },
  {
   "cell_type": "markdown",
   "metadata": {},
   "source": [
    "* Play the audio"
   ]
  },
  {
   "cell_type": "code",
   "execution_count": 3,
   "metadata": {
    "collapsed": false
   },
   "outputs": [
    {
     "name": "stdout",
     "output_type": "stream",
     "text": [
      "* done\n"
     ]
    }
   ],
   "source": [
    "sound(2**15*x,fs)"
   ]
  },
  {
   "cell_type": "code",
   "execution_count": 4,
   "metadata": {
    "collapsed": true
   },
   "outputs": [],
   "source": [
    "len0 = np.max(np.size(x))"
   ]
  },
  {
   "cell_type": "markdown",
   "metadata": {},
   "source": [
    "* Prediction error variable initialization"
   ]
  },
  {
   "cell_type": "code",
   "execution_count": 5,
   "metadata": {
    "collapsed": true
   },
   "outputs": [],
   "source": [
    "e = np.zeros(np.size(x)) "
   ]
  },
  {
   "cell_type": "markdown",
   "metadata": {},
   "source": [
    "* Total number of blocks\n"
   ]
  },
  {
   "cell_type": "code",
   "execution_count": 6,
   "metadata": {
    "collapsed": true
   },
   "outputs": [],
   "source": [
    "blocks = np.int(np.floor(len0/640)) "
   ]
  },
  {
   "cell_type": "markdown",
   "metadata": {},
   "source": [
    "* Memory state of prediction filter"
   ]
  },
  {
   "cell_type": "code",
   "execution_count": 7,
   "metadata": {
    "collapsed": true
   },
   "outputs": [],
   "source": [
    "state = np.zeros(10)"
   ]
  },
  {
   "cell_type": "markdown",
   "metadata": {},
   "source": [
    "* Building our Matrix A from blocks of length 640 samples and process:"
   ]
  },
  {
   "cell_type": "code",
   "execution_count": 8,
   "metadata": {
    "collapsed": false
   },
   "outputs": [],
   "source": [
    "for m in range(0,blocks):\n",
    "     A = np.zeros((630,10)) #trick: up to 630 to avoid zeros in the matrix\n",
    "     for n in range(0,630):\n",
    "         A[n,:] = x[m*640+n+np.arange(10)]\n",
    "     \n",
    "    #Construct our desired target signal d, one sample into thefuture:\n",
    "     d=x[m*640+np.arange(10,640)];\n",
    "     #Compute the prediction filter:\n",
    "     h = np.dot(np.dot(np.linalg.inv(np.dot(A.transpose(), A)), A.transpose()), d)\n",
    "     hperr = np.hstack([1, -np.flipud(h)])\n",
    "     e[m*640+np.arange(0,640)], state = sp.lfilter(hperr,1,x[m*640+np.arange(0,640)], zi=state)"
   ]
  },
  {
   "cell_type": "markdown",
   "metadata": {},
   "source": [
    "* The mean-squared error now is:"
   ]
  },
  {
   "cell_type": "code",
   "execution_count": 9,
   "metadata": {
    "collapsed": false
   },
   "outputs": [
    {
     "name": "stdout",
     "output_type": "stream",
     "text": [
      "The average squared error is: 0.000140609024495\n"
     ]
    }
   ],
   "source": [
    "print \"The average squared error is:\", np.dot(e.transpose(),e)/np.max(np.size(e))"
   ]
  },
  {
   "cell_type": "markdown",
   "metadata": {},
   "source": [
    "### We can see that this is only about $1/4 th$ of the previous pred. Error!"
   ]
  },
  {
   "cell_type": "code",
   "execution_count": 10,
   "metadata": {
    "collapsed": false
   },
   "outputs": [
    {
     "name": "stdout",
     "output_type": "stream",
     "text": [
      "Compare that with the mean squared signal power: 0.00562754853932\n"
     ]
    }
   ],
   "source": [
    "print \"Compare that with the mean squared signal power:\", np.dot(x.transpose(),x)/np.max(np.size(x))"
   ]
  },
  {
   "cell_type": "code",
   "execution_count": 11,
   "metadata": {
    "collapsed": false
   },
   "outputs": [
    {
     "name": "stdout",
     "output_type": "stream",
     "text": [
      "The Signal to Error ratio is: 40.0226696651\n"
     ]
    }
   ],
   "source": [
    "print \"The Signal to Error ratio is:\", np.dot(x.transpose(),x)/np.dot(e.transpose(),e)"
   ]
  },
  {
   "cell_type": "markdown",
   "metadata": {},
   "source": [
    "* Listen to the prediction error:"
   ]
  },
  {
   "cell_type": "code",
   "execution_count": 12,
   "metadata": {
    "collapsed": false
   },
   "outputs": [
    {
     "name": "stdout",
     "output_type": "stream",
     "text": [
      "* done\n"
     ]
    }
   ],
   "source": [
    "sound(2 ** 15 * e, fs)"
   ]
  },
  {
   "cell_type": "markdown",
   "metadata": {},
   "source": [
    "* Take a look at the signal and it's prediction error"
   ]
  },
  {
   "cell_type": "code",
   "execution_count": 13,
   "metadata": {
    "collapsed": false
   },
   "outputs": [
    {
     "data": {
      "text/plain": [
       "<matplotlib.legend.Legend at 0x9025730>"
      ]
     },
     "execution_count": 13,
     "metadata": {},
     "output_type": "execute_result"
    },
    {
     "data": {
      "image/png": "[encoded data removed]",
      "text/plain": [
       "<matplotlib.figure.Figure at 0x8d77b10>"
      ]
     },
     "metadata": {},
     "output_type": "display_data"
    }
   ],
   "source": [
    "plt.plot(np.divide(x, float(np.max(x))))#np.abs(x)))))\n",
    "plt.plot(e,'r')\n",
    "plt.xlabel('Sample')\n",
    "plt.ylabel('Normalized Value')\n",
    "plt.legend(('Original','Prediction Error'))"
   ]
  },
  {
   "cell_type": "markdown",
   "metadata": {},
   "source": [
    "Here it can be seen that the prediction error is even smaller than before.\n",
    "\n",
    "The **decoder** works the way as shown in the previous example.\n",
    "\n",
    "**LPC** type **coders** are for instance speech coders, where usually 12 coefficients are used for the prediction, and **transmitted as side information** every 20 ms. The prediction error is parameterized and transmitted as parameters with a very low bit rate. This kind of system is used for instance in most digital **cell phones** systems."
   ]
  }
 ],
 "metadata": {
  "kernelspec": {
   "display_name": "Python 2",
   "language": "python",
   "name": "python2"
  },
  "language_info": {
   "codemirror_mode": {
    "name": "ipython",
    "version": 2
   },
   "file_extension": ".py",
   "mimetype": "text/x-python",
   "name": "python",
   "nbconvert_exporter": "python",
   "pygments_lexer": "ipython2",
   "version": "2.7.12"
  }
 },
 "nbformat": 4,
 "nbformat_minor": 2
}
