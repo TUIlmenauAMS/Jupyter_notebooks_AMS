{
 "cells": [
  {
   "cell_type": "code",
   "execution_count": 1,
   "metadata": {
    "collapsed": true,
    "deletable": true,
    "editable": true
   },
   "outputs": [],
   "source": [
    "import numpy as np\n",
    "from sound import *\n",
    "import matplotlib.pyplot as plt\n",
    "%matplotlib inline"
   ]
  },
  {
   "cell_type": "markdown",
   "metadata": {},
   "source": [
    "* Read in the speech file"
   ]
  },
  {
   "cell_type": "code",
   "execution_count": 2,
   "metadata": {
    "collapsed": false
   },
   "outputs": [
    {
     "name": "stdout",
     "output_type": "stream",
     "text": [
      "('Number of channels: ', 1)\n",
      "('Number of bytes per sample:', 2)\n",
      "('Sampling rate: ', 8000)\n",
      "('Number of samples:', 60246)\n"
     ]
    }
   ],
   "source": [
    "x, fs = wavread('speech8kHz.wav')"
   ]
  },
  {
   "cell_type": "markdown",
   "metadata": {},
   "source": [
    "* Normalized float, $-1<x<1$"
   ]
  },
  {
   "cell_type": "code",
   "execution_count": 3,
   "metadata": {
    "collapsed": false
   },
   "outputs": [
    {
     "name": "stdout",
     "output_type": "stream",
     "text": [
      "60246\n"
     ]
    }
   ],
   "source": [
    "x = np.array(x,dtype=float)/2**15\n",
    "print np.size(x)"
   ]
  },
  {
   "cell_type": "code",
   "execution_count": 4,
   "metadata": {
    "collapsed": true
   },
   "outputs": [],
   "source": [
    "e = np.zeros(np.size(x))\n",
    "h = np.zeros(10)\n",
    "xrek = np.zeros(np.size(x))\n",
    "P = 0"
   ]
  },
  {
   "cell_type": "markdown",
   "metadata": {},
   "source": [
    "* Have same 0 starting values as in decoder:"
   ]
  },
  {
   "cell_type": "code",
   "execution_count": 5,
   "metadata": {
    "collapsed": false
   },
   "outputs": [
    {
     "name": "stdout",
     "output_type": "stream",
     "text": [
      "encoder h:  [ 0.  0.  0.  0.  0.  0.  0.  0.  0.  0.] e= [ 0.  0.  0. ...,  0.  0.  0.]\n",
      "encoder h:  [ 0.  0.  0.  0.  0.  0.  0.  0.  0.  0.] e= [ 0.  0.  0. ...,  0.  0.  0.]\n",
      "encoder h:  [ 0.  0.  0.  0.  0.  0.  0.  0.  0.  0.] e= [ 0.  0.  0. ...,  0.  0.  0.]\n",
      "encoder h:  [ 0.  0.  0.  0.  0.  0.  0.  0.  0.  0.] e= [ 0.  0.  0. ...,  0.  0.  0.]\n",
      "encoder h:  [ 0.  0.  0.  0.  0.  0.  0.  0.  0.  0.] e= [ 0.  0.  0. ...,  0.  0.  0.]\n",
      "encoder h:  [ 0.  0.  0.  0.  0.  0.  0.  0.  0.  0.] e= [ 0.  0.  0. ...,  0.  0.  0.]\n",
      "encoder h:  [ 0.  0.  0.  0.  0.  0.  0.  0.  0.  0.] e= [ 0.  0.  0. ...,  0.  0.  0.]\n",
      "encoder h:  [ 0.  0.  0.  0.  0.  0.  0.  0.  0.  0.] e= [ 0.  0.  0. ...,  0.  0.  0.]\n",
      "encoder h:  [ 0.  0.  0.  0.  0.  0.  0.  0.  0.  0.] e= [ 0.  0.  0. ...,  0.  0.  0.]\n"
     ]
    }
   ],
   "source": [
    "x[0:10] = 0.0\n",
    "quantstep = 0.05\n",
    "for n in range(10, len(x)):\n",
    "    if n > 4000 and n < 4010:\n",
    "        print \"encoder h: \", h, \"e=\", e\n",
    "    \n",
    "    #prediction error and filter, using the vector of the time reversed IR:\n",
    "    #predicted value from past reconstructed values:\n",
    "    P=np.dot(xrek[n-10+np.arange(0,10)], np.flipud(h))\n",
    "\n",
    "    #quantize and de-quantize e to step-size 0.05 (mid tread):\n",
    "    e[n]=np.round((x[n]-P)/quantstep)*quantstep;\n",
    "\n",
    "    #Decoder in encoder:\n",
    "    #new reconstructed value:\n",
    "    xrek[n]=e[n]+P;\n",
    "    #LMS update rule:\n",
    "    h = h + 1.0* e[n]*np.flipud(xrek[n-10+np.arange(0,10)])"
   ]
  },
  {
   "cell_type": "code",
   "execution_count": 6,
   "metadata": {
    "collapsed": false,
    "scrolled": true
   },
   "outputs": [
    {
     "name": "stdout",
     "output_type": "stream",
     "text": [
      "Mean squared prediction error: 0.000559165753743\n"
     ]
    }
   ],
   "source": [
    "print \"Mean squared prediction error:\", np.dot(e, e) / np.max(np.size(e))"
   ]
  },
  {
   "cell_type": "markdown",
   "metadata": {},
   "source": [
    "* Without quant.: 0.000215852452838<br/>\n",
    " with quant.: 0.000532170587442"
   ]
  },
  {
   "cell_type": "markdown",
   "metadata": {},
   "source": [
    "* Listen to it:"
   ]
  },
  {
   "cell_type": "code",
   "execution_count": 7,
   "metadata": {
    "collapsed": false
   },
   "outputs": [
    {
     "name": "stdout",
     "output_type": "stream",
     "text": [
      "* done\n"
     ]
    }
   ],
   "source": [
    "sound(2**15*e, fs)"
   ]
  },
  {
   "cell_type": "markdown",
   "metadata": {},
   "source": [
    "* Plot the predicted error and compare it with the original signal"
   ]
  },
  {
   "cell_type": "code",
   "execution_count": 8,
   "metadata": {
    "collapsed": false
   },
   "outputs": [
    {
     "data": {
      "image/png": "[encoded data removed]",
      "text/plain": [
       "<matplotlib.figure.Figure at 0x7fbe046dc610>"
      ]
     },
     "metadata": {},
     "output_type": "display_data"
    }
   ],
   "source": [
    "plt.figure()\n",
    "plt.plot(x)\n",
    "#plt.hold(True)\n",
    "plt.plot(e,'r')\n",
    "plt.xlabel('Sample')\n",
    "plt.ylabel('Normalized Sample')\n",
    "plt.title('Least Mean Squares (LMS) Online Adaptation')\n",
    "plt.legend(('Original','Prediction Error'))\n",
    "plt.show()"
   ]
  },
  {
   "cell_type": "markdown",
   "metadata": {},
   "source": [
    "* Decoder"
   ]
  },
  {
   "cell_type": "code",
   "execution_count": 9,
   "metadata": {
    "collapsed": false
   },
   "outputs": [
    {
     "name": "stdout",
     "output_type": "stream",
     "text": [
      "decoder h:  [ 0.  0.  0.  0.  0.  0.  0.  0.  0.  0.]\n",
      "decoder h:  [ 0.  0.  0.  0.  0.  0.  0.  0.  0.  0.]\n",
      "decoder h:  [ 0.  0.  0.  0.  0.  0.  0.  0.  0.  0.]\n",
      "decoder h:  [ 0.  0.  0.  0.  0.  0.  0.  0.  0.  0.]\n",
      "decoder h:  [ 0.  0.  0.  0.  0.  0.  0.  0.  0.  0.]\n",
      "decoder h:  [ 0.  0.  0.  0.  0.  0.  0.  0.  0.  0.]\n",
      "decoder h:  [ 0.  0.  0.  0.  0.  0.  0.  0.  0.  0.]\n",
      "decoder h:  [ 0.  0.  0.  0.  0.  0.  0.  0.  0.  0.]\n",
      "decoder h:  [ 0.  0.  0.  0.  0.  0.  0.  0.  0.  0.]\n"
     ]
    }
   ],
   "source": [
    "h = np.zeros(10);\n",
    "xrek = np.zeros(np.size(x));\n",
    "for n in range(10, len(x)):\n",
    "    if n > 4000 and n< 4010:\n",
    "        print \"decoder h: \", h\n",
    "    P=np.dot(xrek[n-10+np.arange(10)], np.flipud(h))\n",
    "    xrek[n] = e[n] + P\n",
    "    #LMS update:\n",
    "    h = h + 1.0 * e[n]*np.flipud(xrek[n-10+np.arange(10)])"
   ]
  },
  {
   "cell_type": "markdown",
   "metadata": {},
   "source": [
    "* Plotting the reconstructed signal."
   ]
  },
  {
   "cell_type": "code",
   "execution_count": 10,
   "metadata": {
    "collapsed": false
   },
   "outputs": [
    {
     "data": {
      "image/png": "[encoded data removed]",
      "text/plain": [
       "<matplotlib.figure.Figure at 0x7fbde9882790>"
      ]
     },
     "metadata": {},
     "output_type": "display_data"
    }
   ],
   "source": [
    "plt.plot(xrek)\n",
    "plt.show()"
   ]
  },
  {
   "cell_type": "markdown",
   "metadata": {},
   "source": [
    "* Listen to the reconstructed signal:"
   ]
  },
  {
   "cell_type": "code",
   "execution_count": 11,
   "metadata": {
    "collapsed": false,
    "scrolled": true
   },
   "outputs": [
    {
     "name": "stdout",
     "output_type": "stream",
     "text": [
      "* done\n"
     ]
    }
   ],
   "source": [
    "sound(2**15*xrek,fs)"
   ]
  },
  {
   "cell_type": "markdown",
   "metadata": {},
   "source": [
    "**Observe**: Because of the quantization, the prediction error now clearly increased.\n",
    "\n",
    "**Observe:** The signal is now **fully decoded**, even with quantization, although with a little noise, which was to\n",
    "be expected. But we can avoid the noise by reducing the quantization step size.\n",
    "\n",
    "Observe that this structure for the **decoder in the encoder also applies to the other prediction methods.**\n"
   ]
  }
 ],
 "metadata": {
  "kernelspec": {
   "display_name": "Python 2",
   "language": "python",
   "name": "python2"
  },
  "language_info": {
   "codemirror_mode": {
    "name": "ipython",
    "version": 2
   },
   "file_extension": ".py",
   "mimetype": "text/x-python",
   "name": "python",
   "nbconvert_exporter": "python",
   "pygments_lexer": "ipython2",
   "version": "2.7.12"
  }
 },
 "nbformat": 4,
 "nbformat_minor": 2
}
