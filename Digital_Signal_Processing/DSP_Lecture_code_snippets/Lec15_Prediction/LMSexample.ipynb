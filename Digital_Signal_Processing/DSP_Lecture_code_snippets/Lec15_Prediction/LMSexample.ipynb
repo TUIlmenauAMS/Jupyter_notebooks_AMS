{
 "cells": [
  {
   "cell_type": "code",
   "execution_count": 1,
   "metadata": {
    "collapsed": false,
    "deletable": true,
    "editable": true
   },
   "outputs": [
    {
     "name": "stdout",
     "output_type": "stream",
     "text": [
      "('Number of channels: ', 1)\n",
      "('Number of bytes per sample:', 2)\n",
      "('Sampling rate: ', 8000)\n",
      "('Number of samples:', 60246)\n"
     ]
    }
   ],
   "source": [
    "import numpy as np\n",
    "from sound import *\n",
    "import matplotlib.pyplot as plt\n",
    "%matplotlib inline\n",
    "\n",
    "x, fs = wavread('speech8kHz.wav')"
   ]
  },
  {
   "cell_type": "markdown",
   "metadata": {
    "deletable": true,
    "editable": true
   },
   "source": [
    "* Normalized float, -1<x<1"
   ]
  },
  {
   "cell_type": "code",
   "execution_count": 2,
   "metadata": {
    "collapsed": false,
    "deletable": true,
    "editable": true
   },
   "outputs": [
    {
     "name": "stdout",
     "output_type": "stream",
     "text": [
      "60246\n"
     ]
    }
   ],
   "source": [
    "x = np.array(x,dtype=float)/2**15\n",
    "print (np.size(x))\n",
    "e = np.zeros(np.size(x))\n",
    "h = np.zeros(10)"
   ]
  },
  {
   "cell_type": "code",
   "execution_count": 3,
   "metadata": {
    "collapsed": false,
    "deletable": true,
    "editable": true
   },
   "outputs": [],
   "source": [
    "for n in range(10, len(x)):\n",
    "    \n",
    "    #prediction error and filter, using the vector of the time reversed IR:\n",
    "    e[n] = x[n] - np.dot(x[n-10+np.arange(0,10)], np.flipud(h))\n",
    "    \n",
    "    #LMS update rule, according to the definition above:\n",
    "    h = h + 1.0* e[n]*np.flipud(x[n-10+np.arange(0,10)])"
   ]
  },
  {
   "cell_type": "code",
   "execution_count": 4,
   "metadata": {
    "collapsed": false,
    "deletable": true,
    "editable": true
   },
   "outputs": [
    {
     "name": "stdout",
     "output_type": "stream",
     "text": [
      "('Mean squared prediction error:', 0.00030295901656285796)\n"
     ]
    }
   ],
   "source": [
    "print (\"Mean squared prediction error:\", np.dot(e, e) /np.max(np.size(e)))"
   ]
  },
  {
   "cell_type": "markdown",
   "metadata": {
    "deletable": true,
    "editable": true
   },
   "source": [
    "* Listen to to the prediction error:"
   ]
  },
  {
   "cell_type": "code",
   "execution_count": 5,
   "metadata": {
    "collapsed": false,
    "deletable": true,
    "editable": true
   },
   "outputs": [
    {
     "name": "stdout",
     "output_type": "stream",
     "text": [
      "* done\n"
     ]
    }
   ],
   "source": [
    "sound(2**15*e, fs)"
   ]
  },
  {
   "cell_type": "code",
   "execution_count": 6,
   "metadata": {
    "collapsed": false,
    "deletable": true,
    "editable": true
   },
   "outputs": [
    {
     "data": {
      "image/png": "[encoded data removed]",
      "text/plain": [
       "<matplotlib.figure.Figure at 0x7f795dd38f50>"
      ]
     },
     "metadata": {},
     "output_type": "display_data"
    }
   ],
   "source": [
    "plt.figure()\n",
    "plt.plot(x)\n",
    "plt.plot(e,'r')\n",
    "plt.xlabel('Sample')\n",
    "plt.ylabel('Normalized Sample')\n",
    "plt.title('Least Mean Squares (LMS) Online Adaptation')\n",
    "plt.legend(('Original','Prediction Error'))\n",
    "plt.show()"
   ]
  },
  {
   "cell_type": "markdown",
   "metadata": {
    "deletable": true,
    "editable": true
   },
   "source": [
    "**Observe:** its prediction error is bigger than in the **LPC** case, but we also don't need to transmit the prediction coefficients as side information.\n",
    "\n",
    "The comparison plot of the original to the prediction error(above plot)"
   ]
  },
  {
   "cell_type": "markdown",
   "metadata": {
    "deletable": true,
    "editable": true
   },
   "source": [
    "* For the **decoder** we get the reconstruction"
   ]
  },
  {
   "cell_type": "code",
   "execution_count": 7,
   "metadata": {
    "collapsed": false,
    "deletable": true,
    "editable": true
   },
   "outputs": [
    {
     "name": "stdout",
     "output_type": "stream",
     "text": [
      "decoder h:  [ -1.36650874e-05   9.81964536e-06  -5.72557714e-06   2.32909304e-06\n",
      "  -4.35770302e-07   7.07384488e-08  -2.30022390e-07   2.21651788e-07\n",
      "  -6.70549385e-08  -1.76020424e-07]\n",
      "decoder h:  [ -1.36725379e-05   9.81964536e-06  -5.72930239e-06   2.33281830e-06\n",
      "  -4.39495557e-07   7.81889603e-08  -2.41198158e-07   2.29102300e-07\n",
      "  -7.45054506e-08  -1.68569912e-07]\n",
      "decoder h:  [ -1.36874387e-05   9.82709579e-06  -5.72930239e-06   2.33654351e-06\n",
      "  -4.43220774e-07   8.19141774e-08  -2.48648592e-07   2.40277952e-07\n",
      "  -8.19558856e-08  -1.61119477e-07]\n",
      "decoder h:  [ -1.37060648e-05   9.84572185e-06  -5.73861542e-06   2.33654351e-06\n",
      "  -4.47877287e-07   8.65706904e-08  -2.53305105e-07   2.49590979e-07\n",
      "  -9.59254259e-08  -1.51806450e-07]\n",
      "decoder h:  [ -1.37293472e-05   9.86434779e-06  -5.75724136e-06   2.34585649e-06\n",
      "  -4.47877287e-07   9.12271762e-08  -2.57961591e-07   2.54247464e-07\n",
      "  -1.05238398e-07  -1.37836991e-07]\n",
      "decoder h:  [ -1.37433164e-05   9.87831692e-06  -5.76841667e-06   2.35703179e-06\n",
      "  -4.53464940e-07   9.12271759e-08  -2.60755417e-07   2.57041290e-07\n",
      "  -1.08032224e-07  -1.32249339e-07]\n",
      "decoder h:  [ -1.37461100e-05   9.88297292e-06  -5.77307267e-06   2.36075659e-06\n",
      "  -4.57189741e-07   9.30895765e-08  -2.60755417e-07   2.57972491e-07\n",
      "  -1.08963424e-07  -1.31318139e-07]\n",
      "decoder h:  [ -1.37451786e-05   9.88017871e-06  -5.76841565e-06   2.35609957e-06\n",
      "  -4.53464126e-07   8.93639623e-08  -2.58892610e-07   2.57972491e-07\n",
      "  -1.08032021e-07  -1.32249542e-07]\n",
      "decoder h:  [ -1.37461099e-05   9.87924736e-06  -5.76562160e-06   2.35144282e-06\n",
      "  -4.48807377e-07   8.56385623e-08  -2.55167210e-07   2.56109791e-07\n",
      "  -1.08032021e-07  -1.33180892e-07]\n"
     ]
    },
    {
     "name": "stderr",
     "output_type": "stream",
     "text": [
      "/home/vrana/.local/lib/python2.7/site-packages/ipykernel/__main__.py:9: RuntimeWarning: invalid value encountered in add\n"
     ]
    },
    {
     "data": {
      "image/png": "[encoded data removed]",
      "text/plain": [
       "<matplotlib.figure.Figure at 0x7f795db2db10>"
      ]
     },
     "metadata": {},
     "output_type": "display_data"
    },
    {
     "ename": "ValueError",
     "evalue": "cannot convert float NaN to integer",
     "output_type": "error",
     "traceback": [
      "\u001b[0;31m---------------------------------------------------------------------------\u001b[0m",
      "\u001b[0;31mValueError\u001b[0m                                Traceback (most recent call last)",
      "\u001b[0;32m<ipython-input-7-486893028705>\u001b[0m in \u001b[0;36m<module>\u001b[0;34m()\u001b[0m\n\u001b[1;32m     11\u001b[0m \u001b[0mplt\u001b[0m\u001b[0;34m.\u001b[0m\u001b[0mshow\u001b[0m\u001b[0;34m(\u001b[0m\u001b[0;34m)\u001b[0m\u001b[0;34m\u001b[0m\u001b[0m\n\u001b[1;32m     12\u001b[0m \u001b[0;31m#Listen to the reconstructed signal:\u001b[0m\u001b[0;34m\u001b[0m\u001b[0;34m\u001b[0m\u001b[0m\n\u001b[0;32m---> 13\u001b[0;31m \u001b[0msound\u001b[0m\u001b[0;34m(\u001b[0m\u001b[0;36m2\u001b[0m\u001b[0;34m**\u001b[0m\u001b[0;36m15\u001b[0m\u001b[0;34m*\u001b[0m\u001b[0mxrek\u001b[0m\u001b[0;34m,\u001b[0m\u001b[0mfs\u001b[0m\u001b[0;34m)\u001b[0m\u001b[0;34m\u001b[0m\u001b[0m\n\u001b[0m",
      "\u001b[0;32m/home/vrana/modules/sound.pyc\u001b[0m in \u001b[0;36msound\u001b[0;34m(s, FS)\u001b[0m\n\u001b[1;32m     30\u001b[0m         \u001b[0msamples\u001b[0m\u001b[0;34m=\u001b[0m\u001b[0ms\u001b[0m\u001b[0;34m[\u001b[0m\u001b[0mi\u001b[0m\u001b[0;34m*\u001b[0m\u001b[0mCHUNK\u001b[0m\u001b[0;34m:\u001b[0m\u001b[0;34m(\u001b[0m\u001b[0;34m(\u001b[0m\u001b[0mi\u001b[0m\u001b[0;34m+\u001b[0m\u001b[0;36m1\u001b[0m\u001b[0;34m)\u001b[0m\u001b[0;34m*\u001b[0m\u001b[0mCHUNK\u001b[0m\u001b[0;34m)\u001b[0m\u001b[0;34m]\u001b[0m\u001b[0;34m;\u001b[0m\u001b[0;34m\u001b[0m\u001b[0m\n\u001b[1;32m     31\u001b[0m         \u001b[0msamples\u001b[0m\u001b[0;34m=\u001b[0m\u001b[0mclip\u001b[0m\u001b[0;34m(\u001b[0m\u001b[0msamples\u001b[0m\u001b[0;34m,\u001b[0m\u001b[0;34m-\u001b[0m\u001b[0;36m2\u001b[0m\u001b[0;34m**\u001b[0m\u001b[0;36m15\u001b[0m\u001b[0;34m,\u001b[0m\u001b[0;36m2\u001b[0m\u001b[0;34m**\u001b[0m\u001b[0;36m15\u001b[0m\u001b[0;34m-\u001b[0m\u001b[0;36m1\u001b[0m\u001b[0;34m)\u001b[0m\u001b[0;34m\u001b[0m\u001b[0m\n\u001b[0;32m---> 32\u001b[0;31m         \u001b[0mdata\u001b[0m\u001b[0;34m=\u001b[0m\u001b[0mstruct\u001b[0m\u001b[0;34m.\u001b[0m\u001b[0mpack\u001b[0m\u001b[0;34m(\u001b[0m\u001b[0;34m'h'\u001b[0m \u001b[0;34m*\u001b[0m \u001b[0mCHUNK\u001b[0m\u001b[0;34m,\u001b[0m \u001b[0;34m*\u001b[0m\u001b[0msamples\u001b[0m\u001b[0;34m)\u001b[0m\u001b[0;34m;\u001b[0m\u001b[0;34m\u001b[0m\u001b[0m\n\u001b[0m\u001b[1;32m     33\u001b[0m         \u001b[0;31m#print data[1]\u001b[0m\u001b[0;34m\u001b[0m\u001b[0;34m\u001b[0m\u001b[0m\n\u001b[1;32m     34\u001b[0m         \u001b[0;31m#Writing data back to audio output stream:\u001b[0m\u001b[0;34m\u001b[0m\u001b[0;34m\u001b[0m\u001b[0m\n",
      "\u001b[0;31mValueError\u001b[0m: cannot convert float NaN to integer"
     ]
    }
   ],
   "source": [
    "h = np.zeros(10);\n",
    "xrek = np.zeros(np.size(x));\n",
    "for n in range(10, len(x)):\n",
    "    if n> 4000 and n< 4010:\n",
    "        print \"decoder h: \", h\n",
    "    P=np.dot(xrek[n-10+np.arange(10)], np.flipud(h))\n",
    "    xrek[n] = e[n] + P \n",
    "    #LMS update:\n",
    "    h = h + 1.0 * e[n]*np.flipud(xrek[n-10+np.arange(10)]);\n",
    "plt.plot(xrek)\n",
    "plt.show()\n",
    "#Listen to the reconstructed signal:\n",
    "sound(2**15*xrek,fs)"
   ]
  },
  {
   "cell_type": "code",
   "execution_count": null,
   "metadata": {
    "collapsed": false,
    "deletable": true,
    "editable": true
   },
   "outputs": [],
   "source": [
    "#Listen to the reconstructed signal:\n",
    "sound(2**15*xrek, fs)"
   ]
  },
  {
   "cell_type": "markdown",
   "metadata": {
    "deletable": true,
    "editable": true
   },
   "source": [
    "**Sensitivity** of the decoder for transmission **errors**: In the code for the decoder in the LMS update for the predictor h, correctly we need xrek instead of x (since x is not available in the decoder). The slightest computation errors, for instance **rounding errors**, are sufficient to make the decoder diverge and stop working after a few syllables of the speech. Try it out. We see that the computed **prediction coefficients differ** in the last digits between encoder and\n",
    "decoder, which is enough for **increasing divergence** between encoder and decoder, until the decoded signal “explodes” (becomes huge from instability). This shows that **LMS is very sensitive to transmission errors.** To avoid at least the computation errors, we need to include quantization in the process.\n"
   ]
  }
 ],
 "metadata": {
  "kernelspec": {
   "display_name": "Python 2",
   "language": "python",
   "name": "python2"
  },
  "language_info": {
   "codemirror_mode": {
    "name": "ipython",
    "version": 2
   },
   "file_extension": ".py",
   "mimetype": "text/x-python",
   "name": "python",
   "nbconvert_exporter": "python",
   "pygments_lexer": "ipython2",
   "version": "2.7.12"
  }
 },
 "nbformat": 4,
 "nbformat_minor": 2
}
