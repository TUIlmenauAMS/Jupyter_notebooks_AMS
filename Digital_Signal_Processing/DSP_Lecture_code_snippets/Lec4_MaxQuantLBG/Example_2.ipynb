{
 "cells": [
  {
   "cell_type": "markdown",
   "metadata": {},
   "source": [
    "## With a non-uniform distribution (Max-Lloyd Quantizer)"
   ]
  },
  {
   "cell_type": "markdown",
   "metadata": {},
   "source": [
    "Laplacian pdf: \n",
    "#### $$p(x) = e^{-0.5\\cdot\\mid{x}\\mid}$$"
   ]
  },
  {
   "cell_type": "markdown",
   "metadata": {},
   "source": [
    " 1) Random initialization:  $$y_1 = 0.3, y_2 = 0.8$$"
   ]
  },
  {
   "cell_type": "markdown",
   "metadata": {},
   "source": [
    " 2) Nearest neighbour:  $$b_1 = (0.3+0.8)/2 = 0.55$$"
   ]
  },
  {
   "cell_type": "markdown",
   "metadata": {},
   "source": [
    "3) Conditional expectation: \n",
    " $$y_k=\\frac{\\int\\limits_{b_{k-1}}^{b_k} x\\cdotp(x) dx}{\\int\\limits_{b_{k-1}}^{b_k} p(x) dx}$$"
   ]
  },
  {
   "cell_type": "markdown",
   "metadata": {},
   "source": [
    " Now we need Python to compute the numerator integral, for $y_1,$\n",
    " $$\\int\\limits_0^{b_1}{x\\cdotp(x) dx} = \\int\\limits_0^{0.55}x.e^{-0.5\\cdot\\mid(x)\\mid} dx$$\n"
   ]
  },
  {
   "cell_type": "markdown",
   "metadata": {},
   "source": [
    "In Python we can use the function “scipy.integrate.quad” for integration (type “help(quad)” to get information about its use)"
   ]
  },
  {
   "cell_type": "code",
   "execution_count": 1,
   "metadata": {
    "collapsed": false
   },
   "outputs": [
    {
     "name": "stdout",
     "output_type": "stream",
     "text": [
      "0.126182171553\n"
     ]
    }
   ],
   "source": [
    "from scipy.integrate import quad\n",
    "import numpy as np\n",
    "\n",
    "Num, Nerr = quad(lambda x:x * np.exp(-0.5 * np.abs(x)), 0, 0.55)\n",
    "print Num"
   ]
  },
  {
   "cell_type": "markdown",
   "metadata": {},
   "source": [
    "For the denominator integral we get,\n",
    " $$\\int\\limits_0^{0.55}{p(x) dx}$$"
   ]
  },
  {
   "cell_type": "code",
   "execution_count": 2,
   "metadata": {
    "collapsed": false,
    "scrolled": false
   },
   "outputs": [
    {
     "name": "stdout",
     "output_type": "stream",
     "text": [
      "0.48085575355\n"
     ]
    }
   ],
   "source": [
    "Den, Derr = quad(lambda x: np.exp(-0.5*np.abs(x)), 0, 0.55)\n",
    "print Den"
   ]
  },
  {
   "cell_type": "code",
   "execution_count": 3,
   "metadata": {
    "collapsed": false,
    "scrolled": true
   },
   "outputs": [
    {
     "name": "stdout",
     "output_type": "stream",
     "text": [
      "0.262411691284\n"
     ]
    }
   ],
   "source": [
    "print Num/Den"
   ]
  },
  {
   "cell_type": "markdown",
   "metadata": {},
   "source": [
    "and hence we obtain, $$y_1 = \\frac{Num}{Den} = \\frac{0.12618}{0.48086} = 0.2624$$"
   ]
  },
  {
   "cell_type": "markdown",
   "metadata": {},
   "source": [
    "For $y_2$ we get, "
   ]
  },
  {
   "cell_type": "code",
   "execution_count": 4,
   "metadata": {
    "collapsed": false
   },
   "outputs": [
    {
     "name": "stdout",
     "output_type": "stream",
     "text": [
      "0.234633870172\n"
     ]
    }
   ],
   "source": [
    "Num, Nerr = quad(lambda x:x * np.exp(-0.5 * np.abs(x)), 0.55, 1)\n",
    "print Num"
   ]
  },
  {
   "cell_type": "code",
   "execution_count": 5,
   "metadata": {
    "collapsed": false
   },
   "outputs": [
    {
     "name": "stdout",
     "output_type": "stream",
     "text": [
      "0.306082927025\n"
     ]
    }
   ],
   "source": [
    "Den, Derr = quad(lambda x: np.exp(-0.5*np.abs(x)), 0.55, 1)\n",
    "print Den"
   ]
  },
  {
   "cell_type": "code",
   "execution_count": 6,
   "metadata": {
    "collapsed": false
   },
   "outputs": [
    {
     "name": "stdout",
     "output_type": "stream",
     "text": [
      "0.76656961057\n"
     ]
    }
   ],
   "source": [
    "print Num/Den"
   ]
  },
  {
   "cell_type": "markdown",
   "metadata": {},
   "source": [
    "### Hence $y_2 = 0.76657$.\n",
    "Go back from here to step 2(compute nearest neighbor) until convergence."
   ]
  }
 ],
 "metadata": {
  "kernelspec": {
   "display_name": "Python 2",
   "language": "python",
   "name": "python2"
  },
  "language_info": {
   "codemirror_mode": {
    "name": "ipython",
    "version": 2
   },
   "file_extension": ".py",
   "mimetype": "text/x-python",
   "name": "python",
   "nbconvert_exporter": "python",
   "pygments_lexer": "ipython2",
   "version": "2.7.12"
  }
 },
 "nbformat": 4,
 "nbformat_minor": 2
}
