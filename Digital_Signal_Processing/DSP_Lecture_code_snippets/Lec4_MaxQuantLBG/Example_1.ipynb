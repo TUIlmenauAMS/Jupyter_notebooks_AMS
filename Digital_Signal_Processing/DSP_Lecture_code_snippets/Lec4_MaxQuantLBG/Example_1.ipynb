{
 "cells": [
  {
   "cell_type": "code",
   "execution_count": 1,
   "metadata": {
    "collapsed": false
   },
   "outputs": [
    {
     "data": {
      "text/plain": [
       "(array([  4.00000000e+00,   2.00000000e+00,   2.00000000e+00,\n",
       "          3.00000000e+00,   8.00000000e+00,   1.40000000e+01,\n",
       "          1.30000000e+01,   1.20000000e+01,   1.60000000e+01,\n",
       "          2.00000000e+01,   5.20000000e+01,   6.50000000e+01,\n",
       "          6.10000000e+01,   9.40000000e+01,   1.52000000e+02,\n",
       "          1.75000000e+02,   1.98000000e+02,   2.75000000e+02,\n",
       "          3.70000000e+02,   2.88000000e+02,   3.29000000e+02,\n",
       "          3.61000000e+02,   5.72000000e+02,   6.99000000e+02,\n",
       "          9.59000000e+02,   9.90000000e+02,   1.32800000e+03,\n",
       "          3.65800000e+03,   1.19990000e+04,   1.80810000e+04,\n",
       "          1.16080000e+04,   3.56200000e+03,   1.53200000e+03,\n",
       "          1.06900000e+03,   1.05700000e+03,   8.65000000e+02,\n",
       "          7.29000000e+02,   5.04000000e+02,   4.26000000e+02,\n",
       "          3.65000000e+02,   2.65000000e+02,   1.57000000e+02,\n",
       "          1.42000000e+02,   8.90000000e+01,   8.70000000e+01,\n",
       "          1.00000000e+02,   6.90000000e+01,   4.40000000e+01,\n",
       "          1.40000000e+01,   4.00000000e+00]),\n",
       " array([-0.05404663, -0.0522113 , -0.05037598, -0.04854065, -0.04670532,\n",
       "        -0.04487   , -0.04303467, -0.04119934, -0.03936401, -0.03752869,\n",
       "        -0.03569336, -0.03385803, -0.03202271, -0.03018738, -0.02835205,\n",
       "        -0.02651672, -0.0246814 , -0.02284607, -0.02101074, -0.01917542,\n",
       "        -0.01734009, -0.01550476, -0.01366943, -0.01183411, -0.00999878,\n",
       "        -0.00816345, -0.00632812, -0.0044928 , -0.00265747, -0.00082214,\n",
       "         0.00101318,  0.00284851,  0.00468384,  0.00651917,  0.00835449,\n",
       "         0.01018982,  0.01202515,  0.01386047,  0.0156958 ,  0.01753113,\n",
       "         0.01936646,  0.02120178,  0.02303711,  0.02487244,  0.02670776,\n",
       "         0.02854309,  0.03037842,  0.03221375,  0.03404907,  0.0358844 ,\n",
       "         0.03771973]),\n",
       " <a list of 50 Patch objects>)"
      ]
     },
     "execution_count": 1,
     "metadata": {},
     "output_type": "execute_result"
    },
    {
     "data": {
      "image/png": "[encoded data removed]",
      "text/plain": [
       "<matplotlib.figure.Figure at 0x8c63c70>"
      ]
     },
     "metadata": {},
     "output_type": "display_data"
    }
   ],
   "source": [
    "%matplotlib inline\n",
    "import scipy.io.wavfile as wav\n",
    "import matplotlib.pyplot as plt\n",
    "\n",
    "rate, snd = wav.read(\"sndfile.wav\")\n",
    "plt.hist(snd/(2.0**15),50)"
   ]
  }
 ],
 "metadata": {
  "kernelspec": {
   "display_name": "Python 2",
   "language": "python",
   "name": "python2"
  },
  "language_info": {
   "codemirror_mode": {
    "name": "ipython",
    "version": 2
   },
   "file_extension": ".py",
   "mimetype": "text/x-python",
   "name": "python",
   "nbconvert_exporter": "python",
   "pygments_lexer": "ipython2",
   "version": "2.7.12"
  }
 },
 "nbformat": 4,
 "nbformat_minor": 2
}
