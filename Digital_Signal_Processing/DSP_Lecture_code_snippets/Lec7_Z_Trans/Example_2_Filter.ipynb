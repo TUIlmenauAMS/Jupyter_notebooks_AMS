{
 "cells": [
  {
   "cell_type": "markdown",
   "metadata": {},
   "source": [
    "## The filtering operation itself works similarly in Matlab or Octave or Python, in the time domain. The function is “filter” or “lfilter”. Given an input signal in the vector x, and filter coefficients in vectors A and B, the filtered output y of our filter is simply:\n",
    "## $$y=lfilter(B,A,x)$$"
   ]
  },
  {
   "cell_type": "markdown",
   "metadata": {},
   "source": [
    "Use the function lfilter to obtain the impulse response of this IIR filter."
   ]
  },
  {
   "cell_type": "code",
   "execution_count": 1,
   "metadata": {
    "collapsed": false
   },
   "outputs": [
    {
     "data": {
      "text/plain": [
       "<matplotlib.text.Text at 0x8dc9510>"
      ]
     },
     "execution_count": 1,
     "metadata": {},
     "output_type": "execute_result"
    },
    {
     "data": {
      "image/png": "[encoded data removed]",
      "text/plain": [
       "<matplotlib.figure.Figure at 0x4596ff0>"
      ]
     },
     "metadata": {},
     "output_type": "display_data"
    }
   ],
   "source": [
    "%matplotlib inline\n",
    "import scipy.signal\n",
    "import matplotlib.pyplot as plt\n",
    "import numpy as np\n",
    "\n",
    "#Start with a unit pulse as input x:\n",
    "x = np.zeros(10)\n",
    "x[0] = 1\n",
    "\n",
    "#B and A are given as before:\n",
    "A = [1, -0.9]\n",
    "B = [1]\n",
    "\n",
    "#Now calculate the impulse response:\n",
    "y = scipy.signal.lfilter(B, A, x)\n",
    "plt.plot(y, '*')\n",
    "plt.xlabel('Sample')\n",
    "plt.ylabel('Value')"
   ]
  },
  {
   "cell_type": "markdown",
   "metadata": {},
   "source": [
    "Here we can see the indeed exponetial decaying function (the sequence $ir(n)= p^n$ for p=0.9). In this way we can also test more complicated IIR filters. This exponential decaying impulse response again shows the stability of the filter, which was to be expected because the pole of its transfer function in the z-domain is placed at z=0.9, and hence inside the unit-circle!"
   ]
  }
 ],
 "metadata": {
  "kernelspec": {
   "display_name": "Python 2",
   "language": "python",
   "name": "python2"
  },
  "language_info": {
   "codemirror_mode": {
    "name": "ipython",
    "version": 2
   },
   "file_extension": ".py",
   "mimetype": "text/x-python",
   "name": "python",
   "nbconvert_exporter": "python",
   "pygments_lexer": "ipython2",
   "version": "2.7.12"
  }
 },
 "nbformat": 4,
 "nbformat_minor": 2
}
