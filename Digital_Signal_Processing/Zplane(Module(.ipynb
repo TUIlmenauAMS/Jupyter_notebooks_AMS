{
 "cells": [
  {
   "cell_type": "markdown",
   "metadata": {},
   "source": [
    "# This is a module which has a function zplane and can be used for plotting the poles and zeroes of given transfer function (z-plane). It plots the zeros and poles with respect to a given unit circle."
   ]
  },
  {
   "cell_type": "markdown",
   "metadata": {},
   "source": [
    "### Input: \n",
    "Using this function user provides 2 vectors of values as parameters:\n",
    "the variable <i>'nullstellen'(zeros)</i> takes the zeros(roots of the numerator of transfer function) as a vector.\n",
    "the variable <i>'pole'</i> takes the poles(roots of the denominator of the transfer function) as a vector."
   ]
  },
  {
   "cell_type": "markdown",
   "metadata": {},
   "source": [
    "### Output:\n",
    "Plot with a unit circle and positions of poles as 'x' and zeros as 'o' on the plot."
   ]
  },
  {
   "cell_type": "markdown",
   "metadata": {},
   "source": [
    "### Import relevant modules and define the function."
   ]
  },
  {
   "cell_type": "code",
   "execution_count": 1,
   "metadata": {
    "collapsed": true
   },
   "outputs": [],
   "source": [
    "#Gerald Schuller, June 2016\n",
    "import numpy as np\n",
    "import scipy as sp\n",
    "import matplotlib.pyplot as plt\n",
    "\n",
    "def zplane(nullstellen, pole, axis = None):\n",
    "    \"\"\"Usage: zplane(zeros, poles)\n",
    "    plots the location of zeros and poles in the complex z-plane, with a unit circle.\n",
    "    zeros are circles, poles are crosses.\n",
    "    zeros, poles: array like, complex.\"\"\"\n",
    "    plt.figure()\n",
    "    #Plotte die Pole in der komplexen Ebene als 'x':\n",
    "    plt.plot(np.real(pole),np.imag(pole),'x')\n",
    "    #Plotte die Nullstellen als 'o':\n",
    "    plt.plot(np.real(nullstellen),np.imag(nullstellen),'o')\n",
    "    \n",
    "    \n",
    "    #passende Axen-Skalierung:\n",
    "    plt.axis('equal')\n",
    "    if axis is not None:\n",
    "        plt.axis(axis)\n",
    "    \n",
    "    #Plot unit circle:\n",
    "    circlere=np.zeros(512)\n",
    "    circleim=np.zeros(512)\n",
    "    for k in range(512):\n",
    "       circlere[k]=np.cos(2*np.pi/512*k)\n",
    "       circleim[k]=np.sin(2*np.pi/512*k)\n",
    "    \n",
    "    plt.plot(circlere,circleim)\n",
    "    plt.title('Complex z-Plane')\n",
    "    plt.show()\n",
    "    return()"
   ]
  },
  {
   "cell_type": "markdown",
   "metadata": {},
   "source": [
    "### Example below:"
   ]
  },
  {
   "cell_type": "code",
   "execution_count": 2,
   "metadata": {
    "collapsed": false
   },
   "outputs": [
    {
     "data": {
      "image/png": "[encoded data removed]",
      "text/plain": [
       "<matplotlib.figure.Figure at 0x45f5cb0>"
      ]
     },
     "metadata": {},
     "output_type": "display_data"
    },
    {
     "data": {
      "text/plain": [
       "()"
      ]
     },
     "execution_count": 2,
     "metadata": {},
     "output_type": "execute_result"
    }
   ],
   "source": [
    "#b - list of zeros\n",
    "#a - list of poles\n",
    "\n",
    "import numpy as np\n",
    "# import zplane\n",
    "\n",
    "b = np.array([.5, -.6, 2.5])\n",
    "a = np.array([.3, -.3, .1])\n",
    "\n",
    "zplane(b, a)"
   ]
  },
  {
   "cell_type": "markdown",
   "metadata": {},
   "source": [
    "### Note:\n",
    "For using this module file use 'import zplane' and call the function using zplane.zplane(param...). This module is also available in the moodle webpage."
   ]
  }
 ],
 "metadata": {
  "kernelspec": {
   "display_name": "Python 2",
   "language": "python",
   "name": "python2"
  },
  "language_info": {
   "codemirror_mode": {
    "name": "ipython",
    "version": 2
   },
   "file_extension": ".py",
   "mimetype": "text/x-python",
   "name": "python",
   "nbconvert_exporter": "python",
   "pygments_lexer": "ipython2",
   "version": "2.7.12"
  }
 },
 "nbformat": 4,
 "nbformat_minor": 2
}
