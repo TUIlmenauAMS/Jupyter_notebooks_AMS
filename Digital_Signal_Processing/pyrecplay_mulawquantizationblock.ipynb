{
 "cells": [
  {
   "cell_type": "markdown",
   "metadata": {},
   "source": [
    "# This program shows the working of Mu-Law Quantization on a recording and how the quantization works better than uniform quantizers."
   ]
  },
  {
   "cell_type": "markdown",
   "metadata": {},
   "source": [
    "### Input: \n",
    "As the program runs, it records through the selected input(microphone) for 8 seconds."
   ]
  },
  {
   "cell_type": "markdown",
   "metadata": {},
   "source": [
    "### Output:\n",
    "Output is Mu-Law quantized version of the recording. (Observe that the low sound intensitites(smaller amplitudes) are also quantized which wasn't in the case of Mid-Tread Quantization(as smaller amplitudes are rounded off to zero)."
   ]
  },
  {
   "cell_type": "markdown",
   "metadata": {},
   "source": [
    "#### Import the relevant modules."
   ]
  },
  {
   "cell_type": "code",
   "execution_count": 1,
   "metadata": {
    "collapsed": true
   },
   "outputs": [],
   "source": [
    "\"\"\"\n",
    "PyAudio Example: Make a quantization between input and output (i.e., record a\n",
    "few samples, quatize them with a mid-tread or mid-rise quantizer, and play them back immediately).\n",
    "Using block-wise processing instead of a for loop\n",
    "Gerald Schuller, Octtober 2014\n",
    "\"\"\"\n",
    "\n",
    "import pyaudio\n",
    "import struct\n",
    "#import math\n",
    "#import array\n",
    "import numpy as np\n",
    "#import scipy"
   ]
  },
  {
   "cell_type": "markdown",
   "metadata": {},
   "source": [
    "#### Define the variables."
   ]
  },
  {
   "cell_type": "code",
   "execution_count": 2,
   "metadata": {
    "collapsed": true
   },
   "outputs": [],
   "source": [
    "CHUNK = 5000 #Blocksize\n",
    "WIDTH = 2 #2 bytes per sample\n",
    "CHANNELS = 1 #2\n",
    "RATE = 32000  #Sampling Rate in Hz\n",
    "RECORD_SECONDS = 8"
   ]
  },
  {
   "cell_type": "markdown",
   "metadata": {},
   "source": [
    "#### Initialize the sound card."
   ]
  },
  {
   "cell_type": "code",
   "execution_count": 4,
   "metadata": {
    "collapsed": true
   },
   "outputs": [],
   "source": [
    "p = pyaudio.PyAudio()\n",
    "\n",
    "stream = p.open(format=p.get_format_from_width(WIDTH),\n",
    "                channels=CHANNELS,\n",
    "                rate=RATE,\n",
    "                input=True,\n",
    "                output=True,\n",
    "                #input_device_index=10,\n",
    "                frames_per_buffer=CHUNK)"
   ]
  },
  {
   "cell_type": "code",
   "execution_count": 5,
   "metadata": {
    "collapsed": false
   },
   "outputs": [
    {
     "name": "stdout",
     "output_type": "stream",
     "text": [
      "* recording\n"
     ]
    },
    {
     "name": "stderr",
     "output_type": "stream",
     "text": [
      "c:\\python27\\lib\\site-packages\\ipykernel\\__main__.py:41: DeprecationWarning: integer argument expected, got float\n"
     ]
    },
    {
     "name": "stdout",
     "output_type": "stream",
     "text": [
      "* done\n"
     ]
    }
   ],
   "source": [
    "print(\"* recording\")\n",
    "\n",
    "#Loop for the blocks:\n",
    "for i in range(0, int(RATE / CHUNK * RECORD_SECONDS)):\n",
    "    #Reading from audio input stream into data with block length \"CHUNK\":\n",
    "    data = stream.read(CHUNK)\n",
    "    #Convert from stream of bytes to a list of short integers (2 bytes here) in \"samples\":\n",
    "    #shorts = (struct.unpack( \"128h\", data ))\n",
    "    shorts = (struct.unpack( 'h' * CHUNK, data ));\n",
    "    samples=np.array(list(shorts),dtype=float);\n",
    "\n",
    "    #start block-wise signal processing:\n",
    "\n",
    "    ###mu-Law compression:###\n",
    "    y=np.sign(samples)*(np.log(1+255*np.abs(samples/32768.0)))/np.log(256);\n",
    "\n",
    "    ####Quantization, ####\n",
    "    #16 steps for normalized range -1<=x<=1\n",
    "    q=2.0/16.0; \n",
    "    \n",
    "    #Mid Tread quantization:\n",
    "    indices=np.round(y/q)\n",
    "    #Mid -Rise quantizer:\n",
    "    #indices=np.floor(y/q)\n",
    "\n",
    "    #### De-Quantization: #####\n",
    "    #Mit-Tread:\n",
    "    yrek=indices*q;\n",
    "    #Mid -Rise quantizer:\n",
    "    #yrek=indices*q+q/2;\n",
    "    \n",
    "    #no quantization:\n",
    "    #yrek=y\n",
    "\n",
    "    #### mu-law expanding function: ###\n",
    "    #we use: exp(log(256)*yrek)=256^yrek\n",
    "    samples=np.sign(yrek)*(np.exp(np.log(256)*np.abs(yrek))-1)/255*32768.0\n",
    "    #end signal processing\n",
    "    samples=np.clip(samples,-32000,32000)\n",
    "    #converting from short integers to a stream of bytes in \"data\":\n",
    "    data=struct.pack('h' * len(samples), *samples);\n",
    "    #Writing data back to audio output stream: \n",
    "    stream.write(data, CHUNK)\n",
    "\n",
    "print(\"* done\")\n",
    "\n",
    "stream.stop_stream()\n",
    "stream.close()\n",
    "\n",
    "p.terminate()"
   ]
  }
 ],
 "metadata": {
  "kernelspec": {
   "display_name": "Python 2",
   "language": "python",
   "name": "python2"
  },
  "language_info": {
   "codemirror_mode": {
    "name": "ipython",
    "version": 2
   },
   "file_extension": ".py",
   "mimetype": "text/x-python",
   "name": "python",
   "nbconvert_exporter": "python",
   "pygments_lexer": "ipython2",
   "version": "2.7.12"
  }
 },
 "nbformat": 4,
 "nbformat_minor": 2
}
